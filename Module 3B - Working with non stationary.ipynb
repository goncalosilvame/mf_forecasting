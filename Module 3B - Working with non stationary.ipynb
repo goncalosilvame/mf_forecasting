{
 "cells": [
  {
   "cell_type": "markdown",
   "metadata": {},
   "source": [
    "# Module 3B - Working with Non_Sationary m_t.\n",
    "\n",
    "## Session 8 Questions"
   ]
  },
  {
   "cell_type": "code",
   "execution_count": 1,
   "metadata": {},
   "outputs": [],
   "source": [
    "import pandas as pd \n",
    "import numpy as np"
   ]
  },
  {
   "cell_type": "code",
   "execution_count": 2,
   "metadata": {},
   "outputs": [
    {
     "data": {
      "text/html": [
       "<div>\n",
       "<style scoped>\n",
       "    .dataframe tbody tr th:only-of-type {\n",
       "        vertical-align: middle;\n",
       "    }\n",
       "\n",
       "    .dataframe tbody tr th {\n",
       "        vertical-align: top;\n",
       "    }\n",
       "\n",
       "    .dataframe thead th {\n",
       "        text-align: right;\n",
       "    }\n",
       "</style>\n",
       "<table border=\"1\" class=\"dataframe\">\n",
       "  <thead>\n",
       "    <tr style=\"text-align: right;\">\n",
       "      <th></th>\n",
       "      <th>dateid01</th>\n",
       "      <th>dateid</th>\n",
       "      <th>em</th>\n",
       "      <th>en</th>\n",
       "      <th>m</th>\n",
       "      <th>n</th>\n",
       "      <th>x</th>\n",
       "      <th>y</th>\n",
       "      <th>z</th>\n",
       "    </tr>\n",
       "  </thead>\n",
       "  <tbody>\n",
       "    <tr>\n",
       "      <th>0</th>\n",
       "      <td>1973-07-01</td>\n",
       "      <td>1973-07-31 23:59:59.999</td>\n",
       "      <td>0.000000</td>\n",
       "      <td>0.000000</td>\n",
       "      <td>0.0</td>\n",
       "      <td>0</td>\n",
       "      <td>39.575176</td>\n",
       "      <td>15.113905</td>\n",
       "      <td>727.921639</td>\n",
       "    </tr>\n",
       "    <tr>\n",
       "      <th>1</th>\n",
       "      <td>1973-08-01</td>\n",
       "      <td>1973-08-31 23:59:59.999</td>\n",
       "      <td>0.211908</td>\n",
       "      <td>-1.455569</td>\n",
       "      <td>1.5</td>\n",
       "      <td>-2</td>\n",
       "      <td>38.962416</td>\n",
       "      <td>16.584622</td>\n",
       "      <td>729.480429</td>\n",
       "    </tr>\n",
       "    <tr>\n",
       "      <th>2</th>\n",
       "      <td>1973-09-01</td>\n",
       "      <td>1973-09-30 23:59:59.999</td>\n",
       "      <td>1.633812</td>\n",
       "      <td>0.379432</td>\n",
       "      <td>3.0</td>\n",
       "      <td>-4</td>\n",
       "      <td>37.219141</td>\n",
       "      <td>17.310910</td>\n",
       "      <td>727.280262</td>\n",
       "    </tr>\n",
       "    <tr>\n",
       "      <th>3</th>\n",
       "      <td>1973-10-01</td>\n",
       "      <td>1973-10-31 23:59:59.999</td>\n",
       "      <td>2.398119</td>\n",
       "      <td>0.342120</td>\n",
       "      <td>4.5</td>\n",
       "      <td>-6</td>\n",
       "      <td>35.104100</td>\n",
       "      <td>17.691245</td>\n",
       "      <td>729.819402</td>\n",
       "    </tr>\n",
       "    <tr>\n",
       "      <th>4</th>\n",
       "      <td>1973-11-01</td>\n",
       "      <td>1973-11-30 23:59:59.999</td>\n",
       "      <td>-0.023755</td>\n",
       "      <td>-1.083531</td>\n",
       "      <td>6.0</td>\n",
       "      <td>-8</td>\n",
       "      <td>33.766806</td>\n",
       "      <td>16.803657</td>\n",
       "      <td>727.948215</td>\n",
       "    </tr>\n",
       "  </tbody>\n",
       "</table>\n",
       "</div>"
      ],
      "text/plain": [
       "     dateid01                   dateid        em        en    m  n          x  \\\n",
       "0  1973-07-01  1973-07-31 23:59:59.999  0.000000  0.000000  0.0  0  39.575176   \n",
       "1  1973-08-01  1973-08-31 23:59:59.999  0.211908 -1.455569  1.5 -2  38.962416   \n",
       "2  1973-09-01  1973-09-30 23:59:59.999  1.633812  0.379432  3.0 -4  37.219141   \n",
       "3  1973-10-01  1973-10-31 23:59:59.999  2.398119  0.342120  4.5 -6  35.104100   \n",
       "4  1973-11-01  1973-11-30 23:59:59.999 -0.023755 -1.083531  6.0 -8  33.766806   \n",
       "\n",
       "           y           z  \n",
       "0  15.113905  727.921639  \n",
       "1  16.584622  729.480429  \n",
       "2  17.310910  727.280262  \n",
       "3  17.691245  729.819402  \n",
       "4  16.803657  727.948215  "
      ]
     },
     "execution_count": 2,
     "metadata": {},
     "output_type": "execute_result"
    }
   ],
   "source": [
    "b3_data = pd.read_csv(\"Module3_data\\module3b_data_Simulated_Nonstationary.CSV\")\n",
    "b3_data.head()"
   ]
  },
  {
   "cell_type": "markdown",
   "metadata": {},
   "source": [
    "### Identifying Non-Stationarity"
   ]
  },
  {
   "cell_type": "code",
   "execution_count": 3,
   "metadata": {},
   "outputs": [],
   "source": [
    "# generate mt\n",
    "mt = []\n",
    "emt = np.array(b3_data['em'])\n",
    "mt.append(0) #append the first observation\n",
    "for i in range(1,len(emt)):\n",
    "    mt.append(1.5 + mt[i-1] + emt[i])"
   ]
  },
  {
   "cell_type": "code",
   "execution_count": 4,
   "metadata": {},
   "outputs": [],
   "source": [
    "#generate nt\n",
    "# generate mt\n",
    "nt = []\n",
    "ent = np.array(b3_data['en'])\n",
    "nt.append(0) #append the first observation\n",
    "for i in range(1,len(ent)):\n",
    "    nt.append(-2 + nt[i-1] + ent[i])"
   ]
  },
  {
   "cell_type": "code",
   "execution_count": 5,
   "metadata": {},
   "outputs": [
    {
     "data": {
      "text/plain": [
       "[<matplotlib.lines.Line2D at 0x2807fb73a90>]"
      ]
     },
     "execution_count": 5,
     "metadata": {},
     "output_type": "execute_result"
    },
    {
     "data": {
      "image/png": "[encoded data removed]",
      "text/plain": [
       "<Figure size 936x720 with 1 Axes>"
      ]
     },
     "metadata": {
      "needs_background": "light"
     },
     "output_type": "display_data"
    }
   ],
   "source": [
    "import matplotlib.pyplot as plt\n",
    "plt.figure(figsize=(13,10))\n",
    "plt.title( \"EMT TIME SERIES\")\n",
    "plt.plot(mt)"
   ]
  },
  {
   "cell_type": "code",
   "execution_count": 6,
   "metadata": {},
   "outputs": [
    {
     "data": {
      "text/plain": [
       "[<matplotlib.lines.Line2D at 0x2807fbc11f0>]"
      ]
     },
     "execution_count": 6,
     "metadata": {},
     "output_type": "execute_result"
    },
    {
     "data": {
      "image/png": "[encoded data removed]",
      "text/plain": [
       "<Figure size 936x720 with 1 Axes>"
      ]
     },
     "metadata": {
      "needs_background": "light"
     },
     "output_type": "display_data"
    }
   ],
   "source": [
    "plt.figure(figsize=(13,10))\n",
    "plt.title( \"ENT TIME SERIES\")\n",
    "plt.plot(nt)"
   ]
  },
  {
   "cell_type": "markdown",
   "metadata": {},
   "source": [
    "#### Question 3.36\n",
    "\n",
    "These two series, m and n, are stationary:\n",
    "**False**"
   ]
  },
  {
   "cell_type": "markdown",
   "metadata": {},
   "source": [
    "### Non_Stationary Data"
   ]
  },
  {
   "cell_type": "markdown",
   "metadata": {},
   "source": [
    "#### Question 3.37 \n",
    "\n",
    "Observing the correlogram for each series, at which lag does the ACF become statistically insignificant? Use a 5 percent level of significance to decide.\n",
    "\n",
    "**Answer:** They do not die out\n",
    "We can in the LJunbox that the pvalue is always under 0.001, the impact of 20th lag is still relevant.Same goes for the 100 lag."
   ]
  },
  {
   "cell_type": "code",
   "execution_count": 11,
   "metadata": {},
   "outputs": [
    {
     "ename": "SyntaxError",
     "evalue": "invalid syntax (Temp/ipykernel_23016/4254272967.py, line 2)",
     "output_type": "error",
     "traceback": [
      "\u001b[1;36m  File \u001b[1;32m\"C:\\Users\\JGSILVA\\AppData\\Local\\Temp/ipykernel_23016/4254272967.py\"\u001b[1;36m, line \u001b[1;32m2\u001b[0m\n\u001b[1;33m    sm.stats..diagnostic.acorr_ljungbox(mt, lags=100, return_df=True)\u001b[0m\n\u001b[1;37m             ^\u001b[0m\n\u001b[1;31mSyntaxError\u001b[0m\u001b[1;31m:\u001b[0m invalid syntax\n"
     ]
    }
   ],
   "source": [
    "import statsmodels as sm\n",
    "sm.stats..diagnostic.acorr_ljungbox(mt, lags=100, return_df=True)"
   ]
  },
  {
   "cell_type": "code",
   "execution_count": null,
   "metadata": {},
   "outputs": [
    {
     "data": {
      "text/html": [
       "<div>\n",
       "<style scoped>\n",
       "    .dataframe tbody tr th:only-of-type {\n",
       "        vertical-align: middle;\n",
       "    }\n",
       "\n",
       "    .dataframe tbody tr th {\n",
       "        vertical-align: top;\n",
       "    }\n",
       "\n",
       "    .dataframe thead th {\n",
       "        text-align: right;\n",
       "    }\n",
       "</style>\n",
       "<table border=\"1\" class=\"dataframe\">\n",
       "  <thead>\n",
       "    <tr style=\"text-align: right;\">\n",
       "      <th></th>\n",
       "      <th>lb_stat</th>\n",
       "      <th>lb_pvalue</th>\n",
       "    </tr>\n",
       "  </thead>\n",
       "  <tbody>\n",
       "    <tr>\n",
       "      <th>1</th>\n",
       "      <td>496.921362</td>\n",
       "      <td>4.444510e-110</td>\n",
       "    </tr>\n",
       "    <tr>\n",
       "      <th>2</th>\n",
       "      <td>988.779931</td>\n",
       "      <td>1.946104e-215</td>\n",
       "    </tr>\n",
       "    <tr>\n",
       "      <th>3</th>\n",
       "      <td>1475.574752</td>\n",
       "      <td>0.000000e+00</td>\n",
       "    </tr>\n",
       "    <tr>\n",
       "      <th>4</th>\n",
       "      <td>1957.332475</td>\n",
       "      <td>0.000000e+00</td>\n",
       "    </tr>\n",
       "    <tr>\n",
       "      <th>5</th>\n",
       "      <td>2434.091858</td>\n",
       "      <td>0.000000e+00</td>\n",
       "    </tr>\n",
       "    <tr>\n",
       "      <th>6</th>\n",
       "      <td>2905.840194</td>\n",
       "      <td>0.000000e+00</td>\n",
       "    </tr>\n",
       "    <tr>\n",
       "      <th>7</th>\n",
       "      <td>3372.560162</td>\n",
       "      <td>0.000000e+00</td>\n",
       "    </tr>\n",
       "    <tr>\n",
       "      <th>8</th>\n",
       "      <td>3834.303527</td>\n",
       "      <td>0.000000e+00</td>\n",
       "    </tr>\n",
       "    <tr>\n",
       "      <th>9</th>\n",
       "      <td>4291.094751</td>\n",
       "      <td>0.000000e+00</td>\n",
       "    </tr>\n",
       "    <tr>\n",
       "      <th>10</th>\n",
       "      <td>4742.937724</td>\n",
       "      <td>0.000000e+00</td>\n",
       "    </tr>\n",
       "    <tr>\n",
       "      <th>11</th>\n",
       "      <td>5189.842980</td>\n",
       "      <td>0.000000e+00</td>\n",
       "    </tr>\n",
       "    <tr>\n",
       "      <th>12</th>\n",
       "      <td>5631.833655</td>\n",
       "      <td>0.000000e+00</td>\n",
       "    </tr>\n",
       "    <tr>\n",
       "      <th>13</th>\n",
       "      <td>6068.909152</td>\n",
       "      <td>0.000000e+00</td>\n",
       "    </tr>\n",
       "    <tr>\n",
       "      <th>14</th>\n",
       "      <td>6501.097350</td>\n",
       "      <td>0.000000e+00</td>\n",
       "    </tr>\n",
       "    <tr>\n",
       "      <th>15</th>\n",
       "      <td>6928.453106</td>\n",
       "      <td>0.000000e+00</td>\n",
       "    </tr>\n",
       "    <tr>\n",
       "      <th>16</th>\n",
       "      <td>7350.996203</td>\n",
       "      <td>0.000000e+00</td>\n",
       "    </tr>\n",
       "    <tr>\n",
       "      <th>17</th>\n",
       "      <td>7768.767140</td>\n",
       "      <td>0.000000e+00</td>\n",
       "    </tr>\n",
       "    <tr>\n",
       "      <th>18</th>\n",
       "      <td>8181.778003</td>\n",
       "      <td>0.000000e+00</td>\n",
       "    </tr>\n",
       "    <tr>\n",
       "      <th>19</th>\n",
       "      <td>8590.051794</td>\n",
       "      <td>0.000000e+00</td>\n",
       "    </tr>\n",
       "    <tr>\n",
       "      <th>20</th>\n",
       "      <td>8993.625528</td>\n",
       "      <td>0.000000e+00</td>\n",
       "    </tr>\n",
       "  </tbody>\n",
       "</table>\n",
       "</div>"
      ],
      "text/plain": [
       "        lb_stat      lb_pvalue\n",
       "1    496.921362  4.444510e-110\n",
       "2    988.779931  1.946104e-215\n",
       "3   1475.574752   0.000000e+00\n",
       "4   1957.332475   0.000000e+00\n",
       "5   2434.091858   0.000000e+00\n",
       "6   2905.840194   0.000000e+00\n",
       "7   3372.560162   0.000000e+00\n",
       "8   3834.303527   0.000000e+00\n",
       "9   4291.094751   0.000000e+00\n",
       "10  4742.937724   0.000000e+00\n",
       "11  5189.842980   0.000000e+00\n",
       "12  5631.833655   0.000000e+00\n",
       "13  6068.909152   0.000000e+00\n",
       "14  6501.097350   0.000000e+00\n",
       "15  6928.453106   0.000000e+00\n",
       "16  7350.996203   0.000000e+00\n",
       "17  7768.767140   0.000000e+00\n",
       "18  8181.778003   0.000000e+00\n",
       "19  8590.051794   0.000000e+00\n",
       "20  8993.625528   0.000000e+00"
      ]
     },
     "execution_count": 13,
     "metadata": {},
     "output_type": "execute_result"
    }
   ],
   "source": [
    "sm.stats.acorr_ljungbox(nt, lags=20, return_df=True)"
   ]
  },
  {
   "cell_type": "markdown",
   "metadata": {},
   "source": [
    "#### Question 3.38\n",
    "\n",
    "Estimate an AR(1) model for m and then for n \n",
    "\n",
    "**Answer:** The coeficent for both M and N is ***1.000***"
   ]
  },
  {
   "cell_type": "code",
   "execution_count": null,
   "metadata": {},
   "outputs": [
    {
     "name": "stdout",
     "output_type": "stream",
     "text": [
      "                    mt\n",
      "2014-11-30  694.001964\n",
      "2014-12-31  695.207328\n",
      "2015-01-31  695.575044\n",
      "2015-02-28  697.171773\n",
      "2015-03-31  698.936654\n",
      "                    nt\n",
      "2014-11-30 -975.860695\n",
      "2014-12-31 -978.481381\n",
      "2015-01-31 -981.596692\n",
      "2015-02-28 -982.341694\n",
      "2015-03-31 -982.708460\n"
     ]
    }
   ],
   "source": [
    "from datetime import datetime\n",
    "import dateutil.parser\n",
    "# make mt a time series\n",
    "m_t = pd.DataFrame(np.array(mt), columns={'mt'})\n",
    "m_t.index = pd.date_range(\"1973-08-01\", periods = len(mt), freq = \"M\")\n",
    "#m_t = m_t[m_t.index > dateutil.parser.parse(\"2000-01-01\")]\n",
    "print(m_t.tail())\n",
    "\n",
    "#make nt a time series\n",
    "n_t = pd.DataFrame(np.array(nt),columns={'nt'})\n",
    "n_t.index = pd.date_range(\"1973-08-01\", periods = len(nt), freq = \"M\")\n",
    "#m_t = m_t[m_t.index > dateutil.parser.parse(\"2000-01-01\")]\n",
    "print(n_t.tail())"
   ]
  },
  {
   "cell_type": "code",
   "execution_count": null,
   "metadata": {},
   "outputs": [
    {
     "name": "stdout",
     "output_type": "stream",
     "text": [
      "                               SARIMAX Results                                \n",
      "==============================================================================\n",
      "Dep. Variable:                      0   No. Observations:                  500\n",
      "Model:                 ARIMA(1, 0, 0)   Log Likelihood                -984.516\n",
      "Date:                Wed, 06 Oct 2021   AIC                           1975.032\n",
      "Time:                        10:43:49   BIC                           1987.675\n",
      "Sample:                    08-31-1973   HQIC                          1979.993\n",
      "                         - 03-31-2015                                         \n",
      "Covariance Type:                  opg                                         \n",
      "==============================================================================\n",
      "                 coef    std err          z      P>|z|      [0.025      0.975]\n",
      "------------------------------------------------------------------------------\n",
      "const        359.6775    476.665      0.755      0.451    -574.569    1293.924\n",
      "ar.L1          1.0000      0.000   2609.629      0.000       0.999       1.001\n",
      "sigma2         2.9415      0.262     11.239      0.000       2.429       3.454\n",
      "===================================================================================\n",
      "Ljung-Box (L1) (Q):                   0.34   Jarque-Bera (JB):                 3.47\n",
      "Prob(Q):                              0.56   Prob(JB):                         0.18\n",
      "Heteroskedasticity (H):               0.88   Skew:                            -0.20\n",
      "Prob(H) (two-sided):                  0.42   Kurtosis:                         3.10\n",
      "===================================================================================\n",
      "\n",
      "Warnings:\n",
      "[1] Covariance matrix calculated using the outer product of gradients (complex-step).\n"
     ]
    }
   ],
   "source": [
    "#MT AR(1)\n",
    "ar1_mt = sm.tsa.arima.ARIMA(m_t,trend='c', order = (1,0,0))\n",
    "ar1_mt_fit = ar1_mt.fit()\n",
    "print(ar1_mt_fit.summary())"
   ]
  },
  {
   "cell_type": "code",
   "execution_count": null,
   "metadata": {},
   "outputs": [
    {
     "name": "stdout",
     "output_type": "stream",
     "text": [
      "                               SARIMAX Results                                \n",
      "==============================================================================\n",
      "Dep. Variable:                      0   No. Observations:                  500\n",
      "Model:                 ARIMA(1, 0, 0)   Log Likelihood               -1112.850\n",
      "Date:                Wed, 06 Oct 2021   AIC                           2231.699\n",
      "Time:                        10:44:23   BIC                           2244.343\n",
      "Sample:                    08-31-1973   HQIC                          2236.661\n",
      "                         - 03-31-2015                                         \n",
      "Covariance Type:                  opg                                         \n",
      "==============================================================================\n",
      "                 coef    std err          z      P>|z|      [0.025      0.975]\n",
      "------------------------------------------------------------------------------\n",
      "const       -494.8114    507.390     -0.975      0.329   -1489.278     499.655\n",
      "ar.L1          1.0000      0.000   2863.723      0.000       0.999       1.001\n",
      "sigma2         4.9132      0.519      9.471      0.000       3.896       5.930\n",
      "===================================================================================\n",
      "Ljung-Box (L1) (Q):                   0.35   Jarque-Bera (JB):                 3.98\n",
      "Prob(Q):                              0.55   Prob(JB):                         0.14\n",
      "Heteroskedasticity (H):               0.91   Skew:                             0.15\n",
      "Prob(H) (two-sided):                  0.52   Kurtosis:                         3.31\n",
      "===================================================================================\n",
      "\n",
      "Warnings:\n",
      "[1] Covariance matrix calculated using the outer product of gradients (complex-step).\n"
     ]
    }
   ],
   "source": [
    "# NT AR(1)\n",
    "ar1_nt = sm.tsa.arima.ARIMA(n_t,trend='c', order = (1,0,0))\n",
    "ar1_nt_fit = ar1_nt.fit()\n",
    "print(ar1_nt_fit.summary())"
   ]
  },
  {
   "cell_type": "markdown",
   "metadata": {},
   "source": [
    "#### Question 3.39\n",
    "\n",
    "Run a regression of M on N\n",
    "\n",
    "**Answer**: \n",
    "Looking below we have a great R^2 **Good Fit**\n",
    "\n",
    "Also the **coeffient for n is significant**\n",
    "\n",
    "there is **slow decay in the residuals** -  __non stationary__\n",
    "\n",
    "From the course:\n",
    "However, note that the regression residuals appear to be nonstationary, with an ACF that decays very slowly. The Q-test of zero autocorrelation is overwhelmingly rejected at all lags up to 36. The strong association should therefore be described as spurious, since these two series by construction are actually unrelated (i.e., there is no relationship between them). "
   ]
  },
  {
   "cell_type": "code",
   "execution_count": null,
   "metadata": {},
   "outputs": [
    {
     "name": "stdout",
     "output_type": "stream",
     "text": [
      "                            OLS Regression Results                            \n",
      "==============================================================================\n",
      "Dep. Variable:                     mt   R-squared:                       0.999\n",
      "Model:                            OLS   Adj. R-squared:                  0.999\n",
      "Method:                 Least Squares   F-statistic:                 5.330e+05\n",
      "Date:                Wed, 06 Oct 2021   Prob (F-statistic):               0.00\n",
      "Time:                        10:56:13   Log-Likelihood:                -1623.9\n",
      "No. Observations:                 500   AIC:                             3252.\n",
      "Df Residuals:                     498   BIC:                             3260.\n",
      "Df Model:                           1                                         \n",
      "Covariance Type:            nonrobust                                         \n",
      "==============================================================================\n",
      "                 coef    std err          t      P>|t|      [0.025      0.975]\n",
      "------------------------------------------------------------------------------\n",
      "const          3.6886      0.562      6.559      0.000       2.584       4.794\n",
      "nt            -0.7202      0.001   -730.065      0.000      -0.722      -0.718\n",
      "==============================================================================\n",
      "Omnibus:                       30.518   Durbin-Watson:                   0.040\n",
      "Prob(Omnibus):                  0.000   Jarque-Bera (JB):               34.977\n",
      "Skew:                           0.648   Prob(JB):                     2.54e-08\n",
      "Kurtosis:                       3.022   Cond. No.                     1.15e+03\n",
      "==============================================================================\n",
      "\n",
      "Notes:\n",
      "[1] Standard Errors assume that the covariance matrix of the errors is correctly specified.\n",
      "[2] The condition number is large, 1.15e+03. This might indicate that there are\n",
      "strong multicollinearity or other numerical problems.\n"
     ]
    }
   ],
   "source": [
    "X = n_t\n",
    "X = sm.add_constant(X)\n",
    "model = sm.OLS(m_t,X)\n",
    "print(model.fit().summary())"
   ]
  },
  {
   "cell_type": "code",
   "execution_count": null,
   "metadata": {},
   "outputs": [
    {
     "data": {
      "text/html": [
       "<div>\n",
       "<style scoped>\n",
       "    .dataframe tbody tr th:only-of-type {\n",
       "        vertical-align: middle;\n",
       "    }\n",
       "\n",
       "    .dataframe tbody tr th {\n",
       "        vertical-align: top;\n",
       "    }\n",
       "\n",
       "    .dataframe thead th {\n",
       "        text-align: right;\n",
       "    }\n",
       "</style>\n",
       "<table border=\"1\" class=\"dataframe\">\n",
       "  <thead>\n",
       "    <tr style=\"text-align: right;\">\n",
       "      <th></th>\n",
       "      <th>lb_stat</th>\n",
       "      <th>lb_pvalue</th>\n",
       "    </tr>\n",
       "  </thead>\n",
       "  <tbody>\n",
       "    <tr>\n",
       "      <th>1</th>\n",
       "      <td>478.840500</td>\n",
       "      <td>3.819873e-106</td>\n",
       "    </tr>\n",
       "    <tr>\n",
       "      <th>2</th>\n",
       "      <td>934.602193</td>\n",
       "      <td>1.131651e-203</td>\n",
       "    </tr>\n",
       "    <tr>\n",
       "      <th>3</th>\n",
       "      <td>1367.010969</td>\n",
       "      <td>4.241145e-296</td>\n",
       "    </tr>\n",
       "    <tr>\n",
       "      <th>4</th>\n",
       "      <td>1775.087430</td>\n",
       "      <td>0.000000e+00</td>\n",
       "    </tr>\n",
       "    <tr>\n",
       "      <th>5</th>\n",
       "      <td>2159.956483</td>\n",
       "      <td>0.000000e+00</td>\n",
       "    </tr>\n",
       "    <tr>\n",
       "      <th>6</th>\n",
       "      <td>2522.883375</td>\n",
       "      <td>0.000000e+00</td>\n",
       "    </tr>\n",
       "    <tr>\n",
       "      <th>7</th>\n",
       "      <td>2864.782334</td>\n",
       "      <td>0.000000e+00</td>\n",
       "    </tr>\n",
       "    <tr>\n",
       "      <th>8</th>\n",
       "      <td>3188.365299</td>\n",
       "      <td>0.000000e+00</td>\n",
       "    </tr>\n",
       "    <tr>\n",
       "      <th>9</th>\n",
       "      <td>3495.414167</td>\n",
       "      <td>0.000000e+00</td>\n",
       "    </tr>\n",
       "    <tr>\n",
       "      <th>10</th>\n",
       "      <td>3783.324046</td>\n",
       "      <td>0.000000e+00</td>\n",
       "    </tr>\n",
       "    <tr>\n",
       "      <th>11</th>\n",
       "      <td>4052.861899</td>\n",
       "      <td>0.000000e+00</td>\n",
       "    </tr>\n",
       "    <tr>\n",
       "      <th>12</th>\n",
       "      <td>4303.736069</td>\n",
       "      <td>0.000000e+00</td>\n",
       "    </tr>\n",
       "    <tr>\n",
       "      <th>13</th>\n",
       "      <td>4535.525553</td>\n",
       "      <td>0.000000e+00</td>\n",
       "    </tr>\n",
       "    <tr>\n",
       "      <th>14</th>\n",
       "      <td>4749.591299</td>\n",
       "      <td>0.000000e+00</td>\n",
       "    </tr>\n",
       "    <tr>\n",
       "      <th>15</th>\n",
       "      <td>4947.567006</td>\n",
       "      <td>0.000000e+00</td>\n",
       "    </tr>\n",
       "    <tr>\n",
       "      <th>16</th>\n",
       "      <td>5128.942016</td>\n",
       "      <td>0.000000e+00</td>\n",
       "    </tr>\n",
       "    <tr>\n",
       "      <th>17</th>\n",
       "      <td>5295.237713</td>\n",
       "      <td>0.000000e+00</td>\n",
       "    </tr>\n",
       "    <tr>\n",
       "      <th>18</th>\n",
       "      <td>5447.726231</td>\n",
       "      <td>0.000000e+00</td>\n",
       "    </tr>\n",
       "    <tr>\n",
       "      <th>19</th>\n",
       "      <td>5586.490795</td>\n",
       "      <td>0.000000e+00</td>\n",
       "    </tr>\n",
       "    <tr>\n",
       "      <th>20</th>\n",
       "      <td>5713.073686</td>\n",
       "      <td>0.000000e+00</td>\n",
       "    </tr>\n",
       "  </tbody>\n",
       "</table>\n",
       "</div>"
      ],
      "text/plain": [
       "        lb_stat      lb_pvalue\n",
       "1    478.840500  3.819873e-106\n",
       "2    934.602193  1.131651e-203\n",
       "3   1367.010969  4.241145e-296\n",
       "4   1775.087430   0.000000e+00\n",
       "5   2159.956483   0.000000e+00\n",
       "6   2522.883375   0.000000e+00\n",
       "7   2864.782334   0.000000e+00\n",
       "8   3188.365299   0.000000e+00\n",
       "9   3495.414167   0.000000e+00\n",
       "10  3783.324046   0.000000e+00\n",
       "11  4052.861899   0.000000e+00\n",
       "12  4303.736069   0.000000e+00\n",
       "13  4535.525553   0.000000e+00\n",
       "14  4749.591299   0.000000e+00\n",
       "15  4947.567006   0.000000e+00\n",
       "16  5128.942016   0.000000e+00\n",
       "17  5295.237713   0.000000e+00\n",
       "18  5447.726231   0.000000e+00\n",
       "19  5586.490795   0.000000e+00\n",
       "20  5713.073686   0.000000e+00"
      ]
     },
     "execution_count": 56,
     "metadata": {},
     "output_type": "execute_result"
    }
   ],
   "source": [
    "sm.stats.acorr_ljungbox(model.fit().resid, lags=20, return_df=True)\n"
   ]
  },
  {
   "cell_type": "code",
   "execution_count": null,
   "metadata": {},
   "outputs": [
    {
     "data": {
      "image/png": "[encoded data removed]",
      "text/plain": [
       "<Figure size 432x288 with 1 Axes>"
      ]
     },
     "metadata": {
      "needs_background": "light"
     },
     "output_type": "display_data"
    }
   ],
   "source": [
    "sm.graphics.tsa.plot_acf(model.fit().resid, lags=20)\n",
    "plt.show()"
   ]
  },
  {
   "cell_type": "markdown",
   "metadata": {},
   "source": [
    "## Session 10 Questions\n",
    "\n",
    "Stationary or Nonstationary?"
   ]
  },
  {
   "cell_type": "code",
   "execution_count": 12,
   "metadata": {},
   "outputs": [
    {
     "name": "stdout",
     "output_type": "stream",
     "text": [
      "     dateid01                   dateid        date  pe_aus  pe_ind  pe_ndo  \\\n",
      "0  1954-02-01  1954-02-28 23:59:59.999  1954-02-26     NaN     NaN     NaN   \n",
      "1  1954-03-01  1954-03-31 23:59:59.999  1954-03-31     NaN     NaN     NaN   \n",
      "2  1954-04-01  1954-04-30 23:59:59.999  1954-04-30     NaN     NaN     NaN   \n",
      "3  1954-05-01  1954-05-31 23:59:59.999  1954-05-31     NaN     NaN     NaN   \n",
      "4  1954-06-01  1954-06-30 23:59:59.999  1954-06-30     NaN     NaN     NaN   \n",
      "\n",
      "   pe_saf  pe_usa  \n",
      "0     NaN    9.92  \n",
      "1     NaN   10.17  \n",
      "2     NaN   10.57  \n",
      "3     NaN   11.00  \n",
      "4     NaN   11.08  \n"
     ]
    },
    {
     "data": {
      "text/plain": [
       "2000-01-31    16.4949\n",
       "2000-02-29    17.2608\n",
       "2000-03-31    14.4154\n",
       "2000-04-30    13.4247\n",
       "2000-05-31    12.7792\n",
       "Freq: M, Name: pe_ind, dtype: float64"
      ]
     },
     "execution_count": 12,
     "metadata": {},
     "output_type": "execute_result"
    }
   ],
   "source": [
    "#import data\n",
    "df = pd.read_csv(\"Module3_data/module3_data_PE_Ratios.csv\")\n",
    "print(df.head())\n",
    "\n",
    "# set time series for pe_ind\n",
    "from datetime import datetime\n",
    "import dateutil.parser\n",
    "data = df.pe_ind\n",
    "data.index = pd.date_range(\"1954-02-01\", periods = len(df['pe_ind']), freq = \"M\")\n",
    "data = data[data.index > dateutil.parser.parse(\"2000-01-01\")]\n",
    "data.head()"
   ]
  },
  {
   "cell_type": "code",
   "execution_count": 19,
   "metadata": {},
   "outputs": [],
   "source": [
    "# ADF test\n",
    "import statsmodels.api as sm\n",
    "#with contants\n",
    "test_1 = sm.tsa.stattools.adfuller(data,regression='c')\n",
    "#with time trend and constant\n",
    "test_2 = sm.tsa.stattools.adfuller(data,regression='ct')"
   ]
  },
  {
   "cell_type": "code",
   "execution_count": 21,
   "metadata": {},
   "outputs": [
    {
     "name": "stdout",
     "output_type": "stream",
     "text": [
      "ADF test\n",
      "-------\n",
      "With constant: 0.057448 \n",
      "With constant and time trend: 0.144580 \n"
     ]
    }
   ],
   "source": [
    "print('ADF test')\n",
    "print('-------')\n",
    "print('With constant: %f ' % test_1[1] )\n",
    "print('With constant and time trend: %f ' % test_2[1] )"
   ]
  },
  {
   "cell_type": "markdown",
   "metadata": {},
   "source": [
    "##### Alternative with another package!"
   ]
  },
  {
   "cell_type": "code",
   "execution_count": 25,
   "metadata": {},
   "outputs": [
    {
     "name": "stdout",
     "output_type": "stream",
     "text": [
      "   Augmented Dickey-Fuller Results   \n",
      "=====================================\n",
      "Test Statistic                 -2.806\n",
      "P-value                         0.057\n",
      "Lags                                0\n",
      "-------------------------------------\n",
      "\n",
      "Trend: Constant\n",
      "Critical Values: -3.47 (1%), -2.88 (5%), -2.58 (10%)\n",
      "Null Hypothesis: The process contains a unit root.\n",
      "Alternative Hypothesis: The process is weakly stationary.\n",
      "   Augmented Dickey-Fuller Results   \n",
      "=====================================\n",
      "Test Statistic                 -2.957\n",
      "P-value                         0.145\n",
      "Lags                                0\n",
      "-------------------------------------\n",
      "\n",
      "Trend: Constant and Linear Time Trend\n",
      "Critical Values: -4.01 (1%), -3.44 (5%), -3.14 (10%)\n",
      "Null Hypothesis: The process contains a unit root.\n",
      "Alternative Hypothesis: The process is weakly stationary.\n"
     ]
    }
   ],
   "source": [
    "import arch.data.default\n",
    "from arch.unitroot import ADF\n",
    "\n",
    "adf_c = ADF(data)\n",
    "adf_ct = ADF(data,trend = 'ct')\n",
    "print(adf_c.summary().as_text())\n",
    "print(adf_ct.summary().as_text())"
   ]
  },
  {
   "cell_type": "code",
   "execution_count": 27,
   "metadata": {},
   "outputs": [
    {
     "name": "stdout",
     "output_type": "stream",
     "text": [
      "     Phillips-Perron Test (Z-tau)    \n",
      "=====================================\n",
      "Test Statistic                 -2.956\n",
      "P-value                         0.039\n",
      "Lags                               14\n",
      "-------------------------------------\n",
      "\n",
      "Trend: Constant\n",
      "Critical Values: -3.47 (1%), -2.88 (5%), -2.58 (10%)\n",
      "Null Hypothesis: The process contains a unit root.\n",
      "Alternative Hypothesis: The process is weakly stationary.\n",
      "     Phillips-Perron Test (Z-tau)    \n",
      "=====================================\n",
      "Test Statistic                 -3.107\n",
      "P-value                         0.104\n",
      "Lags                               14\n",
      "-------------------------------------\n",
      "\n",
      "Trend: Constant and Linear Time Trend\n",
      "Critical Values: -4.01 (1%), -3.44 (5%), -3.14 (10%)\n",
      "Null Hypothesis: The process contains a unit root.\n",
      "Alternative Hypothesis: The process is weakly stationary.\n"
     ]
    }
   ],
   "source": [
    "from arch.unitroot import PhillipsPerron\n",
    "pp_c = PhillipsPerron(data)\n",
    "pp_ct = PhillipsPerron(data,trend='ct')\n",
    "print(pp_c.summary().as_text())\n",
    "print(pp_ct.summary().as_text())"
   ]
  },
  {
   "cell_type": "markdown",
   "metadata": {},
   "source": [
    "#### Question 3.40`\n",
    "\n",
    "Since the time trend is not significant (information given in the question), we look at only the test withou time trend, and both have p-values lower than 0.10, therefore we will fail to reject the unit root hypothesesm, meaning that the series are **stationary**.\n",
    "\n",
    "\n",
    "\n"
   ]
  },
  {
   "cell_type": "markdown",
   "metadata": {},
   "source": [
    "#### Question 3.41\n",
    "\n",
    "Using the KPSS test , we are testing for stationarity, since from the values below we fail to reject the null hypothesis the series is **stationary.** "
   ]
  },
  {
   "cell_type": "code",
   "execution_count": 28,
   "metadata": {},
   "outputs": [
    {
     "name": "stdout",
     "output_type": "stream",
     "text": [
      "    KPSS Stationarity Test Results   \n",
      "=====================================\n",
      "Test Statistic                  0.296\n",
      "P-value                         0.139\n",
      "Lags                                8\n",
      "-------------------------------------\n",
      "\n",
      "Trend: Constant\n",
      "Critical Values: 0.74 (1%), 0.46 (5%), 0.35 (10%)\n",
      "Null Hypothesis: The process is weakly stationary.\n",
      "Alternative Hypothesis: The process contains a unit root.\n"
     ]
    }
   ],
   "source": [
    "from arch.unitroot import KPSS\n",
    "kpss = KPSS(data)\n",
    "print(kpss.summary().as_text())\n"
   ]
  },
  {
   "cell_type": "markdown",
   "metadata": {},
   "source": [
    "## Seasion 11 Questions\n",
    "\n",
    "### Running Different Tests"
   ]
  },
  {
   "cell_type": "code",
   "execution_count": 29,
   "metadata": {},
   "outputs": [
    {
     "name": "stdout",
     "output_type": "stream",
     "text": [
      "     dateid01                   dateid         x         y         z\n",
      "0  1900-01-01  1900-01-31 23:59:59.999  0.000000  0.000000  0.000000\n",
      "1  1900-02-01  1900-02-28 23:59:59.999  2.644404 -0.723371  2.538293\n",
      "2  1900-03-01  1900-03-31 23:59:59.999  3.439934  2.142096  2.227375\n",
      "3  1900-04-01  1900-04-30 23:59:59.999  3.615788  4.493112  4.767550\n",
      "4  1900-05-01  1900-05-31 23:59:59.999  4.764565  5.088569  4.051969\n"
     ]
    },
    {
     "data": {
      "text/plain": [
       "1900-01-31    0.000000\n",
       "1900-02-28    2.538293\n",
       "1900-03-31    2.227375\n",
       "1900-04-30    4.767550\n",
       "1900-05-31    4.051969\n",
       "Freq: M, Name: z, dtype: float64"
      ]
     },
     "execution_count": 29,
     "metadata": {},
     "output_type": "execute_result"
    }
   ],
   "source": [
    "#load data \n",
    "import pandas as pd\n",
    "import numpy as np\n",
    "sm_df = pd.read_csv('Module3_data\\module3b_data_Simulated_full_sample.csv')\n",
    "print(sm_df.head())\n",
    "\n",
    "# set z as time series.\n",
    "z = sm_df['z']\n",
    "z.index = pd.date_range(start='1900-01-01', periods= len(sm_df.z), freq='M') \n",
    "z.head()"
   ]
  },
  {
   "cell_type": "code",
   "execution_count": 30,
   "metadata": {},
   "outputs": [
    {
     "data": {
      "text/plain": [
       "1900-01-31         NaN\n",
       "1900-02-28    2.538293\n",
       "1900-03-31   -0.310919\n",
       "1900-04-30    2.540175\n",
       "1900-05-31   -0.715581\n",
       "Freq: M, Name: z, dtype: float64"
      ]
     },
     "execution_count": 30,
     "metadata": {},
     "output_type": "execute_result"
    }
   ],
   "source": [
    "# differencing z\n",
    "z_dif = z - z.shift(1)\n",
    "z_dif.head()"
   ]
  },
  {
   "cell_type": "markdown",
   "metadata": {},
   "source": [
    "#### Question 3.42\n",
    "\n",
    "Seems that all specifications have p value 0.00, therefor we reject the unit root hypothesis, the first difference of the series is stationary.\n",
    "\n",
    "**Answer : NO**"
   ]
  },
  {
   "cell_type": "code",
   "execution_count": 33,
   "metadata": {},
   "outputs": [
    {
     "name": "stdout",
     "output_type": "stream",
     "text": [
      "   Augmented Dickey-Fuller Results   \n",
      "=====================================\n",
      "Test Statistic                -37.236\n",
      "P-value                         0.000\n",
      "Lags                                0\n",
      "-------------------------------------\n",
      "\n",
      "Trend: Constant\n",
      "Critical Values: -3.44 (1%), -2.86 (5%), -2.57 (10%)\n",
      "Null Hypothesis: The process contains a unit root.\n",
      "Alternative Hypothesis: The process is weakly stationary.\n",
      "   Augmented Dickey-Fuller Results   \n",
      "=====================================\n",
      "Test Statistic                -37.225\n",
      "P-value                         0.000\n",
      "Lags                                0\n",
      "-------------------------------------\n",
      "\n",
      "Trend: Constant and Linear Time Trend\n",
      "Critical Values: -3.97 (1%), -3.41 (5%), -3.13 (10%)\n",
      "Null Hypothesis: The process contains a unit root.\n",
      "Alternative Hypothesis: The process is weakly stationary.\n"
     ]
    }
   ],
   "source": [
    "import arch.data.default\n",
    "from arch.unitroot import ADF\n",
    "\n",
    "z_dif =  z_dif[1:] # remove first observation that is NaN\n",
    "# ADF for constant and constant + time trend\n",
    "adf_c = ADF(z_dif,trend='c')\n",
    "adf_ct = ADF(z_dif,trend = 'ct')\n",
    "print(adf_c.summary().as_text())\n",
    "print(adf_ct.summary().as_text())"
   ]
  },
  {
   "cell_type": "code",
   "execution_count": 34,
   "metadata": {},
   "outputs": [
    {
     "name": "stdout",
     "output_type": "stream",
     "text": [
      "     Phillips-Perron Test (Z-tau)    \n",
      "=====================================\n",
      "Test Statistic                -37.310\n",
      "P-value                         0.000\n",
      "Lags                               24\n",
      "-------------------------------------\n",
      "\n",
      "Trend: Constant\n",
      "Critical Values: -3.44 (1%), -2.86 (5%), -2.57 (10%)\n",
      "Null Hypothesis: The process contains a unit root.\n",
      "Alternative Hypothesis: The process is weakly stationary.\n",
      "     Phillips-Perron Test (Z-tau)    \n",
      "=====================================\n",
      "Test Statistic                -37.299\n",
      "P-value                         0.000\n",
      "Lags                               24\n",
      "-------------------------------------\n",
      "\n",
      "Trend: Constant and Linear Time Trend\n",
      "Critical Values: -3.97 (1%), -3.41 (5%), -3.13 (10%)\n",
      "Null Hypothesis: The process contains a unit root.\n",
      "Alternative Hypothesis: The process is weakly stationary.\n"
     ]
    }
   ],
   "source": [
    "from arch.unitroot import PhillipsPerron\n",
    "pp_c = PhillipsPerron(z_dif)\n",
    "pp_ct = PhillipsPerron(z_dif,trend='ct')\n",
    "print(pp_c.summary().as_text())\n",
    "print(pp_ct.summary().as_text())"
   ]
  },
  {
   "cell_type": "markdown",
   "metadata": {},
   "source": [
    "#### Question 3.43\n",
    "Do both specifications of the KPSS test yield results consistent with those of the ADF and PP tests?\n",
    "\n",
    "Both methods below fail to reject the null hypothesis that the variable is stationary.\n",
    "\n",
    "**ANSWER : YES**"
   ]
  },
  {
   "cell_type": "code",
   "execution_count": 37,
   "metadata": {},
   "outputs": [
    {
     "name": "stdout",
     "output_type": "stream",
     "text": [
      "    KPSS Stationarity Test Results   \n",
      "=====================================\n",
      "Test Statistic                  0.042\n",
      "P-value                         0.924\n",
      "Lags                                4\n",
      "-------------------------------------\n",
      "\n",
      "Trend: Constant\n",
      "Critical Values: 0.74 (1%), 0.46 (5%), 0.35 (10%)\n",
      "Null Hypothesis: The process is weakly stationary.\n",
      "Alternative Hypothesis: The process contains a unit root.\n",
      "    KPSS Stationarity Test Results   \n",
      "=====================================\n",
      "Test Statistic                  0.037\n",
      "P-value                         0.767\n",
      "Lags                                4\n",
      "-------------------------------------\n",
      "\n",
      "Trend: Constant and Linear Time Trend\n",
      "Critical Values: 0.22 (1%), 0.15 (5%), 0.12 (10%)\n",
      "Null Hypothesis: The process is weakly stationary.\n",
      "Alternative Hypothesis: The process contains a unit root.\n"
     ]
    }
   ],
   "source": [
    "from arch.unitroot import KPSS\n",
    "kpss = KPSS(z_dif)\n",
    "kpss_ct = KPSS(z_dif, trend='ct')\n",
    "print(kpss.summary().as_text())\n",
    "print(kpss_ct.summary().as_text())"
   ]
  },
  {
   "cell_type": "markdown",
   "metadata": {},
   "source": [
    "## TO DO\n",
    "Optional Question, No Single Answer\n",
    "To gain more familiarity with these tests, in the same Tab in EViews, simulate another nonstationary series v[1], then (i) conduct the three tests (for different specifications) on the level of v, its first-difference, and so on so as to determine its order of integration (that is, stop differencing once the tests indicate stationarity) (ii) after conducting this analysis for the full sample, choose a subsample and repeat. Do the results change? If so, how?"
   ]
  },
  {
   "cell_type": "markdown",
   "metadata": {},
   "source": [
    "## Session 12"
   ]
  },
  {
   "cell_type": "code",
   "execution_count": 1,
   "metadata": {},
   "outputs": [
    {
     "data": {
      "text/plain": [
       "[<matplotlib.lines.Line2D at 0x2639033c1c0>]"
      ]
     },
     "execution_count": 1,
     "metadata": {},
     "output_type": "execute_result"
    },
    {
     "data": {
      "image/png": "[encoded data removed]",
      "text/plain": [
       "<Figure size 432x288 with 1 Axes>"
      ]
     },
     "metadata": {
      "needs_background": "light"
     },
     "output_type": "display_data"
    }
   ],
   "source": [
    "# Malasia REER graph\n",
    "import pandas as pd\n",
    "import matplotlib.pyplot as plt\n",
    "reer = pd.read_csv('Module3_data\\module3_data_REER.csv')\n",
    "reer.index = pd.date_range(start='1979-01-01',periods=len(reer.reer_mys),freq='M')\n",
    "plt.plot(reer.reer_mys)"
   ]
  },
  {
   "cell_type": "markdown",
   "metadata": {},
   "source": [
    "### Comprehensive Tests And Specification\n",
    "\n",
    "Open the series “pe_aus”, the price-earnings ratio for Australia. For the sample period **2000M4 - 2015M2**"
   ]
  },
  {
   "cell_type": "code",
   "execution_count": 3,
   "metadata": {},
   "outputs": [],
   "source": [
    "import dateutil.parser\n",
    "#load pe_aus\n",
    "pe_ratios = pd.read_csv('Module3_data\\module3b_data_PE_ratios.csv')\n",
    "pe_aus = pe_ratios.pe_aus\n",
    "pe_aus.index = pd.date_range(start='1954-02-01', periods=len(pe_aus), freq='M')\n",
    "pe_aus = pe_aus[pe_aus.index > dateutil.parser.parse(\"2000-04-01\")]"
   ]
  },
  {
   "cell_type": "code",
   "execution_count": 14,
   "metadata": {},
   "outputs": [
    {
     "name": "stdout",
     "output_type": "stream",
     "text": [
      "   Augmented Dickey-Fuller Results   \n",
      "=====================================\n",
      "Test Statistic                 -1.457\n",
      "P-value                         0.136\n",
      "Lags                                1\n",
      "-------------------------------------\n",
      "\n",
      "Trend: No Trend\n",
      "Critical Values: -2.58 (1%), -1.94 (5%), -1.62 (10%)\n",
      "Null Hypothesis: The process contains a unit root.\n",
      "Alternative Hypothesis: The process is weakly stationary.\n",
      "   Augmented Dickey-Fuller Results   \n",
      "=====================================\n",
      "Test Statistic                 -4.161\n",
      "P-value                         0.001\n",
      "Lags                                6\n",
      "-------------------------------------\n",
      "\n",
      "Trend: Constant\n",
      "Critical Values: -3.47 (1%), -2.88 (5%), -2.58 (10%)\n",
      "Null Hypothesis: The process contains a unit root.\n",
      "Alternative Hypothesis: The process is weakly stationary.\n",
      "   Augmented Dickey-Fuller Results   \n",
      "=====================================\n",
      "Test Statistic                 -4.174\n",
      "P-value                         0.005\n",
      "Lags                                6\n",
      "-------------------------------------\n",
      "\n",
      "Trend: Constant and Linear Time Trend\n",
      "Critical Values: -4.01 (1%), -3.44 (5%), -3.14 (10%)\n",
      "Null Hypothesis: The process contains a unit root.\n",
      "Alternative Hypothesis: The process is weakly stationary.\n"
     ]
    }
   ],
   "source": [
    "# test for stationarity\n",
    "import arch.data.default\n",
    "import statsmodels.api \n",
    "from arch.unitroot import ADF\n",
    "\n",
    "\n",
    "adf1 = ADF(pe_aus,trend='n')\n",
    "adf2 = ADF(pe_aus,trend='c')\n",
    "adf3 = ADF(pe_aus,trend='ct')\n",
    "print(adf1.summary().as_text())\n",
    "print(adf2.summary().as_text())\n",
    "print(adf3.summary().as_text())\n"
   ]
  },
  {
   "cell_type": "code",
   "execution_count": 18,
   "metadata": {},
   "outputs": [
    {
     "name": "stdout",
     "output_type": "stream",
     "text": [
      "                            OLS Regression Results                            \n",
      "==============================================================================\n",
      "Dep. Variable:                      y   R-squared:                       0.128\n",
      "Model:                            OLS   Adj. R-squared:                  0.085\n",
      "Method:                 Least Squares   F-statistic:                     2.992\n",
      "Date:                Thu, 14 Oct 2021   Prob (F-statistic):            0.00372\n",
      "Time:                        10:05:54   Log-Likelihood:                -494.66\n",
      "No. Observations:                 172   AIC:                             1007.\n",
      "Df Residuals:                     163   BIC:                             1036.\n",
      "Df Model:                           8                                         \n",
      "Covariance Type:            nonrobust                                         \n",
      "==============================================================================\n",
      "                 coef    std err          t      P>|t|      [0.025      0.975]\n",
      "------------------------------------------------------------------------------\n",
      "Level.L1      -0.1340      0.032     -4.174      0.000      -0.197      -0.071\n",
      "Diff.L1        0.1765      0.075      2.351      0.020       0.028       0.325\n",
      "Diff.L2        0.0923      0.076      1.209      0.228      -0.058       0.243\n",
      "Diff.L3        0.1334      0.076      1.747      0.083      -0.017       0.284\n",
      "Diff.L4        0.0457      0.077      0.592      0.554      -0.107       0.198\n",
      "Diff.L5        0.1421      0.077      1.846      0.067      -0.010       0.294\n",
      "Diff.L6        0.1189      0.078      1.529      0.128      -0.035       0.272\n",
      "const          2.5470      0.908      2.806      0.006       0.755       4.340\n",
      "trend          0.0030      0.007      0.438      0.662      -0.010       0.016\n",
      "==============================================================================\n",
      "Omnibus:                      221.799   Durbin-Watson:                   2.006\n",
      "Prob(Omnibus):                  0.000   Jarque-Bera (JB):            25350.510\n",
      "Skew:                          -4.799   Prob(JB):                         0.00\n",
      "Kurtosis:                      61.696   Cond. No.                         274.\n",
      "==============================================================================\n",
      "\n",
      "Notes:\n",
      "[1] Standard Errors assume that the covariance matrix of the errors is correctly specified.\n",
      "                            OLS Regression Results                            \n",
      "==============================================================================\n",
      "Dep. Variable:                      y   R-squared:                       0.127\n",
      "Model:                            OLS   Adj. R-squared:                  0.090\n",
      "Method:                 Least Squares   F-statistic:                     3.409\n",
      "Date:                Thu, 14 Oct 2021   Prob (F-statistic):            0.00199\n",
      "Time:                        10:05:54   Log-Likelihood:                -494.76\n",
      "No. Observations:                 172   AIC:                             1006.\n",
      "Df Residuals:                     164   BIC:                             1031.\n",
      "Df Model:                           7                                         \n",
      "Covariance Type:            nonrobust                                         \n",
      "==============================================================================\n",
      "                 coef    std err          t      P>|t|      [0.025      0.975]\n",
      "------------------------------------------------------------------------------\n",
      "Level.L1      -0.1325      0.032     -4.161      0.000      -0.195      -0.070\n",
      "Diff.L1        0.1759      0.075      2.350      0.020       0.028       0.324\n",
      "Diff.L2        0.0915      0.076      1.203      0.231      -0.059       0.242\n",
      "Diff.L3        0.1325      0.076      1.740      0.084      -0.018       0.283\n",
      "Diff.L4        0.0447      0.077      0.581      0.562      -0.107       0.196\n",
      "Diff.L5        0.1412      0.077      1.840      0.068      -0.010       0.293\n",
      "Diff.L6        0.1179      0.078      1.521      0.130      -0.035       0.271\n",
      "const          2.7743      0.743      3.736      0.000       1.308       4.241\n",
      "==============================================================================\n",
      "Omnibus:                      221.141   Durbin-Watson:                   2.006\n",
      "Prob(Omnibus):                  0.000   Jarque-Bera (JB):            25186.570\n",
      "Skew:                          -4.774   Prob(JB):                         0.00\n",
      "Kurtosis:                      61.509   Cond. No.                         54.1\n",
      "==============================================================================\n",
      "\n",
      "Notes:\n",
      "[1] Standard Errors assume that the covariance matrix of the errors is correctly specified.\n"
     ]
    }
   ],
   "source": [
    "print(adf3.regression.summary())\n",
    "print(adf2.regression.summary())"
   ]
  },
  {
   "cell_type": "code",
   "execution_count": 6,
   "metadata": {},
   "outputs": [
    {
     "name": "stdout",
     "output_type": "stream",
     "text": [
      "     Phillips-Perron Test (Z-tau)    \n",
      "=====================================\n",
      "Test Statistic                 -1.405\n",
      "P-value                         0.149\n",
      "Lags                               14\n",
      "-------------------------------------\n",
      "\n",
      "Trend: No Trend\n",
      "Critical Values: -2.58 (1%), -1.94 (5%), -1.62 (10%)\n",
      "Null Hypothesis: The process contains a unit root.\n",
      "Alternative Hypothesis: The process is weakly stationary.\n",
      "     Phillips-Perron Test (Z-tau)    \n",
      "=====================================\n",
      "Test Statistic                 -2.886\n",
      "P-value                         0.047\n",
      "Lags                               14\n",
      "-------------------------------------\n",
      "\n",
      "Trend: Constant\n",
      "Critical Values: -3.47 (1%), -2.88 (5%), -2.58 (10%)\n",
      "Null Hypothesis: The process contains a unit root.\n",
      "Alternative Hypothesis: The process is weakly stationary.\n",
      "     Phillips-Perron Test (Z-tau)    \n",
      "=====================================\n",
      "Test Statistic                 -2.896\n",
      "P-value                         0.164\n",
      "Lags                               14\n",
      "-------------------------------------\n",
      "\n",
      "Trend: Constant and Linear Time Trend\n",
      "Critical Values: -4.01 (1%), -3.44 (5%), -3.14 (10%)\n",
      "Null Hypothesis: The process contains a unit root.\n",
      "Alternative Hypothesis: The process is weakly stationary.\n"
     ]
    }
   ],
   "source": [
    "# test for stationarity PP\n",
    "from arch.unitroot import PhillipsPerron\n",
    "\n",
    "PhillipsPerron1 = PhillipsPerron(pe_aus,trend='n')\n",
    "PhillipsPerron2 = PhillipsPerron(pe_aus,trend='c')\n",
    "PhillipsPerron3 = PhillipsPerron(pe_aus,trend='ct')\n",
    "print(PhillipsPerron1.summary().as_text())\n",
    "print(PhillipsPerron2.summary().as_text())\n",
    "print(PhillipsPerron3.summary().as_text())"
   ]
  },
  {
   "cell_type": "code",
   "execution_count": 25,
   "metadata": {},
   "outputs": [
    {
     "name": "stdout",
     "output_type": "stream",
     "text": [
      "                            OLS Regression Results                            \n",
      "==============================================================================\n",
      "Dep. Variable:                      y   R-squared:                       0.871\n",
      "Model:                            OLS   Adj. R-squared:                  0.870\n",
      "Method:                 Least Squares   F-statistic:                     215.6\n",
      "Date:                Thu, 14 Oct 2021   Prob (F-statistic):           6.14e-48\n",
      "Time:                        10:13:28   Log-Likelihood:                -518.29\n",
      "No. Observations:                 178   AIC:                             1043.\n",
      "Df Residuals:                     175   BIC:                             1052.\n",
      "Df Model:                           2                                         \n",
      "Covariance Type:                  HAC                                         \n",
      "==============================================================================\n",
      "                 coef    std err          z      P>|z|      [0.025      0.975]\n",
      "------------------------------------------------------------------------------\n",
      "Level.L1       0.9327      0.067     13.818      0.000       0.800       1.065\n",
      "const          1.2381      1.282      0.966      0.334      -1.274       3.751\n",
      "trend          0.0018      0.003      0.580      0.562      -0.004       0.008\n",
      "==============================================================================\n",
      "Omnibus:                      248.804   Durbin-Watson:                   1.655\n",
      "Prob(Omnibus):                  0.000   Jarque-Bera (JB):            38179.123\n",
      "Skew:                          -5.525   Prob(JB):                         0.00\n",
      "Kurtosis:                      73.892   Cond. No.                         265.\n",
      "==============================================================================\n",
      "\n",
      "Notes:\n",
      "[1] Standard Errors are heteroscedasticity and autocorrelation robust (HAC) using 14 lags and without small sample correction\n"
     ]
    }
   ],
   "source": [
    "print(PhillipsPerron3.regression.summary())"
   ]
  },
  {
   "cell_type": "code",
   "execution_count": 8,
   "metadata": {},
   "outputs": [
    {
     "name": "stdout",
     "output_type": "stream",
     "text": [
      "    KPSS Stationarity Test Results   \n",
      "=====================================\n",
      "Test Statistic                  0.100\n",
      "P-value                         0.584\n",
      "Lags                                8\n",
      "-------------------------------------\n",
      "\n",
      "Trend: Constant\n",
      "Critical Values: 0.74 (1%), 0.46 (5%), 0.35 (10%)\n",
      "Null Hypothesis: The process is weakly stationary.\n",
      "Alternative Hypothesis: The process contains a unit root.\n",
      "    KPSS Stationarity Test Results   \n",
      "=====================================\n",
      "Test Statistic                  0.074\n",
      "P-value                         0.314\n",
      "Lags                                8\n",
      "-------------------------------------\n",
      "\n",
      "Trend: Constant and Linear Time Trend\n",
      "Critical Values: 0.22 (1%), 0.15 (5%), 0.12 (10%)\n",
      "Null Hypothesis: The process is weakly stationary.\n",
      "Alternative Hypothesis: The process contains a unit root.\n"
     ]
    }
   ],
   "source": [
    "# test for stationarity KPSS\n",
    "from arch.unitroot import KPSS\n",
    "\n",
    "# KPSS1 = KPSS(pe_aus,trend='n')\n",
    "KPSS2 = KPSS(pe_aus,trend='c')\n",
    "KPSS3 = KPSS(pe_aus,trend='ct')\n",
    "# print(KPSS1.summary().as_text())\n",
    "print(KPSS2.summary().as_text())\n",
    "print(KPSS3.summary().as_text())"
   ]
  },
  {
   "cell_type": "markdown",
   "metadata": {},
   "source": [
    "#### Question 3.44\n",
    "\n",
    "According to the  ADF test with intercept pe_aus is stationary, also intercept is relevant and trend is not.\n",
    "\n",
    "Answer : **Intercept Only**\n",
    "\n",
    "#### Question 3.45\n",
    "\n",
    "Since the specification seems to be the one with a constant term,\n",
    "All test with constant give the time series as \n",
    "\n",
    "Answer : **Stationary**"
   ]
  },
  {
   "cell_type": "markdown",
   "metadata": {},
   "source": [
    "#### Question 3.46\n",
    "\n",
    "However, there may be a structural break in the series that is distorting the tests. Based on the graph of pe_aus, when is the structural break likely to occur?\n",
    "\n",
    "Answer: **Late 2009** , se graph bellow"
   ]
  },
  {
   "cell_type": "code",
   "execution_count": 29,
   "metadata": {},
   "outputs": [
    {
     "data": {
      "text/plain": [
       "[<matplotlib.lines.Line2D at 0x26395c00a60>]"
      ]
     },
     "execution_count": 29,
     "metadata": {},
     "output_type": "execute_result"
    },
    {
     "data": {
      "image/png": "[encoded data removed]",
      "text/plain": [
       "<Figure size 720x720 with 1 Axes>"
      ]
     },
     "metadata": {
      "needs_background": "light"
     },
     "output_type": "display_data"
    }
   ],
   "source": [
    "# graph pe_aus\n",
    "plt.figure(figsize=(10,10))\n",
    "plt.plot(pe_aus)"
   ]
  },
  {
   "cell_type": "markdown",
   "metadata": {},
   "source": [
    "### Pre-Crisis Tests\n",
    "new sample : 2000:04 to 2009:05\n",
    "repeat the test above"
   ]
  },
  {
   "cell_type": "code",
   "execution_count": 31,
   "metadata": {},
   "outputs": [],
   "source": [
    "pe_aus_pre_crisis = pe_aus\n",
    "pe_aus_pre_crisis = pe_aus_pre_crisis[pe_aus.index < dateutil.parser.parse(\"2009-06-01\")]"
   ]
  },
  {
   "cell_type": "code",
   "execution_count": 32,
   "metadata": {},
   "outputs": [
    {
     "name": "stdout",
     "output_type": "stream",
     "text": [
      "   Augmented Dickey-Fuller Results   \n",
      "=====================================\n",
      "Test Statistic                 -0.685\n",
      "P-value                         0.419\n",
      "Lags                                0\n",
      "-------------------------------------\n",
      "\n",
      "Trend: No Trend\n",
      "Critical Values: -2.59 (1%), -1.94 (5%), -1.61 (10%)\n",
      "Null Hypothesis: The process contains a unit root.\n",
      "Alternative Hypothesis: The process is weakly stationary.\n",
      "   Augmented Dickey-Fuller Results   \n",
      "=====================================\n",
      "Test Statistic                 -2.553\n",
      "P-value                         0.103\n",
      "Lags                                0\n",
      "-------------------------------------\n",
      "\n",
      "Trend: Constant\n",
      "Critical Values: -3.49 (1%), -2.89 (5%), -2.58 (10%)\n",
      "Null Hypothesis: The process contains a unit root.\n",
      "Alternative Hypothesis: The process is weakly stationary.\n",
      "   Augmented Dickey-Fuller Results   \n",
      "=====================================\n",
      "Test Statistic                 -2.974\n",
      "P-value                         0.140\n",
      "Lags                                0\n",
      "-------------------------------------\n",
      "\n",
      "Trend: Constant and Linear Time Trend\n",
      "Critical Values: -4.04 (1%), -3.45 (5%), -3.15 (10%)\n",
      "Null Hypothesis: The process contains a unit root.\n",
      "Alternative Hypothesis: The process is weakly stationary.\n"
     ]
    }
   ],
   "source": [
    "adf1 = ADF(pe_aus_pre_crisis,trend='n')\n",
    "adf2 = ADF(pe_aus_pre_crisis,trend='c')\n",
    "adf3 = ADF(pe_aus_pre_crisis,trend='ct')\n",
    "print(adf1.summary().as_text())\n",
    "print(adf2.summary().as_text())\n",
    "print(adf3.summary().as_text())"
   ]
  },
  {
   "cell_type": "code",
   "execution_count": 39,
   "metadata": {},
   "outputs": [
    {
     "name": "stdout",
     "output_type": "stream",
     "text": [
      "                            OLS Regression Results                            \n",
      "==============================================================================\n",
      "Dep. Variable:                      y   R-squared:                       0.080\n",
      "Model:                            OLS   Adj. R-squared:                  0.063\n",
      "Method:                 Least Squares   F-statistic:                     4.612\n",
      "Date:                Thu, 14 Oct 2021   Prob (F-statistic):             0.0120\n",
      "Time:                        10:31:34   Log-Likelihood:                -191.19\n",
      "No. Observations:                 109   AIC:                             388.4\n",
      "Df Residuals:                     106   BIC:                             396.5\n",
      "Df Model:                           2                                         \n",
      "Covariance Type:            nonrobust                                         \n",
      "==============================================================================\n",
      "                 coef    std err          t      P>|t|      [0.025      0.975]\n",
      "------------------------------------------------------------------------------\n",
      "Level.L1      -0.1704      0.057     -2.974      0.004      -0.284      -0.057\n",
      "const          3.5053      1.269      2.763      0.007       0.990       6.021\n",
      "trend         -0.0097      0.006     -1.615      0.109      -0.022       0.002\n",
      "==============================================================================\n",
      "Omnibus:                       19.581   Durbin-Watson:                   1.998\n",
      "Prob(Omnibus):                  0.000   Jarque-Bera (JB):              107.660\n",
      "Skew:                          -0.107   Prob(JB):                     4.19e-24\n",
      "Kurtosis:                       7.864   Cond. No.                         608.\n",
      "==============================================================================\n",
      "\n",
      "Notes:\n",
      "[1] Standard Errors assume that the covariance matrix of the errors is correctly specified.\n",
      "                            OLS Regression Results                            \n",
      "==============================================================================\n",
      "Dep. Variable:                      y   R-squared:                       0.057\n",
      "Model:                            OLS   Adj. R-squared:                  0.049\n",
      "Method:                 Least Squares   F-statistic:                     6.517\n",
      "Date:                Thu, 14 Oct 2021   Prob (F-statistic):             0.0121\n",
      "Time:                        10:31:34   Log-Likelihood:                -192.52\n",
      "No. Observations:                 109   AIC:                             389.0\n",
      "Df Residuals:                     107   BIC:                             394.4\n",
      "Df Model:                           1                                         \n",
      "Covariance Type:            nonrobust                                         \n",
      "==============================================================================\n",
      "                 coef    std err          t      P>|t|      [0.025      0.975]\n",
      "------------------------------------------------------------------------------\n",
      "Level.L1      -0.1063      0.042     -2.553      0.012      -0.189      -0.024\n",
      "const          1.8423      0.747      2.466      0.015       0.361       3.323\n",
      "==============================================================================\n",
      "Omnibus:                       21.167   Durbin-Watson:                   2.079\n",
      "Prob(Omnibus):                  0.000   Jarque-Bera (JB):              125.837\n",
      "Skew:                          -0.178   Prob(JB):                     4.73e-28\n",
      "Kurtosis:                       8.252   Cond. No.                         98.3\n",
      "==============================================================================\n",
      "\n",
      "Notes:\n",
      "[1] Standard Errors assume that the covariance matrix of the errors is correctly specified.\n",
      "                            OLS Regression Results                            \n",
      "==============================================================================\n",
      "Dep. Variable:                      y   R-squared:                       0.080\n",
      "Model:                            OLS   Adj. R-squared:                  0.063\n",
      "Method:                 Least Squares   F-statistic:                     4.612\n",
      "Date:                Thu, 14 Oct 2021   Prob (F-statistic):             0.0120\n",
      "Time:                        10:31:34   Log-Likelihood:                -191.19\n",
      "No. Observations:                 109   AIC:                             388.4\n",
      "Df Residuals:                     106   BIC:                             396.5\n",
      "Df Model:                           2                                         \n",
      "Covariance Type:            nonrobust                                         \n",
      "==============================================================================\n",
      "                 coef    std err          t      P>|t|      [0.025      0.975]\n",
      "------------------------------------------------------------------------------\n",
      "Level.L1      -0.1704      0.057     -2.974      0.004      -0.284      -0.057\n",
      "const          3.5053      1.269      2.763      0.007       0.990       6.021\n",
      "trend         -0.0097      0.006     -1.615      0.109      -0.022       0.002\n",
      "==============================================================================\n",
      "Omnibus:                       19.581   Durbin-Watson:                   1.998\n",
      "Prob(Omnibus):                  0.000   Jarque-Bera (JB):              107.660\n",
      "Skew:                          -0.107   Prob(JB):                     4.19e-24\n",
      "Kurtosis:                       7.864   Cond. No.                         608.\n",
      "==============================================================================\n",
      "\n",
      "Notes:\n",
      "[1] Standard Errors assume that the covariance matrix of the errors is correctly specified.\n"
     ]
    }
   ],
   "source": [
    "print(adf3.regression.summary())\n",
    "print(adf2.regression.summary())\n",
    "print(adf3.regression.summary())"
   ]
  },
  {
   "cell_type": "code",
   "execution_count": 34,
   "metadata": {},
   "outputs": [
    {
     "name": "stdout",
     "output_type": "stream",
     "text": [
      "     Phillips-Perron Test (Z-tau)    \n",
      "=====================================\n",
      "Test Statistic                 -0.668\n",
      "P-value                         0.426\n",
      "Lags                               13\n",
      "-------------------------------------\n",
      "\n",
      "Trend: No Trend\n",
      "Critical Values: -2.59 (1%), -1.94 (5%), -1.61 (10%)\n",
      "Null Hypothesis: The process contains a unit root.\n",
      "Alternative Hypothesis: The process is weakly stationary.\n",
      "     Phillips-Perron Test (Z-tau)    \n",
      "=====================================\n",
      "Test Statistic                 -2.558\n",
      "P-value                         0.102\n",
      "Lags                               13\n",
      "-------------------------------------\n",
      "\n",
      "Trend: Constant\n",
      "Critical Values: -3.49 (1%), -2.89 (5%), -2.58 (10%)\n",
      "Null Hypothesis: The process contains a unit root.\n",
      "Alternative Hypothesis: The process is weakly stationary.\n",
      "     Phillips-Perron Test (Z-tau)    \n",
      "=====================================\n",
      "Test Statistic                 -3.105\n",
      "P-value                         0.105\n",
      "Lags                               13\n",
      "-------------------------------------\n",
      "\n",
      "Trend: Constant and Linear Time Trend\n",
      "Critical Values: -4.04 (1%), -3.45 (5%), -3.15 (10%)\n",
      "Null Hypothesis: The process contains a unit root.\n",
      "Alternative Hypothesis: The process is weakly stationary.\n"
     ]
    }
   ],
   "source": [
    "PhillipsPerron1 = PhillipsPerron(pe_aus_pre_crisis,trend='n')\n",
    "PhillipsPerron2 = PhillipsPerron(pe_aus_pre_crisis,trend='c')\n",
    "PhillipsPerron3 = PhillipsPerron(pe_aus_pre_crisis,trend='ct')\n",
    "print(PhillipsPerron1.summary().as_text())\n",
    "print(PhillipsPerron2.summary().as_text())\n",
    "print(PhillipsPerron3.summary().as_text())"
   ]
  },
  {
   "cell_type": "code",
   "execution_count": 38,
   "metadata": {},
   "outputs": [
    {
     "name": "stdout",
     "output_type": "stream",
     "text": [
      "                                 OLS Regression Results                                \n",
      "=======================================================================================\n",
      "Dep. Variable:                      y   R-squared (uncentered):                   0.993\n",
      "Model:                            OLS   Adj. R-squared (uncentered):              0.993\n",
      "Method:                 Least Squares   F-statistic:                          2.812e+04\n",
      "Date:                Thu, 14 Oct 2021   Prob (F-statistic):                   2.24e-132\n",
      "Time:                        10:31:10   Log-Likelihood:                         -195.53\n",
      "No. Observations:                 109   AIC:                                      393.1\n",
      "Df Residuals:                     108   BIC:                                      395.8\n",
      "Df Model:                           1                                                  \n",
      "Covariance Type:                  HAC                                                  \n",
      "==============================================================================\n",
      "                 coef    std err          z      P>|z|      [0.025      0.975]\n",
      "------------------------------------------------------------------------------\n",
      "Level.L1       0.9947      0.006    167.701      0.000       0.983       1.006\n",
      "==============================================================================\n",
      "Omnibus:                       26.068   Durbin-Watson:                   2.177\n",
      "Prob(Omnibus):                  0.000   Jarque-Bera (JB):              203.690\n",
      "Skew:                          -0.288   Prob(JB):                     5.88e-45\n",
      "Kurtosis:                       9.672   Cond. No.                         1.00\n",
      "==============================================================================\n",
      "\n",
      "Notes:\n",
      "[1] R² is computed without centering (uncentered) since the model does not contain a constant.\n",
      "[2] Standard Errors are heteroscedasticity and autocorrelation robust (HAC) using 13 lags and without small sample correction\n",
      "                            OLS Regression Results                            \n",
      "==============================================================================\n",
      "Dep. Variable:                      y   R-squared:                       0.812\n",
      "Model:                            OLS   Adj. R-squared:                  0.810\n",
      "Method:                 Least Squares   F-statistic:                     646.7\n",
      "Date:                Thu, 14 Oct 2021   Prob (F-statistic):           3.65e-47\n",
      "Time:                        10:31:10   Log-Likelihood:                -192.52\n",
      "No. Observations:                 109   AIC:                             389.0\n",
      "Df Residuals:                     107   BIC:                             394.4\n",
      "Df Model:                           1                                         \n",
      "Covariance Type:                  HAC                                         \n",
      "==============================================================================\n",
      "                 coef    std err          z      P>|z|      [0.025      0.975]\n",
      "------------------------------------------------------------------------------\n",
      "Level.L1       0.8937      0.035     25.430      0.000       0.825       0.963\n",
      "const          1.8423      0.584      3.154      0.002       0.698       2.987\n",
      "==============================================================================\n",
      "Omnibus:                       21.167   Durbin-Watson:                   2.079\n",
      "Prob(Omnibus):                  0.000   Jarque-Bera (JB):              125.837\n",
      "Skew:                          -0.178   Prob(JB):                     4.73e-28\n",
      "Kurtosis:                       8.252   Cond. No.                         98.3\n",
      "==============================================================================\n",
      "\n",
      "Notes:\n",
      "[1] Standard Errors are heteroscedasticity and autocorrelation robust (HAC) using 13 lags and without small sample correction\n",
      "                            OLS Regression Results                            \n",
      "==============================================================================\n",
      "Dep. Variable:                      y   R-squared:                       0.816\n",
      "Model:                            OLS   Adj. R-squared:                  0.813\n",
      "Method:                 Least Squares   F-statistic:                     287.6\n",
      "Date:                Thu, 14 Oct 2021   Prob (F-statistic):           1.51e-43\n",
      "Time:                        10:31:10   Log-Likelihood:                -191.19\n",
      "No. Observations:                 109   AIC:                             388.4\n",
      "Df Residuals:                     106   BIC:                             396.5\n",
      "Df Model:                           2                                         \n",
      "Covariance Type:                  HAC                                         \n",
      "==============================================================================\n",
      "                 coef    std err          z      P>|z|      [0.025      0.975]\n",
      "------------------------------------------------------------------------------\n",
      "Level.L1       0.8296      0.043     19.486      0.000       0.746       0.913\n",
      "const          3.5053      0.903      3.880      0.000       1.734       5.276\n",
      "trend         -0.0097      0.005     -1.916      0.055      -0.020       0.000\n",
      "==============================================================================\n",
      "Omnibus:                       19.581   Durbin-Watson:                   1.998\n",
      "Prob(Omnibus):                  0.000   Jarque-Bera (JB):              107.660\n",
      "Skew:                          -0.107   Prob(JB):                     4.19e-24\n",
      "Kurtosis:                       7.864   Cond. No.                         608.\n",
      "==============================================================================\n",
      "\n",
      "Notes:\n",
      "[1] Standard Errors are heteroscedasticity and autocorrelation robust (HAC) using 13 lags and without small sample correction\n"
     ]
    }
   ],
   "source": [
    "print(PhillipsPerron1.regression.summary())\n",
    "print(PhillipsPerron2.regression.summary())\n",
    "print(PhillipsPerron3.regression.summary())"
   ]
  },
  {
   "cell_type": "code",
   "execution_count": 37,
   "metadata": {},
   "outputs": [
    {
     "name": "stdout",
     "output_type": "stream",
     "text": [
      "    KPSS Stationarity Test Results   \n",
      "=====================================\n",
      "Test Statistic                  1.206\n",
      "P-value                         0.001\n",
      "Lags                                5\n",
      "-------------------------------------\n",
      "\n",
      "Trend: Constant\n",
      "Critical Values: 0.74 (1%), 0.46 (5%), 0.35 (10%)\n",
      "Null Hypothesis: The process is weakly stationary.\n",
      "Alternative Hypothesis: The process contains a unit root.\n",
      "    KPSS Stationarity Test Results   \n",
      "=====================================\n",
      "Test Statistic                  0.139\n",
      "P-value                         0.062\n",
      "Lags                                5\n",
      "-------------------------------------\n",
      "\n",
      "Trend: Constant and Linear Time Trend\n",
      "Critical Values: 0.22 (1%), 0.15 (5%), 0.12 (10%)\n",
      "Null Hypothesis: The process is weakly stationary.\n",
      "Alternative Hypothesis: The process contains a unit root.\n"
     ]
    }
   ],
   "source": [
    "KPSS2 = KPSS(pe_aus_pre_crisis,trend='c')\n",
    "KPSS3 = KPSS(pe_aus_pre_crisis,trend='ct')\n",
    "# print(KPSS1.summary().as_text())\n",
    "print(KPSS2.summary().as_text())\n",
    "print(KPSS3.summary().as_text())"
   ]
  },
  {
   "cell_type": "code",
   "execution_count": 40,
   "metadata": {},
   "outputs": [
    {
     "data": {
      "text/plain": [
       "[<matplotlib.lines.Line2D at 0x26395ccc640>]"
      ]
     },
     "execution_count": 40,
     "metadata": {},
     "output_type": "execute_result"
    },
    {
     "data": {
      "image/png": "[encoded data removed]",
      "text/plain": [
       "<Figure size 1080x720 with 1 Axes>"
      ]
     },
     "metadata": {
      "needs_background": "light"
     },
     "output_type": "display_data"
    }
   ],
   "source": [
    "# graph\n",
    "plt.figure(figsize=(15,10))\n",
    "plt.plot(pe_aus_pre_crisis)"
   ]
  },
  {
   "cell_type": "markdown",
   "metadata": {},
   "source": [
    "#### Question 3.47\n",
    "\n",
    "In both regression constant is relevant , and in one also the trend, being not relevant but with p value above 1.\n",
    "Also the graph seems to show a downward trend.\n",
    "\n",
    " Answer: **Intercept and trend**\n"
   ]
  },
  {
   "cell_type": "markdown",
   "metadata": {},
   "source": [
    "#### Question 3.48\n",
    "\n",
    "Looking at my results it seems not to be stationary, eventhoguh the answer in website is confliting results. \n",
    "Non of the test indicate stationarity, also the graph still seems to show a break around 2005."
   ]
  },
  {
   "cell_type": "markdown",
   "metadata": {},
   "source": [
    "### Breakpoint Unit Root Tests\n",
    "\n",
    "Done with E-views, not sure what package to use for this."
   ]
  },
  {
   "cell_type": "code",
   "execution_count": 48,
   "metadata": {},
   "outputs": [],
   "source": [
    "post_crisis = pe_aus\n",
    "post_crisis = post_crisis[post_crisis.index > dateutil.parser.parse(\"2010-12-01\")]"
   ]
  },
  {
   "cell_type": "code",
   "execution_count": 50,
   "metadata": {},
   "outputs": [
    {
     "name": "stdout",
     "output_type": "stream",
     "text": [
      "   Augmented Dickey-Fuller Results   \n",
      "=====================================\n",
      "Test Statistic                  0.625\n",
      "P-value                         0.852\n",
      "Lags                                0\n",
      "-------------------------------------\n",
      "\n",
      "Trend: No Trend\n",
      "Critical Values: -2.61 (1%), -1.95 (5%), -1.61 (10%)\n",
      "Null Hypothesis: The process contains a unit root.\n",
      "Alternative Hypothesis: The process is weakly stationary.\n",
      "   Augmented Dickey-Fuller Results   \n",
      "=====================================\n",
      "Test Statistic                 -0.798\n",
      "P-value                         0.820\n",
      "Lags                                0\n",
      "-------------------------------------\n",
      "\n",
      "Trend: Constant\n",
      "Critical Values: -3.57 (1%), -2.92 (5%), -2.60 (10%)\n",
      "Null Hypothesis: The process contains a unit root.\n",
      "Alternative Hypothesis: The process is weakly stationary.\n",
      "   Augmented Dickey-Fuller Results   \n",
      "=====================================\n",
      "Test Statistic                 -1.964\n",
      "P-value                         0.621\n",
      "Lags                                0\n",
      "-------------------------------------\n",
      "\n",
      "Trend: Constant and Linear Time Trend\n",
      "Critical Values: -4.15 (1%), -3.50 (5%), -3.18 (10%)\n",
      "Null Hypothesis: The process contains a unit root.\n",
      "Alternative Hypothesis: The process is weakly stationary.\n",
      "                                 OLS Regression Results                                \n",
      "=======================================================================================\n",
      "Dep. Variable:                      y   R-squared (uncentered):                   0.008\n",
      "Model:                            OLS   Adj. R-squared (uncentered):             -0.012\n",
      "Method:                 Least Squares   F-statistic:                             0.3904\n",
      "Date:                Thu, 14 Oct 2021   Prob (F-statistic):                       0.535\n",
      "Time:                        11:26:59   Log-Likelihood:                         -70.169\n",
      "No. Observations:                  50   AIC:                                      142.3\n",
      "Df Residuals:                      49   BIC:                                      144.3\n",
      "Df Model:                           1                                                  \n",
      "Covariance Type:            nonrobust                                                  \n",
      "==============================================================================\n",
      "                 coef    std err          t      P>|t|      [0.025      0.975]\n",
      "------------------------------------------------------------------------------\n",
      "Level.L1       0.0049      0.008      0.625      0.535      -0.011       0.021\n",
      "==============================================================================\n",
      "Omnibus:                        2.670   Durbin-Watson:                   2.003\n",
      "Prob(Omnibus):                  0.263   Jarque-Bera (JB):                1.827\n",
      "Skew:                           0.207   Prob(JB):                        0.401\n",
      "Kurtosis:                       3.840   Cond. No.                         1.00\n",
      "==============================================================================\n",
      "\n",
      "Notes:\n",
      "[1] R² is computed without centering (uncentered) since the model does not contain a constant.\n",
      "[2] Standard Errors assume that the covariance matrix of the errors is correctly specified.\n",
      "                            OLS Regression Results                            \n",
      "==============================================================================\n",
      "Dep. Variable:                      y   R-squared:                       0.013\n",
      "Model:                            OLS   Adj. R-squared:                 -0.007\n",
      "Method:                 Least Squares   F-statistic:                    0.6371\n",
      "Date:                Thu, 14 Oct 2021   Prob (F-statistic):              0.429\n",
      "Time:                        11:26:59   Log-Likelihood:                -69.741\n",
      "No. Observations:                  50   AIC:                             143.5\n",
      "Df Residuals:                      48   BIC:                             147.3\n",
      "Df Model:                           1                                         \n",
      "Covariance Type:            nonrobust                                         \n",
      "==============================================================================\n",
      "                 coef    std err          t      P>|t|      [0.025      0.975]\n",
      "------------------------------------------------------------------------------\n",
      "Level.L1      -0.0392      0.049     -0.798      0.429      -0.138       0.059\n",
      "const          0.7986      0.877      0.910      0.367      -0.966       2.563\n",
      "==============================================================================\n",
      "Omnibus:                        3.107   Durbin-Watson:                   1.951\n",
      "Prob(Omnibus):                  0.211   Jarque-Bera (JB):                2.127\n",
      "Skew:                           0.336   Prob(JB):                        0.345\n",
      "Kurtosis:                       3.755   Cond. No.                         112.\n",
      "==============================================================================\n",
      "\n",
      "Notes:\n",
      "[1] Standard Errors assume that the covariance matrix of the errors is correctly specified.\n",
      "                            OLS Regression Results                            \n",
      "==============================================================================\n",
      "Dep. Variable:                      y   R-squared:                       0.086\n",
      "Model:                            OLS   Adj. R-squared:                  0.047\n",
      "Method:                 Least Squares   F-statistic:                     2.212\n",
      "Date:                Thu, 14 Oct 2021   Prob (F-statistic):              0.121\n",
      "Time:                        11:26:59   Log-Likelihood:                -67.822\n",
      "No. Observations:                  50   AIC:                             141.6\n",
      "Df Residuals:                      47   BIC:                             147.4\n",
      "Df Model:                           2                                         \n",
      "Covariance Type:            nonrobust                                         \n",
      "==============================================================================\n",
      "                 coef    std err          t      P>|t|      [0.025      0.975]\n",
      "------------------------------------------------------------------------------\n",
      "Level.L1      -0.1350      0.069     -1.964      0.055      -0.273       0.003\n",
      "const          1.8160      1.002      1.812      0.076      -0.200       3.832\n",
      "trend          0.0265      0.014      1.937      0.059      -0.001       0.054\n",
      "==============================================================================\n",
      "Omnibus:                        3.579   Durbin-Watson:                   1.916\n",
      "Prob(Omnibus):                  0.167   Jarque-Bera (JB):                2.906\n",
      "Skew:                           0.257   Prob(JB):                        0.234\n",
      "Kurtosis:                       4.063   Cond. No.                         248.\n",
      "==============================================================================\n",
      "\n",
      "Notes:\n",
      "[1] Standard Errors assume that the covariance matrix of the errors is correctly specified.\n"
     ]
    }
   ],
   "source": [
    "adf1 = ADF(post_crisis,trend='n')\n",
    "adf2 = ADF(post_crisis,trend='c')\n",
    "adf3 = ADF(post_crisis,trend='ct')\n",
    "print(adf1.summary().as_text())\n",
    "print(adf2.summary().as_text())\n",
    "print(adf3.summary().as_text())\n",
    "print(adf1.regression.summary())\n",
    "print(adf2.regression.summary())\n",
    "print(adf3.regression.summary())"
   ]
  },
  {
   "cell_type": "code",
   "execution_count": 51,
   "metadata": {},
   "outputs": [
    {
     "name": "stdout",
     "output_type": "stream",
     "text": [
      "     Phillips-Perron Test (Z-tau)    \n",
      "=====================================\n",
      "Test Statistic                  0.570\n",
      "P-value                         0.840\n",
      "Lags                               11\n",
      "-------------------------------------\n",
      "\n",
      "Trend: No Trend\n",
      "Critical Values: -2.61 (1%), -1.95 (5%), -1.61 (10%)\n",
      "Null Hypothesis: The process contains a unit root.\n",
      "Alternative Hypothesis: The process is weakly stationary.\n",
      "     Phillips-Perron Test (Z-tau)    \n",
      "=====================================\n",
      "Test Statistic                 -0.984\n",
      "P-value                         0.759\n",
      "Lags                               11\n",
      "-------------------------------------\n",
      "\n",
      "Trend: Constant\n",
      "Critical Values: -3.57 (1%), -2.92 (5%), -2.60 (10%)\n",
      "Null Hypothesis: The process contains a unit root.\n",
      "Alternative Hypothesis: The process is weakly stationary.\n",
      "     Phillips-Perron Test (Z-tau)    \n",
      "=====================================\n",
      "Test Statistic                 -2.207\n",
      "P-value                         0.486\n",
      "Lags                               11\n",
      "-------------------------------------\n",
      "\n",
      "Trend: Constant and Linear Time Trend\n",
      "Critical Values: -4.15 (1%), -3.50 (5%), -3.18 (10%)\n",
      "Null Hypothesis: The process contains a unit root.\n",
      "Alternative Hypothesis: The process is weakly stationary.\n",
      "                                 OLS Regression Results                                \n",
      "=======================================================================================\n",
      "Dep. Variable:                      y   R-squared (uncentered):                   0.997\n",
      "Model:                            OLS   Adj. R-squared (uncentered):              0.997\n",
      "Method:                 Least Squares   F-statistic:                          1.463e+04\n",
      "Date:                Thu, 14 Oct 2021   Prob (F-statistic):                    2.39e-62\n",
      "Time:                        11:27:46   Log-Likelihood:                         -70.169\n",
      "No. Observations:                  50   AIC:                                      142.3\n",
      "Df Residuals:                      49   BIC:                                      144.3\n",
      "Df Model:                           1                                                  \n",
      "Covariance Type:                  HAC                                                  \n",
      "==============================================================================\n",
      "                 coef    std err          z      P>|z|      [0.025      0.975]\n",
      "------------------------------------------------------------------------------\n",
      "Level.L1       1.0049      0.008    120.968      0.000       0.989       1.021\n",
      "==============================================================================\n",
      "Omnibus:                        2.670   Durbin-Watson:                   2.003\n",
      "Prob(Omnibus):                  0.263   Jarque-Bera (JB):                1.827\n",
      "Skew:                           0.207   Prob(JB):                        0.401\n",
      "Kurtosis:                       3.840   Cond. No.                         1.00\n",
      "==============================================================================\n",
      "\n",
      "Notes:\n",
      "[1] R² is computed without centering (uncentered) since the model does not contain a constant.\n",
      "[2] Standard Errors are heteroscedasticity and autocorrelation robust (HAC) using 11 lags and without small sample correction\n",
      "                            OLS Regression Results                            \n",
      "==============================================================================\n",
      "Dep. Variable:                      y   R-squared:                       0.889\n",
      "Model:                            OLS   Adj. R-squared:                  0.887\n",
      "Method:                 Least Squares   F-statistic:                     416.7\n",
      "Date:                Thu, 14 Oct 2021   Prob (F-statistic):           2.63e-25\n",
      "Time:                        11:27:46   Log-Likelihood:                -69.741\n",
      "No. Observations:                  50   AIC:                             143.5\n",
      "Df Residuals:                      48   BIC:                             147.3\n",
      "Df Model:                           1                                         \n",
      "Covariance Type:                  HAC                                         \n",
      "==============================================================================\n",
      "                 coef    std err          z      P>|z|      [0.025      0.975]\n",
      "------------------------------------------------------------------------------\n",
      "Level.L1       0.9608      0.047     20.412      0.000       0.869       1.053\n",
      "const          0.7986      0.872      0.916      0.360      -0.911       2.508\n",
      "==============================================================================\n",
      "Omnibus:                        3.107   Durbin-Watson:                   1.951\n",
      "Prob(Omnibus):                  0.211   Jarque-Bera (JB):                2.127\n",
      "Skew:                           0.336   Prob(JB):                        0.345\n",
      "Kurtosis:                       3.755   Cond. No.                         112.\n",
      "==============================================================================\n",
      "\n",
      "Notes:\n",
      "[1] Standard Errors are heteroscedasticity and autocorrelation robust (HAC) using 11 lags and without small sample correction\n",
      "                            OLS Regression Results                            \n",
      "==============================================================================\n",
      "Dep. Variable:                      y   R-squared:                       0.897\n",
      "Model:                            OLS   Adj. R-squared:                  0.893\n",
      "Method:                 Least Squares   F-statistic:                     313.2\n",
      "Date:                Thu, 14 Oct 2021   Prob (F-statistic):           6.76e-28\n",
      "Time:                        11:27:46   Log-Likelihood:                -67.822\n",
      "No. Observations:                  50   AIC:                             141.6\n",
      "Df Residuals:                      47   BIC:                             147.4\n",
      "Df Model:                           2                                         \n",
      "Covariance Type:                  HAC                                         \n",
      "==============================================================================\n",
      "                 coef    std err          z      P>|z|      [0.025      0.975]\n",
      "------------------------------------------------------------------------------\n",
      "Level.L1       0.8650      0.036     24.306      0.000       0.795       0.935\n",
      "const          1.8160      0.599      3.030      0.002       0.641       2.991\n",
      "trend          0.0265      0.007      3.646      0.000       0.012       0.041\n",
      "==============================================================================\n",
      "Omnibus:                        3.579   Durbin-Watson:                   1.916\n",
      "Prob(Omnibus):                  0.167   Jarque-Bera (JB):                2.906\n",
      "Skew:                           0.257   Prob(JB):                        0.234\n",
      "Kurtosis:                       4.063   Cond. No.                         248.\n",
      "==============================================================================\n",
      "\n",
      "Notes:\n",
      "[1] Standard Errors are heteroscedasticity and autocorrelation robust (HAC) using 11 lags and without small sample correction\n"
     ]
    }
   ],
   "source": [
    "PhillipsPerron1 = PhillipsPerron(post_crisis,trend='n')\n",
    "PhillipsPerron2 = PhillipsPerron(post_crisis,trend='c')\n",
    "PhillipsPerron3 = PhillipsPerron(post_crisis,trend='ct')\n",
    "print(PhillipsPerron1.summary().as_text())\n",
    "print(PhillipsPerron2.summary().as_text())\n",
    "print(PhillipsPerron3.summary().as_text())\n",
    "print(PhillipsPerron1.regression.summary())\n",
    "print(PhillipsPerron2.regression.summary())\n",
    "print(PhillipsPerron3.regression.summary())"
   ]
  },
  {
   "cell_type": "code",
   "execution_count": 53,
   "metadata": {},
   "outputs": [
    {
     "name": "stdout",
     "output_type": "stream",
     "text": [
      "    KPSS Stationarity Test Results   \n",
      "=====================================\n",
      "Test Statistic                  0.754\n",
      "P-value                         0.009\n",
      "Lags                                4\n",
      "-------------------------------------\n",
      "\n",
      "Trend: Constant\n",
      "Critical Values: 0.74 (1%), 0.46 (5%), 0.35 (10%)\n",
      "Null Hypothesis: The process is weakly stationary.\n",
      "Alternative Hypothesis: The process contains a unit root.\n",
      "    KPSS Stationarity Test Results   \n",
      "=====================================\n",
      "Test Statistic                  0.133\n",
      "P-value                         0.071\n",
      "Lags                                4\n",
      "-------------------------------------\n",
      "\n",
      "Trend: Constant and Linear Time Trend\n",
      "Critical Values: 0.22 (1%), 0.15 (5%), 0.12 (10%)\n",
      "Null Hypothesis: The process is weakly stationary.\n",
      "Alternative Hypothesis: The process contains a unit root.\n"
     ]
    }
   ],
   "source": [
    "KPSS2 = KPSS(post_crisis,trend='c')\n",
    "KPSS3 = KPSS(post_crisis,trend='ct')\n",
    "# print(KPSS1.summary().as_text())\n",
    "print(KPSS2.summary().as_text())\n",
    "print(KPSS3.summary().as_text())"
   ]
  },
  {
   "cell_type": "markdown",
   "metadata": {},
   "source": [
    "#### Question 3.54\n",
    "\n",
    "Clear **Intercept and Trend**"
   ]
  },
  {
   "cell_type": "markdown",
   "metadata": {},
   "source": [
    "#### Question 3.55\n",
    "## To DO\n",
    "Again the test seems to be very different from eviews. Need to check"
   ]
  }
 ],
 "metadata": {
  "interpreter": {
   "hash": "0245625c5e7ed62b3060bc358d543e549967049667c34df825c837136884fd16"
  },
  "kernelspec": {
   "display_name": "Python 3.8.8 64-bit ('base': conda)",
   "name": "python3"
  },
  "language_info": {
   "codemirror_mode": {
    "name": "ipython",
    "version": 3
   },
   "file_extension": ".py",
   "mimetype": "text/x-python",
   "name": "python",
   "nbconvert_exporter": "python",
   "pygments_lexer": "ipython3",
   "version": "3.8.8"
  },
  "orig_nbformat": 4
 },
 "nbformat": 4,
 "nbformat_minor": 2
}
