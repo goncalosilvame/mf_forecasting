{
 "cells": [
  {
   "cell_type": "markdown",
   "source": [
    "# Module 3B - Working with Non_Sationary m_t.\r\n",
    "\r\n",
    "## Session 8 Questions"
   ],
   "metadata": {}
  },
  {
   "cell_type": "code",
   "execution_count": 1,
   "source": [
    "import pandas as pd \r\n",
    "import numpy as np"
   ],
   "outputs": [],
   "metadata": {}
  },
  {
   "cell_type": "code",
   "execution_count": 2,
   "source": [
    "b3_data = pd.read_csv(\"Module3_data\\module3b_data_Simulated_Nonstationary.CSV\")\r\n",
    "b3_data.head()"
   ],
   "outputs": [
    {
     "output_type": "execute_result",
     "data": {
      "text/html": [
       "<div>\n",
       "<style scoped>\n",
       "    .dataframe tbody tr th:only-of-type {\n",
       "        vertical-align: middle;\n",
       "    }\n",
       "\n",
       "    .dataframe tbody tr th {\n",
       "        vertical-align: top;\n",
       "    }\n",
       "\n",
       "    .dataframe thead th {\n",
       "        text-align: right;\n",
       "    }\n",
       "</style>\n",
       "<table border=\"1\" class=\"dataframe\">\n",
       "  <thead>\n",
       "    <tr style=\"text-align: right;\">\n",
       "      <th></th>\n",
       "      <th>dateid01</th>\n",
       "      <th>dateid</th>\n",
       "      <th>em</th>\n",
       "      <th>en</th>\n",
       "      <th>m</th>\n",
       "      <th>n</th>\n",
       "      <th>x</th>\n",
       "      <th>y</th>\n",
       "      <th>z</th>\n",
       "    </tr>\n",
       "  </thead>\n",
       "  <tbody>\n",
       "    <tr>\n",
       "      <th>0</th>\n",
       "      <td>1973-07-01</td>\n",
       "      <td>1973-07-31 23:59:59.999</td>\n",
       "      <td>0.000000</td>\n",
       "      <td>0.000000</td>\n",
       "      <td>0.0</td>\n",
       "      <td>0</td>\n",
       "      <td>39.575176</td>\n",
       "      <td>15.113905</td>\n",
       "      <td>727.921639</td>\n",
       "    </tr>\n",
       "    <tr>\n",
       "      <th>1</th>\n",
       "      <td>1973-08-01</td>\n",
       "      <td>1973-08-31 23:59:59.999</td>\n",
       "      <td>0.211908</td>\n",
       "      <td>-1.455569</td>\n",
       "      <td>1.5</td>\n",
       "      <td>-2</td>\n",
       "      <td>38.962416</td>\n",
       "      <td>16.584622</td>\n",
       "      <td>729.480429</td>\n",
       "    </tr>\n",
       "    <tr>\n",
       "      <th>2</th>\n",
       "      <td>1973-09-01</td>\n",
       "      <td>1973-09-30 23:59:59.999</td>\n",
       "      <td>1.633812</td>\n",
       "      <td>0.379432</td>\n",
       "      <td>3.0</td>\n",
       "      <td>-4</td>\n",
       "      <td>37.219141</td>\n",
       "      <td>17.310910</td>\n",
       "      <td>727.280262</td>\n",
       "    </tr>\n",
       "    <tr>\n",
       "      <th>3</th>\n",
       "      <td>1973-10-01</td>\n",
       "      <td>1973-10-31 23:59:59.999</td>\n",
       "      <td>2.398119</td>\n",
       "      <td>0.342120</td>\n",
       "      <td>4.5</td>\n",
       "      <td>-6</td>\n",
       "      <td>35.104100</td>\n",
       "      <td>17.691245</td>\n",
       "      <td>729.819402</td>\n",
       "    </tr>\n",
       "    <tr>\n",
       "      <th>4</th>\n",
       "      <td>1973-11-01</td>\n",
       "      <td>1973-11-30 23:59:59.999</td>\n",
       "      <td>-0.023755</td>\n",
       "      <td>-1.083531</td>\n",
       "      <td>6.0</td>\n",
       "      <td>-8</td>\n",
       "      <td>33.766806</td>\n",
       "      <td>16.803657</td>\n",
       "      <td>727.948215</td>\n",
       "    </tr>\n",
       "  </tbody>\n",
       "</table>\n",
       "</div>"
      ],
      "text/plain": [
       "     dateid01                   dateid        em        en    m  n          x  \\\n",
       "0  1973-07-01  1973-07-31 23:59:59.999  0.000000  0.000000  0.0  0  39.575176   \n",
       "1  1973-08-01  1973-08-31 23:59:59.999  0.211908 -1.455569  1.5 -2  38.962416   \n",
       "2  1973-09-01  1973-09-30 23:59:59.999  1.633812  0.379432  3.0 -4  37.219141   \n",
       "3  1973-10-01  1973-10-31 23:59:59.999  2.398119  0.342120  4.5 -6  35.104100   \n",
       "4  1973-11-01  1973-11-30 23:59:59.999 -0.023755 -1.083531  6.0 -8  33.766806   \n",
       "\n",
       "           y           z  \n",
       "0  15.113905  727.921639  \n",
       "1  16.584622  729.480429  \n",
       "2  17.310910  727.280262  \n",
       "3  17.691245  729.819402  \n",
       "4  16.803657  727.948215  "
      ]
     },
     "metadata": {},
     "execution_count": 2
    }
   ],
   "metadata": {}
  },
  {
   "cell_type": "markdown",
   "source": [
    "### Identifying Non-Stationarity"
   ],
   "metadata": {}
  },
  {
   "cell_type": "code",
   "execution_count": 3,
   "source": [
    "# generate mt\r\n",
    "mt = []\r\n",
    "emt = np.array(b3_data['em'])\r\n",
    "mt.append(0) #append the first observation\r\n",
    "for i in range(1,len(emt)):\r\n",
    "    mt.append(1.5 + mt[i-1] + emt[i])"
   ],
   "outputs": [],
   "metadata": {}
  },
  {
   "cell_type": "code",
   "execution_count": 4,
   "source": [
    "#generate nt\r\n",
    "# generate mt\r\n",
    "nt = []\r\n",
    "ent = np.array(b3_data['en'])\r\n",
    "nt.append(0) #append the first observation\r\n",
    "for i in range(1,len(ent)):\r\n",
    "    nt.append(-2 + nt[i-1] + ent[i])"
   ],
   "outputs": [],
   "metadata": {}
  },
  {
   "cell_type": "code",
   "execution_count": 5,
   "source": [
    "import matplotlib.pyplot as plt\r\n",
    "plt.figure(figsize=(13,10))\r\n",
    "plt.title( \"EMT TIME SERIES\")\r\n",
    "plt.plot(mt)"
   ],
   "outputs": [
    {
     "output_type": "execute_result",
     "data": {
      "text/plain": [
       "[<matplotlib.lines.Line2D at 0x2807fb73a90>]"
      ]
     },
     "metadata": {},
     "execution_count": 5
    },
    {
     "output_type": "display_data",
     "data": {
      "image/png": "[encoded data removed]",
      "text/plain": [
       "<Figure size 936x720 with 1 Axes>"
      ]
     },
     "metadata": {
      "needs_background": "light"
     }
    }
   ],
   "metadata": {}
  },
  {
   "cell_type": "code",
   "execution_count": 6,
   "source": [
    "plt.figure(figsize=(13,10))\r\n",
    "plt.title( \"ENT TIME SERIES\")\r\n",
    "plt.plot(nt)"
   ],
   "outputs": [
    {
     "output_type": "execute_result",
     "data": {
      "text/plain": [
       "[<matplotlib.lines.Line2D at 0x2807fbc11f0>]"
      ]
     },
     "metadata": {},
     "execution_count": 6
    },
    {
     "output_type": "display_data",
     "data": {
      "image/png": "[encoded data removed]",
      "text/plain": [
       "<Figure size 936x720 with 1 Axes>"
      ]
     },
     "metadata": {
      "needs_background": "light"
     }
    }
   ],
   "metadata": {}
  },
  {
   "cell_type": "markdown",
   "source": [
    "#### Question 3.36\r\n",
    "\r\n",
    "These two series, m and n, are stationary:\r\n",
    "**False**"
   ],
   "metadata": {}
  },
  {
   "cell_type": "markdown",
   "source": [
    "### Non_Stationary Data"
   ],
   "metadata": {}
  },
  {
   "cell_type": "markdown",
   "source": [
    "#### Question 3.37 \r\n",
    "\r\n",
    "Observing the correlogram for each series, at which lag does the ACF become statistically insignificant? Use a 5 percent level of significance to decide.\r\n",
    "\r\n",
    "**Answer:** They do not die out\r\n",
    "We can in the LJunbox that the pvalue is always under 0.001, the impact of 20th lag is still relevant.Same goes for the 100 lag."
   ],
   "metadata": {}
  },
  {
   "cell_type": "code",
   "execution_count": 11,
   "source": [
    "import statsmodels as sm\r\n",
    "sm.stats..diagnostic.acorr_ljungbox(mt, lags=100, return_df=True)"
   ],
   "outputs": [
    {
     "output_type": "error",
     "ename": "SyntaxError",
     "evalue": "invalid syntax (Temp/ipykernel_23016/4254272967.py, line 2)",
     "traceback": [
      "\u001b[1;36m  File \u001b[1;32m\"C:\\Users\\JGSILVA\\AppData\\Local\\Temp/ipykernel_23016/4254272967.py\"\u001b[1;36m, line \u001b[1;32m2\u001b[0m\n\u001b[1;33m    sm.stats..diagnostic.acorr_ljungbox(mt, lags=100, return_df=True)\u001b[0m\n\u001b[1;37m             ^\u001b[0m\n\u001b[1;31mSyntaxError\u001b[0m\u001b[1;31m:\u001b[0m invalid syntax\n"
     ]
    }
   ],
   "metadata": {}
  },
  {
   "cell_type": "code",
   "execution_count": null,
   "source": [
    "sm.stats.acorr_ljungbox(nt, lags=20, return_df=True)"
   ],
   "outputs": [
    {
     "output_type": "execute_result",
     "data": {
      "text/html": [
       "<div>\n",
       "<style scoped>\n",
       "    .dataframe tbody tr th:only-of-type {\n",
       "        vertical-align: middle;\n",
       "    }\n",
       "\n",
       "    .dataframe tbody tr th {\n",
       "        vertical-align: top;\n",
       "    }\n",
       "\n",
       "    .dataframe thead th {\n",
       "        text-align: right;\n",
       "    }\n",
       "</style>\n",
       "<table border=\"1\" class=\"dataframe\">\n",
       "  <thead>\n",
       "    <tr style=\"text-align: right;\">\n",
       "      <th></th>\n",
       "      <th>lb_stat</th>\n",
       "      <th>lb_pvalue</th>\n",
       "    </tr>\n",
       "  </thead>\n",
       "  <tbody>\n",
       "    <tr>\n",
       "      <th>1</th>\n",
       "      <td>496.921362</td>\n",
       "      <td>4.444510e-110</td>\n",
       "    </tr>\n",
       "    <tr>\n",
       "      <th>2</th>\n",
       "      <td>988.779931</td>\n",
       "      <td>1.946104e-215</td>\n",
       "    </tr>\n",
       "    <tr>\n",
       "      <th>3</th>\n",
       "      <td>1475.574752</td>\n",
       "      <td>0.000000e+00</td>\n",
       "    </tr>\n",
       "    <tr>\n",
       "      <th>4</th>\n",
       "      <td>1957.332475</td>\n",
       "      <td>0.000000e+00</td>\n",
       "    </tr>\n",
       "    <tr>\n",
       "      <th>5</th>\n",
       "      <td>2434.091858</td>\n",
       "      <td>0.000000e+00</td>\n",
       "    </tr>\n",
       "    <tr>\n",
       "      <th>6</th>\n",
       "      <td>2905.840194</td>\n",
       "      <td>0.000000e+00</td>\n",
       "    </tr>\n",
       "    <tr>\n",
       "      <th>7</th>\n",
       "      <td>3372.560162</td>\n",
       "      <td>0.000000e+00</td>\n",
       "    </tr>\n",
       "    <tr>\n",
       "      <th>8</th>\n",
       "      <td>3834.303527</td>\n",
       "      <td>0.000000e+00</td>\n",
       "    </tr>\n",
       "    <tr>\n",
       "      <th>9</th>\n",
       "      <td>4291.094751</td>\n",
       "      <td>0.000000e+00</td>\n",
       "    </tr>\n",
       "    <tr>\n",
       "      <th>10</th>\n",
       "      <td>4742.937724</td>\n",
       "      <td>0.000000e+00</td>\n",
       "    </tr>\n",
       "    <tr>\n",
       "      <th>11</th>\n",
       "      <td>5189.842980</td>\n",
       "      <td>0.000000e+00</td>\n",
       "    </tr>\n",
       "    <tr>\n",
       "      <th>12</th>\n",
       "      <td>5631.833655</td>\n",
       "      <td>0.000000e+00</td>\n",
       "    </tr>\n",
       "    <tr>\n",
       "      <th>13</th>\n",
       "      <td>6068.909152</td>\n",
       "      <td>0.000000e+00</td>\n",
       "    </tr>\n",
       "    <tr>\n",
       "      <th>14</th>\n",
       "      <td>6501.097350</td>\n",
       "      <td>0.000000e+00</td>\n",
       "    </tr>\n",
       "    <tr>\n",
       "      <th>15</th>\n",
       "      <td>6928.453106</td>\n",
       "      <td>0.000000e+00</td>\n",
       "    </tr>\n",
       "    <tr>\n",
       "      <th>16</th>\n",
       "      <td>7350.996203</td>\n",
       "      <td>0.000000e+00</td>\n",
       "    </tr>\n",
       "    <tr>\n",
       "      <th>17</th>\n",
       "      <td>7768.767140</td>\n",
       "      <td>0.000000e+00</td>\n",
       "    </tr>\n",
       "    <tr>\n",
       "      <th>18</th>\n",
       "      <td>8181.778003</td>\n",
       "      <td>0.000000e+00</td>\n",
       "    </tr>\n",
       "    <tr>\n",
       "      <th>19</th>\n",
       "      <td>8590.051794</td>\n",
       "      <td>0.000000e+00</td>\n",
       "    </tr>\n",
       "    <tr>\n",
       "      <th>20</th>\n",
       "      <td>8993.625528</td>\n",
       "      <td>0.000000e+00</td>\n",
       "    </tr>\n",
       "  </tbody>\n",
       "</table>\n",
       "</div>"
      ],
      "text/plain": [
       "        lb_stat      lb_pvalue\n",
       "1    496.921362  4.444510e-110\n",
       "2    988.779931  1.946104e-215\n",
       "3   1475.574752   0.000000e+00\n",
       "4   1957.332475   0.000000e+00\n",
       "5   2434.091858   0.000000e+00\n",
       "6   2905.840194   0.000000e+00\n",
       "7   3372.560162   0.000000e+00\n",
       "8   3834.303527   0.000000e+00\n",
       "9   4291.094751   0.000000e+00\n",
       "10  4742.937724   0.000000e+00\n",
       "11  5189.842980   0.000000e+00\n",
       "12  5631.833655   0.000000e+00\n",
       "13  6068.909152   0.000000e+00\n",
       "14  6501.097350   0.000000e+00\n",
       "15  6928.453106   0.000000e+00\n",
       "16  7350.996203   0.000000e+00\n",
       "17  7768.767140   0.000000e+00\n",
       "18  8181.778003   0.000000e+00\n",
       "19  8590.051794   0.000000e+00\n",
       "20  8993.625528   0.000000e+00"
      ]
     },
     "metadata": {},
     "execution_count": 13
    }
   ],
   "metadata": {}
  },
  {
   "cell_type": "markdown",
   "source": [
    "#### Question 3.38\r\n",
    "\r\n",
    "Estimate an AR(1) model for m and then for n \r\n",
    "\r\n",
    "**Answer:** The coeficent for both M and N is ***1.000***"
   ],
   "metadata": {}
  },
  {
   "cell_type": "code",
   "execution_count": null,
   "source": [
    "from datetime import datetime\r\n",
    "import dateutil.parser\r\n",
    "# make mt a time series\r\n",
    "m_t = pd.DataFrame(np.array(mt), columns={'mt'})\r\n",
    "m_t.index = pd.date_range(\"1973-08-01\", periods = len(mt), freq = \"M\")\r\n",
    "#m_t = m_t[m_t.index > dateutil.parser.parse(\"2000-01-01\")]\r\n",
    "print(m_t.tail())\r\n",
    "\r\n",
    "#make nt a time series\r\n",
    "n_t = pd.DataFrame(np.array(nt),columns={'nt'})\r\n",
    "n_t.index = pd.date_range(\"1973-08-01\", periods = len(nt), freq = \"M\")\r\n",
    "#m_t = m_t[m_t.index > dateutil.parser.parse(\"2000-01-01\")]\r\n",
    "print(n_t.tail())"
   ],
   "outputs": [
    {
     "output_type": "stream",
     "name": "stdout",
     "text": [
      "                    mt\n",
      "2014-11-30  694.001964\n",
      "2014-12-31  695.207328\n",
      "2015-01-31  695.575044\n",
      "2015-02-28  697.171773\n",
      "2015-03-31  698.936654\n",
      "                    nt\n",
      "2014-11-30 -975.860695\n",
      "2014-12-31 -978.481381\n",
      "2015-01-31 -981.596692\n",
      "2015-02-28 -982.341694\n",
      "2015-03-31 -982.708460\n"
     ]
    }
   ],
   "metadata": {}
  },
  {
   "cell_type": "code",
   "execution_count": null,
   "source": [
    "#MT AR(1)\r\n",
    "ar1_mt = sm.tsa.arima.ARIMA(m_t,trend='c', order = (1,0,0))\r\n",
    "ar1_mt_fit = ar1_mt.fit()\r\n",
    "print(ar1_mt_fit.summary())"
   ],
   "outputs": [
    {
     "output_type": "stream",
     "name": "stdout",
     "text": [
      "                               SARIMAX Results                                \n",
      "==============================================================================\n",
      "Dep. Variable:                      0   No. Observations:                  500\n",
      "Model:                 ARIMA(1, 0, 0)   Log Likelihood                -984.516\n",
      "Date:                Wed, 06 Oct 2021   AIC                           1975.032\n",
      "Time:                        10:43:49   BIC                           1987.675\n",
      "Sample:                    08-31-1973   HQIC                          1979.993\n",
      "                         - 03-31-2015                                         \n",
      "Covariance Type:                  opg                                         \n",
      "==============================================================================\n",
      "                 coef    std err          z      P>|z|      [0.025      0.975]\n",
      "------------------------------------------------------------------------------\n",
      "const        359.6775    476.665      0.755      0.451    -574.569    1293.924\n",
      "ar.L1          1.0000      0.000   2609.629      0.000       0.999       1.001\n",
      "sigma2         2.9415      0.262     11.239      0.000       2.429       3.454\n",
      "===================================================================================\n",
      "Ljung-Box (L1) (Q):                   0.34   Jarque-Bera (JB):                 3.47\n",
      "Prob(Q):                              0.56   Prob(JB):                         0.18\n",
      "Heteroskedasticity (H):               0.88   Skew:                            -0.20\n",
      "Prob(H) (two-sided):                  0.42   Kurtosis:                         3.10\n",
      "===================================================================================\n",
      "\n",
      "Warnings:\n",
      "[1] Covariance matrix calculated using the outer product of gradients (complex-step).\n"
     ]
    }
   ],
   "metadata": {}
  },
  {
   "cell_type": "code",
   "execution_count": null,
   "source": [
    "# NT AR(1)\r\n",
    "ar1_nt = sm.tsa.arima.ARIMA(n_t,trend='c', order = (1,0,0))\r\n",
    "ar1_nt_fit = ar1_nt.fit()\r\n",
    "print(ar1_nt_fit.summary())"
   ],
   "outputs": [
    {
     "output_type": "stream",
     "name": "stdout",
     "text": [
      "                               SARIMAX Results                                \n",
      "==============================================================================\n",
      "Dep. Variable:                      0   No. Observations:                  500\n",
      "Model:                 ARIMA(1, 0, 0)   Log Likelihood               -1112.850\n",
      "Date:                Wed, 06 Oct 2021   AIC                           2231.699\n",
      "Time:                        10:44:23   BIC                           2244.343\n",
      "Sample:                    08-31-1973   HQIC                          2236.661\n",
      "                         - 03-31-2015                                         \n",
      "Covariance Type:                  opg                                         \n",
      "==============================================================================\n",
      "                 coef    std err          z      P>|z|      [0.025      0.975]\n",
      "------------------------------------------------------------------------------\n",
      "const       -494.8114    507.390     -0.975      0.329   -1489.278     499.655\n",
      "ar.L1          1.0000      0.000   2863.723      0.000       0.999       1.001\n",
      "sigma2         4.9132      0.519      9.471      0.000       3.896       5.930\n",
      "===================================================================================\n",
      "Ljung-Box (L1) (Q):                   0.35   Jarque-Bera (JB):                 3.98\n",
      "Prob(Q):                              0.55   Prob(JB):                         0.14\n",
      "Heteroskedasticity (H):               0.91   Skew:                             0.15\n",
      "Prob(H) (two-sided):                  0.52   Kurtosis:                         3.31\n",
      "===================================================================================\n",
      "\n",
      "Warnings:\n",
      "[1] Covariance matrix calculated using the outer product of gradients (complex-step).\n"
     ]
    }
   ],
   "metadata": {}
  },
  {
   "cell_type": "markdown",
   "source": [
    "#### Question 3.39\r\n",
    "\r\n",
    "Run a regression of M on N\r\n",
    "\r\n",
    "**Answer**: \r\n",
    "Looking below we have a great R^2 **Good Fit**\r\n",
    "\r\n",
    "Also the **coeffient for n is significant**\r\n",
    "\r\n",
    "there is **slow decay in the residuals** -  __non stationary__\r\n",
    "\r\n",
    "From the course:\r\n",
    "However, note that the regression residuals appear to be nonstationary, with an ACF that decays very slowly. The Q-test of zero autocorrelation is overwhelmingly rejected at all lags up to 36. The strong association should therefore be described as spurious, since these two series by construction are actually unrelated (i.e., there is no relationship between them). "
   ],
   "metadata": {}
  },
  {
   "cell_type": "code",
   "execution_count": null,
   "source": [
    "X = n_t\r\n",
    "X = sm.add_constant(X)\r\n",
    "model = sm.OLS(m_t,X)\r\n",
    "print(model.fit().summary())"
   ],
   "outputs": [
    {
     "output_type": "stream",
     "name": "stdout",
     "text": [
      "                            OLS Regression Results                            \n",
      "==============================================================================\n",
      "Dep. Variable:                     mt   R-squared:                       0.999\n",
      "Model:                            OLS   Adj. R-squared:                  0.999\n",
      "Method:                 Least Squares   F-statistic:                 5.330e+05\n",
      "Date:                Wed, 06 Oct 2021   Prob (F-statistic):               0.00\n",
      "Time:                        10:56:13   Log-Likelihood:                -1623.9\n",
      "No. Observations:                 500   AIC:                             3252.\n",
      "Df Residuals:                     498   BIC:                             3260.\n",
      "Df Model:                           1                                         \n",
      "Covariance Type:            nonrobust                                         \n",
      "==============================================================================\n",
      "                 coef    std err          t      P>|t|      [0.025      0.975]\n",
      "------------------------------------------------------------------------------\n",
      "const          3.6886      0.562      6.559      0.000       2.584       4.794\n",
      "nt            -0.7202      0.001   -730.065      0.000      -0.722      -0.718\n",
      "==============================================================================\n",
      "Omnibus:                       30.518   Durbin-Watson:                   0.040\n",
      "Prob(Omnibus):                  0.000   Jarque-Bera (JB):               34.977\n",
      "Skew:                           0.648   Prob(JB):                     2.54e-08\n",
      "Kurtosis:                       3.022   Cond. No.                     1.15e+03\n",
      "==============================================================================\n",
      "\n",
      "Notes:\n",
      "[1] Standard Errors assume that the covariance matrix of the errors is correctly specified.\n",
      "[2] The condition number is large, 1.15e+03. This might indicate that there are\n",
      "strong multicollinearity or other numerical problems.\n"
     ]
    }
   ],
   "metadata": {}
  },
  {
   "cell_type": "code",
   "execution_count": null,
   "source": [
    "sm.stats.acorr_ljungbox(model.fit().resid, lags=20, return_df=True)\r\n"
   ],
   "outputs": [
    {
     "output_type": "execute_result",
     "data": {
      "text/html": [
       "<div>\n",
       "<style scoped>\n",
       "    .dataframe tbody tr th:only-of-type {\n",
       "        vertical-align: middle;\n",
       "    }\n",
       "\n",
       "    .dataframe tbody tr th {\n",
       "        vertical-align: top;\n",
       "    }\n",
       "\n",
       "    .dataframe thead th {\n",
       "        text-align: right;\n",
       "    }\n",
       "</style>\n",
       "<table border=\"1\" class=\"dataframe\">\n",
       "  <thead>\n",
       "    <tr style=\"text-align: right;\">\n",
       "      <th></th>\n",
       "      <th>lb_stat</th>\n",
       "      <th>lb_pvalue</th>\n",
       "    </tr>\n",
       "  </thead>\n",
       "  <tbody>\n",
       "    <tr>\n",
       "      <th>1</th>\n",
       "      <td>478.840500</td>\n",
       "      <td>3.819873e-106</td>\n",
       "    </tr>\n",
       "    <tr>\n",
       "      <th>2</th>\n",
       "      <td>934.602193</td>\n",
       "      <td>1.131651e-203</td>\n",
       "    </tr>\n",
       "    <tr>\n",
       "      <th>3</th>\n",
       "      <td>1367.010969</td>\n",
       "      <td>4.241145e-296</td>\n",
       "    </tr>\n",
       "    <tr>\n",
       "      <th>4</th>\n",
       "      <td>1775.087430</td>\n",
       "      <td>0.000000e+00</td>\n",
       "    </tr>\n",
       "    <tr>\n",
       "      <th>5</th>\n",
       "      <td>2159.956483</td>\n",
       "      <td>0.000000e+00</td>\n",
       "    </tr>\n",
       "    <tr>\n",
       "      <th>6</th>\n",
       "      <td>2522.883375</td>\n",
       "      <td>0.000000e+00</td>\n",
       "    </tr>\n",
       "    <tr>\n",
       "      <th>7</th>\n",
       "      <td>2864.782334</td>\n",
       "      <td>0.000000e+00</td>\n",
       "    </tr>\n",
       "    <tr>\n",
       "      <th>8</th>\n",
       "      <td>3188.365299</td>\n",
       "      <td>0.000000e+00</td>\n",
       "    </tr>\n",
       "    <tr>\n",
       "      <th>9</th>\n",
       "      <td>3495.414167</td>\n",
       "      <td>0.000000e+00</td>\n",
       "    </tr>\n",
       "    <tr>\n",
       "      <th>10</th>\n",
       "      <td>3783.324046</td>\n",
       "      <td>0.000000e+00</td>\n",
       "    </tr>\n",
       "    <tr>\n",
       "      <th>11</th>\n",
       "      <td>4052.861899</td>\n",
       "      <td>0.000000e+00</td>\n",
       "    </tr>\n",
       "    <tr>\n",
       "      <th>12</th>\n",
       "      <td>4303.736069</td>\n",
       "      <td>0.000000e+00</td>\n",
       "    </tr>\n",
       "    <tr>\n",
       "      <th>13</th>\n",
       "      <td>4535.525553</td>\n",
       "      <td>0.000000e+00</td>\n",
       "    </tr>\n",
       "    <tr>\n",
       "      <th>14</th>\n",
       "      <td>4749.591299</td>\n",
       "      <td>0.000000e+00</td>\n",
       "    </tr>\n",
       "    <tr>\n",
       "      <th>15</th>\n",
       "      <td>4947.567006</td>\n",
       "      <td>0.000000e+00</td>\n",
       "    </tr>\n",
       "    <tr>\n",
       "      <th>16</th>\n",
       "      <td>5128.942016</td>\n",
       "      <td>0.000000e+00</td>\n",
       "    </tr>\n",
       "    <tr>\n",
       "      <th>17</th>\n",
       "      <td>5295.237713</td>\n",
       "      <td>0.000000e+00</td>\n",
       "    </tr>\n",
       "    <tr>\n",
       "      <th>18</th>\n",
       "      <td>5447.726231</td>\n",
       "      <td>0.000000e+00</td>\n",
       "    </tr>\n",
       "    <tr>\n",
       "      <th>19</th>\n",
       "      <td>5586.490795</td>\n",
       "      <td>0.000000e+00</td>\n",
       "    </tr>\n",
       "    <tr>\n",
       "      <th>20</th>\n",
       "      <td>5713.073686</td>\n",
       "      <td>0.000000e+00</td>\n",
       "    </tr>\n",
       "  </tbody>\n",
       "</table>\n",
       "</div>"
      ],
      "text/plain": [
       "        lb_stat      lb_pvalue\n",
       "1    478.840500  3.819873e-106\n",
       "2    934.602193  1.131651e-203\n",
       "3   1367.010969  4.241145e-296\n",
       "4   1775.087430   0.000000e+00\n",
       "5   2159.956483   0.000000e+00\n",
       "6   2522.883375   0.000000e+00\n",
       "7   2864.782334   0.000000e+00\n",
       "8   3188.365299   0.000000e+00\n",
       "9   3495.414167   0.000000e+00\n",
       "10  3783.324046   0.000000e+00\n",
       "11  4052.861899   0.000000e+00\n",
       "12  4303.736069   0.000000e+00\n",
       "13  4535.525553   0.000000e+00\n",
       "14  4749.591299   0.000000e+00\n",
       "15  4947.567006   0.000000e+00\n",
       "16  5128.942016   0.000000e+00\n",
       "17  5295.237713   0.000000e+00\n",
       "18  5447.726231   0.000000e+00\n",
       "19  5586.490795   0.000000e+00\n",
       "20  5713.073686   0.000000e+00"
      ]
     },
     "metadata": {},
     "execution_count": 56
    }
   ],
   "metadata": {}
  },
  {
   "cell_type": "code",
   "execution_count": null,
   "source": [
    "sm.graphics.tsa.plot_acf(model.fit().resid, lags=20)\r\n",
    "plt.show()"
   ],
   "outputs": [
    {
     "output_type": "display_data",
     "data": {
      "image/png": "[encoded data removed]",
      "text/plain": [
       "<Figure size 432x288 with 1 Axes>"
      ]
     },
     "metadata": {
      "needs_background": "light"
     }
    }
   ],
   "metadata": {}
  },
  {
   "cell_type": "markdown",
   "source": [
    "## Session 10 Questions\r\n",
    "\r\n",
    "Stationary or Nonstationary?"
   ],
   "metadata": {}
  },
  {
   "cell_type": "code",
   "execution_count": 12,
   "source": [
    "#import data\r\n",
    "df = pd.read_csv(\"Module3_data/module3_data_PE_Ratios.csv\")\r\n",
    "df.head()\r\n",
    "\r\n",
    "# set time series for pe_ind\r\n",
    "from datetime import datetime\r\n",
    "import dateutil.parser\r\n",
    "data = df.pe_ind\r\n",
    "data.index = pd.date_range(\"1954-02-01\", periods = len(df['pe_ind']), freq = \"M\")\r\n",
    "data = data[data.index > dateutil.parser.parse(\"2000-01-01\")]\r\n",
    "data.head()"
   ],
   "outputs": [
    {
     "output_type": "execute_result",
     "data": {
      "text/plain": [
       "2000-01-31    16.4949\n",
       "2000-02-29    17.2608\n",
       "2000-03-31    14.4154\n",
       "2000-04-30    13.4247\n",
       "2000-05-31    12.7792\n",
       "Freq: M, Name: pe_ind, dtype: float64"
      ]
     },
     "metadata": {},
     "execution_count": 12
    }
   ],
   "metadata": {}
  },
  {
   "cell_type": "code",
   "execution_count": 19,
   "source": [
    "# ADF test\r\n",
    "import statsmodels.api as sm\r\n",
    "#with contants\r\n",
    "test_1 = sm.tsa.stattools.adfuller(data,regression='c')\r\n",
    "#with time trend and constant\r\n",
    "test_2 = sm.tsa.stattools.adfuller(data,regression='ct')"
   ],
   "outputs": [],
   "metadata": {}
  },
  {
   "cell_type": "code",
   "execution_count": 21,
   "source": [
    "print('ADF test')\r\n",
    "print('-------')\r\n",
    "print('With constant: %f ' % test_1[1] )\r\n",
    "print('With constant and time trend: %f ' % test_2[1] )"
   ],
   "outputs": [
    {
     "output_type": "stream",
     "name": "stdout",
     "text": [
      "ADF test\n",
      "-------\n",
      "With constant: 0.057448 \n",
      "With constant and time trend: 0.144580 \n"
     ]
    }
   ],
   "metadata": {}
  },
  {
   "cell_type": "markdown",
   "source": [
    "##### Alternative with another package!"
   ],
   "metadata": {}
  },
  {
   "cell_type": "code",
   "execution_count": 25,
   "source": [
    "import arch.data.default\r\n",
    "from arch.unitroot import ADF\r\n",
    "\r\n",
    "adf_c = ADF(data)\r\n",
    "adf_ct = ADF(data,trend = 'ct')\r\n",
    "print(adf_c.summary().as_text())\r\n",
    "print(adf_ct.summary().as_text())"
   ],
   "outputs": [
    {
     "output_type": "stream",
     "name": "stdout",
     "text": [
      "   Augmented Dickey-Fuller Results   \n",
      "=====================================\n",
      "Test Statistic                 -2.806\n",
      "P-value                         0.057\n",
      "Lags                                0\n",
      "-------------------------------------\n",
      "\n",
      "Trend: Constant\n",
      "Critical Values: -3.47 (1%), -2.88 (5%), -2.58 (10%)\n",
      "Null Hypothesis: The process contains a unit root.\n",
      "Alternative Hypothesis: The process is weakly stationary.\n",
      "   Augmented Dickey-Fuller Results   \n",
      "=====================================\n",
      "Test Statistic                 -2.957\n",
      "P-value                         0.145\n",
      "Lags                                0\n",
      "-------------------------------------\n",
      "\n",
      "Trend: Constant and Linear Time Trend\n",
      "Critical Values: -4.01 (1%), -3.44 (5%), -3.14 (10%)\n",
      "Null Hypothesis: The process contains a unit root.\n",
      "Alternative Hypothesis: The process is weakly stationary.\n"
     ]
    }
   ],
   "metadata": {}
  },
  {
   "cell_type": "code",
   "execution_count": 27,
   "source": [
    "from arch.unitroot import PhillipsPerron\r\n",
    "pp_c = PhillipsPerron(data)\r\n",
    "pp_ct = PhillipsPerron(data,trend='ct')\r\n",
    "print(pp_c.summary().as_text())\r\n",
    "print(pp_ct.summary().as_text())"
   ],
   "outputs": [
    {
     "output_type": "stream",
     "name": "stdout",
     "text": [
      "     Phillips-Perron Test (Z-tau)    \n",
      "=====================================\n",
      "Test Statistic                 -2.956\n",
      "P-value                         0.039\n",
      "Lags                               14\n",
      "-------------------------------------\n",
      "\n",
      "Trend: Constant\n",
      "Critical Values: -3.47 (1%), -2.88 (5%), -2.58 (10%)\n",
      "Null Hypothesis: The process contains a unit root.\n",
      "Alternative Hypothesis: The process is weakly stationary.\n",
      "     Phillips-Perron Test (Z-tau)    \n",
      "=====================================\n",
      "Test Statistic                 -3.107\n",
      "P-value                         0.104\n",
      "Lags                               14\n",
      "-------------------------------------\n",
      "\n",
      "Trend: Constant and Linear Time Trend\n",
      "Critical Values: -4.01 (1%), -3.44 (5%), -3.14 (10%)\n",
      "Null Hypothesis: The process contains a unit root.\n",
      "Alternative Hypothesis: The process is weakly stationary.\n"
     ]
    }
   ],
   "metadata": {}
  },
  {
   "cell_type": "markdown",
   "source": [
    "#### Question 3.40`\r\n",
    "\r\n",
    "Since the time trend is not significant (information given in the question), we look at only the test withou time trend, and both have p-values lower than 0.10, therefore we will fail to reject the unit root hypothesesm, meaning that the series are **stationary**.\r\n",
    "\r\n",
    "\r\n",
    "\r\n"
   ],
   "metadata": {}
  },
  {
   "cell_type": "markdown",
   "source": [
    "#### Question 3.41\r\n",
    "\r\n",
    "Using the KPSS test , we are testing for stationarity, since from the values below we fail to reject the null hypothesis the series is **stationary.** "
   ],
   "metadata": {}
  },
  {
   "cell_type": "code",
   "execution_count": 28,
   "source": [
    "from arch.unitroot import KPSS\r\n",
    "kpss = KPSS(data)\r\n",
    "print(kpss.summary().as_text())\r\n"
   ],
   "outputs": [
    {
     "output_type": "stream",
     "name": "stdout",
     "text": [
      "    KPSS Stationarity Test Results   \n",
      "=====================================\n",
      "Test Statistic                  0.296\n",
      "P-value                         0.139\n",
      "Lags                                8\n",
      "-------------------------------------\n",
      "\n",
      "Trend: Constant\n",
      "Critical Values: 0.74 (1%), 0.46 (5%), 0.35 (10%)\n",
      "Null Hypothesis: The process is weakly stationary.\n",
      "Alternative Hypothesis: The process contains a unit root.\n"
     ]
    }
   ],
   "metadata": {}
  }
 ],
 "metadata": {
  "orig_nbformat": 4,
  "language_info": {
   "name": "python",
   "version": "3.8.8",
   "mimetype": "text/x-python",
   "codemirror_mode": {
    "name": "ipython",
    "version": 3
   },
   "pygments_lexer": "ipython3",
   "nbconvert_exporter": "python",
   "file_extension": ".py"
  },
  "kernelspec": {
   "name": "python3",
   "display_name": "Python 3.8.8 64-bit ('base': conda)"
  },
  "interpreter": {
   "hash": "0245625c5e7ed62b3060bc358d543e549967049667c34df825c837136884fd16"
  }
 },
 "nbformat": 4,
 "nbformat_minor": 2
}