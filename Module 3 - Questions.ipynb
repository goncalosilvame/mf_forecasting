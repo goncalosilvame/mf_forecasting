{
 "cells": [
  {
   "cell_type": "markdown",
   "source": [
    "# Module 3 \n",
    "Replication of the eviews code for python"
   ],
   "metadata": {}
  },
  {
   "cell_type": "markdown",
   "source": [
    "### Seassion 3 Questions"
   ],
   "metadata": {}
  },
  {
   "cell_type": "code",
   "execution_count": 3,
   "source": [
    "import pandas as pd\r\n",
    "import numpy as np\r\n",
    "#import data\r\n",
    "df = pd.read_csv(\"Module3_data/module3_data_Identifying_ARMA.csv\")\r\n",
    "df.head()"
   ],
   "outputs": [
    {
     "output_type": "execute_result",
     "data": {
      "text/html": [
       "<div>\n",
       "<style scoped>\n",
       "    .dataframe tbody tr th:only-of-type {\n",
       "        vertical-align: middle;\n",
       "    }\n",
       "\n",
       "    .dataframe tbody tr th {\n",
       "        vertical-align: top;\n",
       "    }\n",
       "\n",
       "    .dataframe thead th {\n",
       "        text-align: right;\n",
       "    }\n",
       "</style>\n",
       "<table border=\"1\" class=\"dataframe\">\n",
       "  <thead>\n",
       "    <tr style=\"text-align: right;\">\n",
       "      <th></th>\n",
       "      <th>et</th>\n",
       "    </tr>\n",
       "  </thead>\n",
       "  <tbody>\n",
       "    <tr>\n",
       "      <th>0</th>\n",
       "      <td>-1.213866</td>\n",
       "    </tr>\n",
       "    <tr>\n",
       "      <th>1</th>\n",
       "      <td>-0.285460</td>\n",
       "    </tr>\n",
       "    <tr>\n",
       "      <th>2</th>\n",
       "      <td>0.590270</td>\n",
       "    </tr>\n",
       "    <tr>\n",
       "      <th>3</th>\n",
       "      <td>0.828546</td>\n",
       "    </tr>\n",
       "    <tr>\n",
       "      <th>4</th>\n",
       "      <td>-0.995426</td>\n",
       "    </tr>\n",
       "  </tbody>\n",
       "</table>\n",
       "</div>"
      ],
      "text/plain": [
       "         et\n",
       "0 -1.213866\n",
       "1 -0.285460\n",
       "2  0.590270\n",
       "3  0.828546\n",
       "4 -0.995426"
      ]
     },
     "metadata": {},
     "execution_count": 3
    }
   ],
   "metadata": {
    "scrolled": true
   }
  },
  {
   "cell_type": "markdown",
   "source": [
    "#### Question 3.8\n",
    "\n",
    "The variable et represents a random shock variable. Provide the average and standard-deviation of et below ?"
   ],
   "metadata": {}
  },
  {
   "cell_type": "code",
   "execution_count": 4,
   "source": [
    "# Descriptive statistics\r\n",
    "df.describe()"
   ],
   "outputs": [
    {
     "output_type": "execute_result",
     "data": {
      "text/html": [
       "<div>\n",
       "<style scoped>\n",
       "    .dataframe tbody tr th:only-of-type {\n",
       "        vertical-align: middle;\n",
       "    }\n",
       "\n",
       "    .dataframe tbody tr th {\n",
       "        vertical-align: top;\n",
       "    }\n",
       "\n",
       "    .dataframe thead th {\n",
       "        text-align: right;\n",
       "    }\n",
       "</style>\n",
       "<table border=\"1\" class=\"dataframe\">\n",
       "  <thead>\n",
       "    <tr style=\"text-align: right;\">\n",
       "      <th></th>\n",
       "      <th>et</th>\n",
       "    </tr>\n",
       "  </thead>\n",
       "  <tbody>\n",
       "    <tr>\n",
       "      <th>count</th>\n",
       "      <td>500.000000</td>\n",
       "    </tr>\n",
       "    <tr>\n",
       "      <th>mean</th>\n",
       "      <td>-0.028460</td>\n",
       "    </tr>\n",
       "    <tr>\n",
       "      <th>std</th>\n",
       "      <td>0.982000</td>\n",
       "    </tr>\n",
       "    <tr>\n",
       "      <th>min</th>\n",
       "      <td>-3.106688</td>\n",
       "    </tr>\n",
       "    <tr>\n",
       "      <th>25%</th>\n",
       "      <td>-0.722506</td>\n",
       "    </tr>\n",
       "    <tr>\n",
       "      <th>50%</th>\n",
       "      <td>-0.025935</td>\n",
       "    </tr>\n",
       "    <tr>\n",
       "      <th>75%</th>\n",
       "      <td>0.620061</td>\n",
       "    </tr>\n",
       "    <tr>\n",
       "      <th>max</th>\n",
       "      <td>2.988090</td>\n",
       "    </tr>\n",
       "  </tbody>\n",
       "</table>\n",
       "</div>"
      ],
      "text/plain": [
       "               et\n",
       "count  500.000000\n",
       "mean    -0.028460\n",
       "std      0.982000\n",
       "min     -3.106688\n",
       "25%     -0.722506\n",
       "50%     -0.025935\n",
       "75%      0.620061\n",
       "max      2.988090"
      ]
     },
     "metadata": {},
     "execution_count": 4
    }
   ],
   "metadata": {
    "scrolled": true
   }
  },
  {
   "cell_type": "markdown",
   "source": [
    "**MEAN** -0.028\n",
    "**Standard deviation**  0.982"
   ],
   "metadata": {}
  },
  {
   "cell_type": "markdown",
   "source": [
    "**Question 3.9**\n",
    "\n",
    "yt = 3.0 + 0.55yt-1 + et\n",
    "\n",
    "Enter the value of the 5th observation of variable yar"
   ],
   "metadata": {}
  },
  {
   "cell_type": "code",
   "execution_count": 5,
   "source": [
    "yar = []\r\n",
    "et = np.array(df['et'])\r\n",
    "yar.append(0) #append the first observation"
   ],
   "outputs": [],
   "metadata": {}
  },
  {
   "cell_type": "code",
   "execution_count": 6,
   "source": [
    "for i in range(1,len(et)):\r\n",
    "    yar.append(3 + 0.55*yar[i-1] + et[i])\r\n",
    "#print the 5th observation\r\n",
    "print(\"Answer\",round(yar[4],3))"
   ],
   "outputs": [
    {
     "output_type": "stream",
     "name": "stdout",
     "text": [
      "Answer 5.648\n"
     ]
    }
   ],
   "metadata": {}
  },
  {
   "cell_type": "code",
   "execution_count": 7,
   "source": [
    "len(yar)"
   ],
   "outputs": [
    {
     "output_type": "execute_result",
     "data": {
      "text/plain": [
       "500"
      ]
     },
     "metadata": {},
     "execution_count": 7
    }
   ],
   "metadata": {}
  },
  {
   "cell_type": "markdown",
   "source": [
    "**Question 3.10**\n",
    "\n",
    "Enter the value of the 5th observation of variable yma"
   ],
   "metadata": {}
  },
  {
   "cell_type": "code",
   "execution_count": 8,
   "source": [
    "yma = []\r\n",
    "yma.append(0)\r\n",
    "\r\n",
    "for i in range(1,len(et)):\r\n",
    "    yma.append(-2.5 + et[i] + 0.7 * et[i-1])\r\n",
    "    \r\n",
    "print(\"Answer\",round(yma[4],3))"
   ],
   "outputs": [
    {
     "output_type": "stream",
     "name": "stdout",
     "text": [
      "Answer -2.915\n"
     ]
    }
   ],
   "metadata": {}
  },
  {
   "cell_type": "markdown",
   "source": [
    "**Question 3.12**\r\n",
    "\r\n",
    "Enter the value of the 5th observation of yarma"
   ],
   "metadata": {},
   "attachments": {
    "image-2.png": {
     "image/png": "[encoded data removed]"
    }
   }
  },
  {
   "cell_type": "code",
   "execution_count": 9,
   "source": [
    "yarma = []\r\n",
    "yarma.append(0)\r\n",
    "\r\n",
    "for t in range(1,len(et)):\r\n",
    "    yarma.append(0.5 + 0.55 * yarma[t-1] + et[t] + 0.7 * et[t-1])\r\n",
    "\r\n",
    "print(\"Answer\",round(yarma[4],3))"
   ],
   "outputs": [
    {
     "output_type": "stream",
     "name": "stdout",
     "text": [
      "Answer 1.206\n"
     ]
    }
   ],
   "metadata": {
    "scrolled": true
   }
  },
  {
   "cell_type": "markdown",
   "source": [
    "**Question 3.13**\n",
    "\n",
    "compute the ACF at lags 1-20 for the four series: et and Variables yar,yma and yarma.\n",
    "Enter the values (using 3 decimal places, without rounding) of the ACF at one lag for each series below"
   ],
   "metadata": {}
  },
  {
   "cell_type": "code",
   "execution_count": 10,
   "source": [
    "import statsmodels.api as sm\r\n",
    "acf_et = sm.tsa.stattools.acf(et, nlags = 20, adjusted = True)\r\n",
    "acf_yar = sm.tsa.stattools.acf(yar, nlags = 20, adjusted = True)\r\n",
    "acf_yma = sm.tsa.stattools.acf(yma, nlags = 20, adjusted = True)\r\n",
    "acf_yarma = sm.tsa.stattools.acf(yarma, nlags = 20, adjusted = True)"
   ],
   "outputs": [
    {
     "output_type": "stream",
     "name": "stderr",
     "text": [
      "C:\\Users\\JGSILVA\\anaconda3\\lib\\site-packages\\statsmodels\\tsa\\stattools.py:667: FutureWarning: fft=True will become the default after the release of the 0.12 release of statsmodels. To suppress this warning, explicitly set fft=False.\n",
      "  warnings.warn(\n"
     ]
    }
   ],
   "metadata": {}
  },
  {
   "cell_type": "code",
   "execution_count": 11,
   "source": [
    "# values at one lag\r\n",
    "print(\"et\", round(acf_et[1],3))\r\n",
    "print(\"ar\", round(acf_yar[1],3))\r\n",
    "print(\"ma\", round(acf_yma[1],3))      \r\n",
    "print(\"arma\", round(acf_yarma[1],3))"
   ],
   "outputs": [
    {
     "output_type": "stream",
     "name": "stdout",
     "text": [
      "et 0.024\n",
      "ar 0.522\n",
      "ma 0.427\n",
      "arma 0.728\n"
     ]
    }
   ],
   "metadata": {}
  },
  {
   "cell_type": "markdown",
   "source": [
    "**Question 3.14**"
   ],
   "metadata": {}
  },
  {
   "cell_type": "code",
   "execution_count": 12,
   "source": [
    "0.55**2"
   ],
   "outputs": [
    {
     "output_type": "execute_result",
     "data": {
      "text/plain": [
       "0.30250000000000005"
      ]
     },
     "metadata": {},
     "execution_count": 12
    }
   ],
   "metadata": {}
  },
  {
   "cell_type": "markdown",
   "source": [
    "**Question 3.15**"
   ],
   "metadata": {}
  },
  {
   "cell_type": "code",
   "execution_count": 13,
   "source": [
    "# values at one lag\r\n",
    "print(\"et\", round(acf_et[2],3))\r\n",
    "print(\"ar\", round(acf_yar[2],3))\r\n",
    "print(\"ma\", round(acf_yma[2],3))      \r\n",
    "print(\"arma\", round(acf_yarma[2],3))"
   ],
   "outputs": [
    {
     "output_type": "stream",
     "name": "stdout",
     "text": [
      "et -0.099\n",
      "ar 0.207\n",
      "ma -0.102\n",
      "arma 0.332\n"
     ]
    }
   ],
   "metadata": {}
  },
  {
   "cell_type": "markdown",
   "source": [
    "**Question 3.17**\n",
    "\n",
    " estimate the PAC for variable yar for lag 1, then for lag 2"
   ],
   "metadata": {}
  },
  {
   "cell_type": "code",
   "execution_count": 14,
   "source": [
    "# from sklearn.linear_model import LinearRegression\r\n",
    "# ols =  LinearRegression()\r\n",
    "y_ar_lag = [np.nan]\r\n",
    "for t in range(1, len(yar)):\r\n",
    "    y_ar_lag.append(yar[t-1])"
   ],
   "outputs": [],
   "metadata": {}
  },
  {
   "cell_type": "code",
   "execution_count": 15,
   "source": [
    "df['yar_lag'] = np.array(y_ar_lag)\r\n",
    "df['yar'] = np.array(yar)"
   ],
   "outputs": [],
   "metadata": {}
  },
  {
   "cell_type": "code",
   "execution_count": 16,
   "source": [
    "df = sm.tools.add_constant(df)\r\n",
    "df.head()"
   ],
   "outputs": [
    {
     "output_type": "stream",
     "name": "stderr",
     "text": [
      "C:\\Users\\JGSILVA\\anaconda3\\lib\\site-packages\\statsmodels\\tsa\\tsatools.py:142: FutureWarning: In a future version of pandas all arguments of concat except for the argument 'objs' will be keyword-only\n",
      "  x = pd.concat(x[::order], 1)\n"
     ]
    },
    {
     "output_type": "execute_result",
     "data": {
      "text/html": [
       "<div>\n",
       "<style scoped>\n",
       "    .dataframe tbody tr th:only-of-type {\n",
       "        vertical-align: middle;\n",
       "    }\n",
       "\n",
       "    .dataframe tbody tr th {\n",
       "        vertical-align: top;\n",
       "    }\n",
       "\n",
       "    .dataframe thead th {\n",
       "        text-align: right;\n",
       "    }\n",
       "</style>\n",
       "<table border=\"1\" class=\"dataframe\">\n",
       "  <thead>\n",
       "    <tr style=\"text-align: right;\">\n",
       "      <th></th>\n",
       "      <th>const</th>\n",
       "      <th>et</th>\n",
       "      <th>yar_lag</th>\n",
       "      <th>yar</th>\n",
       "    </tr>\n",
       "  </thead>\n",
       "  <tbody>\n",
       "    <tr>\n",
       "      <th>0</th>\n",
       "      <td>1.0</td>\n",
       "      <td>-1.213866</td>\n",
       "      <td>NaN</td>\n",
       "      <td>0.000000</td>\n",
       "    </tr>\n",
       "    <tr>\n",
       "      <th>1</th>\n",
       "      <td>1.0</td>\n",
       "      <td>-0.285460</td>\n",
       "      <td>0.000000</td>\n",
       "      <td>2.714540</td>\n",
       "    </tr>\n",
       "    <tr>\n",
       "      <th>2</th>\n",
       "      <td>1.0</td>\n",
       "      <td>0.590270</td>\n",
       "      <td>2.714540</td>\n",
       "      <td>5.083267</td>\n",
       "    </tr>\n",
       "    <tr>\n",
       "      <th>3</th>\n",
       "      <td>1.0</td>\n",
       "      <td>0.828546</td>\n",
       "      <td>5.083267</td>\n",
       "      <td>6.624343</td>\n",
       "    </tr>\n",
       "    <tr>\n",
       "      <th>4</th>\n",
       "      <td>1.0</td>\n",
       "      <td>-0.995426</td>\n",
       "      <td>6.624343</td>\n",
       "      <td>5.647963</td>\n",
       "    </tr>\n",
       "  </tbody>\n",
       "</table>\n",
       "</div>"
      ],
      "text/plain": [
       "   const        et   yar_lag       yar\n",
       "0    1.0 -1.213866       NaN  0.000000\n",
       "1    1.0 -0.285460  0.000000  2.714540\n",
       "2    1.0  0.590270  2.714540  5.083267\n",
       "3    1.0  0.828546  5.083267  6.624343\n",
       "4    1.0 -0.995426  6.624343  5.647963"
      ]
     },
     "metadata": {},
     "execution_count": 16
    }
   ],
   "metadata": {}
  },
  {
   "cell_type": "code",
   "execution_count": 17,
   "source": [
    "X = df[['yar_lag', 'const']]\r\n",
    "model = sm.OLS(df['yar'], X , missing='drop')\r\n",
    "results = model.fit()\r\n",
    "print(results.summary())"
   ],
   "outputs": [
    {
     "output_type": "stream",
     "name": "stdout",
     "text": [
      "                            OLS Regression Results                            \n",
      "==============================================================================\n",
      "Dep. Variable:                    yar   R-squared:                       0.291\n",
      "Model:                            OLS   Adj. R-squared:                  0.290\n",
      "Method:                 Least Squares   F-statistic:                     204.3\n",
      "Date:                Wed, 29 Sep 2021   Prob (F-statistic):           4.62e-39\n",
      "Time:                        15:54:10   Log-Likelihood:                -698.03\n",
      "No. Observations:                 499   AIC:                             1400.\n",
      "Df Residuals:                     497   BIC:                             1408.\n",
      "Df Model:                           1                                         \n",
      "Covariance Type:            nonrobust                                         \n",
      "==============================================================================\n",
      "                 coef    std err          t      P>|t|      [0.025      0.975]\n",
      "------------------------------------------------------------------------------\n",
      "yar_lag        0.5252      0.037     14.292      0.000       0.453       0.597\n",
      "const          3.1371      0.245     12.786      0.000       2.655       3.619\n",
      "==============================================================================\n",
      "Omnibus:                        0.415   Durbin-Watson:                   1.906\n",
      "Prob(Omnibus):                  0.812   Jarque-Bera (JB):                0.252\n",
      "Skew:                           0.011   Prob(JB):                        0.881\n",
      "Kurtosis:                       3.108   Cond. No.                         38.1\n",
      "==============================================================================\n",
      "\n",
      "Notes:\n",
      "[1] Standard Errors assume that the covariance matrix of the errors is correctly specified.\n"
     ]
    }
   ],
   "metadata": {}
  },
  {
   "cell_type": "code",
   "execution_count": 18,
   "source": [
    "# create two lags y\r\n",
    "y_ar_lag2 = [np.nan]\r\n",
    "for t in range(1, len(y_ar_lag)):\r\n",
    "    y_ar_lag2.append(y_ar_lag[t-1])"
   ],
   "outputs": [],
   "metadata": {}
  },
  {
   "cell_type": "code",
   "execution_count": 19,
   "source": [
    "df['yar_lag2'] = np.array(y_ar_lag2)\r\n",
    "df.head()"
   ],
   "outputs": [
    {
     "output_type": "execute_result",
     "data": {
      "text/html": [
       "<div>\n",
       "<style scoped>\n",
       "    .dataframe tbody tr th:only-of-type {\n",
       "        vertical-align: middle;\n",
       "    }\n",
       "\n",
       "    .dataframe tbody tr th {\n",
       "        vertical-align: top;\n",
       "    }\n",
       "\n",
       "    .dataframe thead th {\n",
       "        text-align: right;\n",
       "    }\n",
       "</style>\n",
       "<table border=\"1\" class=\"dataframe\">\n",
       "  <thead>\n",
       "    <tr style=\"text-align: right;\">\n",
       "      <th></th>\n",
       "      <th>const</th>\n",
       "      <th>et</th>\n",
       "      <th>yar_lag</th>\n",
       "      <th>yar</th>\n",
       "      <th>yar_lag2</th>\n",
       "    </tr>\n",
       "  </thead>\n",
       "  <tbody>\n",
       "    <tr>\n",
       "      <th>0</th>\n",
       "      <td>1.0</td>\n",
       "      <td>-1.213866</td>\n",
       "      <td>NaN</td>\n",
       "      <td>0.000000</td>\n",
       "      <td>NaN</td>\n",
       "    </tr>\n",
       "    <tr>\n",
       "      <th>1</th>\n",
       "      <td>1.0</td>\n",
       "      <td>-0.285460</td>\n",
       "      <td>0.000000</td>\n",
       "      <td>2.714540</td>\n",
       "      <td>NaN</td>\n",
       "    </tr>\n",
       "    <tr>\n",
       "      <th>2</th>\n",
       "      <td>1.0</td>\n",
       "      <td>0.590270</td>\n",
       "      <td>2.714540</td>\n",
       "      <td>5.083267</td>\n",
       "      <td>0.000000</td>\n",
       "    </tr>\n",
       "    <tr>\n",
       "      <th>3</th>\n",
       "      <td>1.0</td>\n",
       "      <td>0.828546</td>\n",
       "      <td>5.083267</td>\n",
       "      <td>6.624343</td>\n",
       "      <td>2.714540</td>\n",
       "    </tr>\n",
       "    <tr>\n",
       "      <th>4</th>\n",
       "      <td>1.0</td>\n",
       "      <td>-0.995426</td>\n",
       "      <td>6.624343</td>\n",
       "      <td>5.647963</td>\n",
       "      <td>5.083267</td>\n",
       "    </tr>\n",
       "  </tbody>\n",
       "</table>\n",
       "</div>"
      ],
      "text/plain": [
       "   const        et   yar_lag       yar  yar_lag2\n",
       "0    1.0 -1.213866       NaN  0.000000       NaN\n",
       "1    1.0 -0.285460  0.000000  2.714540       NaN\n",
       "2    1.0  0.590270  2.714540  5.083267  0.000000\n",
       "3    1.0  0.828546  5.083267  6.624343  2.714540\n",
       "4    1.0 -0.995426  6.624343  5.647963  5.083267"
      ]
     },
     "metadata": {},
     "execution_count": 19
    }
   ],
   "metadata": {}
  },
  {
   "cell_type": "code",
   "execution_count": 20,
   "source": [
    "X = df[['yar_lag','yar_lag2','const']]\r\n",
    "model = sm.OLS(df['yar'], X , missing='drop')\r\n",
    "results = model.fit()\r\n",
    "print(results.summary())"
   ],
   "outputs": [
    {
     "output_type": "stream",
     "name": "stdout",
     "text": [
      "                            OLS Regression Results                            \n",
      "==============================================================================\n",
      "Dep. Variable:                    yar   R-squared:                       0.281\n",
      "Model:                            OLS   Adj. R-squared:                  0.279\n",
      "Method:                 Least Squares   F-statistic:                     96.93\n",
      "Date:                Wed, 29 Sep 2021   Prob (F-statistic):           3.00e-36\n",
      "Time:                        15:54:10   Log-Likelihood:                -694.97\n",
      "No. Observations:                 498   AIC:                             1396.\n",
      "Df Residuals:                     495   BIC:                             1409.\n",
      "Df Model:                           2                                         \n",
      "Covariance Type:            nonrobust                                         \n",
      "==============================================================================\n",
      "                 coef    std err          t      P>|t|      [0.025      0.975]\n",
      "------------------------------------------------------------------------------\n",
      "yar_lag        0.5699      0.045     12.709      0.000       0.482       0.658\n",
      "yar_lag2      -0.0883      0.044     -2.028      0.043      -0.174      -0.003\n",
      "const          3.4238      0.283     12.093      0.000       2.867       3.980\n",
      "==============================================================================\n",
      "Omnibus:                        0.891   Durbin-Watson:                   1.988\n",
      "Prob(Omnibus):                  0.641   Jarque-Bera (JB):                0.697\n",
      "Skew:                           0.025   Prob(JB):                        0.706\n",
      "Kurtosis:                       3.176   Cond. No.                         61.4\n",
      "==============================================================================\n",
      "\n",
      "Notes:\n",
      "[1] Standard Errors assume that the covariance matrix of the errors is correctly specified.\n"
     ]
    }
   ],
   "metadata": {
    "scrolled": true
   }
  },
  {
   "cell_type": "markdown",
   "source": [
    "# Estimation with stationary time series\n",
    "\n",
    "**Question 3.20**"
   ],
   "metadata": {}
  },
  {
   "cell_type": "code",
   "execution_count": 21,
   "source": [
    "#import data\r\n",
    "df = pd.read_csv(\"Module3_data/module3_data_PE_Ratios.csv\")\r\n",
    "df.head()"
   ],
   "outputs": [
    {
     "output_type": "execute_result",
     "data": {
      "text/html": [
       "<div>\n",
       "<style scoped>\n",
       "    .dataframe tbody tr th:only-of-type {\n",
       "        vertical-align: middle;\n",
       "    }\n",
       "\n",
       "    .dataframe tbody tr th {\n",
       "        vertical-align: top;\n",
       "    }\n",
       "\n",
       "    .dataframe thead th {\n",
       "        text-align: right;\n",
       "    }\n",
       "</style>\n",
       "<table border=\"1\" class=\"dataframe\">\n",
       "  <thead>\n",
       "    <tr style=\"text-align: right;\">\n",
       "      <th></th>\n",
       "      <th>dateid01</th>\n",
       "      <th>dateid</th>\n",
       "      <th>date</th>\n",
       "      <th>pe_aus</th>\n",
       "      <th>pe_ind</th>\n",
       "      <th>pe_ndo</th>\n",
       "      <th>pe_saf</th>\n",
       "      <th>pe_usa</th>\n",
       "    </tr>\n",
       "  </thead>\n",
       "  <tbody>\n",
       "    <tr>\n",
       "      <th>0</th>\n",
       "      <td>1954-02-01</td>\n",
       "      <td>1954-02-28 23:59:59.999</td>\n",
       "      <td>1954-02-26</td>\n",
       "      <td>NaN</td>\n",
       "      <td>NaN</td>\n",
       "      <td>NaN</td>\n",
       "      <td>NaN</td>\n",
       "      <td>9.92</td>\n",
       "    </tr>\n",
       "    <tr>\n",
       "      <th>1</th>\n",
       "      <td>1954-03-01</td>\n",
       "      <td>1954-03-31 23:59:59.999</td>\n",
       "      <td>1954-03-31</td>\n",
       "      <td>NaN</td>\n",
       "      <td>NaN</td>\n",
       "      <td>NaN</td>\n",
       "      <td>NaN</td>\n",
       "      <td>10.17</td>\n",
       "    </tr>\n",
       "    <tr>\n",
       "      <th>2</th>\n",
       "      <td>1954-04-01</td>\n",
       "      <td>1954-04-30 23:59:59.999</td>\n",
       "      <td>1954-04-30</td>\n",
       "      <td>NaN</td>\n",
       "      <td>NaN</td>\n",
       "      <td>NaN</td>\n",
       "      <td>NaN</td>\n",
       "      <td>10.57</td>\n",
       "    </tr>\n",
       "    <tr>\n",
       "      <th>3</th>\n",
       "      <td>1954-05-01</td>\n",
       "      <td>1954-05-31 23:59:59.999</td>\n",
       "      <td>1954-05-31</td>\n",
       "      <td>NaN</td>\n",
       "      <td>NaN</td>\n",
       "      <td>NaN</td>\n",
       "      <td>NaN</td>\n",
       "      <td>11.00</td>\n",
       "    </tr>\n",
       "    <tr>\n",
       "      <th>4</th>\n",
       "      <td>1954-06-01</td>\n",
       "      <td>1954-06-30 23:59:59.999</td>\n",
       "      <td>1954-06-30</td>\n",
       "      <td>NaN</td>\n",
       "      <td>NaN</td>\n",
       "      <td>NaN</td>\n",
       "      <td>NaN</td>\n",
       "      <td>11.08</td>\n",
       "    </tr>\n",
       "  </tbody>\n",
       "</table>\n",
       "</div>"
      ],
      "text/plain": [
       "     dateid01                   dateid        date  pe_aus  pe_ind  pe_ndo  \\\n",
       "0  1954-02-01  1954-02-28 23:59:59.999  1954-02-26     NaN     NaN     NaN   \n",
       "1  1954-03-01  1954-03-31 23:59:59.999  1954-03-31     NaN     NaN     NaN   \n",
       "2  1954-04-01  1954-04-30 23:59:59.999  1954-04-30     NaN     NaN     NaN   \n",
       "3  1954-05-01  1954-05-31 23:59:59.999  1954-05-31     NaN     NaN     NaN   \n",
       "4  1954-06-01  1954-06-30 23:59:59.999  1954-06-30     NaN     NaN     NaN   \n",
       "\n",
       "   pe_saf  pe_usa  \n",
       "0     NaN    9.92  \n",
       "1     NaN   10.17  \n",
       "2     NaN   10.57  \n",
       "3     NaN   11.00  \n",
       "4     NaN   11.08  "
      ]
     },
     "metadata": {},
     "execution_count": 21
    }
   ],
   "metadata": {}
  },
  {
   "cell_type": "code",
   "execution_count": 22,
   "source": [
    "# set time series for pe_ind\r\n",
    "from datetime import datetime\r\n",
    "import dateutil.parser\r\n",
    "data = df.pe_ind\r\n",
    "data.index = pd.date_range(\"1954-02-01\", periods = len(df['pe_ind']), freq = \"M\")\r\n",
    "data = data[data.index > dateutil.parser.parse(\"2000-01-01\")]\r\n",
    "data.head()"
   ],
   "outputs": [
    {
     "output_type": "execute_result",
     "data": {
      "text/plain": [
       "2000-01-31    16.4949\n",
       "2000-02-29    17.2608\n",
       "2000-03-31    14.4154\n",
       "2000-04-30    13.4247\n",
       "2000-05-31    12.7792\n",
       "Freq: M, Name: pe_ind, dtype: float64"
      ]
     },
     "metadata": {},
     "execution_count": 22
    }
   ],
   "metadata": {}
  },
  {
   "cell_type": "code",
   "execution_count": 23,
   "source": [
    "mod_1 = sm.tsa.arima.ARIMA(data,trend='c', order = (1,0,0))\r\n",
    "res_1 = mod_1.fit()\r\n",
    "print(res_1.summary())"
   ],
   "outputs": [
    {
     "output_type": "stream",
     "name": "stdout",
     "text": [
      "                               SARIMAX Results                                \n",
      "==============================================================================\n",
      "Dep. Variable:                 pe_ind   No. Observations:                  182\n",
      "Model:                 ARIMA(1, 0, 0)   Log Likelihood                -311.138\n",
      "Date:                Wed, 29 Sep 2021   AIC                            628.276\n",
      "Time:                        15:54:10   BIC                            637.888\n",
      "Sample:                    01-31-2000   HQIC                           632.173\n",
      "                         - 02-28-2015                                         \n",
      "Covariance Type:                  opg                                         \n",
      "==============================================================================\n",
      "                 coef    std err          z      P>|z|      [0.025      0.975]\n",
      "------------------------------------------------------------------------------\n",
      "const         17.3199      1.106     15.665      0.000      15.153      19.487\n",
      "ar.L1          0.9080      0.030     30.673      0.000       0.850       0.966\n",
      "sigma2         1.7712      0.129     13.749      0.000       1.519       2.024\n",
      "===================================================================================\n",
      "Ljung-Box (L1) (Q):                   2.03   Jarque-Bera (JB):                56.89\n",
      "Prob(Q):                              0.15   Prob(JB):                         0.00\n",
      "Heteroskedasticity (H):               0.29   Skew:                             0.50\n",
      "Prob(H) (two-sided):                  0.00   Kurtosis:                         5.55\n",
      "===================================================================================\n",
      "\n",
      "Warnings:\n",
      "[1] Covariance matrix calculated using the outer product of gradients (complex-step).\n"
     ]
    }
   ],
   "metadata": {}
  },
  {
   "cell_type": "code",
   "execution_count": 24,
   "source": [
    "# load arima from stastmodel api\r\n",
    "mod_2 = sm.tsa.arima.ARIMA(data,trend='c', order = ((1,0,0,0,0,0,0,1),0,0))\r\n",
    "res_2 = mod_2.fit()\r\n",
    "print(res_2.summary())"
   ],
   "outputs": [
    {
     "output_type": "stream",
     "name": "stdout",
     "text": [
      "                                SARIMAX Results                                \n",
      "===============================================================================\n",
      "Dep. Variable:                  pe_ind   No. Observations:                  182\n",
      "Model:             ARIMA([1, 8], 0, 0)   Log Likelihood                -308.571\n",
      "Date:                 Wed, 29 Sep 2021   AIC                            625.142\n",
      "Time:                         15:54:10   BIC                            637.958\n",
      "Sample:                     01-31-2000   HQIC                           630.337\n",
      "                          - 02-28-2015                                         \n",
      "Covariance Type:                   opg                                         \n",
      "==============================================================================\n",
      "                 coef    std err          z      P>|z|      [0.025      0.975]\n",
      "------------------------------------------------------------------------------\n",
      "const         17.2529      0.734     23.489      0.000      15.813      18.693\n",
      "ar.L1          0.9342      0.029     31.776      0.000       0.877       0.992\n",
      "ar.L8         -0.0743      0.032     -2.350      0.019      -0.136      -0.012\n",
      "sigma2         1.7204      0.134     12.810      0.000       1.457       1.984\n",
      "===================================================================================\n",
      "Ljung-Box (L1) (Q):                   0.85   Jarque-Bera (JB):                49.66\n",
      "Prob(Q):                              0.36   Prob(JB):                         0.00\n",
      "Heteroskedasticity (H):               0.31   Skew:                             0.50\n",
      "Prob(H) (two-sided):                  0.00   Kurtosis:                         5.35\n",
      "===================================================================================\n",
      "\n",
      "Warnings:\n",
      "[1] Covariance matrix calculated using the outer product of gradients (complex-step).\n"
     ]
    }
   ],
   "metadata": {}
  },
  {
   "cell_type": "code",
   "execution_count": 25,
   "source": [
    "# load arima from stastmodel api\r\n",
    "mod_3 = sm.tsa.arima.ARIMA(data,trend='c', order = ((1,0,0,0,0,0,0,1),0,(0,0,0,0,0,0,0,1)))\r\n",
    "res_3 = mod_3.fit()\r\n",
    "print(res_3.summary())"
   ],
   "outputs": [
    {
     "output_type": "stream",
     "name": "stdout",
     "text": [
      "                                 SARIMAX Results                                 \n",
      "=================================================================================\n",
      "Dep. Variable:                    pe_ind   No. Observations:                  182\n",
      "Model:             ARIMA([1, 8], 0, [8])   Log Likelihood                -304.248\n",
      "Date:                   Wed, 29 Sep 2021   AIC                            618.495\n",
      "Time:                           15:54:10   BIC                            634.515\n",
      "Sample:                       01-31-2000   HQIC                           624.990\n",
      "                            - 02-28-2015                                         \n",
      "Covariance Type:                     opg                                         \n",
      "==============================================================================\n",
      "                 coef    std err          z      P>|z|      [0.025      0.975]\n",
      "------------------------------------------------------------------------------\n",
      "const         17.2920      0.818     21.145      0.000      15.689      18.895\n",
      "ar.L1          0.9505      0.029     32.638      0.000       0.893       1.008\n",
      "ar.L8         -0.0426      0.032     -1.349      0.177      -0.104       0.019\n",
      "ma.L8         -0.2441      0.075     -3.235      0.001      -0.392      -0.096\n",
      "sigma2         1.6364      0.131     12.473      0.000       1.379       1.893\n",
      "===================================================================================\n",
      "Ljung-Box (L1) (Q):                   0.75   Jarque-Bera (JB):                45.23\n",
      "Prob(Q):                              0.39   Prob(JB):                         0.00\n",
      "Heteroskedasticity (H):               0.36   Skew:                             0.57\n",
      "Prob(H) (two-sided):                  0.00   Kurtosis:                         5.16\n",
      "===================================================================================\n",
      "\n",
      "Warnings:\n",
      "[1] Covariance matrix calculated using the outer product of gradients (complex-step).\n"
     ]
    }
   ],
   "metadata": {}
  },
  {
   "cell_type": "code",
   "execution_count": 26,
   "source": [
    "print(\"Model1 {:-2} \\nModel_2 {:-2} \\nModel_3 {:-2} \".format(res_1.sse, res_2.sse,res_3.sse)\r\n",
    "     )"
   ],
   "outputs": [
    {
     "output_type": "stream",
     "name": "stdout",
     "text": [
      "Model1 322.9221496616376 \n",
      "Model_2 314.26626002561534 \n",
      "Model_3 301.6426079129025 \n"
     ]
    }
   ],
   "metadata": {}
  },
  {
   "cell_type": "code",
   "execution_count": 27,
   "source": [
    "print(\"Model1 {:-2} \\nModel_2 {:-2} \\nModel_3 {:-2} \".format(res_1.aic, res_2.aic,res_3.aic))\r\n"
   ],
   "outputs": [
    {
     "output_type": "stream",
     "name": "stdout",
     "text": [
      "Model1 628.276150924617 \n",
      "Model_2 625.1420066708888 \n",
      "Model_3 618.4952579765882 \n"
     ]
    }
   ],
   "metadata": {}
  },
  {
   "cell_type": "code",
   "execution_count": 28,
   "source": [
    "print(\"Model1 {:-2} \\nModel_2 {:-2} \\nModel_3 {:-2} \".format(res_1.bic, res_2.bic,res_3.bic)\r\n",
    "     )"
   ],
   "outputs": [
    {
     "output_type": "stream",
     "name": "stdout",
     "text": [
      "Model1 637.8881709858474 \n",
      "Model_2 637.958033419196 \n",
      "Model_3 634.5152914119722 \n"
     ]
    }
   ],
   "metadata": {}
  },
  {
   "cell_type": "markdown",
   "source": [
    "**Question 3.23**\n",
    "\n",
    "Correlogram \n",
    "\n",
    "(will have to check this question f"
   ],
   "metadata": {}
  },
  {
   "cell_type": "code",
   "execution_count": 29,
   "source": [
    "import matplotlib.pyplot as plt\r\n",
    "from statsmodels.graphics.tsaplots import plot_acf, plot_pacf\r\n",
    "# Plot residual errors\r\n",
    "sm.stats.acorr_ljungbox(res_1.resid, lags=12, return_df=True)"
   ],
   "outputs": [
    {
     "output_type": "execute_result",
     "data": {
      "text/html": [
       "<div>\n",
       "<style scoped>\n",
       "    .dataframe tbody tr th:only-of-type {\n",
       "        vertical-align: middle;\n",
       "    }\n",
       "\n",
       "    .dataframe tbody tr th {\n",
       "        vertical-align: top;\n",
       "    }\n",
       "\n",
       "    .dataframe thead th {\n",
       "        text-align: right;\n",
       "    }\n",
       "</style>\n",
       "<table border=\"1\" class=\"dataframe\">\n",
       "  <thead>\n",
       "    <tr style=\"text-align: right;\">\n",
       "      <th></th>\n",
       "      <th>lb_stat</th>\n",
       "      <th>lb_pvalue</th>\n",
       "    </tr>\n",
       "  </thead>\n",
       "  <tbody>\n",
       "    <tr>\n",
       "      <th>1</th>\n",
       "      <td>1.979521</td>\n",
       "      <td>0.159441</td>\n",
       "    </tr>\n",
       "    <tr>\n",
       "      <th>2</th>\n",
       "      <td>1.996892</td>\n",
       "      <td>0.368452</td>\n",
       "    </tr>\n",
       "    <tr>\n",
       "      <th>3</th>\n",
       "      <td>2.005436</td>\n",
       "      <td>0.571279</td>\n",
       "    </tr>\n",
       "    <tr>\n",
       "      <th>4</th>\n",
       "      <td>2.026257</td>\n",
       "      <td>0.730929</td>\n",
       "    </tr>\n",
       "    <tr>\n",
       "      <th>5</th>\n",
       "      <td>2.462805</td>\n",
       "      <td>0.782086</td>\n",
       "    </tr>\n",
       "    <tr>\n",
       "      <th>6</th>\n",
       "      <td>4.831394</td>\n",
       "      <td>0.565613</td>\n",
       "    </tr>\n",
       "    <tr>\n",
       "      <th>7</th>\n",
       "      <td>5.174110</td>\n",
       "      <td>0.638725</td>\n",
       "    </tr>\n",
       "    <tr>\n",
       "      <th>8</th>\n",
       "      <td>14.344970</td>\n",
       "      <td>0.073205</td>\n",
       "    </tr>\n",
       "    <tr>\n",
       "      <th>9</th>\n",
       "      <td>14.808150</td>\n",
       "      <td>0.096342</td>\n",
       "    </tr>\n",
       "    <tr>\n",
       "      <th>10</th>\n",
       "      <td>15.132444</td>\n",
       "      <td>0.127307</td>\n",
       "    </tr>\n",
       "    <tr>\n",
       "      <th>11</th>\n",
       "      <td>15.957929</td>\n",
       "      <td>0.142700</td>\n",
       "    </tr>\n",
       "    <tr>\n",
       "      <th>12</th>\n",
       "      <td>15.965935</td>\n",
       "      <td>0.192801</td>\n",
       "    </tr>\n",
       "  </tbody>\n",
       "</table>\n",
       "</div>"
      ],
      "text/plain": [
       "      lb_stat  lb_pvalue\n",
       "1    1.979521   0.159441\n",
       "2    1.996892   0.368452\n",
       "3    2.005436   0.571279\n",
       "4    2.026257   0.730929\n",
       "5    2.462805   0.782086\n",
       "6    4.831394   0.565613\n",
       "7    5.174110   0.638725\n",
       "8   14.344970   0.073205\n",
       "9   14.808150   0.096342\n",
       "10  15.132444   0.127307\n",
       "11  15.957929   0.142700\n",
       "12  15.965935   0.192801"
      ]
     },
     "metadata": {},
     "execution_count": 29
    }
   ],
   "metadata": {}
  },
  {
   "cell_type": "markdown",
   "source": [
    "At lags 8 and 9 we reject the null hypothesis that the residual are not serial correlated."
   ],
   "metadata": {}
  },
  {
   "cell_type": "code",
   "execution_count": 30,
   "source": [
    "# residuals = pd.DataFrame(res_1.resid)\r\n",
    "sm.stats.acorr_ljungbox(res_2.resid, lags=12, return_df=True)"
   ],
   "outputs": [
    {
     "output_type": "execute_result",
     "data": {
      "text/html": [
       "<div>\n",
       "<style scoped>\n",
       "    .dataframe tbody tr th:only-of-type {\n",
       "        vertical-align: middle;\n",
       "    }\n",
       "\n",
       "    .dataframe tbody tr th {\n",
       "        vertical-align: top;\n",
       "    }\n",
       "\n",
       "    .dataframe thead th {\n",
       "        text-align: right;\n",
       "    }\n",
       "</style>\n",
       "<table border=\"1\" class=\"dataframe\">\n",
       "  <thead>\n",
       "    <tr style=\"text-align: right;\">\n",
       "      <th></th>\n",
       "      <th>lb_stat</th>\n",
       "      <th>lb_pvalue</th>\n",
       "    </tr>\n",
       "  </thead>\n",
       "  <tbody>\n",
       "    <tr>\n",
       "      <th>1</th>\n",
       "      <td>0.830551</td>\n",
       "      <td>0.362113</td>\n",
       "    </tr>\n",
       "    <tr>\n",
       "      <th>2</th>\n",
       "      <td>0.959170</td>\n",
       "      <td>0.619040</td>\n",
       "    </tr>\n",
       "    <tr>\n",
       "      <th>3</th>\n",
       "      <td>1.065219</td>\n",
       "      <td>0.785476</td>\n",
       "    </tr>\n",
       "    <tr>\n",
       "      <th>4</th>\n",
       "      <td>1.111753</td>\n",
       "      <td>0.892403</td>\n",
       "    </tr>\n",
       "    <tr>\n",
       "      <th>5</th>\n",
       "      <td>1.212279</td>\n",
       "      <td>0.943694</td>\n",
       "    </tr>\n",
       "    <tr>\n",
       "      <th>6</th>\n",
       "      <td>2.826436</td>\n",
       "      <td>0.830294</td>\n",
       "    </tr>\n",
       "    <tr>\n",
       "      <th>7</th>\n",
       "      <td>3.410117</td>\n",
       "      <td>0.844652</td>\n",
       "    </tr>\n",
       "    <tr>\n",
       "      <th>8</th>\n",
       "      <td>8.927259</td>\n",
       "      <td>0.348469</td>\n",
       "    </tr>\n",
       "    <tr>\n",
       "      <th>9</th>\n",
       "      <td>11.537535</td>\n",
       "      <td>0.240653</td>\n",
       "    </tr>\n",
       "    <tr>\n",
       "      <th>10</th>\n",
       "      <td>11.603349</td>\n",
       "      <td>0.312479</td>\n",
       "    </tr>\n",
       "    <tr>\n",
       "      <th>11</th>\n",
       "      <td>11.663217</td>\n",
       "      <td>0.389483</td>\n",
       "    </tr>\n",
       "    <tr>\n",
       "      <th>12</th>\n",
       "      <td>11.932654</td>\n",
       "      <td>0.451103</td>\n",
       "    </tr>\n",
       "  </tbody>\n",
       "</table>\n",
       "</div>"
      ],
      "text/plain": [
       "      lb_stat  lb_pvalue\n",
       "1    0.830551   0.362113\n",
       "2    0.959170   0.619040\n",
       "3    1.065219   0.785476\n",
       "4    1.111753   0.892403\n",
       "5    1.212279   0.943694\n",
       "6    2.826436   0.830294\n",
       "7    3.410117   0.844652\n",
       "8    8.927259   0.348469\n",
       "9   11.537535   0.240653\n",
       "10  11.603349   0.312479\n",
       "11  11.663217   0.389483\n",
       "12  11.932654   0.451103"
      ]
     },
     "metadata": {},
     "execution_count": 30
    }
   ],
   "metadata": {}
  },
  {
   "cell_type": "code",
   "execution_count": 31,
   "source": [
    "# residuals = pd.DataFrame(res_1.resid)\r\n",
    "sm.stats.acorr_ljungbox(res_3.resid, lags=12, return_df=True)"
   ],
   "outputs": [
    {
     "output_type": "execute_result",
     "data": {
      "text/html": [
       "<div>\n",
       "<style scoped>\n",
       "    .dataframe tbody tr th:only-of-type {\n",
       "        vertical-align: middle;\n",
       "    }\n",
       "\n",
       "    .dataframe tbody tr th {\n",
       "        vertical-align: top;\n",
       "    }\n",
       "\n",
       "    .dataframe thead th {\n",
       "        text-align: right;\n",
       "    }\n",
       "</style>\n",
       "<table border=\"1\" class=\"dataframe\">\n",
       "  <thead>\n",
       "    <tr style=\"text-align: right;\">\n",
       "      <th></th>\n",
       "      <th>lb_stat</th>\n",
       "      <th>lb_pvalue</th>\n",
       "    </tr>\n",
       "  </thead>\n",
       "  <tbody>\n",
       "    <tr>\n",
       "      <th>1</th>\n",
       "      <td>0.769153</td>\n",
       "      <td>0.380479</td>\n",
       "    </tr>\n",
       "    <tr>\n",
       "      <th>2</th>\n",
       "      <td>0.878360</td>\n",
       "      <td>0.644565</td>\n",
       "    </tr>\n",
       "    <tr>\n",
       "      <th>3</th>\n",
       "      <td>1.273323</td>\n",
       "      <td>0.735477</td>\n",
       "    </tr>\n",
       "    <tr>\n",
       "      <th>4</th>\n",
       "      <td>1.436934</td>\n",
       "      <td>0.837751</td>\n",
       "    </tr>\n",
       "    <tr>\n",
       "      <th>5</th>\n",
       "      <td>1.441140</td>\n",
       "      <td>0.919761</td>\n",
       "    </tr>\n",
       "    <tr>\n",
       "      <th>6</th>\n",
       "      <td>2.024216</td>\n",
       "      <td>0.917458</td>\n",
       "    </tr>\n",
       "    <tr>\n",
       "      <th>7</th>\n",
       "      <td>2.439458</td>\n",
       "      <td>0.931586</td>\n",
       "    </tr>\n",
       "    <tr>\n",
       "      <th>8</th>\n",
       "      <td>2.512651</td>\n",
       "      <td>0.961138</td>\n",
       "    </tr>\n",
       "    <tr>\n",
       "      <th>9</th>\n",
       "      <td>4.170671</td>\n",
       "      <td>0.899824</td>\n",
       "    </tr>\n",
       "    <tr>\n",
       "      <th>10</th>\n",
       "      <td>4.196138</td>\n",
       "      <td>0.938065</td>\n",
       "    </tr>\n",
       "    <tr>\n",
       "      <th>11</th>\n",
       "      <td>4.727596</td>\n",
       "      <td>0.943638</td>\n",
       "    </tr>\n",
       "    <tr>\n",
       "      <th>12</th>\n",
       "      <td>4.734160</td>\n",
       "      <td>0.966274</td>\n",
       "    </tr>\n",
       "  </tbody>\n",
       "</table>\n",
       "</div>"
      ],
      "text/plain": [
       "     lb_stat  lb_pvalue\n",
       "1   0.769153   0.380479\n",
       "2   0.878360   0.644565\n",
       "3   1.273323   0.735477\n",
       "4   1.436934   0.837751\n",
       "5   1.441140   0.919761\n",
       "6   2.024216   0.917458\n",
       "7   2.439458   0.931586\n",
       "8   2.512651   0.961138\n",
       "9   4.170671   0.899824\n",
       "10  4.196138   0.938065\n",
       "11  4.727596   0.943638\n",
       "12  4.734160   0.966274"
      ]
     },
     "metadata": {},
     "execution_count": 31
    }
   ],
   "metadata": {}
  },
  {
   "cell_type": "markdown",
   "source": [
    "Answer : Model 2 and Model 3"
   ],
   "metadata": {}
  },
  {
   "cell_type": "markdown",
   "source": [
    "# Session 5"
   ],
   "metadata": {}
  },
  {
   "cell_type": "code",
   "execution_count": 32,
   "source": [
    "# load data\r\n",
    "Simulated_ARMA = pd.read_csv(\"Module3_data\\module3_data_Simulated_ARMA.csv\")\r\n",
    "Simulated_ARMA"
   ],
   "outputs": [
    {
     "output_type": "execute_result",
     "data": {
      "text/html": [
       "<div>\n",
       "<style scoped>\n",
       "    .dataframe tbody tr th:only-of-type {\n",
       "        vertical-align: middle;\n",
       "    }\n",
       "\n",
       "    .dataframe tbody tr th {\n",
       "        vertical-align: top;\n",
       "    }\n",
       "\n",
       "    .dataframe thead th {\n",
       "        text-align: right;\n",
       "    }\n",
       "</style>\n",
       "<table border=\"1\" class=\"dataframe\">\n",
       "  <thead>\n",
       "    <tr style=\"text-align: right;\">\n",
       "      <th></th>\n",
       "      <th>dateid01</th>\n",
       "      <th>dateid</th>\n",
       "      <th>y</th>\n",
       "      <th>z</th>\n",
       "    </tr>\n",
       "  </thead>\n",
       "  <tbody>\n",
       "    <tr>\n",
       "      <th>0</th>\n",
       "      <td>1900-01-01</td>\n",
       "      <td>1900-01-31 23:59:59.999</td>\n",
       "      <td>0.000000</td>\n",
       "      <td>0.000000</td>\n",
       "    </tr>\n",
       "    <tr>\n",
       "      <th>1</th>\n",
       "      <td>1900-02-01</td>\n",
       "      <td>1900-02-28 23:59:59.999</td>\n",
       "      <td>0.000000</td>\n",
       "      <td>-0.698508</td>\n",
       "    </tr>\n",
       "    <tr>\n",
       "      <th>2</th>\n",
       "      <td>1900-03-01</td>\n",
       "      <td>1900-03-31 23:59:59.999</td>\n",
       "      <td>-0.142965</td>\n",
       "      <td>0.290892</td>\n",
       "    </tr>\n",
       "    <tr>\n",
       "      <th>3</th>\n",
       "      <td>1900-04-01</td>\n",
       "      <td>1900-04-30 23:59:59.999</td>\n",
       "      <td>0.627469</td>\n",
       "      <td>0.418416</td>\n",
       "    </tr>\n",
       "    <tr>\n",
       "      <th>4</th>\n",
       "      <td>1900-05-01</td>\n",
       "      <td>1900-05-31 23:59:59.999</td>\n",
       "      <td>0.407678</td>\n",
       "      <td>2.434994</td>\n",
       "    </tr>\n",
       "    <tr>\n",
       "      <th>...</th>\n",
       "      <td>...</td>\n",
       "      <td>...</td>\n",
       "      <td>...</td>\n",
       "      <td>...</td>\n",
       "    </tr>\n",
       "    <tr>\n",
       "      <th>1377</th>\n",
       "      <td>2014-10-01</td>\n",
       "      <td>2014-10-31 23:59:59.999</td>\n",
       "      <td>1.870067</td>\n",
       "      <td>0.409208</td>\n",
       "    </tr>\n",
       "    <tr>\n",
       "      <th>1378</th>\n",
       "      <td>2014-11-01</td>\n",
       "      <td>2014-11-30 23:59:59.999</td>\n",
       "      <td>-1.199336</td>\n",
       "      <td>1.403371</td>\n",
       "    </tr>\n",
       "    <tr>\n",
       "      <th>1379</th>\n",
       "      <td>2014-12-01</td>\n",
       "      <td>2014-12-31 23:59:59.999</td>\n",
       "      <td>-0.600252</td>\n",
       "      <td>0.879313</td>\n",
       "    </tr>\n",
       "    <tr>\n",
       "      <th>1380</th>\n",
       "      <td>2015-01-01</td>\n",
       "      <td>2015-01-31 23:59:59.999</td>\n",
       "      <td>0.134750</td>\n",
       "      <td>0.037739</td>\n",
       "    </tr>\n",
       "    <tr>\n",
       "      <th>1381</th>\n",
       "      <td>2015-02-01</td>\n",
       "      <td>2015-02-28 23:59:59.999</td>\n",
       "      <td>1.719933</td>\n",
       "      <td>-0.366221</td>\n",
       "    </tr>\n",
       "  </tbody>\n",
       "</table>\n",
       "<p>1382 rows × 4 columns</p>\n",
       "</div>"
      ],
      "text/plain": [
       "        dateid01                   dateid         y         z\n",
       "0     1900-01-01  1900-01-31 23:59:59.999  0.000000  0.000000\n",
       "1     1900-02-01  1900-02-28 23:59:59.999  0.000000 -0.698508\n",
       "2     1900-03-01  1900-03-31 23:59:59.999 -0.142965  0.290892\n",
       "3     1900-04-01  1900-04-30 23:59:59.999  0.627469  0.418416\n",
       "4     1900-05-01  1900-05-31 23:59:59.999  0.407678  2.434994\n",
       "...          ...                      ...       ...       ...\n",
       "1377  2014-10-01  2014-10-31 23:59:59.999  1.870067  0.409208\n",
       "1378  2014-11-01  2014-11-30 23:59:59.999 -1.199336  1.403371\n",
       "1379  2014-12-01  2014-12-31 23:59:59.999 -0.600252  0.879313\n",
       "1380  2015-01-01  2015-01-31 23:59:59.999  0.134750  0.037739\n",
       "1381  2015-02-01  2015-02-28 23:59:59.999  1.719933 -0.366221\n",
       "\n",
       "[1382 rows x 4 columns]"
      ]
     },
     "metadata": {},
     "execution_count": 32
    }
   ],
   "metadata": {}
  },
  {
   "cell_type": "code",
   "execution_count": 33,
   "source": [
    "# set time series for y\r\n",
    "y_series = Simulated_ARMA.y\r\n",
    "y_series.index = pd.date_range(\"1900-01-01\", periods = len(Simulated_ARMA.y), freq = \"M\")\r\n",
    "y_series = y_series[y_series.index > dateutil.parser.parse(\"1900-02-01\")]\r\n",
    "print(y_series.head())\r\n",
    "# print(y_series.tail())"
   ],
   "outputs": [
    {
     "output_type": "stream",
     "name": "stdout",
     "text": [
      "1900-02-28    0.000000\n",
      "1900-03-31   -0.142965\n",
      "1900-04-30    0.627469\n",
      "1900-05-31    0.407678\n",
      "1900-06-30   -0.238750\n",
      "Freq: M, Name: y, dtype: float64\n"
     ]
    }
   ],
   "metadata": {}
  },
  {
   "cell_type": "code",
   "execution_count": 34,
   "source": [
    "plt.figure(figsize=(13,7))\r\n",
    "plt.plot(y_series)\r\n",
    "plt.show()"
   ],
   "outputs": [
    {
     "output_type": "display_data",
     "data": {
      "image/png": "[encoded data removed]",
      "image/svg+xml": "<?xml version=\"1.0\" encoding=\"utf-8\" standalone=\"no\"?>\r\n<!DOCTYPE svg PUBLIC \"-//W3C//DTD SVG 1.1//EN\"\r\n  \"http://www.w3.org/Graphics/SVG/1.1/DTD/svg11.dtd\">\r\n<svg height=\"411.598125pt\" version=\"1.1\" viewBox=\"0 0 769.052374 411.598125\" width=\"769.052374pt\" xmlns=\"http://www.w3.org/2000/svg\" xmlns:xlink=\"http://www.w3.org/1999/xlink\">\r\n <metadata>\r\n  <rdf:RDF xmlns:cc=\"http://creativecommons.org/ns#\" xmlns:dc=\"http://purl.org/dc/elements/1.1/\" xmlns:rdf=\"http://www.w3.org/1999/02/22-rdf-syntax-ns#\">\r\n   <cc:Work>\r\n    <dc:type rdf:resource=\"http://purl.org/dc/dcmitype/StillImage\"/>\r\n    <dc:date>2021-09-29T15:54:11.164801</dc:date>\r\n    <dc:format>image/svg+xml</dc:format>\r\n    <dc:creator>\r\n     <cc:Agent>\r\n      <dc:title>Matplotlib v3.4.2, https://matplotlib.org/</dc:title>\r\n     </cc:Agent>\r\n    </dc:creator>\r\n   </cc:Work>\r\n  </rdf:RDF>\r\n </metadata>\r\n <defs>\r\n  <style type=\"text/css\">*{stroke-linecap:butt;stroke-linejoin:round;}</style>\r\n </defs>\r\n <g id=\"figure_1\">\r\n  <g id=\"patch_1\">\r\n   <path d=\"M 0 411.598125 \r\nL 769.052374 411.598125 \r\nL 769.052374 0 \r\nL 0 0 \r\nz\r\n\" style=\"fill:none;\"/>\r\n  </g>\r\n  <g id=\"axes_1\">\r\n   <g id=\"patch_2\">\r\n    <path d=\"M 28.942188 387.72 \r\nL 754.342188 387.72 \r\nL 754.342188 7.2 \r\nL 28.942188 7.2 \r\nz\r\n\" style=\"fill:#ffffff;\"/>\r\n   </g>\r\n   <g id=\"matplotlib.axis_1\">\r\n    <g id=\"xtick_1\">\r\n     <g id=\"line2d_1\">\r\n      <defs>\r\n       <path d=\"M 0 0 \r\nL 0 3.5 \r\n\" id=\"m300dedec4a\" style=\"stroke:#000000;stroke-width:0.8;\"/>\r\n      </defs>\r\n      <g>\r\n       <use style=\"stroke:#000000;stroke-width:0.8;\" x=\"61.004304\" xlink:href=\"#m300dedec4a\" y=\"387.72\"/>\r\n      </g>\r\n     </g>\r\n     <g id=\"text_1\">\r\n      <!-- 1900 -->\r\n      <g transform=\"translate(48.279304 402.318437)scale(0.1 -0.1)\">\r\n       <defs>\r\n        <path d=\"M 794 531 \r\nL 1825 531 \r\nL 1825 4091 \r\nL 703 3866 \r\nL 703 4441 \r\nL 1819 4666 \r\nL 2450 4666 \r\nL 2450 531 \r\nL 3481 531 \r\nL 3481 0 \r\nL 794 0 \r\nL 794 531 \r\nz\r\n\" id=\"DejaVuSans-31\" transform=\"scale(0.015625)\"/>\r\n        <path d=\"M 703 97 \r\nL 703 672 \r\nQ 941 559 1184 500 \r\nQ 1428 441 1663 441 \r\nQ 2288 441 2617 861 \r\nQ 2947 1281 2994 2138 \r\nQ 2813 1869 2534 1725 \r\nQ 2256 1581 1919 1581 \r\nQ 1219 1581 811 2004 \r\nQ 403 2428 403 3163 \r\nQ 403 3881 828 4315 \r\nQ 1253 4750 1959 4750 \r\nQ 2769 4750 3195 4129 \r\nQ 3622 3509 3622 2328 \r\nQ 3622 1225 3098 567 \r\nQ 2575 -91 1691 -91 \r\nQ 1453 -91 1209 -44 \r\nQ 966 3 703 97 \r\nz\r\nM 1959 2075 \r\nQ 2384 2075 2632 2365 \r\nQ 2881 2656 2881 3163 \r\nQ 2881 3666 2632 3958 \r\nQ 2384 4250 1959 4250 \r\nQ 1534 4250 1286 3958 \r\nQ 1038 3666 1038 3163 \r\nQ 1038 2656 1286 2365 \r\nQ 1534 2075 1959 2075 \r\nz\r\n\" id=\"DejaVuSans-39\" transform=\"scale(0.015625)\"/>\r\n        <path d=\"M 2034 4250 \r\nQ 1547 4250 1301 3770 \r\nQ 1056 3291 1056 2328 \r\nQ 1056 1369 1301 889 \r\nQ 1547 409 2034 409 \r\nQ 2525 409 2770 889 \r\nQ 3016 1369 3016 2328 \r\nQ 3016 3291 2770 3770 \r\nQ 2525 4250 2034 4250 \r\nz\r\nM 2034 4750 \r\nQ 2819 4750 3233 4129 \r\nQ 3647 3509 3647 2328 \r\nQ 3647 1150 3233 529 \r\nQ 2819 -91 2034 -91 \r\nQ 1250 -91 836 529 \r\nQ 422 1150 422 2328 \r\nQ 422 3509 836 4129 \r\nQ 1250 4750 2034 4750 \r\nz\r\n\" id=\"DejaVuSans-30\" transform=\"scale(0.015625)\"/>\r\n       </defs>\r\n       <use xlink:href=\"#DejaVuSans-31\"/>\r\n       <use x=\"63.623047\" xlink:href=\"#DejaVuSans-39\"/>\r\n       <use x=\"127.246094\" xlink:href=\"#DejaVuSans-30\"/>\r\n       <use x=\"190.869141\" xlink:href=\"#DejaVuSans-30\"/>\r\n      </g>\r\n     </g>\r\n    </g>\r\n    <g id=\"xtick_2\">\r\n     <g id=\"line2d_2\">\r\n      <g>\r\n       <use style=\"stroke:#000000;stroke-width:0.8;\" x=\"175.678399\" xlink:href=\"#m300dedec4a\" y=\"387.72\"/>\r\n      </g>\r\n     </g>\r\n     <g id=\"text_2\">\r\n      <!-- 1920 -->\r\n      <g transform=\"translate(162.953399 402.318437)scale(0.1 -0.1)\">\r\n       <defs>\r\n        <path d=\"M 1228 531 \r\nL 3431 531 \r\nL 3431 0 \r\nL 469 0 \r\nL 469 531 \r\nQ 828 903 1448 1529 \r\nQ 2069 2156 2228 2338 \r\nQ 2531 2678 2651 2914 \r\nQ 2772 3150 2772 3378 \r\nQ 2772 3750 2511 3984 \r\nQ 2250 4219 1831 4219 \r\nQ 1534 4219 1204 4116 \r\nQ 875 4013 500 3803 \r\nL 500 4441 \r\nQ 881 4594 1212 4672 \r\nQ 1544 4750 1819 4750 \r\nQ 2544 4750 2975 4387 \r\nQ 3406 4025 3406 3419 \r\nQ 3406 3131 3298 2873 \r\nQ 3191 2616 2906 2266 \r\nQ 2828 2175 2409 1742 \r\nQ 1991 1309 1228 531 \r\nz\r\n\" id=\"DejaVuSans-32\" transform=\"scale(0.015625)\"/>\r\n       </defs>\r\n       <use xlink:href=\"#DejaVuSans-31\"/>\r\n       <use x=\"63.623047\" xlink:href=\"#DejaVuSans-39\"/>\r\n       <use x=\"127.246094\" xlink:href=\"#DejaVuSans-32\"/>\r\n       <use x=\"190.869141\" xlink:href=\"#DejaVuSans-30\"/>\r\n      </g>\r\n     </g>\r\n    </g>\r\n    <g id=\"xtick_3\">\r\n     <g id=\"line2d_3\">\r\n      <g>\r\n       <use style=\"stroke:#000000;stroke-width:0.8;\" x=\"290.368194\" xlink:href=\"#m300dedec4a\" y=\"387.72\"/>\r\n      </g>\r\n     </g>\r\n     <g id=\"text_3\">\r\n      <!-- 1940 -->\r\n      <g transform=\"translate(277.643194 402.318437)scale(0.1 -0.1)\">\r\n       <defs>\r\n        <path d=\"M 2419 4116 \r\nL 825 1625 \r\nL 2419 1625 \r\nL 2419 4116 \r\nz\r\nM 2253 4666 \r\nL 3047 4666 \r\nL 3047 1625 \r\nL 3713 1625 \r\nL 3713 1100 \r\nL 3047 1100 \r\nL 3047 0 \r\nL 2419 0 \r\nL 2419 1100 \r\nL 313 1100 \r\nL 313 1709 \r\nL 2253 4666 \r\nz\r\n\" id=\"DejaVuSans-34\" transform=\"scale(0.015625)\"/>\r\n       </defs>\r\n       <use xlink:href=\"#DejaVuSans-31\"/>\r\n       <use x=\"63.623047\" xlink:href=\"#DejaVuSans-39\"/>\r\n       <use x=\"127.246094\" xlink:href=\"#DejaVuSans-34\"/>\r\n       <use x=\"190.869141\" xlink:href=\"#DejaVuSans-30\"/>\r\n      </g>\r\n     </g>\r\n    </g>\r\n    <g id=\"xtick_4\">\r\n     <g id=\"line2d_4\">\r\n      <g>\r\n       <use style=\"stroke:#000000;stroke-width:0.8;\" x=\"405.057989\" xlink:href=\"#m300dedec4a\" y=\"387.72\"/>\r\n      </g>\r\n     </g>\r\n     <g id=\"text_4\">\r\n      <!-- 1960 -->\r\n      <g transform=\"translate(392.332989 402.318437)scale(0.1 -0.1)\">\r\n       <defs>\r\n        <path d=\"M 2113 2584 \r\nQ 1688 2584 1439 2293 \r\nQ 1191 2003 1191 1497 \r\nQ 1191 994 1439 701 \r\nQ 1688 409 2113 409 \r\nQ 2538 409 2786 701 \r\nQ 3034 994 3034 1497 \r\nQ 3034 2003 2786 2293 \r\nQ 2538 2584 2113 2584 \r\nz\r\nM 3366 4563 \r\nL 3366 3988 \r\nQ 3128 4100 2886 4159 \r\nQ 2644 4219 2406 4219 \r\nQ 1781 4219 1451 3797 \r\nQ 1122 3375 1075 2522 \r\nQ 1259 2794 1537 2939 \r\nQ 1816 3084 2150 3084 \r\nQ 2853 3084 3261 2657 \r\nQ 3669 2231 3669 1497 \r\nQ 3669 778 3244 343 \r\nQ 2819 -91 2113 -91 \r\nQ 1303 -91 875 529 \r\nQ 447 1150 447 2328 \r\nQ 447 3434 972 4092 \r\nQ 1497 4750 2381 4750 \r\nQ 2619 4750 2861 4703 \r\nQ 3103 4656 3366 4563 \r\nz\r\n\" id=\"DejaVuSans-36\" transform=\"scale(0.015625)\"/>\r\n       </defs>\r\n       <use xlink:href=\"#DejaVuSans-31\"/>\r\n       <use x=\"63.623047\" xlink:href=\"#DejaVuSans-39\"/>\r\n       <use x=\"127.246094\" xlink:href=\"#DejaVuSans-36\"/>\r\n       <use x=\"190.869141\" xlink:href=\"#DejaVuSans-30\"/>\r\n      </g>\r\n     </g>\r\n    </g>\r\n    <g id=\"xtick_5\">\r\n     <g id=\"line2d_5\">\r\n      <g>\r\n       <use style=\"stroke:#000000;stroke-width:0.8;\" x=\"519.747784\" xlink:href=\"#m300dedec4a\" y=\"387.72\"/>\r\n      </g>\r\n     </g>\r\n     <g id=\"text_5\">\r\n      <!-- 1980 -->\r\n      <g transform=\"translate(507.022784 402.318437)scale(0.1 -0.1)\">\r\n       <defs>\r\n        <path d=\"M 2034 2216 \r\nQ 1584 2216 1326 1975 \r\nQ 1069 1734 1069 1313 \r\nQ 1069 891 1326 650 \r\nQ 1584 409 2034 409 \r\nQ 2484 409 2743 651 \r\nQ 3003 894 3003 1313 \r\nQ 3003 1734 2745 1975 \r\nQ 2488 2216 2034 2216 \r\nz\r\nM 1403 2484 \r\nQ 997 2584 770 2862 \r\nQ 544 3141 544 3541 \r\nQ 544 4100 942 4425 \r\nQ 1341 4750 2034 4750 \r\nQ 2731 4750 3128 4425 \r\nQ 3525 4100 3525 3541 \r\nQ 3525 3141 3298 2862 \r\nQ 3072 2584 2669 2484 \r\nQ 3125 2378 3379 2068 \r\nQ 3634 1759 3634 1313 \r\nQ 3634 634 3220 271 \r\nQ 2806 -91 2034 -91 \r\nQ 1263 -91 848 271 \r\nQ 434 634 434 1313 \r\nQ 434 1759 690 2068 \r\nQ 947 2378 1403 2484 \r\nz\r\nM 1172 3481 \r\nQ 1172 3119 1398 2916 \r\nQ 1625 2713 2034 2713 \r\nQ 2441 2713 2670 2916 \r\nQ 2900 3119 2900 3481 \r\nQ 2900 3844 2670 4047 \r\nQ 2441 4250 2034 4250 \r\nQ 1625 4250 1398 4047 \r\nQ 1172 3844 1172 3481 \r\nz\r\n\" id=\"DejaVuSans-38\" transform=\"scale(0.015625)\"/>\r\n       </defs>\r\n       <use xlink:href=\"#DejaVuSans-31\"/>\r\n       <use x=\"63.623047\" xlink:href=\"#DejaVuSans-39\"/>\r\n       <use x=\"127.246094\" xlink:href=\"#DejaVuSans-38\"/>\r\n       <use x=\"190.869141\" xlink:href=\"#DejaVuSans-30\"/>\r\n      </g>\r\n     </g>\r\n    </g>\r\n    <g id=\"xtick_6\">\r\n     <g id=\"line2d_6\">\r\n      <g>\r\n       <use style=\"stroke:#000000;stroke-width:0.8;\" x=\"634.437579\" xlink:href=\"#m300dedec4a\" y=\"387.72\"/>\r\n      </g>\r\n     </g>\r\n     <g id=\"text_6\">\r\n      <!-- 2000 -->\r\n      <g transform=\"translate(621.712579 402.318437)scale(0.1 -0.1)\">\r\n       <use xlink:href=\"#DejaVuSans-32\"/>\r\n       <use x=\"63.623047\" xlink:href=\"#DejaVuSans-30\"/>\r\n       <use x=\"127.246094\" xlink:href=\"#DejaVuSans-30\"/>\r\n       <use x=\"190.869141\" xlink:href=\"#DejaVuSans-30\"/>\r\n      </g>\r\n     </g>\r\n    </g>\r\n    <g id=\"xtick_7\">\r\n     <g id=\"line2d_7\">\r\n      <g>\r\n       <use style=\"stroke:#000000;stroke-width:0.8;\" x=\"749.127374\" xlink:href=\"#m300dedec4a\" y=\"387.72\"/>\r\n      </g>\r\n     </g>\r\n     <g id=\"text_7\">\r\n      <!-- 2020 -->\r\n      <g transform=\"translate(736.402374 402.318437)scale(0.1 -0.1)\">\r\n       <use xlink:href=\"#DejaVuSans-32\"/>\r\n       <use x=\"63.623047\" xlink:href=\"#DejaVuSans-30\"/>\r\n       <use x=\"127.246094\" xlink:href=\"#DejaVuSans-32\"/>\r\n       <use x=\"190.869141\" xlink:href=\"#DejaVuSans-30\"/>\r\n      </g>\r\n     </g>\r\n    </g>\r\n   </g>\r\n   <g id=\"matplotlib.axis_2\">\r\n    <g id=\"ytick_1\">\r\n     <g id=\"line2d_8\">\r\n      <defs>\r\n       <path d=\"M 0 0 \r\nL -3.5 0 \r\n\" id=\"m556efbf837\" style=\"stroke:#000000;stroke-width:0.8;\"/>\r\n      </defs>\r\n      <g>\r\n       <use style=\"stroke:#000000;stroke-width:0.8;\" x=\"28.942188\" xlink:href=\"#m556efbf837\" y=\"367.520601\"/>\r\n      </g>\r\n     </g>\r\n     <g id=\"text_8\">\r\n      <!-- −6 -->\r\n      <g transform=\"translate(7.2 371.31982)scale(0.1 -0.1)\">\r\n       <defs>\r\n        <path d=\"M 678 2272 \r\nL 4684 2272 \r\nL 4684 1741 \r\nL 678 1741 \r\nL 678 2272 \r\nz\r\n\" id=\"DejaVuSans-2212\" transform=\"scale(0.015625)\"/>\r\n       </defs>\r\n       <use xlink:href=\"#DejaVuSans-2212\"/>\r\n       <use x=\"83.789062\" xlink:href=\"#DejaVuSans-36\"/>\r\n      </g>\r\n     </g>\r\n    </g>\r\n    <g id=\"ytick_2\">\r\n     <g id=\"line2d_9\">\r\n      <g>\r\n       <use style=\"stroke:#000000;stroke-width:0.8;\" x=\"28.942188\" xlink:href=\"#m556efbf837\" y=\"310.493378\"/>\r\n      </g>\r\n     </g>\r\n     <g id=\"text_9\">\r\n      <!-- −4 -->\r\n      <g transform=\"translate(7.2 314.292597)scale(0.1 -0.1)\">\r\n       <use xlink:href=\"#DejaVuSans-2212\"/>\r\n       <use x=\"83.789062\" xlink:href=\"#DejaVuSans-34\"/>\r\n      </g>\r\n     </g>\r\n    </g>\r\n    <g id=\"ytick_3\">\r\n     <g id=\"line2d_10\">\r\n      <g>\r\n       <use style=\"stroke:#000000;stroke-width:0.8;\" x=\"28.942188\" xlink:href=\"#m556efbf837\" y=\"253.466156\"/>\r\n      </g>\r\n     </g>\r\n     <g id=\"text_10\">\r\n      <!-- −2 -->\r\n      <g transform=\"translate(7.2 257.265375)scale(0.1 -0.1)\">\r\n       <use xlink:href=\"#DejaVuSans-2212\"/>\r\n       <use x=\"83.789062\" xlink:href=\"#DejaVuSans-32\"/>\r\n      </g>\r\n     </g>\r\n    </g>\r\n    <g id=\"ytick_4\">\r\n     <g id=\"line2d_11\">\r\n      <g>\r\n       <use style=\"stroke:#000000;stroke-width:0.8;\" x=\"28.942188\" xlink:href=\"#m556efbf837\" y=\"196.438933\"/>\r\n      </g>\r\n     </g>\r\n     <g id=\"text_11\">\r\n      <!-- 0 -->\r\n      <g transform=\"translate(15.579688 200.238152)scale(0.1 -0.1)\">\r\n       <use xlink:href=\"#DejaVuSans-30\"/>\r\n      </g>\r\n     </g>\r\n    </g>\r\n    <g id=\"ytick_5\">\r\n     <g id=\"line2d_12\">\r\n      <g>\r\n       <use style=\"stroke:#000000;stroke-width:0.8;\" x=\"28.942188\" xlink:href=\"#m556efbf837\" y=\"139.411711\"/>\r\n      </g>\r\n     </g>\r\n     <g id=\"text_12\">\r\n      <!-- 2 -->\r\n      <g transform=\"translate(15.579688 143.21093)scale(0.1 -0.1)\">\r\n       <use xlink:href=\"#DejaVuSans-32\"/>\r\n      </g>\r\n     </g>\r\n    </g>\r\n    <g id=\"ytick_6\">\r\n     <g id=\"line2d_13\">\r\n      <g>\r\n       <use style=\"stroke:#000000;stroke-width:0.8;\" x=\"28.942188\" xlink:href=\"#m556efbf837\" y=\"82.384488\"/>\r\n      </g>\r\n     </g>\r\n     <g id=\"text_13\">\r\n      <!-- 4 -->\r\n      <g transform=\"translate(15.579688 86.183707)scale(0.1 -0.1)\">\r\n       <use xlink:href=\"#DejaVuSans-34\"/>\r\n      </g>\r\n     </g>\r\n    </g>\r\n    <g id=\"ytick_7\">\r\n     <g id=\"line2d_14\">\r\n      <g>\r\n       <use style=\"stroke:#000000;stroke-width:0.8;\" x=\"28.942188\" xlink:href=\"#m556efbf837\" y=\"25.357266\"/>\r\n      </g>\r\n     </g>\r\n     <g id=\"text_14\">\r\n      <!-- 6 -->\r\n      <g transform=\"translate(15.579688 29.156485)scale(0.1 -0.1)\">\r\n       <use xlink:href=\"#DejaVuSans-36\"/>\r\n      </g>\r\n     </g>\r\n    </g>\r\n   </g>\r\n   <g id=\"line2d_15\">\r\n    <path clip-path=\"url(#p105621155f)\" d=\"M 61.914915 196.438933 \r\nL 62.40162 200.515389 \r\nL 62.872626 178.547524 \r\nL 63.359331 184.814571 \r\nL 63.830336 203.246569 \r\nL 64.317042 241.008518 \r\nL 64.803747 236.497761 \r\nL 65.274753 175.416207 \r\nL 65.761458 135.422764 \r\nL 66.232464 145.268354 \r\nL 66.719169 131.591632 \r\nL 67.205875 100.163333 \r\nL 67.645479 132.005914 \r\nL 68.132185 196.367379 \r\nL 68.60319 224.587716 \r\nL 69.089896 170.28764 \r\nL 69.560901 144.445137 \r\nL 70.047607 129.273524 \r\nL 70.534312 172.033484 \r\nL 71.005317 167.547317 \r\nL 71.492023 165.89308 \r\nL 71.963028 179.481447 \r\nL 72.449734 182.69658 \r\nL 72.936439 129.300286 \r\nL 73.376044 62.43554 \r\nL 73.86275 74.273542 \r\nL 74.333755 89.272567 \r\nL 74.82046 145.978687 \r\nL 75.291466 234.076828 \r\nL 75.778171 275.242288 \r\nL 76.264877 227.349048 \r\nL 76.735882 202.611657 \r\nL 77.222588 204.77397 \r\nL 77.693593 165.215909 \r\nL 78.180298 158.35304 \r\nL 78.667004 170.346187 \r\nL 79.106609 192.952986 \r\nL 79.593314 185.713888 \r\nL 80.06432 193.921354 \r\nL 80.551025 219.794687 \r\nL 81.508736 215.921743 \r\nL 81.995441 155.169178 \r\nL 82.466447 170.30703 \r\nL 82.953152 163.988008 \r\nL 83.424158 125.422423 \r\nL 83.910863 143.26359 \r\nL 84.397569 190.535119 \r\nL 84.852874 273.496207 \r\nL 85.810585 243.076005 \r\nL 86.29729 190.047357 \r\nL 86.768295 178.82033 \r\nL 87.255001 158.070275 \r\nL 87.741706 151.382969 \r\nL 88.212712 164.879264 \r\nL 88.699417 200.547174 \r\nL 89.170422 245.96948 \r\nL 89.657128 260.801996 \r\nL 90.143833 292.78091 \r\nL 90.583438 273.386257 \r\nL 91.070144 233.092694 \r\nL 91.541149 130.283018 \r\nL 92.027855 143.95237 \r\nL 92.49886 152.373481 \r\nL 93.472271 223.202262 \r\nL 93.943276 232.791627 \r\nL 94.429982 208.447872 \r\nL 94.900987 159.649961 \r\nL 95.387693 132.268219 \r\nL 95.874398 116.391537 \r\nL 96.314003 163.44823 \r\nL 96.800709 157.74912 \r\nL 97.271714 135.427744 \r\nL 97.758419 199.557343 \r\nL 98.229425 213.985517 \r\nL 98.71613 240.331161 \r\nL 99.202836 234.262176 \r\nL 99.673841 209.790812 \r\nL 100.160547 229.579094 \r\nL 101.118257 205.232333 \r\nL 101.604963 155.998602 \r\nL 102.044568 202.844228 \r\nL 102.531273 217.563706 \r\nL 103.002279 224.368403 \r\nL 103.488984 215.795144 \r\nL 103.959989 170.216955 \r\nL 104.446695 157.073365 \r\nL 104.9334 136.469964 \r\nL 105.404406 198.423315 \r\nL 105.891111 222.143219 \r\nL 106.362117 218.881978 \r\nL 106.848822 158.366776 \r\nL 107.335528 141.775775 \r\nL 107.790833 192.811143 \r\nL 108.277538 207.980399 \r\nL 108.748544 158.104852 \r\nL 109.235249 167.665753 \r\nL 109.706254 156.89919 \r\nL 110.679665 110.609554 \r\nL 111.150671 149.529793 \r\nL 111.637376 171.778134 \r\nL 112.595087 235.16595 \r\nL 113.081792 237.481484 \r\nL 113.521397 246.420333 \r\nL 114.479108 221.264476 \r\nL 114.965814 212.962678 \r\nL 115.436819 170.261376 \r\nL 116.41023 136.379135 \r\nL 116.881235 178.350959 \r\nL 117.367941 194.515226 \r\nL 117.838946 202.260324 \r\nL 118.325652 171.065497 \r\nL 118.812357 181.078708 \r\nL 119.251962 209.299253 \r\nL 119.738668 158.358995 \r\nL 120.209673 123.286724 \r\nL 120.696378 153.900235 \r\nL 121.167384 158.303414 \r\nL 121.654089 157.269082 \r\nL 122.140795 187.077205 \r\nL 122.6118 199.962208 \r\nL 123.098506 186.868104 \r\nL 123.569511 180.042959 \r\nL 124.056216 185.258646 \r\nL 124.542922 168.096348 \r\nL 125.469232 191.358021 \r\nL 125.940238 185.086372 \r\nL 126.897948 156.877925 \r\nL 127.384654 151.758749 \r\nL 127.871359 109.269973 \r\nL 128.342365 123.024505 \r\nL 128.82907 129.73015 \r\nL 129.300076 165.112611 \r\nL 129.786781 165.190734 \r\nL 130.273487 155.029998 \r\nL 130.728792 162.848563 \r\nL 131.686503 261.527931 \r\nL 132.173208 259.593872 \r\nL 133.130919 159.270777 \r\nL 133.617624 113.458383 \r\nL 134.08863 113.009484 \r\nL 134.575335 127.551494 \r\nL 135.04634 121.412943 \r\nL 135.533046 157.403909 \r\nL 136.019751 179.305645 \r\nL 136.459356 220.631629 \r\nL 136.946062 238.997762 \r\nL 137.417067 229.101443 \r\nL 137.903773 240.993337 \r\nL 138.374778 248.949101 \r\nL 138.861484 224.686327 \r\nL 139.348189 228.556323 \r\nL 139.819194 253.51137 \r\nL 140.3059 326.166915 \r\nL 140.776905 330.523126 \r\nL 141.750316 370.423636 \r\nL 142.189921 365.845797 \r\nL 142.676627 286.044816 \r\nL 143.147632 254.236552 \r\nL 143.634337 198.339052 \r\nL 144.105343 197.805954 \r\nL 144.592048 244.932785 \r\nL 145.078754 250.039583 \r\nL 145.549759 246.122414 \r\nL 146.036465 223.284969 \r\nL 146.50747 176.340707 \r\nL 146.994175 149.812671 \r\nL 147.480881 190.306177 \r\nL 147.920486 165.851325 \r\nL 148.407191 170.590946 \r\nL 149.364902 254.562119 \r\nL 149.835907 259.572852 \r\nL 150.322613 256.058422 \r\nL 150.809318 275.227674 \r\nL 151.280324 263.347398 \r\nL 151.767029 259.876079 \r\nL 152.238035 236.879365 \r\nL 152.72474 264.778809 \r\nL 153.211446 251.682963 \r\nL 153.666751 216.385476 \r\nL 154.153456 157.856855 \r\nL 154.624461 145.845953 \r\nL 155.111167 137.240974 \r\nL 155.582172 143.762338 \r\nL 156.068878 176.670138 \r\nL 156.555583 176.662003 \r\nL 157.026589 172.557802 \r\nL 157.513294 126.597136 \r\nL 157.984299 122.391063 \r\nL 158.471005 142.034464 \r\nL 158.95771 150.918594 \r\nL 159.397315 183.599303 \r\nL 159.884021 175.796598 \r\nL 160.355026 248.886097 \r\nL 160.841732 268.637067 \r\nL 161.312737 258.088495 \r\nL 162.286148 52.478135 \r\nL 162.757153 85.345205 \r\nL 163.714864 207.989752 \r\nL 164.20157 206.646855 \r\nL 164.688275 200.356891 \r\nL 165.12788 217.53232 \r\nL 166.085591 93.692909 \r\nL 166.572296 111.575189 \r\nL 167.043302 120.488121 \r\nL 167.530007 89.889444 \r\nL 168.016713 109.656399 \r\nL 168.487718 106.247343 \r\nL 169.932134 340.451624 \r\nL 170.41884 307.213413 \r\nL 170.858445 297.868416 \r\nL 171.34515 328.030653 \r\nL 171.816156 333.672304 \r\nL 173.260572 170.104503 \r\nL 173.747277 179.840301 \r\nL 174.218283 235.19566 \r\nL 174.704988 239.525283 \r\nL 175.175994 229.530635 \r\nL 175.662699 216.255126 \r\nL 176.149405 185.682613 \r\nL 176.60471 140.77203 \r\nL 177.091415 143.054434 \r\nL 177.56242 165.79674 \r\nL 178.049126 158.595353 \r\nL 178.520131 122.132097 \r\nL 179.006837 110.18913 \r\nL 179.493542 60.661793 \r\nL 179.964548 65.164992 \r\nL 180.451253 147.097674 \r\nL 180.922258 203.627723 \r\nL 181.408964 203.861983 \r\nL 182.335274 138.632561 \r\nL 182.82198 121.513555 \r\nL 183.292985 92.086815 \r\nL 183.779691 140.320064 \r\nL 184.250696 221.585625 \r\nL 184.737401 268.323926 \r\nL 185.224107 284.782487 \r\nL 185.695112 227.818572 \r\nL 186.181818 211.210243 \r\nL 186.652823 182.532265 \r\nL 187.139529 192.694959 \r\nL 187.626234 177.566367 \r\nL 188.065839 159.50729 \r\nL 188.552545 161.344014 \r\nL 189.02355 174.622799 \r\nL 189.510255 174.809303 \r\nL 189.981261 149.995125 \r\nL 190.467966 143.415786 \r\nL 190.954672 208.181856 \r\nL 191.425677 218.399611 \r\nL 191.912382 237.328757 \r\nL 192.870093 182.501914 \r\nL 193.356799 189.903043 \r\nL 193.796404 138.341113 \r\nL 194.283109 140.114227 \r\nL 194.754115 145.912021 \r\nL 195.24082 154.158095 \r\nL 195.711825 172.825694 \r\nL 196.198531 161.386975 \r\nL 196.685236 119.585201 \r\nL 197.156242 147.163104 \r\nL 198.113953 169.928274 \r\nL 198.600658 224.811724 \r\nL 199.087363 191.219944 \r\nL 199.542669 208.952108 \r\nL 200.029374 192.533814 \r\nL 200.500379 209.354819 \r\nL 200.987085 218.735176 \r\nL 201.45809 163.758179 \r\nL 201.944796 123.880887 \r\nL 202.431501 133.018438 \r\nL 202.902507 189.248064 \r\nL 203.389212 225.249568 \r\nL 203.860217 292.857881 \r\nL 204.346923 282.119112 \r\nL 204.833628 290.572397 \r\nL 205.273233 303.107304 \r\nL 205.759939 259.204318 \r\nL 206.230944 228.009351 \r\nL 207.188655 125.897581 \r\nL 208.162066 89.312002 \r\nL 208.633071 114.703644 \r\nL 209.119777 109.925882 \r\nL 209.590782 155.398659 \r\nL 210.077488 165.784301 \r\nL 210.564193 182.899661 \r\nL 211.003798 237.335414 \r\nL 211.490504 233.840181 \r\nL 212.448214 267.457507 \r\nL 212.91922 313.344699 \r\nL 213.892631 284.758344 \r\nL 214.850341 108.270611 \r\nL 215.321347 94.059321 \r\nL 215.808052 136.602064 \r\nL 216.294758 157.559391 \r\nL 216.734363 158.013821 \r\nL 217.221068 107.709986 \r\nL 217.692074 78.229563 \r\nL 218.178779 93.653165 \r\nL 218.649784 112.46603 \r\nL 219.13649 176.943382 \r\nL 219.623195 193.908807 \r\nL 220.094201 150.857695 \r\nL 220.580906 152.026008 \r\nL 221.051911 184.277592 \r\nL 221.538617 206.044815 \r\nL 222.025322 182.230005 \r\nL 222.480628 139.795308 \r\nL 222.967333 142.251422 \r\nL 224.396049 272.107231 \r\nL 224.882755 275.678009 \r\nL 225.36946 250.408468 \r\nL 225.840466 182.75921 \r\nL 226.327171 129.712771 \r\nL 226.798176 93.487614 \r\nL 227.284882 114.469507 \r\nL 228.211192 233.402843 \r\nL 228.697898 238.267628 \r\nL 229.655609 154.394454 \r\nL 230.126614 164.241911 \r\nL 231.100025 228.232602 \r\nL 231.57103 213.938112 \r\nL 232.528741 130.29817 \r\nL 233.015447 145.195252 \r\nL 233.502152 154.819522 \r\nL 233.941757 187.923417 \r\nL 234.428463 257.991809 \r\nL 234.899468 297.4688 \r\nL 235.386173 298.880017 \r\nL 235.857179 219.849735 \r\nL 236.343884 190.321627 \r\nL 236.83059 180.240742 \r\nL 237.301595 159.784205 \r\nL 237.7883 170.270339 \r\nL 238.746011 199.854401 \r\nL 239.672322 175.327595 \r\nL 240.159027 224.21497 \r\nL 240.630033 248.827397 \r\nL 241.116738 244.225776 \r\nL 241.587743 221.437591 \r\nL 242.074449 172.605917 \r\nL 242.561154 163.883821 \r\nL 243.03216 186.499917 \r\nL 243.518865 203.556488 \r\nL 243.98987 224.868631 \r\nL 244.476576 240.923406 \r\nL 244.963281 180.913275 \r\nL 245.418587 104.027894 \r\nL 245.905292 67.688649 \r\nL 246.376297 81.863073 \r\nL 246.863003 117.076382 \r\nL 247.334008 223.264742 \r\nL 247.820714 227.948796 \r\nL 248.307419 230.393558 \r\nL 248.778425 200.868197 \r\nL 249.26513 130.119034 \r\nL 249.736135 122.834967 \r\nL 250.222841 164.61534 \r\nL 250.709546 249.605185 \r\nL 251.149151 241.667869 \r\nL 251.635857 230.529425 \r\nL 252.106862 238.618572 \r\nL 252.593568 235.34408 \r\nL 253.064573 214.381978 \r\nL 254.037984 48.655544 \r\nL 254.508989 72.228772 \r\nL 254.995695 142.332019 \r\nL 255.4667 165.342897 \r\nL 255.953406 201.915031 \r\nL 256.440111 159.427691 \r\nL 256.879716 152.62964 \r\nL 257.366421 173.432178 \r\nL 257.837427 172.059726 \r\nL 258.324132 156.195313 \r\nL 258.795138 158.661226 \r\nL 259.768549 92.873672 \r\nL 260.726259 147.613487 \r\nL 261.197265 158.148188 \r\nL 261.68397 189.860814 \r\nL 262.170676 240.660293 \r\nL 262.610281 307.730147 \r\nL 263.567992 239.477173 \r\nL 264.054697 175.381164 \r\nL 264.525702 150.130202 \r\nL 265.012408 142.695444 \r\nL 265.970119 183.193853 \r\nL 266.456824 214.91586 \r\nL 266.927829 213.307838 \r\nL 267.414535 183.11107 \r\nL 267.90124 139.709961 \r\nL 268.356546 152.977348 \r\nL 268.843251 151.313507 \r\nL 269.314256 186.125511 \r\nL 269.800962 194.533748 \r\nL 270.271967 204.79958 \r\nL 270.758673 165.186868 \r\nL 271.245378 90.036863 \r\nL 271.716383 95.636962 \r\nL 272.203089 120.704239 \r\nL 272.674094 200.247945 \r\nL 273.1608 217.626811 \r\nL 273.647505 208.834265 \r\nL 274.08711 188.217673 \r\nL 274.573816 121.549727 \r\nL 275.044821 112.090456 \r\nL 275.531527 133.525963 \r\nL 276.002532 130.71959 \r\nL 277.446948 243.819022 \r\nL 277.933654 258.346644 \r\nL 278.404659 202.471683 \r\nL 278.891365 177.388679 \r\nL 279.37807 123.504451 \r\nL 279.817675 110.993469 \r\nL 280.30438 146.889105 \r\nL 280.775386 130.609258 \r\nL 281.262091 126.267723 \r\nL 281.733097 171.907968 \r\nL 282.219802 187.418847 \r\nL 282.706508 210.579527 \r\nL 283.177513 216.693594 \r\nL 283.664218 217.519415 \r\nL 284.135224 205.33566 \r\nL 284.621929 217.218296 \r\nL 285.108635 249.515084 \r\nL 285.54824 254.747962 \r\nL 286.034945 272.738778 \r\nL 286.50595 261.149805 \r\nL 286.992656 264.221709 \r\nL 287.463661 239.353082 \r\nL 287.950367 199.657071 \r\nL 288.437072 186.468788 \r\nL 289.394783 272.963141 \r\nL 290.352494 293.755478 \r\nL 290.839199 273.50365 \r\nL 291.294505 217.274117 \r\nL 291.78121 211.000114 \r\nL 292.252215 175.554075 \r\nL 292.738921 182.218283 \r\nL 293.209926 199.410791 \r\nL 293.696632 200.867262 \r\nL 294.183337 215.978498 \r\nL 295.141048 114.13193 \r\nL 295.612053 115.667571 \r\nL 296.098759 139.871412 \r\nL 296.585464 190.965918 \r\nL 297.025069 249.484269 \r\nL 297.511775 272.525592 \r\nL 297.98278 249.879071 \r\nL 298.469486 263.238317 \r\nL 298.940491 191.799088 \r\nL 300.384907 107.159746 \r\nL 300.871613 84.217991 \r\nL 301.342618 97.616075 \r\nL 301.829323 122.014034 \r\nL 302.316029 133.6398 \r\nL 302.755634 130.873591 \r\nL 303.242339 147.085554 \r\nL 304.20005 208.974965 \r\nL 304.671056 212.06621 \r\nL 305.157761 211.908547 \r\nL 305.644467 204.216993 \r\nL 306.115472 188.127049 \r\nL 306.602177 184.946332 \r\nL 307.073183 164.120318 \r\nL 307.559888 207.392289 \r\nL 308.046594 193.186048 \r\nL 308.486199 144.260471 \r\nL 308.972904 134.041807 \r\nL 309.443909 154.281848 \r\nL 309.930615 180.50998 \r\nL 310.40162 175.956613 \r\nL 310.888326 192.393502 \r\nL 311.375031 200.88549 \r\nL 312.332742 170.469551 \r\nL 312.803747 178.225898 \r\nL 313.290453 166.989566 \r\nL 313.777158 200.014179 \r\nL 314.232464 194.413973 \r\nL 314.719169 192.25962 \r\nL 315.190174 160.455507 \r\nL 316.147885 146.224092 \r\nL 316.634591 144.615091 \r\nL 318.550012 253.464953 \r\nL 319.036718 235.534509 \r\nL 319.523423 231.403638 \r\nL 319.963028 220.925063 \r\nL 320.449734 258.517826 \r\nL 320.920739 320.561138 \r\nL 321.407445 262.896344 \r\nL 321.87845 176.3928 \r\nL 322.851861 66.487017 \r\nL 323.322866 83.489914 \r\nL 323.809572 123.780693 \r\nL 324.280577 134.346246 \r\nL 324.767282 162.257163 \r\nL 325.253988 200.937916 \r\nL 325.693593 170.899841 \r\nL 326.180298 187.369461 \r\nL 326.651304 197.721701 \r\nL 327.138009 204.80556 \r\nL 327.609015 187.134721 \r\nL 328.09572 208.746112 \r\nL 328.582426 206.899219 \r\nL 329.053431 144.018552 \r\nL 329.540136 131.99499 \r\nL 330.011142 156.322337 \r\nL 330.984553 338.132592 \r\nL 331.424158 352.854883 \r\nL 331.910863 289.932804 \r\nL 332.381868 265.696886 \r\nL 332.868574 233.972266 \r\nL 333.339579 229.799351 \r\nL 333.826285 178.429535 \r\nL 334.31299 77.428866 \r\nL 334.783996 98.179234 \r\nL 335.270701 135.522067 \r\nL 335.741706 248.761847 \r\nL 336.228412 281.278952 \r\nL 336.715117 287.099404 \r\nL 337.170422 267.699363 \r\nL 337.657128 257.778952 \r\nL 338.614839 203.175765 \r\nL 339.085844 179.671271 \r\nL 340.059255 219.520204 \r\nL 340.53026 203.501921 \r\nL 341.016966 208.650666 \r\nL 341.487971 199.067529 \r\nL 341.974677 173.139249 \r\nL 342.461382 168.996464 \r\nL 342.900987 203.240572 \r\nL 343.387693 221.41163 \r\nL 344.816409 159.479661 \r\nL 345.303114 147.153505 \r\nL 345.78982 203.775308 \r\nL 346.260825 243.888808 \r\nL 346.747531 260.896271 \r\nL 347.218536 285.781742 \r\nL 347.705241 204.744881 \r\nL 348.191947 182.393003 \r\nL 348.631552 175.660916 \r\nL 349.118257 197.607732 \r\nL 349.589263 178.605188 \r\nL 350.075968 183.628127 \r\nL 350.546974 236.257957 \r\nL 351.033679 252.805681 \r\nL 351.520385 285.427804 \r\nL 351.99139 237.739568 \r\nL 352.478095 177.031996 \r\nL 352.949101 145.413006 \r\nL 353.435806 137.958074 \r\nL 353.922512 121.096631 \r\nL 354.362117 150.496776 \r\nL 354.848822 167.483477 \r\nL 355.806533 115.113909 \r\nL 356.277538 128.592647 \r\nL 357.721955 223.850483 \r\nL 358.20866 217.623955 \r\nL 358.679665 217.575743 \r\nL 359.166371 195.247257 \r\nL 359.653076 149.873196 \r\nL 360.108381 128.500615 \r\nL 360.595087 159.570008 \r\nL 361.066092 154.11161 \r\nL 361.552798 137.960707 \r\nL 362.023803 167.269564 \r\nL 362.510509 169.129869 \r\nL 362.997214 177.350427 \r\nL 363.468219 222.38753 \r\nL 363.954925 197.514641 \r\nL 364.42593 186.130292 \r\nL 364.912636 179.178225 \r\nL 365.399341 155.775135 \r\nL 365.838946 148.436315 \r\nL 366.325652 151.487086 \r\nL 366.796657 213.667477 \r\nL 367.283362 225.206808 \r\nL 367.754368 208.474555 \r\nL 368.241073 255.60467 \r\nL 368.727779 261.806693 \r\nL 369.198784 263.010968 \r\nL 369.68549 236.456842 \r\nL 370.156495 204.00154 \r\nL 370.6432 203.669574 \r\nL 371.129906 207.215457 \r\nL 371.569511 193.987606 \r\nL 372.056216 268.686452 \r\nL 372.527222 298.38863 \r\nL 373.013927 302.430072 \r\nL 373.484932 252.734145 \r\nL 373.971638 226.771792 \r\nL 374.458343 146.4404 \r\nL 374.929349 138.825894 \r\nL 375.416054 161.664943 \r\nL 375.88706 168.852673 \r\nL 376.373765 181.793968 \r\nL 376.860471 224.092186 \r\nL 377.300076 229.9064 \r\nL 377.786781 207.804395 \r\nL 378.257786 191.692664 \r\nL 378.744492 192.841989 \r\nL 379.215497 218.433593 \r\nL 379.702203 183.528986 \r\nL 380.188908 111.124082 \r\nL 380.659914 67.843783 \r\nL 381.146619 56.783194 \r\nL 381.617624 71.414879 \r\nL 382.10433 78.817951 \r\nL 382.591035 116.575115 \r\nL 383.04634 177.529125 \r\nL 383.533046 206.751661 \r\nL 384.004051 201.915282 \r\nL 384.490757 204.912146 \r\nL 384.961762 202.691783 \r\nL 385.448468 212.700035 \r\nL 385.935173 214.864423 \r\nL 386.406178 212.025792 \r\nL 386.892884 185.929761 \r\nL 387.363889 170.542902 \r\nL 387.850595 229.653176 \r\nL 388.3373 272.676325 \r\nL 388.776905 295.738338 \r\nL 389.734616 253.489397 \r\nL 390.221321 289.756655 \r\nL 390.692327 297.790564 \r\nL 391.179032 271.587547 \r\nL 392.136743 142.378374 \r\nL 392.623449 151.450173 \r\nL 393.094454 149.168231 \r\nL 393.581159 179.747771 \r\nL 394.067865 226.470002 \r\nL 394.50747 206.043822 \r\nL 394.994175 207.622291 \r\nL 395.465181 165.75173 \r\nL 395.951886 174.629738 \r\nL 396.422891 198.968821 \r\nL 396.909597 264.342933 \r\nL 397.396302 282.418074 \r\nL 397.867308 214.922249 \r\nL 398.354013 185.585908 \r\nL 398.825019 200.412616 \r\nL 399.311724 223.521527 \r\nL 399.79843 237.655887 \r\nL 400.238035 243.732539 \r\nL 400.72474 262.849064 \r\nL 401.195745 247.08645 \r\nL 401.682451 225.723092 \r\nL 402.640162 244.653532 \r\nL 403.126867 275.795793 \r\nL 403.597872 281.623548 \r\nL 404.555583 220.671984 \r\nL 405.984299 168.577089 \r\nL 406.471005 136.861817 \r\nL 406.94201 198.731089 \r\nL 407.428716 209.057337 \r\nL 408.386427 276.085496 \r\nL 408.873132 316.816903 \r\nL 409.344137 265.266703 \r\nL 409.830843 264.933873 \r\nL 410.301848 256.607475 \r\nL 410.788554 225.403325 \r\nL 411.275259 177.76902 \r\nL 411.714864 157.371171 \r\nL 412.20157 123.676527 \r\nL 412.672575 179.95711 \r\nL 413.15928 201.084043 \r\nL 413.630286 215.87856 \r\nL 414.116991 217.044431 \r\nL 414.603697 226.910395 \r\nL 415.074702 230.49382 \r\nL 415.561408 259.025909 \r\nL 417.005824 87.414186 \r\nL 417.445429 90.919248 \r\nL 418.40314 154.629916 \r\nL 418.889845 156.689614 \r\nL 419.36085 139.620023 \r\nL 419.847556 177.018929 \r\nL 420.334261 202.730597 \r\nL 420.805267 186.891779 \r\nL 421.291972 160.269495 \r\nL 421.762978 176.988727 \r\nL 422.249683 203.34817 \r\nL 422.736389 160.743133 \r\nL 423.175994 132.894575 \r\nL 423.662699 113.681881 \r\nL 424.133704 117.089859 \r\nL 424.62041 115.18576 \r\nL 425.091415 176.43231 \r\nL 425.578121 195.646924 \r\nL 426.064826 162.637065 \r\nL 426.535831 219.479272 \r\nL 427.022537 257.277885 \r\nL 427.493542 273.976735 \r\nL 427.980248 285.449811 \r\nL 428.466953 224.528667 \r\nL 428.922258 219.21969 \r\nL 429.408964 192.505428 \r\nL 429.879969 197.821541 \r\nL 430.366675 156.271595 \r\nL 430.83768 132.115011 \r\nL 431.324386 169.926523 \r\nL 431.811091 167.867529 \r\nL 432.282096 151.834095 \r\nL 432.768802 155.520373 \r\nL 433.239807 160.772924 \r\nL 433.726513 160.738664 \r\nL 434.213218 191.928584 \r\nL 434.652823 163.474655 \r\nL 435.139529 148.443296 \r\nL 435.610534 170.938152 \r\nL 436.097239 223.033692 \r\nL 436.568245 219.084893 \r\nL 437.05495 162.764407 \r\nL 437.541656 152.305803 \r\nL 438.012661 145.711505 \r\nL 438.499367 162.800371 \r\nL 438.970372 184.722542 \r\nL 439.457077 194.981675 \r\nL 439.943783 193.755988 \r\nL 440.383388 165.036963 \r\nL 440.870093 173.421821 \r\nL 441.341099 207.022861 \r\nL 441.827804 190.663686 \r\nL 442.298809 141.384397 \r\nL 442.785515 171.998773 \r\nL 443.27222 166.075255 \r\nL 443.743226 152.576819 \r\nL 444.229931 169.094093 \r\nL 444.700937 174.797677 \r\nL 445.187642 190.471005 \r\nL 445.674348 177.703058 \r\nL 446.600658 127.50916 \r\nL 447.071663 108.604801 \r\nL 447.558369 172.949208 \r\nL 448.029374 274.800615 \r\nL 448.51608 270.682294 \r\nL 449.002785 303.07245 \r\nL 449.960496 140.519405 \r\nL 450.431501 146.03063 \r\nL 450.918207 221.124785 \r\nL 451.404912 222.31355 \r\nL 451.860217 197.904353 \r\nL 452.346923 231.642398 \r\nL 452.817928 194.981752 \r\nL 453.304634 202.806145 \r\nL 453.775639 195.75092 \r\nL 454.262345 162.17896 \r\nL 455.220055 136.46375 \r\nL 455.706761 182.746953 \r\nL 456.177766 244.512961 \r\nL 456.664472 242.229312 \r\nL 457.151177 249.963896 \r\nL 457.590782 228.03862 \r\nL 458.077488 210.451235 \r\nL 458.548493 184.321869 \r\nL 459.035198 212.063232 \r\nL 459.506204 202.350688 \r\nL 459.992909 176.793442 \r\nL 460.479615 170.431556 \r\nL 460.95062 161.671883 \r\nL 461.437326 200.33513 \r\nL 461.908331 212.864895 \r\nL 462.395036 269.629698 \r\nL 462.881742 270.594307 \r\nL 463.808052 204.538542 \r\nL 464.279058 213.144584 \r\nL 465.236768 242.8351 \r\nL 465.723474 239.171128 \r\nL 466.210179 216.672593 \r\nL 466.681185 208.110326 \r\nL 467.16789 184.091618 \r\nL 467.638896 179.374797 \r\nL 468.125601 176.637089 \r\nL 468.612307 177.247044 \r\nL 469.051911 163.054436 \r\nL 469.538617 186.728524 \r\nL 470.009622 201.633203 \r\nL 470.496328 204.391844 \r\nL 471.454039 270.885313 \r\nL 472.411749 225.947303 \r\nL 472.898455 140.404399 \r\nL 473.36946 133.206505 \r\nL 473.856166 144.531254 \r\nL 474.342871 185.91954 \r\nL 474.798176 204.028677 \r\nL 475.284882 207.986991 \r\nL 475.755887 241.066721 \r\nL 476.242593 262.37587 \r\nL 477.200303 269.740669 \r\nL 477.687009 311.075442 \r\nL 478.158014 271.954828 \r\nL 478.64472 203.323328 \r\nL 479.115725 198.531804 \r\nL 479.602431 214.412872 \r\nL 480.528741 187.22844 \r\nL 481.015447 201.125817 \r\nL 481.486452 210.423458 \r\nL 481.973157 199.159569 \r\nL 482.444163 236.583802 \r\nL 482.930868 266.303777 \r\nL 483.417574 276.881122 \r\nL 483.888579 240.527743 \r\nL 484.375284 232.039823 \r\nL 484.84629 188.402609 \r\nL 485.332995 205.768517 \r\nL 485.819701 218.641298 \r\nL 486.259306 246.714191 \r\nL 487.217017 225.52309 \r\nL 487.703722 254.038382 \r\nL 488.174727 244.194768 \r\nL 488.661433 226.135171 \r\nL 489.148138 230.115902 \r\nL 489.619144 238.976694 \r\nL 490.105849 232.084275 \r\nL 490.576855 201.692673 \r\nL 491.06356 154.632799 \r\nL 491.550265 142.56492 \r\nL 491.98987 111.860086 \r\nL 492.476576 88.215278 \r\nL 492.947581 80.033484 \r\nL 493.905292 169.322993 \r\nL 494.391998 173.112705 \r\nL 494.878703 141.183668 \r\nL 495.836414 56.82937 \r\nL 496.307419 83.569153 \r\nL 497.28083 270.044519 \r\nL 497.736135 301.959742 \r\nL 498.222841 252.593907 \r\nL 499.180552 217.415003 \r\nL 499.651557 251.814268 \r\nL 500.138262 310.018319 \r\nL 500.624968 300.159978 \r\nL 501.095973 287.784486 \r\nL 501.582679 261.519183 \r\nL 502.053684 223.160315 \r\nL 502.54039 252.340538 \r\nL 503.027095 307.810476 \r\nL 503.4667 311.791065 \r\nL 503.953406 259.835431 \r\nL 504.424411 246.773761 \r\nL 504.911116 237.094487 \r\nL 505.382122 179.582237 \r\nL 505.868827 157.664494 \r\nL 506.355533 178.969338 \r\nL 506.826538 166.852475 \r\nL 507.313243 191.798595 \r\nL 507.784249 194.781036 \r\nL 509.197265 304.325503 \r\nL 510.154976 336.29177 \r\nL 510.641681 313.625956 \r\nL 511.112686 246.509988 \r\nL 511.599392 234.12837 \r\nL 512.086097 248.769965 \r\nL 512.557103 223.443646 \r\nL 513.514813 141.985015 \r\nL 514.001519 158.874022 \r\nL 514.488224 151.219399 \r\nL 514.927829 170.113168 \r\nL 515.414535 215.887947 \r\nL 516.372246 260.248966 \r\nL 516.843251 232.426212 \r\nL 517.329957 219.23406 \r\nL 517.816662 233.071861 \r\nL 518.287667 206.712282 \r\nL 518.774373 187.093603 \r\nL 519.245378 155.971936 \r\nL 519.732084 132.200904 \r\nL 520.674094 174.095498 \r\nL 521.1608 167.248463 \r\nL 521.631805 174.830852 \r\nL 522.118511 162.761343 \r\nL 522.589516 148.311955 \r\nL 523.076221 190.402244 \r\nL 523.562927 195.761154 \r\nL 524.033932 145.960725 \r\nL 524.520638 117.69553 \r\nL 524.991643 113.10195 \r\nL 525.478349 135.374796 \r\nL 525.965054 186.557904 \r\nL 526.404659 202.337423 \r\nL 526.891365 226.201003 \r\nL 527.849075 317.526366 \r\nL 528.320081 340.05912 \r\nL 528.806786 335.390384 \r\nL 529.293492 301.94458 \r\nL 529.764497 326.94869 \r\nL 530.251202 236.059241 \r\nL 530.722208 216.958075 \r\nL 531.208913 232.539978 \r\nL 532.135224 190.099047 \r\nL 532.621929 192.541615 \r\nL 533.092935 178.020018 \r\nL 533.57964 168.285872 \r\nL 534.050645 190.814853 \r\nL 535.024056 254.300436 \r\nL 535.495062 255.464325 \r\nL 535.981767 236.123833 \r\nL 536.452772 148.326764 \r\nL 536.939478 163.148915 \r\nL 537.426183 187.056205 \r\nL 537.865788 172.780803 \r\nL 538.823499 222.201259 \r\nL 539.310205 274.930451 \r\nL 539.78121 235.240766 \r\nL 540.267916 218.618399 \r\nL 540.754621 242.773593 \r\nL 541.225626 236.610827 \r\nL 541.712332 190.578123 \r\nL 542.183337 168.027169 \r\nL 542.670043 173.483203 \r\nL 543.612053 286.505949 \r\nL 544.098759 292.49014 \r\nL 544.569764 296.698718 \r\nL 545.05647 265.300776 \r\nL 545.527475 244.737042 \r\nL 546.01418 216.629338 \r\nL 546.500886 159.484683 \r\nL 546.971891 144.559029 \r\nL 547.929602 221.718991 \r\nL 548.416308 207.479676 \r\nL 548.903013 225.015577 \r\nL 549.342618 271.796309 \r\nL 549.829323 288.970061 \r\nL 550.300329 269.216706 \r\nL 550.787034 220.515548 \r\nL 551.25804 224.226883 \r\nL 552.231451 137.696645 \r\nL 552.702456 146.910703 \r\nL 553.189161 143.156447 \r\nL 554.146872 299.628202 \r\nL 554.633578 249.460863 \r\nL 555.073183 224.271578 \r\nL 555.559888 255.223501 \r\nL 556.030894 277.93165 \r\nL 556.517599 253.516739 \r\nL 557.47531 185.313102 \r\nL 557.962015 186.940101 \r\nL 558.433021 213.29279 \r\nL 558.919726 229.524426 \r\nL 559.390731 232.182918 \r\nL 559.877437 249.707935 \r\nL 560.364142 251.941712 \r\nL 560.803747 236.907491 \r\nL 561.290453 202.049717 \r\nL 561.761458 179.949226 \r\nL 562.248164 168.846787 \r\nL 562.719169 115.350061 \r\nL 563.205875 116.674481 \r\nL 563.69258 147.835694 \r\nL 564.163585 163.415339 \r\nL 564.650291 216.054525 \r\nL 565.121296 253.331845 \r\nL 565.608002 232.046923 \r\nL 566.550012 168.138174 \r\nL 567.036718 167.543419 \r\nL 567.507723 181.098679 \r\nL 567.994429 166.212466 \r\nL 568.465434 187.279414 \r\nL 568.952139 191.865141 \r\nL 569.438845 199.730485 \r\nL 569.90985 235.79938 \r\nL 570.867561 270.423204 \r\nL 571.354267 258.560977 \r\nL 571.840972 229.932851 \r\nL 572.280577 161.128873 \r\nL 573.238288 84.124135 \r\nL 573.724993 79.724723 \r\nL 574.195999 94.474835 \r\nL 575.16941 144.167405 \r\nL 575.640415 208.305149 \r\nL 576.12712 220.902349 \r\nL 576.598126 228.875273 \r\nL 577.084831 199.136093 \r\nL 577.571537 209.418496 \r\nL 578.011142 226.37464 \r\nL 578.497847 238.717964 \r\nL 578.968852 193.318066 \r\nL 579.455558 180.149164 \r\nL 579.926563 163.654658 \r\nL 580.413269 119.627201 \r\nL 580.899974 130.339221 \r\nL 581.37098 125.320616 \r\nL 582.32869 167.617179 \r\nL 582.815396 180.225857 \r\nL 583.302101 212.915897 \r\nL 583.741706 225.720028 \r\nL 584.228412 256.404022 \r\nL 584.699417 238.895996 \r\nL 585.186123 208.184246 \r\nL 585.657128 148.502179 \r\nL 586.143833 151.423691 \r\nL 586.630539 164.991452 \r\nL 587.101544 163.774112 \r\nL 587.58825 180.251269 \r\nL 588.059255 180.887498 \r\nL 588.545961 182.891222 \r\nL 589.032666 218.716395 \r\nL 589.974677 129.688754 \r\nL 590.445682 112.410566 \r\nL 590.932388 129.362335 \r\nL 591.403393 175.23845 \r\nL 591.890098 164.036117 \r\nL 592.376804 139.026003 \r\nL 592.847809 150.396456 \r\nL 593.334515 131.204884 \r\nL 594.292225 247.714015 \r\nL 594.778931 294.43407 \r\nL 595.218536 300.84359 \r\nL 595.705241 266.242575 \r\nL 596.176247 245.080649 \r\nL 596.662952 248.509913 \r\nL 597.620663 135.514127 \r\nL 598.107369 121.23799 \r\nL 598.578374 148.284036 \r\nL 599.065079 168.289754 \r\nL 599.536085 181.756305 \r\nL 600.02279 167.545644 \r\nL 600.509496 200.255168 \r\nL 600.949101 195.398004 \r\nL 601.435806 182.798324 \r\nL 602.393517 177.776048 \r\nL 602.864522 200.434325 \r\nL 603.351228 186.899904 \r\nL 603.837933 168.506799 \r\nL 604.308939 82.153641 \r\nL 604.795644 93.677524 \r\nL 605.266649 138.460987 \r\nL 605.753355 139.427439 \r\nL 606.679665 243.229139 \r\nL 607.166371 226.758685 \r\nL 607.637376 183.916491 \r\nL 608.124082 155.738992 \r\nL 608.595087 160.214898 \r\nL 609.081792 141.121929 \r\nL 610.526209 248.881616 \r\nL 610.997214 252.441014 \r\nL 611.48392 250.908437 \r\nL 611.970625 225.660842 \r\nL 612.42593 214.494076 \r\nL 613.383641 328.945803 \r\nL 613.870347 284.070197 \r\nL 614.828057 108.819699 \r\nL 615.314763 65.092255 \r\nL 615.785768 111.25211 \r\nL 616.272474 116.070118 \r\nL 616.743479 130.276327 \r\nL 617.230184 183.275227 \r\nL 617.71689 191.998883 \r\nL 618.156495 188.444933 \r\nL 618.6432 132.5656 \r\nL 619.114206 132.190037 \r\nL 619.600911 160.404216 \r\nL 620.071917 200.303838 \r\nL 620.558622 184.848441 \r\nL 621.045328 195.887885 \r\nL 621.516333 202.59379 \r\nL 622.003038 230.405492 \r\nL 622.474044 269.944451 \r\nL 623.447455 241.243504 \r\nL 623.88706 223.083124 \r\nL 624.373765 175.84534 \r\nL 624.84477 167.146892 \r\nL 625.331476 167.620951 \r\nL 625.802481 220.2325 \r\nL 626.289187 238.190565 \r\nL 626.775892 261.126476 \r\nL 627.246898 211.665534 \r\nL 627.733603 172.505435 \r\nL 628.204608 205.752041 \r\nL 628.691314 159.529469 \r\nL 629.178019 136.418294 \r\nL 629.617624 165.435984 \r\nL 630.10433 206.879034 \r\nL 630.575335 212.673126 \r\nL 631.062041 204.011967 \r\nL 631.533046 208.234476 \r\nL 632.019751 264.16285 \r\nL 632.506457 275.994369 \r\nL 632.977462 296.840896 \r\nL 633.464168 278.479418 \r\nL 633.935173 270.426224 \r\nL 634.421879 271.358749 \r\nL 635.363889 124.696291 \r\nL 635.850595 69.642345 \r\nL 636.3216 108.827116 \r\nL 636.808306 189.086833 \r\nL 637.279311 203.107124 \r\nL 637.766016 228.304751 \r\nL 638.252722 199.608593 \r\nL 638.723727 194.604441 \r\nL 639.210433 226.938058 \r\nL 639.681438 245.106326 \r\nL 641.094454 78.459081 \r\nL 641.581159 71.681635 \r\nL 642.052165 79.150848 \r\nL 643.009876 40.826252 \r\nL 643.983287 125.817323 \r\nL 644.454292 180.331607 \r\nL 644.940997 188.692787 \r\nL 645.412003 145.617071 \r\nL 645.898708 147.474288 \r\nL 646.385414 148.168667 \r\nL 646.825019 163.659934 \r\nL 647.311724 147.601761 \r\nL 647.782729 171.382505 \r\nL 648.269435 147.232592 \r\nL 648.74044 116.874279 \r\nL 649.227146 106.160071 \r\nL 649.713851 160.637125 \r\nL 650.184857 180.499169 \r\nL 650.671562 206.57783 \r\nL 651.142567 246.631167 \r\nL 651.629273 234.824872 \r\nL 652.115978 262.363134 \r\nL 652.555583 240.060141 \r\nL 653.042289 258.198896 \r\nL 653.513294 283.551629 \r\nL 654 321.973793 \r\nL 654.471005 334.500442 \r\nL 655.915421 139.454683 \r\nL 656.402127 95.499432 \r\nL 656.873132 80.454692 \r\nL 657.359838 123.626725 \r\nL 657.846543 126.485287 \r\nL 658.301848 57.627421 \r\nL 658.788554 105.987206 \r\nL 659.259559 170.180247 \r\nL 659.746264 185.278449 \r\nL 660.21727 217.565775 \r\nL 660.703975 219.155338 \r\nL 661.190681 199.076819 \r\nL 662.148392 272.85348 \r\nL 662.619397 284.580095 \r\nL 663.106102 283.683842 \r\nL 663.592808 274.299209 \r\nL 664.032413 249.664568 \r\nL 664.990124 120.228887 \r\nL 665.476829 128.499633 \r\nL 665.947834 207.918103 \r\nL 666.43454 269.971741 \r\nL 666.921245 292.296687 \r\nL 667.392251 272.458301 \r\nL 667.878956 229.717447 \r\nL 668.836667 77.157412 \r\nL 669.323373 44.10798 \r\nL 669.762978 33.141297 \r\nL 670.249683 24.496364 \r\nL 670.720688 57.030637 \r\nL 671.678399 264.475706 \r\nL 672.165105 283.535882 \r\nL 672.65181 277.56592 \r\nL 673.122816 284.285203 \r\nL 674.080526 131.588659 \r\nL 674.567232 112.572438 \r\nL 675.493542 228.150501 \r\nL 675.980248 216.122003 \r\nL 676.451253 207.253075 \r\nL 676.937959 203.900605 \r\nL 677.408964 180.302781 \r\nL 677.895669 171.490558 \r\nL 678.85338 111.035932 \r\nL 679.340086 160.659736 \r\nL 679.811091 189.235071 \r\nL 680.297797 191.089243 \r\nL 680.784502 184.100979 \r\nL 681.239807 189.095245 \r\nL 681.726513 190.99183 \r\nL 682.197518 194.737641 \r\nL 682.684223 200.155528 \r\nL 683.155229 212.368222 \r\nL 683.641934 236.185588 \r\nL 684.12864 179.220803 \r\nL 684.599645 165.140872 \r\nL 685.086351 138.637872 \r\nL 686.044061 242.217828 \r\nL 686.530767 250.866637 \r\nL 686.970372 242.624089 \r\nL 687.457077 252.487103 \r\nL 687.928083 219.323607 \r\nL 688.414788 215.171228 \r\nL 688.885793 209.617262 \r\nL 689.372499 173.407282 \r\nL 689.859204 189.651177 \r\nL 690.33021 180.429691 \r\nL 690.816915 229.128548 \r\nL 691.287921 221.555463 \r\nL 691.774626 204.87572 \r\nL 692.261332 218.202651 \r\nL 692.700937 257.543824 \r\nL 693.187642 287.871329 \r\nL 693.658647 270.447956 \r\nL 694.145353 225.376542 \r\nL 694.616358 222.457656 \r\nL 695.103064 222.492939 \r\nL 695.589769 199.953753 \r\nL 696.060774 198.013499 \r\nL 696.54748 142.598899 \r\nL 697.018485 140.724186 \r\nL 697.505191 184.264927 \r\nL 697.991896 240.833775 \r\nL 698.431501 250.246621 \r\nL 698.918207 289.559275 \r\nL 699.389212 264.222484 \r\nL 699.875918 266.227124 \r\nL 700.346923 233.719188 \r\nL 700.833628 223.468322 \r\nL 701.320334 227.386746 \r\nL 701.791339 227.076441 \r\nL 702.278045 230.583247 \r\nL 702.74905 238.237704 \r\nL 703.235755 290.956631 \r\nL 703.722461 323.766752 \r\nL 704.177766 259.3254 \r\nL 704.664472 241.533381 \r\nL 705.135477 209.695307 \r\nL 705.622182 212.51625 \r\nL 706.093188 217.893145 \r\nL 706.579893 246.334101 \r\nL 707.066599 199.92674 \r\nL 707.537604 184.831719 \r\nL 708.02431 188.175226 \r\nL 708.495315 148.744229 \r\nL 708.98202 147.002216 \r\nL 709.468726 211.607093 \r\nL 709.908331 235.869093 \r\nL 710.866042 196.78883 \r\nL 711.352747 224.917862 \r\nL 711.823752 226.016577 \r\nL 712.310458 192.73249 \r\nL 712.797163 195.188033 \r\nL 713.268169 209.831457 \r\nL 713.754874 230.093967 \r\nL 714.712585 327.658386 \r\nL 715.199291 292.14906 \r\nL 715.638896 247.820426 \r\nL 716.125601 219.43444 \r\nL 716.596606 180.020644 \r\nL 717.083312 182.212469 \r\nL 717.554317 193.787904 \r\nL 718.041023 170.505276 \r\nL 718.527728 111.183802 \r\nL 718.998733 112.005251 \r\nL 719.485439 143.11658 \r\nL 719.956444 230.636338 \r\nL 720.929855 192.596718 \r\nL 721.36946 147.397444 \r\nL 721.36946 147.397444 \r\n\" style=\"fill:none;stroke:#1f77b4;stroke-linecap:square;stroke-width:1.5;\"/>\r\n   </g>\r\n   <g id=\"patch_3\">\r\n    <path d=\"M 28.942188 387.72 \r\nL 28.942188 7.2 \r\n\" style=\"fill:none;stroke:#000000;stroke-linecap:square;stroke-linejoin:miter;stroke-width:0.8;\"/>\r\n   </g>\r\n   <g id=\"patch_4\">\r\n    <path d=\"M 754.342188 387.72 \r\nL 754.342188 7.2 \r\n\" style=\"fill:none;stroke:#000000;stroke-linecap:square;stroke-linejoin:miter;stroke-width:0.8;\"/>\r\n   </g>\r\n   <g id=\"patch_5\">\r\n    <path d=\"M 28.942187 387.72 \r\nL 754.342188 387.72 \r\n\" style=\"fill:none;stroke:#000000;stroke-linecap:square;stroke-linejoin:miter;stroke-width:0.8;\"/>\r\n   </g>\r\n   <g id=\"patch_6\">\r\n    <path d=\"M 28.942187 7.2 \r\nL 754.342188 7.2 \r\n\" style=\"fill:none;stroke:#000000;stroke-linecap:square;stroke-linejoin:miter;stroke-width:0.8;\"/>\r\n   </g>\r\n  </g>\r\n </g>\r\n <defs>\r\n  <clipPath id=\"p105621155f\">\r\n   <rect height=\"380.52\" width=\"725.4\" x=\"28.942188\" y=\"7.2\"/>\r\n  </clipPath>\r\n </defs>\r\n</svg>\r\n",
      "text/plain": [
       "<Figure size 936x504 with 1 Axes>"
      ]
     },
     "metadata": {
      "needs_background": "light"
     }
    }
   ],
   "metadata": {}
  },
  {
   "cell_type": "markdown",
   "source": [
    "**Question 3.25**\r\n",
    "\r\n",
    "Not sure I can tell from the image above anything.\r\n",
    "But it is an **AR(2)**"
   ],
   "metadata": {}
  },
  {
   "cell_type": "markdown",
   "source": [
    "#### Estimating Different Models\r\n",
    "\r\n",
    "Estimating an AR(1) and an AR(2) for Y series."
   ],
   "metadata": {}
  },
  {
   "cell_type": "code",
   "execution_count": 35,
   "source": [
    "# Estimate AR(1)\r\n",
    "y_ar1 = sm.tsa.arima.ARIMA(y_series,trend='c', order = (1,0,0))\r\n",
    "y_ar1_fit = y_ar1.fit()\r\n",
    "print(y_ar1_fit.summary())"
   ],
   "outputs": [
    {
     "output_type": "stream",
     "name": "stdout",
     "text": [
      "                               SARIMAX Results                                \n",
      "==============================================================================\n",
      "Dep. Variable:                      y   No. Observations:                 1381\n",
      "Model:                 ARIMA(1, 0, 0)   Log Likelihood               -2132.177\n",
      "Date:                Wed, 29 Sep 2021   AIC                           4270.355\n",
      "Time:                        15:54:11   BIC                           4286.046\n",
      "Sample:                    02-28-1900   HQIC                          4276.225\n",
      "                         - 02-28-2015                                         \n",
      "Covariance Type:                  opg                                         \n",
      "==============================================================================\n",
      "                 coef    std err          z      P>|z|      [0.025      0.975]\n",
      "------------------------------------------------------------------------------\n",
      "const          0.0712      0.159      0.447      0.655      -0.241       0.383\n",
      "ar.L1          0.8083      0.016     51.600      0.000       0.778       0.839\n",
      "sigma2         1.2830      0.047     27.542      0.000       1.192       1.374\n",
      "===================================================================================\n",
      "Ljung-Box (L1) (Q):                 221.85   Jarque-Bera (JB):                 2.68\n",
      "Prob(Q):                              0.00   Prob(JB):                         0.26\n",
      "Heteroskedasticity (H):               0.95   Skew:                             0.04\n",
      "Prob(H) (two-sided):                  0.58   Kurtosis:                         3.20\n",
      "===================================================================================\n",
      "\n",
      "Warnings:\n",
      "[1] Covariance matrix calculated using the outer product of gradients (complex-step).\n"
     ]
    }
   ],
   "metadata": {}
  },
  {
   "cell_type": "code",
   "execution_count": 36,
   "source": [
    "# Estimate AR(1)\r\n",
    "y_ar2 = sm.tsa.arima.ARIMA(y_series,trend='c', order = (2,0,0))\r\n",
    "y_ar2_fit = y_ar2.fit()\r\n",
    "print(y_ar2_fit.summary())"
   ],
   "outputs": [
    {
     "output_type": "stream",
     "name": "stdout",
     "text": [
      "                               SARIMAX Results                                \n",
      "==============================================================================\n",
      "Dep. Variable:                      y   No. Observations:                 1381\n",
      "Model:                 ARIMA(2, 0, 0)   Log Likelihood               -1938.427\n",
      "Date:                Wed, 29 Sep 2021   AIC                           3884.855\n",
      "Time:                        15:54:11   BIC                           3905.777\n",
      "Sample:                    02-28-1900   HQIC                          3892.681\n",
      "                         - 02-28-2015                                         \n",
      "Covariance Type:                  opg                                         \n",
      "==============================================================================\n",
      "                 coef    std err          z      P>|z|      [0.025      0.975]\n",
      "------------------------------------------------------------------------------\n",
      "const          0.0694      0.093      0.748      0.455      -0.113       0.251\n",
      "ar.L1          1.2087      0.023     52.416      0.000       1.163       1.254\n",
      "ar.L2         -0.4946      0.023    -21.598      0.000      -0.539      -0.450\n",
      "sigma2         0.9687      0.039     25.138      0.000       0.893       1.044\n",
      "===================================================================================\n",
      "Ljung-Box (L1) (Q):                   0.23   Jarque-Bera (JB):                 1.51\n",
      "Prob(Q):                              0.63   Prob(JB):                         0.47\n",
      "Heteroskedasticity (H):               0.97   Skew:                             0.04\n",
      "Prob(H) (two-sided):                  0.78   Kurtosis:                         2.85\n",
      "===================================================================================\n",
      "\n",
      "Warnings:\n",
      "[1] Covariance matrix calculated using the outer product of gradients (complex-step).\n"
     ]
    }
   ],
   "metadata": {}
  },
  {
   "cell_type": "markdown",
   "source": [
    "**Questions 3.26**"
   ],
   "metadata": {}
  },
  {
   "cell_type": "code",
   "execution_count": 37,
   "source": [
    "# eviews adjust for the number of observations\r\n",
    "\r\n",
    "print( \"SBC AR 1 is {}\".format(round(y_ar1_fit.bic/1381,3)))\r\n",
    "print( \"SBC AR 2 is {}\".format(round(y_ar2_fit.bic/1381,3)))"
   ],
   "outputs": [
    {
     "output_type": "stream",
     "name": "stdout",
     "text": [
      "SBC AR 1 is 3.104\n",
      "SBC AR 2 is 2.828\n"
     ]
    }
   ],
   "metadata": {}
  },
  {
   "cell_type": "markdown",
   "source": [
    "**Question 3.27**\r\n",
    "\r\n",
    "Q-test - 12th p-valye"
   ],
   "metadata": {}
  },
  {
   "cell_type": "code",
   "execution_count": 38,
   "source": [
    "sm.stats.acorr_ljungbox(res_1.resid, lags=12, return_df=True)"
   ],
   "outputs": [
    {
     "output_type": "execute_result",
     "data": {
      "text/html": [
       "<div>\n",
       "<style scoped>\n",
       "    .dataframe tbody tr th:only-of-type {\n",
       "        vertical-align: middle;\n",
       "    }\n",
       "\n",
       "    .dataframe tbody tr th {\n",
       "        vertical-align: top;\n",
       "    }\n",
       "\n",
       "    .dataframe thead th {\n",
       "        text-align: right;\n",
       "    }\n",
       "</style>\n",
       "<table border=\"1\" class=\"dataframe\">\n",
       "  <thead>\n",
       "    <tr style=\"text-align: right;\">\n",
       "      <th></th>\n",
       "      <th>lb_stat</th>\n",
       "      <th>lb_pvalue</th>\n",
       "    </tr>\n",
       "  </thead>\n",
       "  <tbody>\n",
       "    <tr>\n",
       "      <th>1</th>\n",
       "      <td>1.979521</td>\n",
       "      <td>0.159441</td>\n",
       "    </tr>\n",
       "    <tr>\n",
       "      <th>2</th>\n",
       "      <td>1.996892</td>\n",
       "      <td>0.368452</td>\n",
       "    </tr>\n",
       "    <tr>\n",
       "      <th>3</th>\n",
       "      <td>2.005436</td>\n",
       "      <td>0.571279</td>\n",
       "    </tr>\n",
       "    <tr>\n",
       "      <th>4</th>\n",
       "      <td>2.026257</td>\n",
       "      <td>0.730929</td>\n",
       "    </tr>\n",
       "    <tr>\n",
       "      <th>5</th>\n",
       "      <td>2.462805</td>\n",
       "      <td>0.782086</td>\n",
       "    </tr>\n",
       "    <tr>\n",
       "      <th>6</th>\n",
       "      <td>4.831394</td>\n",
       "      <td>0.565613</td>\n",
       "    </tr>\n",
       "    <tr>\n",
       "      <th>7</th>\n",
       "      <td>5.174110</td>\n",
       "      <td>0.638725</td>\n",
       "    </tr>\n",
       "    <tr>\n",
       "      <th>8</th>\n",
       "      <td>14.344970</td>\n",
       "      <td>0.073205</td>\n",
       "    </tr>\n",
       "    <tr>\n",
       "      <th>9</th>\n",
       "      <td>14.808150</td>\n",
       "      <td>0.096342</td>\n",
       "    </tr>\n",
       "    <tr>\n",
       "      <th>10</th>\n",
       "      <td>15.132444</td>\n",
       "      <td>0.127307</td>\n",
       "    </tr>\n",
       "    <tr>\n",
       "      <th>11</th>\n",
       "      <td>15.957929</td>\n",
       "      <td>0.142700</td>\n",
       "    </tr>\n",
       "    <tr>\n",
       "      <th>12</th>\n",
       "      <td>15.965935</td>\n",
       "      <td>0.192801</td>\n",
       "    </tr>\n",
       "  </tbody>\n",
       "</table>\n",
       "</div>"
      ],
      "text/plain": [
       "      lb_stat  lb_pvalue\n",
       "1    1.979521   0.159441\n",
       "2    1.996892   0.368452\n",
       "3    2.005436   0.571279\n",
       "4    2.026257   0.730929\n",
       "5    2.462805   0.782086\n",
       "6    4.831394   0.565613\n",
       "7    5.174110   0.638725\n",
       "8   14.344970   0.073205\n",
       "9   14.808150   0.096342\n",
       "10  15.132444   0.127307\n",
       "11  15.957929   0.142700\n",
       "12  15.965935   0.192801"
      ]
     },
     "metadata": {},
     "execution_count": 38
    }
   ],
   "metadata": {}
  },
  {
   "cell_type": "code",
   "execution_count": 39,
   "source": [
    "sm.stats.acorr_ljungbox(y_ar2_fit.resid, lags=12, return_df=True)"
   ],
   "outputs": [
    {
     "output_type": "execute_result",
     "data": {
      "text/html": [
       "<div>\n",
       "<style scoped>\n",
       "    .dataframe tbody tr th:only-of-type {\n",
       "        vertical-align: middle;\n",
       "    }\n",
       "\n",
       "    .dataframe tbody tr th {\n",
       "        vertical-align: top;\n",
       "    }\n",
       "\n",
       "    .dataframe thead th {\n",
       "        text-align: right;\n",
       "    }\n",
       "</style>\n",
       "<table border=\"1\" class=\"dataframe\">\n",
       "  <thead>\n",
       "    <tr style=\"text-align: right;\">\n",
       "      <th></th>\n",
       "      <th>lb_stat</th>\n",
       "      <th>lb_pvalue</th>\n",
       "    </tr>\n",
       "  </thead>\n",
       "  <tbody>\n",
       "    <tr>\n",
       "      <th>1</th>\n",
       "      <td>0.228939</td>\n",
       "      <td>0.632312</td>\n",
       "    </tr>\n",
       "    <tr>\n",
       "      <th>2</th>\n",
       "      <td>0.236069</td>\n",
       "      <td>0.888665</td>\n",
       "    </tr>\n",
       "    <tr>\n",
       "      <th>3</th>\n",
       "      <td>0.463333</td>\n",
       "      <td>0.926870</td>\n",
       "    </tr>\n",
       "    <tr>\n",
       "      <th>4</th>\n",
       "      <td>0.468411</td>\n",
       "      <td>0.976502</td>\n",
       "    </tr>\n",
       "    <tr>\n",
       "      <th>5</th>\n",
       "      <td>2.781689</td>\n",
       "      <td>0.733599</td>\n",
       "    </tr>\n",
       "    <tr>\n",
       "      <th>6</th>\n",
       "      <td>2.828232</td>\n",
       "      <td>0.830076</td>\n",
       "    </tr>\n",
       "    <tr>\n",
       "      <th>7</th>\n",
       "      <td>4.153820</td>\n",
       "      <td>0.761900</td>\n",
       "    </tr>\n",
       "    <tr>\n",
       "      <th>8</th>\n",
       "      <td>4.406683</td>\n",
       "      <td>0.818695</td>\n",
       "    </tr>\n",
       "    <tr>\n",
       "      <th>9</th>\n",
       "      <td>5.189240</td>\n",
       "      <td>0.817510</td>\n",
       "    </tr>\n",
       "    <tr>\n",
       "      <th>10</th>\n",
       "      <td>5.222310</td>\n",
       "      <td>0.875841</td>\n",
       "    </tr>\n",
       "    <tr>\n",
       "      <th>11</th>\n",
       "      <td>5.520080</td>\n",
       "      <td>0.903394</td>\n",
       "    </tr>\n",
       "    <tr>\n",
       "      <th>12</th>\n",
       "      <td>5.522066</td>\n",
       "      <td>0.938236</td>\n",
       "    </tr>\n",
       "  </tbody>\n",
       "</table>\n",
       "</div>"
      ],
      "text/plain": [
       "     lb_stat  lb_pvalue\n",
       "1   0.228939   0.632312\n",
       "2   0.236069   0.888665\n",
       "3   0.463333   0.926870\n",
       "4   0.468411   0.976502\n",
       "5   2.781689   0.733599\n",
       "6   2.828232   0.830076\n",
       "7   4.153820   0.761900\n",
       "8   4.406683   0.818695\n",
       "9   5.189240   0.817510\n",
       "10  5.222310   0.875841\n",
       "11  5.520080   0.903394\n",
       "12  5.522066   0.938236"
      ]
     },
     "metadata": {},
     "execution_count": 39
    }
   ],
   "metadata": {}
  },
  {
   "cell_type": "markdown",
   "source": [
    "the values for this one are not correct\r\n",
    "\r\n",
    "AR(1) = 0.000\r\n",
    "AR(2) = 0.854"
   ],
   "metadata": {}
  },
  {
   "cell_type": "markdown",
   "source": [
    "#### Auto - Arima"
   ],
   "metadata": {}
  },
  {
   "cell_type": "code",
   "execution_count": 46,
   "source": [
    "# Load auto_arima to perform \r\n",
    "from pmdarima.arima import auto_arima\r\n",
    "model = auto_arima(y_series,max_q=6,max_p=6,information_criterion = 'aic')\r\n",
    "print(model)"
   ],
   "outputs": [
    {
     "output_type": "stream",
     "name": "stdout",
     "text": [
      " ARIMA(2,0,0)(0,0,0)[0]          \n"
     ]
    }
   ],
   "metadata": {}
  },
  {
   "cell_type": "code",
   "execution_count": 43,
   "source": [
    "print(model.fit(y_series).summary())"
   ],
   "outputs": [
    {
     "output_type": "stream",
     "name": "stdout",
     "text": [
      "                               SARIMAX Results                                \n",
      "==============================================================================\n",
      "Dep. Variable:                      y   No. Observations:                 1381\n",
      "Model:               SARIMAX(2, 0, 0)   Log Likelihood               -1938.708\n",
      "Date:                Wed, 29 Sep 2021   AIC                           3883.416\n",
      "Time:                        15:55:15   BIC                           3899.107\n",
      "Sample:                             0   HQIC                          3889.285\n",
      "                               - 1381                                         \n",
      "Covariance Type:                  opg                                         \n",
      "==============================================================================\n",
      "                 coef    std err          z      P>|z|      [0.025      0.975]\n",
      "------------------------------------------------------------------------------\n",
      "ar.L1          1.2089      0.023     52.453      0.000       1.164       1.254\n",
      "ar.L2         -0.4944      0.023    -21.587      0.000      -0.539      -0.450\n",
      "sigma2         0.9691      0.039     25.166      0.000       0.894       1.045\n",
      "===================================================================================\n",
      "Ljung-Box (L1) (Q):                   0.22   Jarque-Bera (JB):                 1.50\n",
      "Prob(Q):                              0.64   Prob(JB):                         0.47\n",
      "Heteroskedasticity (H):               0.97   Skew:                             0.04\n",
      "Prob(H) (two-sided):                  0.73   Kurtosis:                         2.85\n",
      "===================================================================================\n",
      "\n",
      "Warnings:\n",
      "[1] Covariance matrix calculated using the outer product of gradients (complex-step).\n"
     ]
    }
   ],
   "metadata": {}
  },
  {
   "cell_type": "code",
   "execution_count": 110,
   "source": [
    "# constuct function to find best model\r\n",
    "def autoarima(var,p,q):\r\n",
    "    mdl =[]\r\n",
    "    bic = []\r\n",
    "    for i in range(0,p+1):\r\n",
    "        for j in range(0,q+1):\r\n",
    "            if i+j !=0 :\r\n",
    "                model = sm.tsa.arima.ARIMA(var,trend='c', order = (i,0,j))\r\n",
    "                model_fit = model.fit()\r\n",
    "                mdl.append([i,j])\r\n",
    "                # print(i,j)\r\n",
    "                bic.append(model_fit.aic/len(var))\r\n",
    "                # print(model_fit.bic/len(var))\r\n",
    "    bic_min= min(bic)\r\n",
    "    index= bic.index(bic_min)\r\n",
    "    chosen_model = mdl[index]\r\n",
    "    print(mdl[index])\r\n",
    "    model= sm.tsa.arima.ARIMA(var,trend='c', order = (chosen_model[0],0,chosen_model[1])) # tem um erro aqui \r\n",
    "    model_fit = model.fit()\r\n",
    "    print(model_fit.summary())"
   ],
   "outputs": [],
   "metadata": {}
  },
  {
   "cell_type": "code",
   "execution_count": 111,
   "source": [
    "autoarima(y_series,4,4)"
   ],
   "outputs": [
    {
     "output_type": "stream",
     "name": "stderr",
     "text": [
      "C:\\Users\\JGSILVA\\anaconda3\\lib\\site-packages\\statsmodels\\tsa\\statespace\\sarimax.py:978: UserWarning: Non-invertible starting MA parameters found. Using zeros as starting parameters.\n",
      "  warn('Non-invertible starting MA parameters found.'\n",
      "C:\\Users\\JGSILVA\\anaconda3\\lib\\site-packages\\statsmodels\\tsa\\statespace\\sarimax.py:966: UserWarning: Non-stationary starting autoregressive parameters found. Using zeros as starting parameters.\n",
      "  warn('Non-stationary starting autoregressive parameters'\n",
      "C:\\Users\\JGSILVA\\anaconda3\\lib\\site-packages\\statsmodels\\base\\model.py:566: ConvergenceWarning: Maximum Likelihood optimization failed to converge. Check mle_retvals\n",
      "  warnings.warn(\"Maximum Likelihood optimization failed to \"\n",
      "C:\\Users\\JGSILVA\\anaconda3\\lib\\site-packages\\statsmodels\\base\\model.py:566: ConvergenceWarning: Maximum Likelihood optimization failed to converge. Check mle_retvals\n",
      "  warnings.warn(\"Maximum Likelihood optimization failed to \"\n",
      "C:\\Users\\JGSILVA\\anaconda3\\lib\\site-packages\\statsmodels\\base\\model.py:566: ConvergenceWarning: Maximum Likelihood optimization failed to converge. Check mle_retvals\n",
      "  warnings.warn(\"Maximum Likelihood optimization failed to \"\n"
     ]
    },
    {
     "output_type": "stream",
     "name": "stdout",
     "text": [
      "[2, 0]\n",
      "                               SARIMAX Results                                \n",
      "==============================================================================\n",
      "Dep. Variable:                      y   No. Observations:                 1381\n",
      "Model:                 ARIMA(2, 0, 0)   Log Likelihood               -1938.427\n",
      "Date:                Wed, 29 Sep 2021   AIC                           3884.855\n",
      "Time:                        18:17:24   BIC                           3905.777\n",
      "Sample:                    02-28-1900   HQIC                          3892.681\n",
      "                         - 02-28-2015                                         \n",
      "Covariance Type:                  opg                                         \n",
      "==============================================================================\n",
      "                 coef    std err          z      P>|z|      [0.025      0.975]\n",
      "------------------------------------------------------------------------------\n",
      "const          0.0694      0.093      0.748      0.455      -0.113       0.251\n",
      "ar.L1          1.2087      0.023     52.416      0.000       1.163       1.254\n",
      "ar.L2         -0.4946      0.023    -21.598      0.000      -0.539      -0.450\n",
      "sigma2         0.9687      0.039     25.138      0.000       0.893       1.044\n",
      "===================================================================================\n",
      "Ljung-Box (L1) (Q):                   0.23   Jarque-Bera (JB):                 1.51\n",
      "Prob(Q):                              0.63   Prob(JB):                         0.47\n",
      "Heteroskedasticity (H):               0.97   Skew:                             0.04\n",
      "Prob(H) (two-sided):                  0.78   Kurtosis:                         2.85\n",
      "===================================================================================\n",
      "\n",
      "Warnings:\n",
      "[1] Covariance matrix calculated using the outer product of gradients (complex-step).\n"
     ]
    }
   ],
   "metadata": {}
  },
  {
   "cell_type": "code",
   "execution_count": 88,
   "source": [
    "bic"
   ],
   "outputs": [
    {
     "output_type": "error",
     "ename": "NameError",
     "evalue": "name 'bic' is not defined",
     "traceback": [
      "\u001b[1;31m---------------------------------------------------------------------------\u001b[0m",
      "\u001b[1;31mNameError\u001b[0m                                 Traceback (most recent call last)",
      "\u001b[1;32m~\\AppData\\Local\\Temp/ipykernel_16244/2665411873.py\u001b[0m in \u001b[0;36m<module>\u001b[1;34m\u001b[0m\n\u001b[1;32m----> 1\u001b[1;33m \u001b[0mbic\u001b[0m\u001b[1;33m\u001b[0m\u001b[1;33m\u001b[0m\u001b[0m\n\u001b[0m",
      "\u001b[1;31mNameError\u001b[0m: name 'bic' is not defined"
     ]
    }
   ],
   "metadata": {}
  }
 ],
 "metadata": {
  "kernelspec": {
   "name": "python3",
   "display_name": "Python 3.8.8 64-bit ('base': conda)"
  },
  "language_info": {
   "codemirror_mode": {
    "name": "ipython",
    "version": 3
   },
   "file_extension": ".py",
   "mimetype": "text/x-python",
   "name": "python",
   "nbconvert_exporter": "python",
   "pygments_lexer": "ipython3",
   "version": "3.8.8"
  },
  "interpreter": {
   "hash": "0245625c5e7ed62b3060bc358d543e549967049667c34df825c837136884fd16"
  }
 },
 "nbformat": 4,
 "nbformat_minor": 5
}