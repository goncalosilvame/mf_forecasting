{
 "cells": [
  {
   "cell_type": "markdown",
   "id": "70c03ff8",
   "metadata": {},
   "source": [
    "# Module 3 \n",
    "Replication of the eviews code for python"
   ]
  },
  {
   "cell_type": "markdown",
   "id": "9588753c",
   "metadata": {},
   "source": [
    "### Seassion 3 Questions"
   ]
  },
  {
   "cell_type": "code",
   "execution_count": 139,
   "id": "f615ecda",
   "metadata": {
    "scrolled": true
   },
   "outputs": [
    {
     "data": {
      "text/html": [
       "<div>\n",
       "<style scoped>\n",
       "    .dataframe tbody tr th:only-of-type {\n",
       "        vertical-align: middle;\n",
       "    }\n",
       "\n",
       "    .dataframe tbody tr th {\n",
       "        vertical-align: top;\n",
       "    }\n",
       "\n",
       "    .dataframe thead th {\n",
       "        text-align: right;\n",
       "    }\n",
       "</style>\n",
       "<table border=\"1\" class=\"dataframe\">\n",
       "  <thead>\n",
       "    <tr style=\"text-align: right;\">\n",
       "      <th></th>\n",
       "      <th>et</th>\n",
       "    </tr>\n",
       "  </thead>\n",
       "  <tbody>\n",
       "    <tr>\n",
       "      <th>0</th>\n",
       "      <td>-1.213866</td>\n",
       "    </tr>\n",
       "    <tr>\n",
       "      <th>1</th>\n",
       "      <td>-0.285460</td>\n",
       "    </tr>\n",
       "    <tr>\n",
       "      <th>2</th>\n",
       "      <td>0.590270</td>\n",
       "    </tr>\n",
       "    <tr>\n",
       "      <th>3</th>\n",
       "      <td>0.828546</td>\n",
       "    </tr>\n",
       "    <tr>\n",
       "      <th>4</th>\n",
       "      <td>-0.995426</td>\n",
       "    </tr>\n",
       "  </tbody>\n",
       "</table>\n",
       "</div>"
      ],
      "text/plain": [
       "         et\n",
       "0 -1.213866\n",
       "1 -0.285460\n",
       "2  0.590270\n",
       "3  0.828546\n",
       "4 -0.995426"
      ]
     },
     "execution_count": 139,
     "metadata": {},
     "output_type": "execute_result"
    }
   ],
   "source": [
    "import pandas as pd\n",
    "import numpy as np\n",
    "#import data\n",
    "df = pd.read_csv(\"Module3_data/module3_data_Identifying_ARMA.csv\")\n",
    "df.head()"
   ]
  },
  {
   "cell_type": "markdown",
   "id": "f74d2441",
   "metadata": {},
   "source": [
    "#### Question 3.8\n",
    "\n",
    "The variable et represents a random shock variable. Provide the average and standard-deviation of et below ?"
   ]
  },
  {
   "cell_type": "code",
   "execution_count": 140,
   "id": "f911f163",
   "metadata": {
    "scrolled": true
   },
   "outputs": [
    {
     "data": {
      "text/html": [
       "<div>\n",
       "<style scoped>\n",
       "    .dataframe tbody tr th:only-of-type {\n",
       "        vertical-align: middle;\n",
       "    }\n",
       "\n",
       "    .dataframe tbody tr th {\n",
       "        vertical-align: top;\n",
       "    }\n",
       "\n",
       "    .dataframe thead th {\n",
       "        text-align: right;\n",
       "    }\n",
       "</style>\n",
       "<table border=\"1\" class=\"dataframe\">\n",
       "  <thead>\n",
       "    <tr style=\"text-align: right;\">\n",
       "      <th></th>\n",
       "      <th>et</th>\n",
       "    </tr>\n",
       "  </thead>\n",
       "  <tbody>\n",
       "    <tr>\n",
       "      <th>count</th>\n",
       "      <td>500.000000</td>\n",
       "    </tr>\n",
       "    <tr>\n",
       "      <th>mean</th>\n",
       "      <td>-0.028460</td>\n",
       "    </tr>\n",
       "    <tr>\n",
       "      <th>std</th>\n",
       "      <td>0.982000</td>\n",
       "    </tr>\n",
       "    <tr>\n",
       "      <th>min</th>\n",
       "      <td>-3.106688</td>\n",
       "    </tr>\n",
       "    <tr>\n",
       "      <th>25%</th>\n",
       "      <td>-0.722506</td>\n",
       "    </tr>\n",
       "    <tr>\n",
       "      <th>50%</th>\n",
       "      <td>-0.025935</td>\n",
       "    </tr>\n",
       "    <tr>\n",
       "      <th>75%</th>\n",
       "      <td>0.620061</td>\n",
       "    </tr>\n",
       "    <tr>\n",
       "      <th>max</th>\n",
       "      <td>2.988090</td>\n",
       "    </tr>\n",
       "  </tbody>\n",
       "</table>\n",
       "</div>"
      ],
      "text/plain": [
       "               et\n",
       "count  500.000000\n",
       "mean    -0.028460\n",
       "std      0.982000\n",
       "min     -3.106688\n",
       "25%     -0.722506\n",
       "50%     -0.025935\n",
       "75%      0.620061\n",
       "max      2.988090"
      ]
     },
     "execution_count": 140,
     "metadata": {},
     "output_type": "execute_result"
    }
   ],
   "source": [
    "# Descriptive statistics\n",
    "df.describe()"
   ]
  },
  {
   "cell_type": "markdown",
   "id": "cce139a9",
   "metadata": {},
   "source": [
    "**MEAN** -0.028\n",
    "**Standard deviation**  0.982"
   ]
  },
  {
   "cell_type": "markdown",
   "id": "f5de8159",
   "metadata": {},
   "source": [
    "**Question 3.9**\n",
    "\n",
    "yt = 3.0 + 0.55yt-1 + et\n",
    "\n",
    "Enter the value of the 5th observation of variable yar"
   ]
  },
  {
   "cell_type": "code",
   "execution_count": 141,
   "id": "7cb83162",
   "metadata": {},
   "outputs": [],
   "source": [
    "yar = []\n",
    "et = np.array(df['et'])\n",
    "yar.append(0) #append the first observation"
   ]
  },
  {
   "cell_type": "code",
   "execution_count": 142,
   "id": "4b231758",
   "metadata": {},
   "outputs": [
    {
     "name": "stdout",
     "output_type": "stream",
     "text": [
      "Answer -2.915\n"
     ]
    }
   ],
   "source": [
    "for i in range(1,len(et)):\n",
    "    yar.append(3 + 0.55*yar[i-1] + et[i])\n",
    "#print the 5th observation\n",
    "print(\"Answer\",round(yma[4],3))"
   ]
  },
  {
   "cell_type": "markdown",
   "id": "5e945cc9",
   "metadata": {},
   "source": [
    "**Question 3.10**\n",
    "\n",
    "Enter the value of the 5th observation of variable yma"
   ]
  },
  {
   "cell_type": "code",
   "execution_count": 143,
   "id": "aa059018",
   "metadata": {},
   "outputs": [
    {
     "name": "stdout",
     "output_type": "stream",
     "text": [
      "Answer -2.915\n"
     ]
    }
   ],
   "source": [
    "yma = []\n",
    "yma.append(0)\n",
    "\n",
    "for i in range(1,len(et)):\n",
    "    yma.append(-2.5 + et[i] + 0.7 * et[i-1])\n",
    "    \n",
    "print(\"Answer\",round(yma[4],3))"
   ]
  },
  {
   "attachments": {
    "image-2.png": {
     "image/png": "[encoded data removed]"
    }
   },
   "cell_type": "markdown",
   "id": "29e7c7fd",
   "metadata": {},
   "source": [
    "**Question 3.12**\n",
    "\n",
    "![image-2.png](attachment:image-2.png)\n",
    "\n",
    "Enter the value of the 5th observation of yarma"
   ]
  },
  {
   "cell_type": "code",
   "execution_count": 144,
   "id": "a3422741",
   "metadata": {
    "scrolled": true
   },
   "outputs": [
    {
     "name": "stdout",
     "output_type": "stream",
     "text": [
      "Answer 1.206\n"
     ]
    }
   ],
   "source": [
    "yarma = []\n",
    "yarma.append(0)\n",
    "\n",
    "for t in range(1,len(et)):\n",
    "    yarma.append(0.5 + 0.55 * yarma[t-1] + et[t] + 0.7 * et[t-1])\n",
    "\n",
    "print(\"Answer\",round(yarma[4],3))"
   ]
  },
  {
   "cell_type": "markdown",
   "id": "a75b7013",
   "metadata": {},
   "source": [
    "**Question 3.13**\n",
    "\n",
    "compute the ACF at lags 1-20 for the four series: et and Variables yar,yma and yarma.\n",
    "Enter the values (using 3 decimal places, without rounding) of the ACF at one lag for each series below"
   ]
  },
  {
   "cell_type": "code",
   "execution_count": 145,
   "id": "d87cd35f",
   "metadata": {},
   "outputs": [
    {
     "name": "stderr",
     "output_type": "stream",
     "text": [
      "C:\\Users\\JGSILVA\\anaconda3\\lib\\site-packages\\statsmodels\\tsa\\stattools.py:667: FutureWarning: fft=True will become the default after the release of the 0.12 release of statsmodels. To suppress this warning, explicitly set fft=False.\n",
      "  warnings.warn(\n"
     ]
    }
   ],
   "source": [
    "import statsmodels.api as sm\n",
    "acf_et = sm.tsa.stattools.acf(et, nlags = 20, adjusted = True)\n",
    "acf_yar = sm.tsa.stattools.acf(yar, nlags = 20, adjusted = True)\n",
    "acf_yma = sm.tsa.stattools.acf(yma, nlags = 20, adjusted = True)\n",
    "acf_yarma = sm.tsa.stattools.acf(yarma, nlags = 20, adjusted = True)"
   ]
  },
  {
   "cell_type": "code",
   "execution_count": 146,
   "id": "c0b67f76",
   "metadata": {},
   "outputs": [
    {
     "name": "stdout",
     "output_type": "stream",
     "text": [
      "et 0.024\n",
      "ar 0.522\n",
      "ma 0.427\n",
      "arma 0.728\n"
     ]
    }
   ],
   "source": [
    "# values at one lag\n",
    "print(\"et\", round(acf_et[1],3))\n",
    "print(\"ar\", round(acf_yar[1],3))\n",
    "print(\"ma\", round(acf_yma[1],3))      \n",
    "print(\"arma\", round(acf_yarma[1],3))"
   ]
  },
  {
   "cell_type": "markdown",
   "id": "44fd53da",
   "metadata": {},
   "source": [
    "**Question 3.14**"
   ]
  },
  {
   "cell_type": "code",
   "execution_count": 147,
   "id": "7440ba05",
   "metadata": {},
   "outputs": [
    {
     "data": {
      "text/plain": [
       "0.30250000000000005"
      ]
     },
     "execution_count": 147,
     "metadata": {},
     "output_type": "execute_result"
    }
   ],
   "source": [
    "0.55**2"
   ]
  },
  {
   "cell_type": "markdown",
   "id": "cc967ee4",
   "metadata": {},
   "source": [
    "**Question 3.15**"
   ]
  },
  {
   "cell_type": "code",
   "execution_count": 148,
   "id": "34c7b5d6",
   "metadata": {},
   "outputs": [
    {
     "name": "stdout",
     "output_type": "stream",
     "text": [
      "et -0.099\n",
      "ar 0.207\n",
      "ma -0.102\n",
      "arma 0.332\n"
     ]
    }
   ],
   "source": [
    "# values at one lag\n",
    "print(\"et\", round(acf_et[2],3))\n",
    "print(\"ar\", round(acf_yar[2],3))\n",
    "print(\"ma\", round(acf_yma[2],3))      \n",
    "print(\"arma\", round(acf_yarma[2],3))"
   ]
  },
  {
   "cell_type": "markdown",
   "id": "2e40d9c7",
   "metadata": {},
   "source": [
    "**Question 3.17**\n",
    "\n",
    " estimate the PAC for variable yar for lag 1, then for lag 2"
   ]
  },
  {
   "cell_type": "code",
   "execution_count": 149,
   "id": "0f70bc8d",
   "metadata": {},
   "outputs": [],
   "source": [
    "# from sklearn.linear_model import LinearRegression\n",
    "# ols =  LinearRegression()\n",
    "y_ar_lag = [np.nan]\n",
    "for t in range(1, len(yar)):\n",
    "    y_ar_lag.append(yar[t-1])"
   ]
  },
  {
   "cell_type": "code",
   "execution_count": 150,
   "id": "a112ece4",
   "metadata": {},
   "outputs": [
    {
     "name": "stderr",
     "output_type": "stream",
     "text": [
      "C:\\Users\\JGSILVA\\anaconda3\\lib\\site-packages\\statsmodels\\tsa\\tsatools.py:142: FutureWarning: In a future version of pandas all arguments of concat except for the argument 'objs' will be keyword-only\n",
      "  x = pd.concat(x[::order], 1)\n"
     ]
    },
    {
     "data": {
      "text/html": [
       "<div>\n",
       "<style scoped>\n",
       "    .dataframe tbody tr th:only-of-type {\n",
       "        vertical-align: middle;\n",
       "    }\n",
       "\n",
       "    .dataframe tbody tr th {\n",
       "        vertical-align: top;\n",
       "    }\n",
       "\n",
       "    .dataframe thead th {\n",
       "        text-align: right;\n",
       "    }\n",
       "</style>\n",
       "<table border=\"1\" class=\"dataframe\">\n",
       "  <thead>\n",
       "    <tr style=\"text-align: right;\">\n",
       "      <th></th>\n",
       "      <th>const</th>\n",
       "      <th>et</th>\n",
       "      <th>yar_lag</th>\n",
       "      <th>yar</th>\n",
       "    </tr>\n",
       "  </thead>\n",
       "  <tbody>\n",
       "    <tr>\n",
       "      <th>0</th>\n",
       "      <td>1.0</td>\n",
       "      <td>-1.213866</td>\n",
       "      <td>NaN</td>\n",
       "      <td>0.000000</td>\n",
       "    </tr>\n",
       "    <tr>\n",
       "      <th>1</th>\n",
       "      <td>1.0</td>\n",
       "      <td>-0.285460</td>\n",
       "      <td>0.000000</td>\n",
       "      <td>2.714540</td>\n",
       "    </tr>\n",
       "    <tr>\n",
       "      <th>2</th>\n",
       "      <td>1.0</td>\n",
       "      <td>0.590270</td>\n",
       "      <td>2.714540</td>\n",
       "      <td>5.083267</td>\n",
       "    </tr>\n",
       "    <tr>\n",
       "      <th>3</th>\n",
       "      <td>1.0</td>\n",
       "      <td>0.828546</td>\n",
       "      <td>5.083267</td>\n",
       "      <td>6.624343</td>\n",
       "    </tr>\n",
       "    <tr>\n",
       "      <th>4</th>\n",
       "      <td>1.0</td>\n",
       "      <td>-0.995426</td>\n",
       "      <td>6.624343</td>\n",
       "      <td>5.647963</td>\n",
       "    </tr>\n",
       "  </tbody>\n",
       "</table>\n",
       "</div>"
      ],
      "text/plain": [
       "   const        et   yar_lag       yar\n",
       "0    1.0 -1.213866       NaN  0.000000\n",
       "1    1.0 -0.285460  0.000000  2.714540\n",
       "2    1.0  0.590270  2.714540  5.083267\n",
       "3    1.0  0.828546  5.083267  6.624343\n",
       "4    1.0 -0.995426  6.624343  5.647963"
      ]
     },
     "execution_count": 150,
     "metadata": {},
     "output_type": "execute_result"
    }
   ],
   "source": [
    "df['yar_lag'] = np.array(y_ar_lag)\n",
    "df['yar'] = np.array(yar)\n",
    "df = sm.tools.add_constant(df)\n",
    "df.head()"
   ]
  },
  {
   "cell_type": "code",
   "execution_count": 154,
   "id": "6a54145f",
   "metadata": {},
   "outputs": [
    {
     "name": "stdout",
     "output_type": "stream",
     "text": [
      "                            OLS Regression Results                            \n",
      "==============================================================================\n",
      "Dep. Variable:                    yar   R-squared:                       0.291\n",
      "Model:                            OLS   Adj. R-squared:                  0.290\n",
      "Method:                 Least Squares   F-statistic:                     204.3\n",
      "Date:                Tue, 07 Sep 2021   Prob (F-statistic):           4.62e-39\n",
      "Time:                        16:43:46   Log-Likelihood:                -698.03\n",
      "No. Observations:                 499   AIC:                             1400.\n",
      "Df Residuals:                     497   BIC:                             1408.\n",
      "Df Model:                           1                                         \n",
      "Covariance Type:            nonrobust                                         \n",
      "==============================================================================\n",
      "                 coef    std err          t      P>|t|      [0.025      0.975]\n",
      "------------------------------------------------------------------------------\n",
      "yar_lag        0.5252      0.037     14.292      0.000       0.453       0.597\n",
      "const          3.1371      0.245     12.786      0.000       2.655       3.619\n",
      "==============================================================================\n",
      "Omnibus:                        0.415   Durbin-Watson:                   1.906\n",
      "Prob(Omnibus):                  0.812   Jarque-Bera (JB):                0.252\n",
      "Skew:                           0.011   Prob(JB):                        0.881\n",
      "Kurtosis:                       3.108   Cond. No.                         38.1\n",
      "==============================================================================\n",
      "\n",
      "Notes:\n",
      "[1] Standard Errors assume that the covariance matrix of the errors is correctly specified.\n"
     ]
    }
   ],
   "source": [
    "X = df[['yar_lag', 'const']]\n",
    "model = sm.OLS(df['yar'], X , missing='drop')\n",
    "results = model.fit()\n",
    "print(results.summary())"
   ]
  }
 ],
 "metadata": {
  "kernelspec": {
   "display_name": "Python 3 (ipykernel)",
   "language": "python",
   "name": "python3"
  },
  "language_info": {
   "codemirror_mode": {
    "name": "ipython",
    "version": 3
   },
   "file_extension": ".py",
   "mimetype": "text/x-python",
   "name": "python",
   "nbconvert_exporter": "python",
   "pygments_lexer": "ipython3",
   "version": "3.8.8"
  }
 },
 "nbformat": 4,
 "nbformat_minor": 5
}
