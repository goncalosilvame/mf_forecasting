{
 "cells": [
  {
   "cell_type": "markdown",
   "source": [
    "# Module 3 \r\n",
    "Replication of the eviews code for python"
   ],
   "metadata": {}
  },
  {
   "cell_type": "markdown",
   "source": [
    "### Seassion 3 Questions"
   ],
   "metadata": {}
  },
  {
   "cell_type": "code",
   "execution_count": 3,
   "source": [
    "import pandas as pd\r\n",
    "import numpy as np\r\n",
    "#import data\r\n",
    "df = pd.read_csv(\"Module3_data/module3_data_Identifying_ARMA.csv\")\r\n",
    "df.head()"
   ],
   "outputs": [
    {
     "output_type": "execute_result",
     "data": {
      "text/html": [
       "<div>\n",
       "<style scoped>\n",
       "    .dataframe tbody tr th:only-of-type {\n",
       "        vertical-align: middle;\n",
       "    }\n",
       "\n",
       "    .dataframe tbody tr th {\n",
       "        vertical-align: top;\n",
       "    }\n",
       "\n",
       "    .dataframe thead th {\n",
       "        text-align: right;\n",
       "    }\n",
       "</style>\n",
       "<table border=\"1\" class=\"dataframe\">\n",
       "  <thead>\n",
       "    <tr style=\"text-align: right;\">\n",
       "      <th></th>\n",
       "      <th>et</th>\n",
       "    </tr>\n",
       "  </thead>\n",
       "  <tbody>\n",
       "    <tr>\n",
       "      <th>0</th>\n",
       "      <td>-1.213866</td>\n",
       "    </tr>\n",
       "    <tr>\n",
       "      <th>1</th>\n",
       "      <td>-0.285460</td>\n",
       "    </tr>\n",
       "    <tr>\n",
       "      <th>2</th>\n",
       "      <td>0.590270</td>\n",
       "    </tr>\n",
       "    <tr>\n",
       "      <th>3</th>\n",
       "      <td>0.828546</td>\n",
       "    </tr>\n",
       "    <tr>\n",
       "      <th>4</th>\n",
       "      <td>-0.995426</td>\n",
       "    </tr>\n",
       "  </tbody>\n",
       "</table>\n",
       "</div>"
      ],
      "text/plain": [
       "         et\n",
       "0 -1.213866\n",
       "1 -0.285460\n",
       "2  0.590270\n",
       "3  0.828546\n",
       "4 -0.995426"
      ]
     },
     "metadata": {},
     "execution_count": 3
    }
   ],
   "metadata": {
    "scrolled": true
   }
  },
  {
   "cell_type": "markdown",
   "source": [
    "#### Question 3.8\r\n",
    "\r\n",
    "The variable et represents a random shock variable. Provide the average and standard-deviation of et below ?"
   ],
   "metadata": {}
  },
  {
   "cell_type": "code",
   "execution_count": 4,
   "source": [
    "# Descriptive statistics\r\n",
    "df.describe()"
   ],
   "outputs": [
    {
     "output_type": "execute_result",
     "data": {
      "text/html": [
       "<div>\n",
       "<style scoped>\n",
       "    .dataframe tbody tr th:only-of-type {\n",
       "        vertical-align: middle;\n",
       "    }\n",
       "\n",
       "    .dataframe tbody tr th {\n",
       "        vertical-align: top;\n",
       "    }\n",
       "\n",
       "    .dataframe thead th {\n",
       "        text-align: right;\n",
       "    }\n",
       "</style>\n",
       "<table border=\"1\" class=\"dataframe\">\n",
       "  <thead>\n",
       "    <tr style=\"text-align: right;\">\n",
       "      <th></th>\n",
       "      <th>et</th>\n",
       "    </tr>\n",
       "  </thead>\n",
       "  <tbody>\n",
       "    <tr>\n",
       "      <th>count</th>\n",
       "      <td>500.000000</td>\n",
       "    </tr>\n",
       "    <tr>\n",
       "      <th>mean</th>\n",
       "      <td>-0.028460</td>\n",
       "    </tr>\n",
       "    <tr>\n",
       "      <th>std</th>\n",
       "      <td>0.982000</td>\n",
       "    </tr>\n",
       "    <tr>\n",
       "      <th>min</th>\n",
       "      <td>-3.106688</td>\n",
       "    </tr>\n",
       "    <tr>\n",
       "      <th>25%</th>\n",
       "      <td>-0.722506</td>\n",
       "    </tr>\n",
       "    <tr>\n",
       "      <th>50%</th>\n",
       "      <td>-0.025935</td>\n",
       "    </tr>\n",
       "    <tr>\n",
       "      <th>75%</th>\n",
       "      <td>0.620061</td>\n",
       "    </tr>\n",
       "    <tr>\n",
       "      <th>max</th>\n",
       "      <td>2.988090</td>\n",
       "    </tr>\n",
       "  </tbody>\n",
       "</table>\n",
       "</div>"
      ],
      "text/plain": [
       "               et\n",
       "count  500.000000\n",
       "mean    -0.028460\n",
       "std      0.982000\n",
       "min     -3.106688\n",
       "25%     -0.722506\n",
       "50%     -0.025935\n",
       "75%      0.620061\n",
       "max      2.988090"
      ]
     },
     "metadata": {},
     "execution_count": 4
    }
   ],
   "metadata": {
    "scrolled": true
   }
  },
  {
   "cell_type": "markdown",
   "source": [
    "**MEAN** -0.028\r\n",
    "**Standard deviation**  0.982"
   ],
   "metadata": {}
  },
  {
   "cell_type": "markdown",
   "source": [
    "**Question 3.9**\r\n",
    "\r\n",
    "yt = 3.0 + 0.55yt-1 + et\r\n",
    "\r\n",
    "Enter the value of the 5th observation of variable yar"
   ],
   "metadata": {}
  },
  {
   "cell_type": "code",
   "execution_count": 5,
   "source": [
    "yar = []\r\n",
    "et = np.array(df['et'])\r\n",
    "yar.append(0) #append the first observation"
   ],
   "outputs": [],
   "metadata": {}
  },
  {
   "cell_type": "code",
   "execution_count": 6,
   "source": [
    "for i in range(1,len(et)):\r\n",
    "    yar.append(3 + 0.55*yar[i-1] + et[i])\r\n",
    "#print the 5th observation\r\n",
    "print(\"Answer\",round(yar[4],3))"
   ],
   "outputs": [
    {
     "output_type": "stream",
     "name": "stdout",
     "text": [
      "Answer 5.648\n"
     ]
    }
   ],
   "metadata": {}
  },
  {
   "cell_type": "code",
   "execution_count": 7,
   "source": [
    "len(yar)"
   ],
   "outputs": [
    {
     "output_type": "execute_result",
     "data": {
      "text/plain": [
       "500"
      ]
     },
     "metadata": {},
     "execution_count": 7
    }
   ],
   "metadata": {}
  },
  {
   "cell_type": "markdown",
   "source": [
    "**Question 3.10**\r\n",
    "\r\n",
    "Enter the value of the 5th observation of variable yma"
   ],
   "metadata": {}
  },
  {
   "cell_type": "code",
   "execution_count": 8,
   "source": [
    "yma = []\r\n",
    "yma.append(0)\r\n",
    "\r\n",
    "for i in range(1,len(et)):\r\n",
    "    yma.append(-2.5 + et[i] + 0.7 * et[i-1])\r\n",
    "    \r\n",
    "print(\"Answer\",round(yma[4],3))"
   ],
   "outputs": [
    {
     "output_type": "stream",
     "name": "stdout",
     "text": [
      "Answer -2.915\n"
     ]
    }
   ],
   "metadata": {}
  },
  {
   "cell_type": "markdown",
   "source": [
    "**Question 3.12**\r\n",
    "\r\n",
    "Enter the value of the 5th observation of yarma"
   ],
   "metadata": {},
   "attachments": {
    "image-2.png": {
     "image/png": "[encoded data removed]"
    }
   }
  },
  {
   "cell_type": "code",
   "execution_count": 9,
   "source": [
    "yarma = []\r\n",
    "yarma.append(0)\r\n",
    "\r\n",
    "for t in range(1,len(et)):\r\n",
    "    yarma.append(0.5 + 0.55 * yarma[t-1] + et[t] + 0.7 * et[t-1])\r\n",
    "\r\n",
    "print(\"Answer\",round(yarma[4],3))"
   ],
   "outputs": [
    {
     "output_type": "stream",
     "name": "stdout",
     "text": [
      "Answer 1.206\n"
     ]
    }
   ],
   "metadata": {
    "scrolled": true
   }
  },
  {
   "cell_type": "markdown",
   "source": [
    "**Question 3.13**\n",
    "\n",
    "compute the ACF at lags 1-20 for the four series: et and Variables yar,yma and yarma.\n",
    "Enter the values (using 3 decimal places, without rounding) of the ACF at one lag for each series below"
   ],
   "metadata": {}
  },
  {
   "cell_type": "code",
   "execution_count": 10,
   "source": [
    "import statsmodels.api as sm\r\n",
    "acf_et = sm.tsa.stattools.acf(et, nlags = 20, adjusted = True)\r\n",
    "acf_yar = sm.tsa.stattools.acf(yar, nlags = 20, adjusted = True)\r\n",
    "acf_yma = sm.tsa.stattools.acf(yma, nlags = 20, adjusted = True)\r\n",
    "acf_yarma = sm.tsa.stattools.acf(yarma, nlags = 20, adjusted = True)"
   ],
   "outputs": [
    {
     "output_type": "stream",
     "name": "stderr",
     "text": [
      "C:\\Users\\JGSILVA\\anaconda3\\lib\\site-packages\\statsmodels\\tsa\\stattools.py:667: FutureWarning: fft=True will become the default after the release of the 0.12 release of statsmodels. To suppress this warning, explicitly set fft=False.\n",
      "  warnings.warn(\n"
     ]
    }
   ],
   "metadata": {}
  },
  {
   "cell_type": "code",
   "execution_count": 11,
   "source": [
    "# values at one lag\r\n",
    "print(\"et\", round(acf_et[1],3))\r\n",
    "print(\"ar\", round(acf_yar[1],3))\r\n",
    "print(\"ma\", round(acf_yma[1],3))      \r\n",
    "print(\"arma\", round(acf_yarma[1],3))"
   ],
   "outputs": [
    {
     "output_type": "stream",
     "name": "stdout",
     "text": [
      "et 0.024\n",
      "ar 0.522\n",
      "ma 0.427\n",
      "arma 0.728\n"
     ]
    }
   ],
   "metadata": {}
  },
  {
   "cell_type": "markdown",
   "source": [
    "**Question 3.14**"
   ],
   "metadata": {}
  },
  {
   "cell_type": "code",
   "execution_count": 12,
   "source": [
    "0.55**2"
   ],
   "outputs": [
    {
     "output_type": "execute_result",
     "data": {
      "text/plain": [
       "0.30250000000000005"
      ]
     },
     "metadata": {},
     "execution_count": 12
    }
   ],
   "metadata": {}
  },
  {
   "cell_type": "markdown",
   "source": [
    "**Question 3.15**"
   ],
   "metadata": {}
  },
  {
   "cell_type": "code",
   "execution_count": 13,
   "source": [
    "# values at one lag\r\n",
    "print(\"et\", round(acf_et[2],3))\r\n",
    "print(\"ar\", round(acf_yar[2],3))\r\n",
    "print(\"ma\", round(acf_yma[2],3))      \r\n",
    "print(\"arma\", round(acf_yarma[2],3))"
   ],
   "outputs": [
    {
     "output_type": "stream",
     "name": "stdout",
     "text": [
      "et -0.099\n",
      "ar 0.207\n",
      "ma -0.102\n",
      "arma 0.332\n"
     ]
    }
   ],
   "metadata": {}
  },
  {
   "cell_type": "markdown",
   "source": [
    "**Question 3.17**\r\n",
    "\r\n",
    " estimate the PAC for variable yar for lag 1, then for lag 2"
   ],
   "metadata": {}
  },
  {
   "cell_type": "code",
   "execution_count": 14,
   "source": [
    "# from sklearn.linear_model import LinearRegression\r\n",
    "# ols =  LinearRegression()\r\n",
    "y_ar_lag = [np.nan]\r\n",
    "for t in range(1, len(yar)):\r\n",
    "    y_ar_lag.append(yar[t-1])"
   ],
   "outputs": [],
   "metadata": {}
  },
  {
   "cell_type": "code",
   "execution_count": 15,
   "source": [
    "df['yar_lag'] = np.array(y_ar_lag)\r\n",
    "df['yar'] = np.array(yar)"
   ],
   "outputs": [],
   "metadata": {}
  },
  {
   "cell_type": "code",
   "execution_count": 16,
   "source": [
    "df = sm.tools.add_constant(df)\r\n",
    "df.head()"
   ],
   "outputs": [
    {
     "output_type": "stream",
     "name": "stderr",
     "text": [
      "C:\\Users\\JGSILVA\\anaconda3\\lib\\site-packages\\statsmodels\\tsa\\tsatools.py:142: FutureWarning: In a future version of pandas all arguments of concat except for the argument 'objs' will be keyword-only\n",
      "  x = pd.concat(x[::order], 1)\n"
     ]
    },
    {
     "output_type": "execute_result",
     "data": {
      "text/html": [
       "<div>\n",
       "<style scoped>\n",
       "    .dataframe tbody tr th:only-of-type {\n",
       "        vertical-align: middle;\n",
       "    }\n",
       "\n",
       "    .dataframe tbody tr th {\n",
       "        vertical-align: top;\n",
       "    }\n",
       "\n",
       "    .dataframe thead th {\n",
       "        text-align: right;\n",
       "    }\n",
       "</style>\n",
       "<table border=\"1\" class=\"dataframe\">\n",
       "  <thead>\n",
       "    <tr style=\"text-align: right;\">\n",
       "      <th></th>\n",
       "      <th>const</th>\n",
       "      <th>et</th>\n",
       "      <th>yar_lag</th>\n",
       "      <th>yar</th>\n",
       "    </tr>\n",
       "  </thead>\n",
       "  <tbody>\n",
       "    <tr>\n",
       "      <th>0</th>\n",
       "      <td>1.0</td>\n",
       "      <td>-1.213866</td>\n",
       "      <td>NaN</td>\n",
       "      <td>0.000000</td>\n",
       "    </tr>\n",
       "    <tr>\n",
       "      <th>1</th>\n",
       "      <td>1.0</td>\n",
       "      <td>-0.285460</td>\n",
       "      <td>0.000000</td>\n",
       "      <td>2.714540</td>\n",
       "    </tr>\n",
       "    <tr>\n",
       "      <th>2</th>\n",
       "      <td>1.0</td>\n",
       "      <td>0.590270</td>\n",
       "      <td>2.714540</td>\n",
       "      <td>5.083267</td>\n",
       "    </tr>\n",
       "    <tr>\n",
       "      <th>3</th>\n",
       "      <td>1.0</td>\n",
       "      <td>0.828546</td>\n",
       "      <td>5.083267</td>\n",
       "      <td>6.624343</td>\n",
       "    </tr>\n",
       "    <tr>\n",
       "      <th>4</th>\n",
       "      <td>1.0</td>\n",
       "      <td>-0.995426</td>\n",
       "      <td>6.624343</td>\n",
       "      <td>5.647963</td>\n",
       "    </tr>\n",
       "  </tbody>\n",
       "</table>\n",
       "</div>"
      ],
      "text/plain": [
       "   const        et   yar_lag       yar\n",
       "0    1.0 -1.213866       NaN  0.000000\n",
       "1    1.0 -0.285460  0.000000  2.714540\n",
       "2    1.0  0.590270  2.714540  5.083267\n",
       "3    1.0  0.828546  5.083267  6.624343\n",
       "4    1.0 -0.995426  6.624343  5.647963"
      ]
     },
     "metadata": {},
     "execution_count": 16
    }
   ],
   "metadata": {}
  },
  {
   "cell_type": "code",
   "execution_count": 17,
   "source": [
    "X = df[['yar_lag', 'const']]\r\n",
    "model = sm.OLS(df['yar'], X , missing='drop')\r\n",
    "results = model.fit()\r\n",
    "print(results.summary())"
   ],
   "outputs": [
    {
     "output_type": "stream",
     "name": "stdout",
     "text": [
      "                            OLS Regression Results                            \n",
      "==============================================================================\n",
      "Dep. Variable:                    yar   R-squared:                       0.291\n",
      "Model:                            OLS   Adj. R-squared:                  0.290\n",
      "Method:                 Least Squares   F-statistic:                     204.3\n",
      "Date:                Thu, 30 Sep 2021   Prob (F-statistic):           4.62e-39\n",
      "Time:                        15:56:17   Log-Likelihood:                -698.03\n",
      "No. Observations:                 499   AIC:                             1400.\n",
      "Df Residuals:                     497   BIC:                             1408.\n",
      "Df Model:                           1                                         \n",
      "Covariance Type:            nonrobust                                         \n",
      "==============================================================================\n",
      "                 coef    std err          t      P>|t|      [0.025      0.975]\n",
      "------------------------------------------------------------------------------\n",
      "yar_lag        0.5252      0.037     14.292      0.000       0.453       0.597\n",
      "const          3.1371      0.245     12.786      0.000       2.655       3.619\n",
      "==============================================================================\n",
      "Omnibus:                        0.415   Durbin-Watson:                   1.906\n",
      "Prob(Omnibus):                  0.812   Jarque-Bera (JB):                0.252\n",
      "Skew:                           0.011   Prob(JB):                        0.881\n",
      "Kurtosis:                       3.108   Cond. No.                         38.1\n",
      "==============================================================================\n",
      "\n",
      "Notes:\n",
      "[1] Standard Errors assume that the covariance matrix of the errors is correctly specified.\n"
     ]
    }
   ],
   "metadata": {}
  },
  {
   "cell_type": "code",
   "execution_count": 18,
   "source": [
    "# create two lags y\r\n",
    "y_ar_lag2 = [np.nan]\r\n",
    "for t in range(1, len(y_ar_lag)):\r\n",
    "    y_ar_lag2.append(y_ar_lag[t-1])"
   ],
   "outputs": [],
   "metadata": {}
  },
  {
   "cell_type": "code",
   "execution_count": 19,
   "source": [
    "df['yar_lag2'] = np.array(y_ar_lag2)\r\n",
    "df.head()"
   ],
   "outputs": [
    {
     "output_type": "execute_result",
     "data": {
      "text/html": [
       "<div>\n",
       "<style scoped>\n",
       "    .dataframe tbody tr th:only-of-type {\n",
       "        vertical-align: middle;\n",
       "    }\n",
       "\n",
       "    .dataframe tbody tr th {\n",
       "        vertical-align: top;\n",
       "    }\n",
       "\n",
       "    .dataframe thead th {\n",
       "        text-align: right;\n",
       "    }\n",
       "</style>\n",
       "<table border=\"1\" class=\"dataframe\">\n",
       "  <thead>\n",
       "    <tr style=\"text-align: right;\">\n",
       "      <th></th>\n",
       "      <th>const</th>\n",
       "      <th>et</th>\n",
       "      <th>yar_lag</th>\n",
       "      <th>yar</th>\n",
       "      <th>yar_lag2</th>\n",
       "    </tr>\n",
       "  </thead>\n",
       "  <tbody>\n",
       "    <tr>\n",
       "      <th>0</th>\n",
       "      <td>1.0</td>\n",
       "      <td>-1.213866</td>\n",
       "      <td>NaN</td>\n",
       "      <td>0.000000</td>\n",
       "      <td>NaN</td>\n",
       "    </tr>\n",
       "    <tr>\n",
       "      <th>1</th>\n",
       "      <td>1.0</td>\n",
       "      <td>-0.285460</td>\n",
       "      <td>0.000000</td>\n",
       "      <td>2.714540</td>\n",
       "      <td>NaN</td>\n",
       "    </tr>\n",
       "    <tr>\n",
       "      <th>2</th>\n",
       "      <td>1.0</td>\n",
       "      <td>0.590270</td>\n",
       "      <td>2.714540</td>\n",
       "      <td>5.083267</td>\n",
       "      <td>0.000000</td>\n",
       "    </tr>\n",
       "    <tr>\n",
       "      <th>3</th>\n",
       "      <td>1.0</td>\n",
       "      <td>0.828546</td>\n",
       "      <td>5.083267</td>\n",
       "      <td>6.624343</td>\n",
       "      <td>2.714540</td>\n",
       "    </tr>\n",
       "    <tr>\n",
       "      <th>4</th>\n",
       "      <td>1.0</td>\n",
       "      <td>-0.995426</td>\n",
       "      <td>6.624343</td>\n",
       "      <td>5.647963</td>\n",
       "      <td>5.083267</td>\n",
       "    </tr>\n",
       "  </tbody>\n",
       "</table>\n",
       "</div>"
      ],
      "text/plain": [
       "   const        et   yar_lag       yar  yar_lag2\n",
       "0    1.0 -1.213866       NaN  0.000000       NaN\n",
       "1    1.0 -0.285460  0.000000  2.714540       NaN\n",
       "2    1.0  0.590270  2.714540  5.083267  0.000000\n",
       "3    1.0  0.828546  5.083267  6.624343  2.714540\n",
       "4    1.0 -0.995426  6.624343  5.647963  5.083267"
      ]
     },
     "metadata": {},
     "execution_count": 19
    }
   ],
   "metadata": {}
  },
  {
   "cell_type": "code",
   "execution_count": 20,
   "source": [
    "X = df[['yar_lag','yar_lag2','const']]\r\n",
    "model = sm.OLS(df['yar'], X , missing='drop')\r\n",
    "results = model.fit()\r\n",
    "print(results.summary())"
   ],
   "outputs": [
    {
     "output_type": "stream",
     "name": "stdout",
     "text": [
      "                            OLS Regression Results                            \n",
      "==============================================================================\n",
      "Dep. Variable:                    yar   R-squared:                       0.281\n",
      "Model:                            OLS   Adj. R-squared:                  0.279\n",
      "Method:                 Least Squares   F-statistic:                     96.93\n",
      "Date:                Thu, 30 Sep 2021   Prob (F-statistic):           3.00e-36\n",
      "Time:                        15:56:17   Log-Likelihood:                -694.97\n",
      "No. Observations:                 498   AIC:                             1396.\n",
      "Df Residuals:                     495   BIC:                             1409.\n",
      "Df Model:                           2                                         \n",
      "Covariance Type:            nonrobust                                         \n",
      "==============================================================================\n",
      "                 coef    std err          t      P>|t|      [0.025      0.975]\n",
      "------------------------------------------------------------------------------\n",
      "yar_lag        0.5699      0.045     12.709      0.000       0.482       0.658\n",
      "yar_lag2      -0.0883      0.044     -2.028      0.043      -0.174      -0.003\n",
      "const          3.4238      0.283     12.093      0.000       2.867       3.980\n",
      "==============================================================================\n",
      "Omnibus:                        0.891   Durbin-Watson:                   1.988\n",
      "Prob(Omnibus):                  0.641   Jarque-Bera (JB):                0.697\n",
      "Skew:                           0.025   Prob(JB):                        0.706\n",
      "Kurtosis:                       3.176   Cond. No.                         61.4\n",
      "==============================================================================\n",
      "\n",
      "Notes:\n",
      "[1] Standard Errors assume that the covariance matrix of the errors is correctly specified.\n"
     ]
    }
   ],
   "metadata": {
    "scrolled": true
   }
  },
  {
   "cell_type": "markdown",
   "source": [
    "# Estimation with stationary time series\r\n",
    "\r\n",
    "**Question 3.20**"
   ],
   "metadata": {}
  },
  {
   "cell_type": "code",
   "execution_count": 21,
   "source": [
    "#import data\r\n",
    "df = pd.read_csv(\"Module3_data/module3_data_PE_Ratios.csv\")\r\n",
    "df.head()"
   ],
   "outputs": [
    {
     "output_type": "execute_result",
     "data": {
      "text/html": [
       "<div>\n",
       "<style scoped>\n",
       "    .dataframe tbody tr th:only-of-type {\n",
       "        vertical-align: middle;\n",
       "    }\n",
       "\n",
       "    .dataframe tbody tr th {\n",
       "        vertical-align: top;\n",
       "    }\n",
       "\n",
       "    .dataframe thead th {\n",
       "        text-align: right;\n",
       "    }\n",
       "</style>\n",
       "<table border=\"1\" class=\"dataframe\">\n",
       "  <thead>\n",
       "    <tr style=\"text-align: right;\">\n",
       "      <th></th>\n",
       "      <th>dateid01</th>\n",
       "      <th>dateid</th>\n",
       "      <th>date</th>\n",
       "      <th>pe_aus</th>\n",
       "      <th>pe_ind</th>\n",
       "      <th>pe_ndo</th>\n",
       "      <th>pe_saf</th>\n",
       "      <th>pe_usa</th>\n",
       "    </tr>\n",
       "  </thead>\n",
       "  <tbody>\n",
       "    <tr>\n",
       "      <th>0</th>\n",
       "      <td>1954-02-01</td>\n",
       "      <td>1954-02-28 23:59:59.999</td>\n",
       "      <td>1954-02-26</td>\n",
       "      <td>NaN</td>\n",
       "      <td>NaN</td>\n",
       "      <td>NaN</td>\n",
       "      <td>NaN</td>\n",
       "      <td>9.92</td>\n",
       "    </tr>\n",
       "    <tr>\n",
       "      <th>1</th>\n",
       "      <td>1954-03-01</td>\n",
       "      <td>1954-03-31 23:59:59.999</td>\n",
       "      <td>1954-03-31</td>\n",
       "      <td>NaN</td>\n",
       "      <td>NaN</td>\n",
       "      <td>NaN</td>\n",
       "      <td>NaN</td>\n",
       "      <td>10.17</td>\n",
       "    </tr>\n",
       "    <tr>\n",
       "      <th>2</th>\n",
       "      <td>1954-04-01</td>\n",
       "      <td>1954-04-30 23:59:59.999</td>\n",
       "      <td>1954-04-30</td>\n",
       "      <td>NaN</td>\n",
       "      <td>NaN</td>\n",
       "      <td>NaN</td>\n",
       "      <td>NaN</td>\n",
       "      <td>10.57</td>\n",
       "    </tr>\n",
       "    <tr>\n",
       "      <th>3</th>\n",
       "      <td>1954-05-01</td>\n",
       "      <td>1954-05-31 23:59:59.999</td>\n",
       "      <td>1954-05-31</td>\n",
       "      <td>NaN</td>\n",
       "      <td>NaN</td>\n",
       "      <td>NaN</td>\n",
       "      <td>NaN</td>\n",
       "      <td>11.00</td>\n",
       "    </tr>\n",
       "    <tr>\n",
       "      <th>4</th>\n",
       "      <td>1954-06-01</td>\n",
       "      <td>1954-06-30 23:59:59.999</td>\n",
       "      <td>1954-06-30</td>\n",
       "      <td>NaN</td>\n",
       "      <td>NaN</td>\n",
       "      <td>NaN</td>\n",
       "      <td>NaN</td>\n",
       "      <td>11.08</td>\n",
       "    </tr>\n",
       "  </tbody>\n",
       "</table>\n",
       "</div>"
      ],
      "text/plain": [
       "     dateid01                   dateid        date  pe_aus  pe_ind  pe_ndo  \\\n",
       "0  1954-02-01  1954-02-28 23:59:59.999  1954-02-26     NaN     NaN     NaN   \n",
       "1  1954-03-01  1954-03-31 23:59:59.999  1954-03-31     NaN     NaN     NaN   \n",
       "2  1954-04-01  1954-04-30 23:59:59.999  1954-04-30     NaN     NaN     NaN   \n",
       "3  1954-05-01  1954-05-31 23:59:59.999  1954-05-31     NaN     NaN     NaN   \n",
       "4  1954-06-01  1954-06-30 23:59:59.999  1954-06-30     NaN     NaN     NaN   \n",
       "\n",
       "   pe_saf  pe_usa  \n",
       "0     NaN    9.92  \n",
       "1     NaN   10.17  \n",
       "2     NaN   10.57  \n",
       "3     NaN   11.00  \n",
       "4     NaN   11.08  "
      ]
     },
     "metadata": {},
     "execution_count": 21
    }
   ],
   "metadata": {}
  },
  {
   "cell_type": "code",
   "execution_count": 22,
   "source": [
    "# set time series for pe_ind\r\n",
    "from datetime import datetime\r\n",
    "import dateutil.parser\r\n",
    "data = df.pe_ind\r\n",
    "data.index = pd.date_range(\"1954-02-01\", periods = len(df['pe_ind']), freq = \"M\")\r\n",
    "data = data[data.index > dateutil.parser.parse(\"2000-01-01\")]\r\n",
    "data.head()"
   ],
   "outputs": [
    {
     "output_type": "execute_result",
     "data": {
      "text/plain": [
       "2000-01-31    16.4949\n",
       "2000-02-29    17.2608\n",
       "2000-03-31    14.4154\n",
       "2000-04-30    13.4247\n",
       "2000-05-31    12.7792\n",
       "Freq: M, Name: pe_ind, dtype: float64"
      ]
     },
     "metadata": {},
     "execution_count": 22
    }
   ],
   "metadata": {}
  },
  {
   "cell_type": "code",
   "execution_count": 23,
   "source": [
    "mod_1 = sm.tsa.arima.ARIMA(data,trend='c', order = (1,0,0))\r\n",
    "res_1 = mod_1.fit()\r\n",
    "print(res_1.summary())"
   ],
   "outputs": [
    {
     "output_type": "stream",
     "name": "stdout",
     "text": [
      "                               SARIMAX Results                                \n",
      "==============================================================================\n",
      "Dep. Variable:                 pe_ind   No. Observations:                  182\n",
      "Model:                 ARIMA(1, 0, 0)   Log Likelihood                -311.138\n",
      "Date:                Thu, 30 Sep 2021   AIC                            628.276\n",
      "Time:                        15:56:17   BIC                            637.888\n",
      "Sample:                    01-31-2000   HQIC                           632.173\n",
      "                         - 02-28-2015                                         \n",
      "Covariance Type:                  opg                                         \n",
      "==============================================================================\n",
      "                 coef    std err          z      P>|z|      [0.025      0.975]\n",
      "------------------------------------------------------------------------------\n",
      "const         17.3199      1.106     15.665      0.000      15.153      19.487\n",
      "ar.L1          0.9080      0.030     30.673      0.000       0.850       0.966\n",
      "sigma2         1.7712      0.129     13.749      0.000       1.519       2.024\n",
      "===================================================================================\n",
      "Ljung-Box (L1) (Q):                   2.03   Jarque-Bera (JB):                56.89\n",
      "Prob(Q):                              0.15   Prob(JB):                         0.00\n",
      "Heteroskedasticity (H):               0.29   Skew:                             0.50\n",
      "Prob(H) (two-sided):                  0.00   Kurtosis:                         5.55\n",
      "===================================================================================\n",
      "\n",
      "Warnings:\n",
      "[1] Covariance matrix calculated using the outer product of gradients (complex-step).\n"
     ]
    }
   ],
   "metadata": {}
  },
  {
   "cell_type": "code",
   "execution_count": 24,
   "source": [
    "# load arima from stastmodel api\r\n",
    "mod_2 = sm.tsa.arima.ARIMA(data,trend='c', order = ((1,0,0,0,0,0,0,1),0,0))\r\n",
    "res_2 = mod_2.fit()\r\n",
    "print(res_2.summary())"
   ],
   "outputs": [
    {
     "output_type": "stream",
     "name": "stdout",
     "text": [
      "                                SARIMAX Results                                \n",
      "===============================================================================\n",
      "Dep. Variable:                  pe_ind   No. Observations:                  182\n",
      "Model:             ARIMA([1, 8], 0, 0)   Log Likelihood                -308.571\n",
      "Date:                 Thu, 30 Sep 2021   AIC                            625.142\n",
      "Time:                         15:56:17   BIC                            637.958\n",
      "Sample:                     01-31-2000   HQIC                           630.337\n",
      "                          - 02-28-2015                                         \n",
      "Covariance Type:                   opg                                         \n",
      "==============================================================================\n",
      "                 coef    std err          z      P>|z|      [0.025      0.975]\n",
      "------------------------------------------------------------------------------\n",
      "const         17.2529      0.734     23.489      0.000      15.813      18.693\n",
      "ar.L1          0.9342      0.029     31.776      0.000       0.877       0.992\n",
      "ar.L8         -0.0743      0.032     -2.350      0.019      -0.136      -0.012\n",
      "sigma2         1.7204      0.134     12.810      0.000       1.457       1.984\n",
      "===================================================================================\n",
      "Ljung-Box (L1) (Q):                   0.85   Jarque-Bera (JB):                49.66\n",
      "Prob(Q):                              0.36   Prob(JB):                         0.00\n",
      "Heteroskedasticity (H):               0.31   Skew:                             0.50\n",
      "Prob(H) (two-sided):                  0.00   Kurtosis:                         5.35\n",
      "===================================================================================\n",
      "\n",
      "Warnings:\n",
      "[1] Covariance matrix calculated using the outer product of gradients (complex-step).\n"
     ]
    }
   ],
   "metadata": {}
  },
  {
   "cell_type": "code",
   "execution_count": 25,
   "source": [
    "# load arima from stastmodel api\r\n",
    "mod_3 = sm.tsa.arima.ARIMA(data,trend='c', order = ((1,0,0,0,0,0,0,1),0,(0,0,0,0,0,0,0,1)))\r\n",
    "res_3 = mod_3.fit()\r\n",
    "print(res_3.summary())"
   ],
   "outputs": [
    {
     "output_type": "stream",
     "name": "stdout",
     "text": [
      "                                 SARIMAX Results                                 \n",
      "=================================================================================\n",
      "Dep. Variable:                    pe_ind   No. Observations:                  182\n",
      "Model:             ARIMA([1, 8], 0, [8])   Log Likelihood                -304.248\n",
      "Date:                   Thu, 30 Sep 2021   AIC                            618.495\n",
      "Time:                           15:56:17   BIC                            634.515\n",
      "Sample:                       01-31-2000   HQIC                           624.990\n",
      "                            - 02-28-2015                                         \n",
      "Covariance Type:                     opg                                         \n",
      "==============================================================================\n",
      "                 coef    std err          z      P>|z|      [0.025      0.975]\n",
      "------------------------------------------------------------------------------\n",
      "const         17.2920      0.818     21.145      0.000      15.689      18.895\n",
      "ar.L1          0.9505      0.029     32.638      0.000       0.893       1.008\n",
      "ar.L8         -0.0426      0.032     -1.349      0.177      -0.104       0.019\n",
      "ma.L8         -0.2441      0.075     -3.235      0.001      -0.392      -0.096\n",
      "sigma2         1.6364      0.131     12.473      0.000       1.379       1.893\n",
      "===================================================================================\n",
      "Ljung-Box (L1) (Q):                   0.75   Jarque-Bera (JB):                45.23\n",
      "Prob(Q):                              0.39   Prob(JB):                         0.00\n",
      "Heteroskedasticity (H):               0.36   Skew:                             0.57\n",
      "Prob(H) (two-sided):                  0.00   Kurtosis:                         5.16\n",
      "===================================================================================\n",
      "\n",
      "Warnings:\n",
      "[1] Covariance matrix calculated using the outer product of gradients (complex-step).\n"
     ]
    }
   ],
   "metadata": {}
  },
  {
   "cell_type": "code",
   "execution_count": 26,
   "source": [
    "print(\"Model1 {:-2} \\nModel_2 {:-2} \\nModel_3 {:-2} \".format(res_1.sse, res_2.sse,res_3.sse)\r\n",
    "     )"
   ],
   "outputs": [
    {
     "output_type": "stream",
     "name": "stdout",
     "text": [
      "Model1 322.9221496616376 \n",
      "Model_2 314.26626002561534 \n",
      "Model_3 301.6426079129025 \n"
     ]
    }
   ],
   "metadata": {}
  },
  {
   "cell_type": "code",
   "execution_count": 27,
   "source": [
    "print(\"Model1 {:-2} \\nModel_2 {:-2} \\nModel_3 {:-2} \".format(res_1.aic, res_2.aic,res_3.aic))\r\n"
   ],
   "outputs": [
    {
     "output_type": "stream",
     "name": "stdout",
     "text": [
      "Model1 628.276150924617 \n",
      "Model_2 625.1420066708888 \n",
      "Model_3 618.4952579765882 \n"
     ]
    }
   ],
   "metadata": {}
  },
  {
   "cell_type": "code",
   "execution_count": 28,
   "source": [
    "print(\"Model1 {:-2} \\nModel_2 {:-2} \\nModel_3 {:-2} \".format(res_1.bic, res_2.bic,res_3.bic)\r\n",
    "     )"
   ],
   "outputs": [
    {
     "output_type": "stream",
     "name": "stdout",
     "text": [
      "Model1 637.8881709858474 \n",
      "Model_2 637.958033419196 \n",
      "Model_3 634.5152914119722 \n"
     ]
    }
   ],
   "metadata": {}
  },
  {
   "cell_type": "markdown",
   "source": [
    "**Question 3.23**\r\n",
    "\r\n",
    "Correlogram \r\n",
    "\r\n",
    "(will have to check this question f"
   ],
   "metadata": {}
  },
  {
   "cell_type": "code",
   "execution_count": 29,
   "source": [
    "import matplotlib.pyplot as plt\r\n",
    "from statsmodels.graphics.tsaplots import plot_acf, plot_pacf\r\n",
    "# Plot residual errors\r\n",
    "sm.stats.acorr_ljungbox(res_1.resid, lags=12, return_df=True)"
   ],
   "outputs": [
    {
     "output_type": "execute_result",
     "data": {
      "text/html": [
       "<div>\n",
       "<style scoped>\n",
       "    .dataframe tbody tr th:only-of-type {\n",
       "        vertical-align: middle;\n",
       "    }\n",
       "\n",
       "    .dataframe tbody tr th {\n",
       "        vertical-align: top;\n",
       "    }\n",
       "\n",
       "    .dataframe thead th {\n",
       "        text-align: right;\n",
       "    }\n",
       "</style>\n",
       "<table border=\"1\" class=\"dataframe\">\n",
       "  <thead>\n",
       "    <tr style=\"text-align: right;\">\n",
       "      <th></th>\n",
       "      <th>lb_stat</th>\n",
       "      <th>lb_pvalue</th>\n",
       "    </tr>\n",
       "  </thead>\n",
       "  <tbody>\n",
       "    <tr>\n",
       "      <th>1</th>\n",
       "      <td>1.979521</td>\n",
       "      <td>0.159441</td>\n",
       "    </tr>\n",
       "    <tr>\n",
       "      <th>2</th>\n",
       "      <td>1.996892</td>\n",
       "      <td>0.368452</td>\n",
       "    </tr>\n",
       "    <tr>\n",
       "      <th>3</th>\n",
       "      <td>2.005436</td>\n",
       "      <td>0.571279</td>\n",
       "    </tr>\n",
       "    <tr>\n",
       "      <th>4</th>\n",
       "      <td>2.026257</td>\n",
       "      <td>0.730929</td>\n",
       "    </tr>\n",
       "    <tr>\n",
       "      <th>5</th>\n",
       "      <td>2.462805</td>\n",
       "      <td>0.782086</td>\n",
       "    </tr>\n",
       "    <tr>\n",
       "      <th>6</th>\n",
       "      <td>4.831394</td>\n",
       "      <td>0.565613</td>\n",
       "    </tr>\n",
       "    <tr>\n",
       "      <th>7</th>\n",
       "      <td>5.174110</td>\n",
       "      <td>0.638725</td>\n",
       "    </tr>\n",
       "    <tr>\n",
       "      <th>8</th>\n",
       "      <td>14.344970</td>\n",
       "      <td>0.073205</td>\n",
       "    </tr>\n",
       "    <tr>\n",
       "      <th>9</th>\n",
       "      <td>14.808150</td>\n",
       "      <td>0.096342</td>\n",
       "    </tr>\n",
       "    <tr>\n",
       "      <th>10</th>\n",
       "      <td>15.132444</td>\n",
       "      <td>0.127307</td>\n",
       "    </tr>\n",
       "    <tr>\n",
       "      <th>11</th>\n",
       "      <td>15.957929</td>\n",
       "      <td>0.142700</td>\n",
       "    </tr>\n",
       "    <tr>\n",
       "      <th>12</th>\n",
       "      <td>15.965935</td>\n",
       "      <td>0.192801</td>\n",
       "    </tr>\n",
       "  </tbody>\n",
       "</table>\n",
       "</div>"
      ],
      "text/plain": [
       "      lb_stat  lb_pvalue\n",
       "1    1.979521   0.159441\n",
       "2    1.996892   0.368452\n",
       "3    2.005436   0.571279\n",
       "4    2.026257   0.730929\n",
       "5    2.462805   0.782086\n",
       "6    4.831394   0.565613\n",
       "7    5.174110   0.638725\n",
       "8   14.344970   0.073205\n",
       "9   14.808150   0.096342\n",
       "10  15.132444   0.127307\n",
       "11  15.957929   0.142700\n",
       "12  15.965935   0.192801"
      ]
     },
     "metadata": {},
     "execution_count": 29
    }
   ],
   "metadata": {}
  },
  {
   "cell_type": "markdown",
   "source": [
    "At lags 8 and 9 we reject the null hypothesis that the residual are not serial correlated."
   ],
   "metadata": {}
  },
  {
   "cell_type": "code",
   "execution_count": 30,
   "source": [
    "# residuals = pd.DataFrame(res_1.resid)\r\n",
    "sm.stats.acorr_ljungbox(res_2.resid, lags=12, return_df=True)"
   ],
   "outputs": [
    {
     "output_type": "execute_result",
     "data": {
      "text/html": [
       "<div>\n",
       "<style scoped>\n",
       "    .dataframe tbody tr th:only-of-type {\n",
       "        vertical-align: middle;\n",
       "    }\n",
       "\n",
       "    .dataframe tbody tr th {\n",
       "        vertical-align: top;\n",
       "    }\n",
       "\n",
       "    .dataframe thead th {\n",
       "        text-align: right;\n",
       "    }\n",
       "</style>\n",
       "<table border=\"1\" class=\"dataframe\">\n",
       "  <thead>\n",
       "    <tr style=\"text-align: right;\">\n",
       "      <th></th>\n",
       "      <th>lb_stat</th>\n",
       "      <th>lb_pvalue</th>\n",
       "    </tr>\n",
       "  </thead>\n",
       "  <tbody>\n",
       "    <tr>\n",
       "      <th>1</th>\n",
       "      <td>0.830551</td>\n",
       "      <td>0.362113</td>\n",
       "    </tr>\n",
       "    <tr>\n",
       "      <th>2</th>\n",
       "      <td>0.959170</td>\n",
       "      <td>0.619040</td>\n",
       "    </tr>\n",
       "    <tr>\n",
       "      <th>3</th>\n",
       "      <td>1.065219</td>\n",
       "      <td>0.785476</td>\n",
       "    </tr>\n",
       "    <tr>\n",
       "      <th>4</th>\n",
       "      <td>1.111753</td>\n",
       "      <td>0.892403</td>\n",
       "    </tr>\n",
       "    <tr>\n",
       "      <th>5</th>\n",
       "      <td>1.212279</td>\n",
       "      <td>0.943694</td>\n",
       "    </tr>\n",
       "    <tr>\n",
       "      <th>6</th>\n",
       "      <td>2.826436</td>\n",
       "      <td>0.830294</td>\n",
       "    </tr>\n",
       "    <tr>\n",
       "      <th>7</th>\n",
       "      <td>3.410117</td>\n",
       "      <td>0.844652</td>\n",
       "    </tr>\n",
       "    <tr>\n",
       "      <th>8</th>\n",
       "      <td>8.927259</td>\n",
       "      <td>0.348469</td>\n",
       "    </tr>\n",
       "    <tr>\n",
       "      <th>9</th>\n",
       "      <td>11.537535</td>\n",
       "      <td>0.240653</td>\n",
       "    </tr>\n",
       "    <tr>\n",
       "      <th>10</th>\n",
       "      <td>11.603349</td>\n",
       "      <td>0.312479</td>\n",
       "    </tr>\n",
       "    <tr>\n",
       "      <th>11</th>\n",
       "      <td>11.663217</td>\n",
       "      <td>0.389483</td>\n",
       "    </tr>\n",
       "    <tr>\n",
       "      <th>12</th>\n",
       "      <td>11.932654</td>\n",
       "      <td>0.451103</td>\n",
       "    </tr>\n",
       "  </tbody>\n",
       "</table>\n",
       "</div>"
      ],
      "text/plain": [
       "      lb_stat  lb_pvalue\n",
       "1    0.830551   0.362113\n",
       "2    0.959170   0.619040\n",
       "3    1.065219   0.785476\n",
       "4    1.111753   0.892403\n",
       "5    1.212279   0.943694\n",
       "6    2.826436   0.830294\n",
       "7    3.410117   0.844652\n",
       "8    8.927259   0.348469\n",
       "9   11.537535   0.240653\n",
       "10  11.603349   0.312479\n",
       "11  11.663217   0.389483\n",
       "12  11.932654   0.451103"
      ]
     },
     "metadata": {},
     "execution_count": 30
    }
   ],
   "metadata": {}
  },
  {
   "cell_type": "code",
   "execution_count": 31,
   "source": [
    "# residuals = pd.DataFrame(res_1.resid)\r\n",
    "sm.stats.acorr_ljungbox(res_3.resid, lags=12, return_df=True)"
   ],
   "outputs": [
    {
     "output_type": "execute_result",
     "data": {
      "text/html": [
       "<div>\n",
       "<style scoped>\n",
       "    .dataframe tbody tr th:only-of-type {\n",
       "        vertical-align: middle;\n",
       "    }\n",
       "\n",
       "    .dataframe tbody tr th {\n",
       "        vertical-align: top;\n",
       "    }\n",
       "\n",
       "    .dataframe thead th {\n",
       "        text-align: right;\n",
       "    }\n",
       "</style>\n",
       "<table border=\"1\" class=\"dataframe\">\n",
       "  <thead>\n",
       "    <tr style=\"text-align: right;\">\n",
       "      <th></th>\n",
       "      <th>lb_stat</th>\n",
       "      <th>lb_pvalue</th>\n",
       "    </tr>\n",
       "  </thead>\n",
       "  <tbody>\n",
       "    <tr>\n",
       "      <th>1</th>\n",
       "      <td>0.769153</td>\n",
       "      <td>0.380479</td>\n",
       "    </tr>\n",
       "    <tr>\n",
       "      <th>2</th>\n",
       "      <td>0.878360</td>\n",
       "      <td>0.644565</td>\n",
       "    </tr>\n",
       "    <tr>\n",
       "      <th>3</th>\n",
       "      <td>1.273323</td>\n",
       "      <td>0.735477</td>\n",
       "    </tr>\n",
       "    <tr>\n",
       "      <th>4</th>\n",
       "      <td>1.436934</td>\n",
       "      <td>0.837751</td>\n",
       "    </tr>\n",
       "    <tr>\n",
       "      <th>5</th>\n",
       "      <td>1.441140</td>\n",
       "      <td>0.919761</td>\n",
       "    </tr>\n",
       "    <tr>\n",
       "      <th>6</th>\n",
       "      <td>2.024216</td>\n",
       "      <td>0.917458</td>\n",
       "    </tr>\n",
       "    <tr>\n",
       "      <th>7</th>\n",
       "      <td>2.439458</td>\n",
       "      <td>0.931586</td>\n",
       "    </tr>\n",
       "    <tr>\n",
       "      <th>8</th>\n",
       "      <td>2.512651</td>\n",
       "      <td>0.961138</td>\n",
       "    </tr>\n",
       "    <tr>\n",
       "      <th>9</th>\n",
       "      <td>4.170671</td>\n",
       "      <td>0.899824</td>\n",
       "    </tr>\n",
       "    <tr>\n",
       "      <th>10</th>\n",
       "      <td>4.196138</td>\n",
       "      <td>0.938065</td>\n",
       "    </tr>\n",
       "    <tr>\n",
       "      <th>11</th>\n",
       "      <td>4.727596</td>\n",
       "      <td>0.943638</td>\n",
       "    </tr>\n",
       "    <tr>\n",
       "      <th>12</th>\n",
       "      <td>4.734160</td>\n",
       "      <td>0.966274</td>\n",
       "    </tr>\n",
       "  </tbody>\n",
       "</table>\n",
       "</div>"
      ],
      "text/plain": [
       "     lb_stat  lb_pvalue\n",
       "1   0.769153   0.380479\n",
       "2   0.878360   0.644565\n",
       "3   1.273323   0.735477\n",
       "4   1.436934   0.837751\n",
       "5   1.441140   0.919761\n",
       "6   2.024216   0.917458\n",
       "7   2.439458   0.931586\n",
       "8   2.512651   0.961138\n",
       "9   4.170671   0.899824\n",
       "10  4.196138   0.938065\n",
       "11  4.727596   0.943638\n",
       "12  4.734160   0.966274"
      ]
     },
     "metadata": {},
     "execution_count": 31
    }
   ],
   "metadata": {}
  },
  {
   "cell_type": "markdown",
   "source": [
    "Answer : Model 2 and Model 3"
   ],
   "metadata": {}
  },
  {
   "cell_type": "markdown",
   "source": [
    "# Session 5"
   ],
   "metadata": {}
  },
  {
   "cell_type": "code",
   "execution_count": 32,
   "source": [
    "# load data\r\n",
    "Simulated_ARMA = pd.read_csv(\"Module3_data\\module3_data_Simulated_ARMA.csv\")\r\n",
    "Simulated_ARMA"
   ],
   "outputs": [
    {
     "output_type": "execute_result",
     "data": {
      "text/html": [
       "<div>\n",
       "<style scoped>\n",
       "    .dataframe tbody tr th:only-of-type {\n",
       "        vertical-align: middle;\n",
       "    }\n",
       "\n",
       "    .dataframe tbody tr th {\n",
       "        vertical-align: top;\n",
       "    }\n",
       "\n",
       "    .dataframe thead th {\n",
       "        text-align: right;\n",
       "    }\n",
       "</style>\n",
       "<table border=\"1\" class=\"dataframe\">\n",
       "  <thead>\n",
       "    <tr style=\"text-align: right;\">\n",
       "      <th></th>\n",
       "      <th>dateid01</th>\n",
       "      <th>dateid</th>\n",
       "      <th>y</th>\n",
       "      <th>z</th>\n",
       "    </tr>\n",
       "  </thead>\n",
       "  <tbody>\n",
       "    <tr>\n",
       "      <th>0</th>\n",
       "      <td>1900-01-01</td>\n",
       "      <td>1900-01-31 23:59:59.999</td>\n",
       "      <td>0.000000</td>\n",
       "      <td>0.000000</td>\n",
       "    </tr>\n",
       "    <tr>\n",
       "      <th>1</th>\n",
       "      <td>1900-02-01</td>\n",
       "      <td>1900-02-28 23:59:59.999</td>\n",
       "      <td>0.000000</td>\n",
       "      <td>-0.698508</td>\n",
       "    </tr>\n",
       "    <tr>\n",
       "      <th>2</th>\n",
       "      <td>1900-03-01</td>\n",
       "      <td>1900-03-31 23:59:59.999</td>\n",
       "      <td>-0.142965</td>\n",
       "      <td>0.290892</td>\n",
       "    </tr>\n",
       "    <tr>\n",
       "      <th>3</th>\n",
       "      <td>1900-04-01</td>\n",
       "      <td>1900-04-30 23:59:59.999</td>\n",
       "      <td>0.627469</td>\n",
       "      <td>0.418416</td>\n",
       "    </tr>\n",
       "    <tr>\n",
       "      <th>4</th>\n",
       "      <td>1900-05-01</td>\n",
       "      <td>1900-05-31 23:59:59.999</td>\n",
       "      <td>0.407678</td>\n",
       "      <td>2.434994</td>\n",
       "    </tr>\n",
       "    <tr>\n",
       "      <th>...</th>\n",
       "      <td>...</td>\n",
       "      <td>...</td>\n",
       "      <td>...</td>\n",
       "      <td>...</td>\n",
       "    </tr>\n",
       "    <tr>\n",
       "      <th>1377</th>\n",
       "      <td>2014-10-01</td>\n",
       "      <td>2014-10-31 23:59:59.999</td>\n",
       "      <td>1.870067</td>\n",
       "      <td>0.409208</td>\n",
       "    </tr>\n",
       "    <tr>\n",
       "      <th>1378</th>\n",
       "      <td>2014-11-01</td>\n",
       "      <td>2014-11-30 23:59:59.999</td>\n",
       "      <td>-1.199336</td>\n",
       "      <td>1.403371</td>\n",
       "    </tr>\n",
       "    <tr>\n",
       "      <th>1379</th>\n",
       "      <td>2014-12-01</td>\n",
       "      <td>2014-12-31 23:59:59.999</td>\n",
       "      <td>-0.600252</td>\n",
       "      <td>0.879313</td>\n",
       "    </tr>\n",
       "    <tr>\n",
       "      <th>1380</th>\n",
       "      <td>2015-01-01</td>\n",
       "      <td>2015-01-31 23:59:59.999</td>\n",
       "      <td>0.134750</td>\n",
       "      <td>0.037739</td>\n",
       "    </tr>\n",
       "    <tr>\n",
       "      <th>1381</th>\n",
       "      <td>2015-02-01</td>\n",
       "      <td>2015-02-28 23:59:59.999</td>\n",
       "      <td>1.719933</td>\n",
       "      <td>-0.366221</td>\n",
       "    </tr>\n",
       "  </tbody>\n",
       "</table>\n",
       "<p>1382 rows × 4 columns</p>\n",
       "</div>"
      ],
      "text/plain": [
       "        dateid01                   dateid         y         z\n",
       "0     1900-01-01  1900-01-31 23:59:59.999  0.000000  0.000000\n",
       "1     1900-02-01  1900-02-28 23:59:59.999  0.000000 -0.698508\n",
       "2     1900-03-01  1900-03-31 23:59:59.999 -0.142965  0.290892\n",
       "3     1900-04-01  1900-04-30 23:59:59.999  0.627469  0.418416\n",
       "4     1900-05-01  1900-05-31 23:59:59.999  0.407678  2.434994\n",
       "...          ...                      ...       ...       ...\n",
       "1377  2014-10-01  2014-10-31 23:59:59.999  1.870067  0.409208\n",
       "1378  2014-11-01  2014-11-30 23:59:59.999 -1.199336  1.403371\n",
       "1379  2014-12-01  2014-12-31 23:59:59.999 -0.600252  0.879313\n",
       "1380  2015-01-01  2015-01-31 23:59:59.999  0.134750  0.037739\n",
       "1381  2015-02-01  2015-02-28 23:59:59.999  1.719933 -0.366221\n",
       "\n",
       "[1382 rows x 4 columns]"
      ]
     },
     "metadata": {},
     "execution_count": 32
    }
   ],
   "metadata": {}
  },
  {
   "cell_type": "code",
   "execution_count": 33,
   "source": [
    "# set time series for y\r\n",
    "y_series = Simulated_ARMA.y\r\n",
    "y_series.index = pd.date_range(\"1900-01-01\", periods = len(Simulated_ARMA.y), freq = \"M\")\r\n",
    "y_series = y_series[y_series.index > dateutil.parser.parse(\"1900-02-01\")]\r\n",
    "print(y_series.head())\r\n",
    "# print(y_series.tail())"
   ],
   "outputs": [
    {
     "output_type": "stream",
     "name": "stdout",
     "text": [
      "1900-02-28    0.000000\n",
      "1900-03-31   -0.142965\n",
      "1900-04-30    0.627469\n",
      "1900-05-31    0.407678\n",
      "1900-06-30   -0.238750\n",
      "Freq: M, Name: y, dtype: float64\n"
     ]
    }
   ],
   "metadata": {}
  },
  {
   "cell_type": "code",
   "execution_count": 34,
   "source": [
    "plt.figure(figsize=(13,7))\r\n",
    "plt.plot(y_series)\r\n",
    "plt.show()"
   ],
   "outputs": [
    {
     "output_type": "display_data",
     "data": {
      "image/png": "[encoded data removed]",
      "text/plain": [
       "<Figure size 936x504 with 1 Axes>"
      ]
     },
     "metadata": {
      "needs_background": "light"
     }
    }
   ],
   "metadata": {}
  },
  {
   "cell_type": "markdown",
   "source": [
    "**Question 3.25**\r\n",
    "\r\n",
    "Not sure I can tell from the image above anything.\r\n",
    "But it is an **AR(2)**"
   ],
   "metadata": {}
  },
  {
   "cell_type": "markdown",
   "source": [
    "#### Estimating Different Models\r\n",
    "\r\n",
    "Estimating an AR(1) and an AR(2) for Y series."
   ],
   "metadata": {}
  },
  {
   "cell_type": "code",
   "execution_count": 35,
   "source": [
    "# Estimate AR(1)\r\n",
    "y_ar1 = sm.tsa.arima.ARIMA(y_series,trend='c', order = (1,0,0))\r\n",
    "y_ar1_fit = y_ar1.fit()\r\n",
    "print(y_ar1_fit.summary())"
   ],
   "outputs": [
    {
     "output_type": "stream",
     "name": "stdout",
     "text": [
      "                               SARIMAX Results                                \n",
      "==============================================================================\n",
      "Dep. Variable:                      y   No. Observations:                 1381\n",
      "Model:                 ARIMA(1, 0, 0)   Log Likelihood               -2132.177\n",
      "Date:                Thu, 30 Sep 2021   AIC                           4270.355\n",
      "Time:                        15:56:18   BIC                           4286.046\n",
      "Sample:                    02-28-1900   HQIC                          4276.225\n",
      "                         - 02-28-2015                                         \n",
      "Covariance Type:                  opg                                         \n",
      "==============================================================================\n",
      "                 coef    std err          z      P>|z|      [0.025      0.975]\n",
      "------------------------------------------------------------------------------\n",
      "const          0.0712      0.159      0.447      0.655      -0.241       0.383\n",
      "ar.L1          0.8083      0.016     51.600      0.000       0.778       0.839\n",
      "sigma2         1.2830      0.047     27.542      0.000       1.192       1.374\n",
      "===================================================================================\n",
      "Ljung-Box (L1) (Q):                 221.85   Jarque-Bera (JB):                 2.68\n",
      "Prob(Q):                              0.00   Prob(JB):                         0.26\n",
      "Heteroskedasticity (H):               0.95   Skew:                             0.04\n",
      "Prob(H) (two-sided):                  0.58   Kurtosis:                         3.20\n",
      "===================================================================================\n",
      "\n",
      "Warnings:\n",
      "[1] Covariance matrix calculated using the outer product of gradients (complex-step).\n"
     ]
    }
   ],
   "metadata": {}
  },
  {
   "cell_type": "code",
   "execution_count": 36,
   "source": [
    "# Estimate AR(1)\r\n",
    "y_ar2 = sm.tsa.arima.ARIMA(y_series,trend='c', order = (2,0,0))\r\n",
    "y_ar2_fit = y_ar2.fit()\r\n",
    "print(y_ar2_fit.summary())"
   ],
   "outputs": [
    {
     "output_type": "stream",
     "name": "stdout",
     "text": [
      "                               SARIMAX Results                                \n",
      "==============================================================================\n",
      "Dep. Variable:                      y   No. Observations:                 1381\n",
      "Model:                 ARIMA(2, 0, 0)   Log Likelihood               -1938.427\n",
      "Date:                Thu, 30 Sep 2021   AIC                           3884.855\n",
      "Time:                        15:56:18   BIC                           3905.777\n",
      "Sample:                    02-28-1900   HQIC                          3892.681\n",
      "                         - 02-28-2015                                         \n",
      "Covariance Type:                  opg                                         \n",
      "==============================================================================\n",
      "                 coef    std err          z      P>|z|      [0.025      0.975]\n",
      "------------------------------------------------------------------------------\n",
      "const          0.0694      0.093      0.748      0.455      -0.113       0.251\n",
      "ar.L1          1.2087      0.023     52.416      0.000       1.163       1.254\n",
      "ar.L2         -0.4946      0.023    -21.598      0.000      -0.539      -0.450\n",
      "sigma2         0.9687      0.039     25.138      0.000       0.893       1.044\n",
      "===================================================================================\n",
      "Ljung-Box (L1) (Q):                   0.23   Jarque-Bera (JB):                 1.51\n",
      "Prob(Q):                              0.63   Prob(JB):                         0.47\n",
      "Heteroskedasticity (H):               0.97   Skew:                             0.04\n",
      "Prob(H) (two-sided):                  0.78   Kurtosis:                         2.85\n",
      "===================================================================================\n",
      "\n",
      "Warnings:\n",
      "[1] Covariance matrix calculated using the outer product of gradients (complex-step).\n"
     ]
    }
   ],
   "metadata": {}
  },
  {
   "cell_type": "markdown",
   "source": [
    "**Questions 3.26**"
   ],
   "metadata": {}
  },
  {
   "cell_type": "code",
   "execution_count": 37,
   "source": [
    "# eviews adjust for the number of observations\r\n",
    "\r\n",
    "print( \"SBC AR 1 is {}\".format(round(y_ar1_fit.bic/1381,3)))\r\n",
    "print( \"SBC AR 2 is {}\".format(round(y_ar2_fit.bic/1381,3)))"
   ],
   "outputs": [
    {
     "output_type": "stream",
     "name": "stdout",
     "text": [
      "SBC AR 1 is 3.104\n",
      "SBC AR 2 is 2.828\n"
     ]
    }
   ],
   "metadata": {}
  },
  {
   "cell_type": "markdown",
   "source": [
    "**Question 3.27**\r\n",
    "\r\n",
    "Q-test - 12th p-valye"
   ],
   "metadata": {}
  },
  {
   "cell_type": "code",
   "execution_count": 38,
   "source": [
    "sm.stats.acorr_ljungbox(res_1.resid, lags=12, return_df=True)"
   ],
   "outputs": [
    {
     "output_type": "execute_result",
     "data": {
      "text/html": [
       "<div>\n",
       "<style scoped>\n",
       "    .dataframe tbody tr th:only-of-type {\n",
       "        vertical-align: middle;\n",
       "    }\n",
       "\n",
       "    .dataframe tbody tr th {\n",
       "        vertical-align: top;\n",
       "    }\n",
       "\n",
       "    .dataframe thead th {\n",
       "        text-align: right;\n",
       "    }\n",
       "</style>\n",
       "<table border=\"1\" class=\"dataframe\">\n",
       "  <thead>\n",
       "    <tr style=\"text-align: right;\">\n",
       "      <th></th>\n",
       "      <th>lb_stat</th>\n",
       "      <th>lb_pvalue</th>\n",
       "    </tr>\n",
       "  </thead>\n",
       "  <tbody>\n",
       "    <tr>\n",
       "      <th>1</th>\n",
       "      <td>1.979521</td>\n",
       "      <td>0.159441</td>\n",
       "    </tr>\n",
       "    <tr>\n",
       "      <th>2</th>\n",
       "      <td>1.996892</td>\n",
       "      <td>0.368452</td>\n",
       "    </tr>\n",
       "    <tr>\n",
       "      <th>3</th>\n",
       "      <td>2.005436</td>\n",
       "      <td>0.571279</td>\n",
       "    </tr>\n",
       "    <tr>\n",
       "      <th>4</th>\n",
       "      <td>2.026257</td>\n",
       "      <td>0.730929</td>\n",
       "    </tr>\n",
       "    <tr>\n",
       "      <th>5</th>\n",
       "      <td>2.462805</td>\n",
       "      <td>0.782086</td>\n",
       "    </tr>\n",
       "    <tr>\n",
       "      <th>6</th>\n",
       "      <td>4.831394</td>\n",
       "      <td>0.565613</td>\n",
       "    </tr>\n",
       "    <tr>\n",
       "      <th>7</th>\n",
       "      <td>5.174110</td>\n",
       "      <td>0.638725</td>\n",
       "    </tr>\n",
       "    <tr>\n",
       "      <th>8</th>\n",
       "      <td>14.344970</td>\n",
       "      <td>0.073205</td>\n",
       "    </tr>\n",
       "    <tr>\n",
       "      <th>9</th>\n",
       "      <td>14.808150</td>\n",
       "      <td>0.096342</td>\n",
       "    </tr>\n",
       "    <tr>\n",
       "      <th>10</th>\n",
       "      <td>15.132444</td>\n",
       "      <td>0.127307</td>\n",
       "    </tr>\n",
       "    <tr>\n",
       "      <th>11</th>\n",
       "      <td>15.957929</td>\n",
       "      <td>0.142700</td>\n",
       "    </tr>\n",
       "    <tr>\n",
       "      <th>12</th>\n",
       "      <td>15.965935</td>\n",
       "      <td>0.192801</td>\n",
       "    </tr>\n",
       "  </tbody>\n",
       "</table>\n",
       "</div>"
      ],
      "text/plain": [
       "      lb_stat  lb_pvalue\n",
       "1    1.979521   0.159441\n",
       "2    1.996892   0.368452\n",
       "3    2.005436   0.571279\n",
       "4    2.026257   0.730929\n",
       "5    2.462805   0.782086\n",
       "6    4.831394   0.565613\n",
       "7    5.174110   0.638725\n",
       "8   14.344970   0.073205\n",
       "9   14.808150   0.096342\n",
       "10  15.132444   0.127307\n",
       "11  15.957929   0.142700\n",
       "12  15.965935   0.192801"
      ]
     },
     "metadata": {},
     "execution_count": 38
    }
   ],
   "metadata": {}
  },
  {
   "cell_type": "code",
   "execution_count": 39,
   "source": [
    "sm.stats.acorr_ljungbox(y_ar2_fit.resid, lags=12, return_df=True)"
   ],
   "outputs": [
    {
     "output_type": "execute_result",
     "data": {
      "text/html": [
       "<div>\n",
       "<style scoped>\n",
       "    .dataframe tbody tr th:only-of-type {\n",
       "        vertical-align: middle;\n",
       "    }\n",
       "\n",
       "    .dataframe tbody tr th {\n",
       "        vertical-align: top;\n",
       "    }\n",
       "\n",
       "    .dataframe thead th {\n",
       "        text-align: right;\n",
       "    }\n",
       "</style>\n",
       "<table border=\"1\" class=\"dataframe\">\n",
       "  <thead>\n",
       "    <tr style=\"text-align: right;\">\n",
       "      <th></th>\n",
       "      <th>lb_stat</th>\n",
       "      <th>lb_pvalue</th>\n",
       "    </tr>\n",
       "  </thead>\n",
       "  <tbody>\n",
       "    <tr>\n",
       "      <th>1</th>\n",
       "      <td>0.228939</td>\n",
       "      <td>0.632312</td>\n",
       "    </tr>\n",
       "    <tr>\n",
       "      <th>2</th>\n",
       "      <td>0.236069</td>\n",
       "      <td>0.888665</td>\n",
       "    </tr>\n",
       "    <tr>\n",
       "      <th>3</th>\n",
       "      <td>0.463333</td>\n",
       "      <td>0.926870</td>\n",
       "    </tr>\n",
       "    <tr>\n",
       "      <th>4</th>\n",
       "      <td>0.468411</td>\n",
       "      <td>0.976502</td>\n",
       "    </tr>\n",
       "    <tr>\n",
       "      <th>5</th>\n",
       "      <td>2.781689</td>\n",
       "      <td>0.733599</td>\n",
       "    </tr>\n",
       "    <tr>\n",
       "      <th>6</th>\n",
       "      <td>2.828232</td>\n",
       "      <td>0.830076</td>\n",
       "    </tr>\n",
       "    <tr>\n",
       "      <th>7</th>\n",
       "      <td>4.153820</td>\n",
       "      <td>0.761900</td>\n",
       "    </tr>\n",
       "    <tr>\n",
       "      <th>8</th>\n",
       "      <td>4.406683</td>\n",
       "      <td>0.818695</td>\n",
       "    </tr>\n",
       "    <tr>\n",
       "      <th>9</th>\n",
       "      <td>5.189240</td>\n",
       "      <td>0.817510</td>\n",
       "    </tr>\n",
       "    <tr>\n",
       "      <th>10</th>\n",
       "      <td>5.222310</td>\n",
       "      <td>0.875841</td>\n",
       "    </tr>\n",
       "    <tr>\n",
       "      <th>11</th>\n",
       "      <td>5.520080</td>\n",
       "      <td>0.903394</td>\n",
       "    </tr>\n",
       "    <tr>\n",
       "      <th>12</th>\n",
       "      <td>5.522066</td>\n",
       "      <td>0.938236</td>\n",
       "    </tr>\n",
       "  </tbody>\n",
       "</table>\n",
       "</div>"
      ],
      "text/plain": [
       "     lb_stat  lb_pvalue\n",
       "1   0.228939   0.632312\n",
       "2   0.236069   0.888665\n",
       "3   0.463333   0.926870\n",
       "4   0.468411   0.976502\n",
       "5   2.781689   0.733599\n",
       "6   2.828232   0.830076\n",
       "7   4.153820   0.761900\n",
       "8   4.406683   0.818695\n",
       "9   5.189240   0.817510\n",
       "10  5.222310   0.875841\n",
       "11  5.520080   0.903394\n",
       "12  5.522066   0.938236"
      ]
     },
     "metadata": {},
     "execution_count": 39
    }
   ],
   "metadata": {}
  },
  {
   "cell_type": "markdown",
   "source": [
    "the values for this one are not correct\r\n",
    "\r\n",
    "AR(1) = 0.000\r\n",
    "AR(2) = 0.854"
   ],
   "metadata": {}
  },
  {
   "cell_type": "markdown",
   "source": [
    "#### Auto - Arima"
   ],
   "metadata": {}
  },
  {
   "cell_type": "code",
   "execution_count": 40,
   "source": [
    "# Load auto_arima to perform \r\n",
    "from pmdarima.arima import auto_arima\r\n",
    "model = auto_arima(y_series,max_q=6,max_p=6,information_criterion = 'aic')\r\n",
    "print(model)"
   ],
   "outputs": [
    {
     "output_type": "stream",
     "name": "stdout",
     "text": [
      " ARIMA(2,0,0)(0,0,0)[0]          \n"
     ]
    }
   ],
   "metadata": {}
  },
  {
   "cell_type": "code",
   "execution_count": 41,
   "source": [
    "print(model.fit(y_series).summary())"
   ],
   "outputs": [
    {
     "output_type": "stream",
     "name": "stdout",
     "text": [
      "                               SARIMAX Results                                \n",
      "==============================================================================\n",
      "Dep. Variable:                      y   No. Observations:                 1381\n",
      "Model:               SARIMAX(2, 0, 0)   Log Likelihood               -1938.708\n",
      "Date:                Thu, 30 Sep 2021   AIC                           3883.416\n",
      "Time:                        15:56:21   BIC                           3899.107\n",
      "Sample:                             0   HQIC                          3889.285\n",
      "                               - 1381                                         \n",
      "Covariance Type:                  opg                                         \n",
      "==============================================================================\n",
      "                 coef    std err          z      P>|z|      [0.025      0.975]\n",
      "------------------------------------------------------------------------------\n",
      "ar.L1          1.2089      0.023     52.453      0.000       1.164       1.254\n",
      "ar.L2         -0.4944      0.023    -21.587      0.000      -0.539      -0.450\n",
      "sigma2         0.9691      0.039     25.166      0.000       0.894       1.045\n",
      "===================================================================================\n",
      "Ljung-Box (L1) (Q):                   0.22   Jarque-Bera (JB):                 1.50\n",
      "Prob(Q):                              0.64   Prob(JB):                         0.47\n",
      "Heteroskedasticity (H):               0.97   Skew:                             0.04\n",
      "Prob(H) (two-sided):                  0.73   Kurtosis:                         2.85\n",
      "===================================================================================\n",
      "\n",
      "Warnings:\n",
      "[1] Covariance matrix calculated using the outer product of gradients (complex-step).\n"
     ]
    }
   ],
   "metadata": {}
  },
  {
   "cell_type": "code",
   "execution_count": 72,
   "source": [
    "# constuct function to find best model\r\n",
    "def autoarima(var,p,q):\r\n",
    "    mdl =[]\r\n",
    "    crt = []\r\n",
    "    for i in range(0,p+1):\r\n",
    "        for j in range(0,q+1):\r\n",
    "            if i+j !=0 :\r\n",
    "                model = sm.tsa.arima.ARIMA(var,trend='c', order = (i,0,j))\r\n",
    "                model_fit = model.fit()\r\n",
    "                mdl.append([i,j])\r\n",
    "                # print(i,j)\r\n",
    "                crt.append(model_fit.aic/len(var))\r\n",
    "                # print(model_fit.crt/len(var))\r\n",
    "    crt_min= min(crt)\r\n",
    "    index= crt.index(crt_min)\r\n",
    "    chosen_model = mdl[index]\r\n",
    "    print(mdl[index])\r\n",
    "    model= sm.tsa.arima.ARIMA(var,trend='c', order = (chosen_model[0],0,chosen_model[1])) # tem um erro aqui \r\n",
    "    model_fit = model.fit()\r\n",
    "    print(model_fit.summary())"
   ],
   "outputs": [],
   "metadata": {}
  },
  {
   "cell_type": "code",
   "execution_count": 43,
   "source": [
    "autoarima(y_series,4,4,aic)"
   ],
   "outputs": [
    {
     "output_type": "stream",
     "name": "stderr",
     "text": [
      "C:\\Users\\JGSILVA\\anaconda3\\lib\\site-packages\\statsmodels\\tsa\\statespace\\sarimax.py:978: UserWarning: Non-invertible starting MA parameters found. Using zeros as starting parameters.\n",
      "  warn('Non-invertible starting MA parameters found.'\n",
      "C:\\Users\\JGSILVA\\anaconda3\\lib\\site-packages\\statsmodels\\tsa\\statespace\\sarimax.py:966: UserWarning: Non-stationary starting autoregressive parameters found. Using zeros as starting parameters.\n",
      "  warn('Non-stationary starting autoregressive parameters'\n",
      "C:\\Users\\JGSILVA\\anaconda3\\lib\\site-packages\\statsmodels\\base\\model.py:566: ConvergenceWarning: Maximum Likelihood optimization failed to converge. Check mle_retvals\n",
      "  warnings.warn(\"Maximum Likelihood optimization failed to \"\n",
      "C:\\Users\\JGSILVA\\anaconda3\\lib\\site-packages\\statsmodels\\base\\model.py:566: ConvergenceWarning: Maximum Likelihood optimization failed to converge. Check mle_retvals\n",
      "  warnings.warn(\"Maximum Likelihood optimization failed to \"\n",
      "C:\\Users\\JGSILVA\\anaconda3\\lib\\site-packages\\statsmodels\\base\\model.py:566: ConvergenceWarning: Maximum Likelihood optimization failed to converge. Check mle_retvals\n",
      "  warnings.warn(\"Maximum Likelihood optimization failed to \"\n"
     ]
    },
    {
     "output_type": "stream",
     "name": "stdout",
     "text": [
      "[2, 0]\n",
      "                               SARIMAX Results                                \n",
      "==============================================================================\n",
      "Dep. Variable:                      y   No. Observations:                 1381\n",
      "Model:                 ARIMA(2, 0, 0)   Log Likelihood               -1938.427\n",
      "Date:                Thu, 30 Sep 2021   AIC                           3884.855\n",
      "Time:                        15:56:35   BIC                           3905.777\n",
      "Sample:                    02-28-1900   HQIC                          3892.681\n",
      "                         - 02-28-2015                                         \n",
      "Covariance Type:                  opg                                         \n",
      "==============================================================================\n",
      "                 coef    std err          z      P>|z|      [0.025      0.975]\n",
      "------------------------------------------------------------------------------\n",
      "const          0.0694      0.093      0.748      0.455      -0.113       0.251\n",
      "ar.L1          1.2087      0.023     52.416      0.000       1.163       1.254\n",
      "ar.L2         -0.4946      0.023    -21.598      0.000      -0.539      -0.450\n",
      "sigma2         0.9687      0.039     25.138      0.000       0.893       1.044\n",
      "===================================================================================\n",
      "Ljung-Box (L1) (Q):                   0.23   Jarque-Bera (JB):                 1.51\n",
      "Prob(Q):                              0.63   Prob(JB):                         0.47\n",
      "Heteroskedasticity (H):               0.97   Skew:                             0.04\n",
      "Prob(H) (two-sided):                  0.78   Kurtosis:                         2.85\n",
      "===================================================================================\n",
      "\n",
      "Warnings:\n",
      "[1] Covariance matrix calculated using the outer product of gradients (complex-step).\n"
     ]
    }
   ],
   "metadata": {}
  },
  {
   "cell_type": "markdown",
   "source": [
    "# Sesion 6\r\n",
    "\r\n",
    "The code below solvers the problems in Sesion 6 **********questionar**********"
   ],
   "metadata": {}
  },
  {
   "cell_type": "code",
   "execution_count": 44,
   "source": [
    "import pandas as pd\r\n",
    "# load pe_ratios dataset\r\n",
    "pe_ratios = pd.read_csv('Module3_data\\module3_data_PE_Ratios.csv')\r\n",
    "pe_ratios.head()"
   ],
   "outputs": [
    {
     "output_type": "execute_result",
     "data": {
      "text/html": [
       "<div>\n",
       "<style scoped>\n",
       "    .dataframe tbody tr th:only-of-type {\n",
       "        vertical-align: middle;\n",
       "    }\n",
       "\n",
       "    .dataframe tbody tr th {\n",
       "        vertical-align: top;\n",
       "    }\n",
       "\n",
       "    .dataframe thead th {\n",
       "        text-align: right;\n",
       "    }\n",
       "</style>\n",
       "<table border=\"1\" class=\"dataframe\">\n",
       "  <thead>\n",
       "    <tr style=\"text-align: right;\">\n",
       "      <th></th>\n",
       "      <th>dateid01</th>\n",
       "      <th>dateid</th>\n",
       "      <th>date</th>\n",
       "      <th>pe_aus</th>\n",
       "      <th>pe_ind</th>\n",
       "      <th>pe_ndo</th>\n",
       "      <th>pe_saf</th>\n",
       "      <th>pe_usa</th>\n",
       "    </tr>\n",
       "  </thead>\n",
       "  <tbody>\n",
       "    <tr>\n",
       "      <th>0</th>\n",
       "      <td>1954-02-01</td>\n",
       "      <td>1954-02-28 23:59:59.999</td>\n",
       "      <td>1954-02-26</td>\n",
       "      <td>NaN</td>\n",
       "      <td>NaN</td>\n",
       "      <td>NaN</td>\n",
       "      <td>NaN</td>\n",
       "      <td>9.92</td>\n",
       "    </tr>\n",
       "    <tr>\n",
       "      <th>1</th>\n",
       "      <td>1954-03-01</td>\n",
       "      <td>1954-03-31 23:59:59.999</td>\n",
       "      <td>1954-03-31</td>\n",
       "      <td>NaN</td>\n",
       "      <td>NaN</td>\n",
       "      <td>NaN</td>\n",
       "      <td>NaN</td>\n",
       "      <td>10.17</td>\n",
       "    </tr>\n",
       "    <tr>\n",
       "      <th>2</th>\n",
       "      <td>1954-04-01</td>\n",
       "      <td>1954-04-30 23:59:59.999</td>\n",
       "      <td>1954-04-30</td>\n",
       "      <td>NaN</td>\n",
       "      <td>NaN</td>\n",
       "      <td>NaN</td>\n",
       "      <td>NaN</td>\n",
       "      <td>10.57</td>\n",
       "    </tr>\n",
       "    <tr>\n",
       "      <th>3</th>\n",
       "      <td>1954-05-01</td>\n",
       "      <td>1954-05-31 23:59:59.999</td>\n",
       "      <td>1954-05-31</td>\n",
       "      <td>NaN</td>\n",
       "      <td>NaN</td>\n",
       "      <td>NaN</td>\n",
       "      <td>NaN</td>\n",
       "      <td>11.00</td>\n",
       "    </tr>\n",
       "    <tr>\n",
       "      <th>4</th>\n",
       "      <td>1954-06-01</td>\n",
       "      <td>1954-06-30 23:59:59.999</td>\n",
       "      <td>1954-06-30</td>\n",
       "      <td>NaN</td>\n",
       "      <td>NaN</td>\n",
       "      <td>NaN</td>\n",
       "      <td>NaN</td>\n",
       "      <td>11.08</td>\n",
       "    </tr>\n",
       "  </tbody>\n",
       "</table>\n",
       "</div>"
      ],
      "text/plain": [
       "     dateid01                   dateid        date  pe_aus  pe_ind  pe_ndo  \\\n",
       "0  1954-02-01  1954-02-28 23:59:59.999  1954-02-26     NaN     NaN     NaN   \n",
       "1  1954-03-01  1954-03-31 23:59:59.999  1954-03-31     NaN     NaN     NaN   \n",
       "2  1954-04-01  1954-04-30 23:59:59.999  1954-04-30     NaN     NaN     NaN   \n",
       "3  1954-05-01  1954-05-31 23:59:59.999  1954-05-31     NaN     NaN     NaN   \n",
       "4  1954-06-01  1954-06-30 23:59:59.999  1954-06-30     NaN     NaN     NaN   \n",
       "\n",
       "   pe_saf  pe_usa  \n",
       "0     NaN    9.92  \n",
       "1     NaN   10.17  \n",
       "2     NaN   10.57  \n",
       "3     NaN   11.00  \n",
       "4     NaN   11.08  "
      ]
     },
     "metadata": {},
     "execution_count": 44
    }
   ],
   "metadata": {}
  },
  {
   "cell_type": "code",
   "execution_count": 45,
   "source": [
    "# make pe_ind a time series\r\n",
    "pe_ind = pe_ratios.pe_ind\r\n",
    "pe_ind.index = pd.date_range(\"1954-02-01\", periods = len(pe_ratios.pe_ind), freq = \"M\")\r\n",
    "pe_ind = pe_ind[pe_ind.index > dateutil.parser.parse(\"2000-01-01\")] # pe_ind only has data after 2000 M1\r\n",
    "print(pe_ind.head())"
   ],
   "outputs": [
    {
     "output_type": "stream",
     "name": "stdout",
     "text": [
      "2000-01-31    16.4949\n",
      "2000-02-29    17.2608\n",
      "2000-03-31    14.4154\n",
      "2000-04-30    13.4247\n",
      "2000-05-31    12.7792\n",
      "Freq: M, Name: pe_ind, dtype: float64\n"
     ]
    }
   ],
   "metadata": {}
  },
  {
   "cell_type": "code",
   "execution_count": 46,
   "source": [
    "plt.figure(figsize=(13,7))\r\n",
    "plt.plot(pe_ind)\r\n",
    "plt.show()"
   ],
   "outputs": [
    {
     "output_type": "display_data",
     "data": {
      "image/png": "[encoded data removed]",
      "text/plain": [
       "<Figure size 936x504 with 1 Axes>"
      ]
     },
     "metadata": {
      "needs_background": "light"
     }
    }
   ],
   "metadata": {}
  },
  {
   "cell_type": "code",
   "execution_count": 47,
   "source": [
    "from statsmodels.graphics.tsaplots import plot_acf\r\n",
    "from statsmodels.graphics.tsaplots import plot_pacf\r\n",
    "imgLr = plot_acf(pe_ind)\r\n",
    "imgRr = plot_pacf(pe_ind)"
   ],
   "outputs": [
    {
     "output_type": "display_data",
     "data": {
      "image/png": "[encoded data removed]",
      "text/plain": [
       "<Figure size 432x288 with 1 Axes>"
      ]
     },
     "metadata": {
      "needs_background": "light"
     }
    },
    {
     "output_type": "display_data",
     "data": {
      "image/png": "[encoded data removed]",
      "text/plain": [
       "<Figure size 432x288 with 1 Axes>"
      ]
     },
     "metadata": {
      "needs_background": "light"
     }
    }
   ],
   "metadata": {}
  },
  {
   "cell_type": "markdown",
   "source": [
    "**Answer** \r\n",
    "The ACF shows a gradual decay, and PACF an drop after the second lag.\r\n",
    "So I would say it is an **AR process**\r\n",
    "\r\n",
    "check eview, results says it is an AR(1), above it looks like AR(2)"
   ],
   "metadata": {}
  },
  {
   "cell_type": "markdown",
   "source": [
    "**Question 3.33**\r\n",
    "\r\n",
    "The optimal model is an **ARIMA(5,6)**:"
   ],
   "metadata": {}
  },
  {
   "cell_type": "code",
   "execution_count": 60,
   "source": [
    "# using the function created above!\r\n",
    "autoarima(pe_ind,6,6,aic)"
   ],
   "outputs": [
    {
     "output_type": "stream",
     "name": "stderr",
     "text": [
      "C:\\Users\\JGSILVA\\anaconda3\\lib\\site-packages\\statsmodels\\tsa\\statespace\\sarimax.py:978: UserWarning: Non-invertible starting MA parameters found. Using zeros as starting parameters.\n",
      "  warn('Non-invertible starting MA parameters found.'\n",
      "C:\\Users\\JGSILVA\\anaconda3\\lib\\site-packages\\statsmodels\\tsa\\statespace\\sarimax.py:966: UserWarning: Non-stationary starting autoregressive parameters found. Using zeros as starting parameters.\n",
      "  warn('Non-stationary starting autoregressive parameters'\n",
      "C:\\Users\\JGSILVA\\anaconda3\\lib\\site-packages\\statsmodels\\base\\model.py:566: ConvergenceWarning: Maximum Likelihood optimization failed to converge. Check mle_retvals\n",
      "  warnings.warn(\"Maximum Likelihood optimization failed to \"\n",
      "C:\\Users\\JGSILVA\\anaconda3\\lib\\site-packages\\statsmodels\\base\\model.py:566: ConvergenceWarning: Maximum Likelihood optimization failed to converge. Check mle_retvals\n",
      "  warnings.warn(\"Maximum Likelihood optimization failed to \"\n",
      "C:\\Users\\JGSILVA\\anaconda3\\lib\\site-packages\\statsmodels\\base\\model.py:566: ConvergenceWarning: Maximum Likelihood optimization failed to converge. Check mle_retvals\n",
      "  warnings.warn(\"Maximum Likelihood optimization failed to \"\n",
      "C:\\Users\\JGSILVA\\anaconda3\\lib\\site-packages\\statsmodels\\base\\model.py:566: ConvergenceWarning: Maximum Likelihood optimization failed to converge. Check mle_retvals\n",
      "  warnings.warn(\"Maximum Likelihood optimization failed to \"\n",
      "C:\\Users\\JGSILVA\\anaconda3\\lib\\site-packages\\statsmodels\\base\\model.py:566: ConvergenceWarning: Maximum Likelihood optimization failed to converge. Check mle_retvals\n",
      "  warnings.warn(\"Maximum Likelihood optimization failed to \"\n",
      "C:\\Users\\JGSILVA\\anaconda3\\lib\\site-packages\\statsmodels\\base\\model.py:566: ConvergenceWarning: Maximum Likelihood optimization failed to converge. Check mle_retvals\n",
      "  warnings.warn(\"Maximum Likelihood optimization failed to \"\n",
      "C:\\Users\\JGSILVA\\anaconda3\\lib\\site-packages\\statsmodels\\base\\model.py:566: ConvergenceWarning: Maximum Likelihood optimization failed to converge. Check mle_retvals\n",
      "  warnings.warn(\"Maximum Likelihood optimization failed to \"\n",
      "C:\\Users\\JGSILVA\\anaconda3\\lib\\site-packages\\statsmodels\\base\\model.py:566: ConvergenceWarning: Maximum Likelihood optimization failed to converge. Check mle_retvals\n",
      "  warnings.warn(\"Maximum Likelihood optimization failed to \"\n",
      "C:\\Users\\JGSILVA\\anaconda3\\lib\\site-packages\\statsmodels\\base\\model.py:566: ConvergenceWarning: Maximum Likelihood optimization failed to converge. Check mle_retvals\n",
      "  warnings.warn(\"Maximum Likelihood optimization failed to \"\n",
      "C:\\Users\\JGSILVA\\anaconda3\\lib\\site-packages\\statsmodels\\base\\model.py:566: ConvergenceWarning: Maximum Likelihood optimization failed to converge. Check mle_retvals\n",
      "  warnings.warn(\"Maximum Likelihood optimization failed to \"\n",
      "C:\\Users\\JGSILVA\\anaconda3\\lib\\site-packages\\statsmodels\\base\\model.py:566: ConvergenceWarning: Maximum Likelihood optimization failed to converge. Check mle_retvals\n",
      "  warnings.warn(\"Maximum Likelihood optimization failed to \"\n",
      "C:\\Users\\JGSILVA\\anaconda3\\lib\\site-packages\\statsmodels\\base\\model.py:566: ConvergenceWarning: Maximum Likelihood optimization failed to converge. Check mle_retvals\n",
      "  warnings.warn(\"Maximum Likelihood optimization failed to \"\n",
      "C:\\Users\\JGSILVA\\anaconda3\\lib\\site-packages\\statsmodels\\base\\model.py:566: ConvergenceWarning: Maximum Likelihood optimization failed to converge. Check mle_retvals\n",
      "  warnings.warn(\"Maximum Likelihood optimization failed to \"\n",
      "C:\\Users\\JGSILVA\\anaconda3\\lib\\site-packages\\statsmodels\\base\\model.py:566: ConvergenceWarning: Maximum Likelihood optimization failed to converge. Check mle_retvals\n",
      "  warnings.warn(\"Maximum Likelihood optimization failed to \"\n",
      "C:\\Users\\JGSILVA\\anaconda3\\lib\\site-packages\\statsmodels\\base\\model.py:566: ConvergenceWarning: Maximum Likelihood optimization failed to converge. Check mle_retvals\n",
      "  warnings.warn(\"Maximum Likelihood optimization failed to \"\n",
      "C:\\Users\\JGSILVA\\anaconda3\\lib\\site-packages\\statsmodels\\base\\model.py:566: ConvergenceWarning: Maximum Likelihood optimization failed to converge. Check mle_retvals\n",
      "  warnings.warn(\"Maximum Likelihood optimization failed to \"\n",
      "C:\\Users\\JGSILVA\\anaconda3\\lib\\site-packages\\statsmodels\\base\\model.py:566: ConvergenceWarning: Maximum Likelihood optimization failed to converge. Check mle_retvals\n",
      "  warnings.warn(\"Maximum Likelihood optimization failed to \"\n",
      "C:\\Users\\JGSILVA\\anaconda3\\lib\\site-packages\\statsmodels\\base\\model.py:566: ConvergenceWarning: Maximum Likelihood optimization failed to converge. Check mle_retvals\n",
      "  warnings.warn(\"Maximum Likelihood optimization failed to \"\n"
     ]
    },
    {
     "output_type": "stream",
     "name": "stdout",
     "text": [
      "[5, 6]\n",
      "                               SARIMAX Results                                \n",
      "==============================================================================\n",
      "Dep. Variable:                 pe_ind   No. Observations:                  182\n",
      "Model:                 ARIMA(5, 0, 6)   Log Likelihood                -300.599\n",
      "Date:                Thu, 30 Sep 2021   AIC                            627.197\n",
      "Time:                        16:06:47   BIC                            668.849\n",
      "Sample:                    01-31-2000   HQIC                           644.082\n",
      "                         - 02-28-2015                                         \n",
      "Covariance Type:                  opg                                         \n",
      "==============================================================================\n",
      "                 coef    std err          z      P>|z|      [0.025      0.975]\n",
      "------------------------------------------------------------------------------\n",
      "const         17.3139      1.035     16.734      0.000      15.286      19.342\n",
      "ar.L1          0.8675      0.155      5.603      0.000       0.564       1.171\n",
      "ar.L2         -0.9161      0.144     -6.342      0.000      -1.199      -0.633\n",
      "ar.L3          0.9109      0.124      7.352      0.000       0.668       1.154\n",
      "ar.L4         -0.8472      0.138     -6.127      0.000      -1.118      -0.576\n",
      "ar.L5          0.6421      0.101      6.335      0.000       0.443       0.841\n",
      "ma.L1          0.1430      0.139      1.032      0.302      -0.129       0.415\n",
      "ma.L2          0.9910      0.129      7.701      0.000       0.739       1.243\n",
      "ma.L3         -0.0018      0.140     -0.013      0.989      -0.277       0.273\n",
      "ma.L4          0.8689      0.115      7.547      0.000       0.643       1.095\n",
      "ma.L5          0.1398      0.085      1.648      0.099      -0.026       0.306\n",
      "ma.L6          0.2914      0.077      3.762      0.000       0.140       0.443\n",
      "sigma2         1.5658      0.138     11.357      0.000       1.296       1.836\n",
      "===================================================================================\n",
      "Ljung-Box (L1) (Q):                   0.02   Jarque-Bera (JB):                35.74\n",
      "Prob(Q):                              0.90   Prob(JB):                         0.00\n",
      "Heteroskedasticity (H):               0.51   Skew:                             0.42\n",
      "Prob(H) (two-sided):                  0.01   Kurtosis:                         5.00\n",
      "===================================================================================\n",
      "\n",
      "Warnings:\n",
      "[1] Covariance matrix calculated using the outer product of gradients (complex-step).\n"
     ]
    },
    {
     "output_type": "stream",
     "name": "stderr",
     "text": [
      "C:\\Users\\JGSILVA\\anaconda3\\lib\\site-packages\\statsmodels\\base\\model.py:566: ConvergenceWarning: Maximum Likelihood optimization failed to converge. Check mle_retvals\n",
      "  warnings.warn(\"Maximum Likelihood optimization failed to \"\n"
     ]
    }
   ],
   "metadata": {}
  },
  {
   "cell_type": "markdown",
   "source": [
    "**Question 3.34**\r\n",
    "\r\n",
    "The best model is an AR(1)"
   ],
   "metadata": {}
  },
  {
   "cell_type": "code",
   "execution_count": null,
   "source": [
    "# constuct function to find best model\r\n",
    "def autoarima(var,p,q):\r\n",
    "    mdl =[]\r\n",
    "    crt = []\r\n",
    "    for i in range(0,p+1):\r\n",
    "        for j in range(0,q+1):\r\n",
    "            if i+j !=0 :\r\n",
    "                model = sm.tsa.arima.ARIMA(var,trend='c', order = (i,0,j))\r\n",
    "                model_fit = model.fit()\r\n",
    "                mdl.append([i,j])\r\n",
    "                # print(i,j)\r\n",
    "                crt.append(model_fit.bic/len(var)) #change aic for bic.!!!!!!!!!\r\n",
    "                # print(model_fit.crt/len(var))\r\n",
    "    crt_min= min(crt)\r\n",
    "    index= crt.index(crt_min)\r\n",
    "    chosen_model = mdl[index]\r\n",
    "    print(mdl[index])\r\n",
    "    model= sm.tsa.arima.ARIMA(var,trend='c', order = (chosen_model[0],0,chosen_model[1])) \r\n",
    "    model_fit = model.fit()\r\n",
    "    print(model_fit.summary())"
   ],
   "outputs": [],
   "metadata": {}
  },
  {
   "cell_type": "code",
   "execution_count": 73,
   "source": [
    "# using the function created above!\r\n",
    "autoarima(pe_ind,6,6)"
   ],
   "outputs": [
    {
     "output_type": "stream",
     "name": "stderr",
     "text": [
      "C:\\Users\\JGSILVA\\anaconda3\\lib\\site-packages\\statsmodels\\tsa\\statespace\\sarimax.py:978: UserWarning: Non-invertible starting MA parameters found. Using zeros as starting parameters.\n",
      "  warn('Non-invertible starting MA parameters found.'\n",
      "C:\\Users\\JGSILVA\\anaconda3\\lib\\site-packages\\statsmodels\\tsa\\statespace\\sarimax.py:966: UserWarning: Non-stationary starting autoregressive parameters found. Using zeros as starting parameters.\n",
      "  warn('Non-stationary starting autoregressive parameters'\n",
      "C:\\Users\\JGSILVA\\anaconda3\\lib\\site-packages\\statsmodels\\base\\model.py:566: ConvergenceWarning: Maximum Likelihood optimization failed to converge. Check mle_retvals\n",
      "  warnings.warn(\"Maximum Likelihood optimization failed to \"\n",
      "C:\\Users\\JGSILVA\\anaconda3\\lib\\site-packages\\statsmodels\\base\\model.py:566: ConvergenceWarning: Maximum Likelihood optimization failed to converge. Check mle_retvals\n",
      "  warnings.warn(\"Maximum Likelihood optimization failed to \"\n",
      "C:\\Users\\JGSILVA\\anaconda3\\lib\\site-packages\\statsmodels\\base\\model.py:566: ConvergenceWarning: Maximum Likelihood optimization failed to converge. Check mle_retvals\n",
      "  warnings.warn(\"Maximum Likelihood optimization failed to \"\n",
      "C:\\Users\\JGSILVA\\anaconda3\\lib\\site-packages\\statsmodels\\base\\model.py:566: ConvergenceWarning: Maximum Likelihood optimization failed to converge. Check mle_retvals\n",
      "  warnings.warn(\"Maximum Likelihood optimization failed to \"\n",
      "C:\\Users\\JGSILVA\\anaconda3\\lib\\site-packages\\statsmodels\\base\\model.py:566: ConvergenceWarning: Maximum Likelihood optimization failed to converge. Check mle_retvals\n",
      "  warnings.warn(\"Maximum Likelihood optimization failed to \"\n",
      "C:\\Users\\JGSILVA\\anaconda3\\lib\\site-packages\\statsmodels\\base\\model.py:566: ConvergenceWarning: Maximum Likelihood optimization failed to converge. Check mle_retvals\n",
      "  warnings.warn(\"Maximum Likelihood optimization failed to \"\n",
      "C:\\Users\\JGSILVA\\anaconda3\\lib\\site-packages\\statsmodels\\base\\model.py:566: ConvergenceWarning: Maximum Likelihood optimization failed to converge. Check mle_retvals\n",
      "  warnings.warn(\"Maximum Likelihood optimization failed to \"\n",
      "C:\\Users\\JGSILVA\\anaconda3\\lib\\site-packages\\statsmodels\\base\\model.py:566: ConvergenceWarning: Maximum Likelihood optimization failed to converge. Check mle_retvals\n",
      "  warnings.warn(\"Maximum Likelihood optimization failed to \"\n",
      "C:\\Users\\JGSILVA\\anaconda3\\lib\\site-packages\\statsmodels\\base\\model.py:566: ConvergenceWarning: Maximum Likelihood optimization failed to converge. Check mle_retvals\n",
      "  warnings.warn(\"Maximum Likelihood optimization failed to \"\n",
      "C:\\Users\\JGSILVA\\anaconda3\\lib\\site-packages\\statsmodels\\base\\model.py:566: ConvergenceWarning: Maximum Likelihood optimization failed to converge. Check mle_retvals\n",
      "  warnings.warn(\"Maximum Likelihood optimization failed to \"\n",
      "C:\\Users\\JGSILVA\\anaconda3\\lib\\site-packages\\statsmodels\\base\\model.py:566: ConvergenceWarning: Maximum Likelihood optimization failed to converge. Check mle_retvals\n",
      "  warnings.warn(\"Maximum Likelihood optimization failed to \"\n",
      "C:\\Users\\JGSILVA\\anaconda3\\lib\\site-packages\\statsmodels\\base\\model.py:566: ConvergenceWarning: Maximum Likelihood optimization failed to converge. Check mle_retvals\n",
      "  warnings.warn(\"Maximum Likelihood optimization failed to \"\n",
      "C:\\Users\\JGSILVA\\anaconda3\\lib\\site-packages\\statsmodels\\base\\model.py:566: ConvergenceWarning: Maximum Likelihood optimization failed to converge. Check mle_retvals\n",
      "  warnings.warn(\"Maximum Likelihood optimization failed to \"\n",
      "C:\\Users\\JGSILVA\\anaconda3\\lib\\site-packages\\statsmodels\\base\\model.py:566: ConvergenceWarning: Maximum Likelihood optimization failed to converge. Check mle_retvals\n",
      "  warnings.warn(\"Maximum Likelihood optimization failed to \"\n",
      "C:\\Users\\JGSILVA\\anaconda3\\lib\\site-packages\\statsmodels\\base\\model.py:566: ConvergenceWarning: Maximum Likelihood optimization failed to converge. Check mle_retvals\n",
      "  warnings.warn(\"Maximum Likelihood optimization failed to \"\n",
      "C:\\Users\\JGSILVA\\anaconda3\\lib\\site-packages\\statsmodels\\base\\model.py:566: ConvergenceWarning: Maximum Likelihood optimization failed to converge. Check mle_retvals\n",
      "  warnings.warn(\"Maximum Likelihood optimization failed to \"\n",
      "C:\\Users\\JGSILVA\\anaconda3\\lib\\site-packages\\statsmodels\\base\\model.py:566: ConvergenceWarning: Maximum Likelihood optimization failed to converge. Check mle_retvals\n",
      "  warnings.warn(\"Maximum Likelihood optimization failed to \"\n"
     ]
    },
    {
     "output_type": "stream",
     "name": "stdout",
     "text": [
      "[1, 0]\n",
      "                               SARIMAX Results                                \n",
      "==============================================================================\n",
      "Dep. Variable:                 pe_ind   No. Observations:                  182\n",
      "Model:                 ARIMA(1, 0, 0)   Log Likelihood                -311.138\n",
      "Date:                Thu, 30 Sep 2021   AIC                            628.276\n",
      "Time:                        16:13:29   BIC                            637.888\n",
      "Sample:                    01-31-2000   HQIC                           632.173\n",
      "                         - 02-28-2015                                         \n",
      "Covariance Type:                  opg                                         \n",
      "==============================================================================\n",
      "                 coef    std err          z      P>|z|      [0.025      0.975]\n",
      "------------------------------------------------------------------------------\n",
      "const         17.3199      1.106     15.665      0.000      15.153      19.487\n",
      "ar.L1          0.9080      0.030     30.673      0.000       0.850       0.966\n",
      "sigma2         1.7712      0.129     13.749      0.000       1.519       2.024\n",
      "===================================================================================\n",
      "Ljung-Box (L1) (Q):                   2.03   Jarque-Bera (JB):                56.89\n",
      "Prob(Q):                              0.15   Prob(JB):                         0.00\n",
      "Heteroskedasticity (H):               0.29   Skew:                             0.50\n",
      "Prob(H) (two-sided):                  0.00   Kurtosis:                         5.55\n",
      "===================================================================================\n",
      "\n",
      "Warnings:\n",
      "[1] Covariance matrix calculated using the outer product of gradients (complex-step).\n"
     ]
    },
    {
     "output_type": "stream",
     "name": "stderr",
     "text": [
      "C:\\Users\\JGSILVA\\anaconda3\\lib\\site-packages\\statsmodels\\base\\model.py:566: ConvergenceWarning: Maximum Likelihood optimization failed to converge. Check mle_retvals\n",
      "  warnings.warn(\"Maximum Likelihood optimization failed to \"\n"
     ]
    }
   ],
   "metadata": {}
  },
  {
   "cell_type": "markdown",
   "source": [
    "**Question 3.35**\r\n",
    "\r\n",
    "Run the Model 4 below\r\n",
    "\r\n",
    "Both coeficient are signficant and the residuals are serially uncorrelated.\r\n",
    "And both AIC and BIC are lower than the other 3 models.\r\n",
    "\r\n",
    "**Answer:** --YES--\r\n",
    "\r\n",
    "*Lesson: it might be possible to find a model that outperforms those chosen by Automatic ARIMA Modeling, by choosing more parsimonious models that include some higher-order lags but exclude intermediate lags.*"
   ],
   "metadata": {}
  },
  {
   "cell_type": "code",
   "execution_count": 76,
   "source": [
    "model4 = sm.tsa.arima.ARIMA(pe_ind,trend='c', order = (1,0,(0,0,0,0,0,0,0,1))) \r\n",
    "model4_fit = model4.fit()\r\n",
    "print(model4_fit.summary())"
   ],
   "outputs": [
    {
     "output_type": "stream",
     "name": "stdout",
     "text": [
      "                               SARIMAX Results                                \n",
      "==============================================================================\n",
      "Dep. Variable:                 pe_ind   No. Observations:                  182\n",
      "Model:               ARIMA(1, 0, [8])   Log Likelihood                -305.070\n",
      "Date:                Thu, 30 Sep 2021   AIC                            618.140\n",
      "Time:                        16:18:58   BIC                            630.956\n",
      "Sample:                    01-31-2000   HQIC                           623.335\n",
      "                         - 02-28-2015                                         \n",
      "Covariance Type:                  opg                                         \n",
      "==============================================================================\n",
      "                 coef    std err          z      P>|z|      [0.025      0.975]\n",
      "------------------------------------------------------------------------------\n",
      "const         17.3462      1.013     17.119      0.000      15.360      19.332\n",
      "ar.L1          0.9305      0.030     31.374      0.000       0.872       0.989\n",
      "ma.L8         -0.2744      0.070     -3.895      0.000      -0.412      -0.136\n",
      "sigma2         1.6518      0.133     12.406      0.000       1.391       1.913\n",
      "===================================================================================\n",
      "Ljung-Box (L1) (Q):                   1.57   Jarque-Bera (JB):                44.51\n",
      "Prob(Q):                              0.21   Prob(JB):                         0.00\n",
      "Heteroskedasticity (H):               0.37   Skew:                             0.56\n",
      "Prob(H) (two-sided):                  0.00   Kurtosis:                         5.15\n",
      "===================================================================================\n",
      "\n",
      "Warnings:\n",
      "[1] Covariance matrix calculated using the outer product of gradients (complex-step).\n"
     ]
    }
   ],
   "metadata": {}
  },
  {
   "cell_type": "code",
   "execution_count": 78,
   "source": [
    "print(model4_fit.aic/len(pe_ind))\r\n",
    "print(model4_fit.bic/len(pe_ind))"
   ],
   "outputs": [
    {
     "output_type": "stream",
     "name": "stdout",
     "text": [
      "3.3963711711004274\n",
      "3.4667889004867307\n"
     ]
    }
   ],
   "metadata": {}
  },
  {
   "cell_type": "code",
   "execution_count": 79,
   "source": [
    "sm.stats.acorr_ljungbox(model4_fit.resid, lags=12, return_df=True)\r\n",
    "# residuals not serially correlated."
   ],
   "outputs": [
    {
     "output_type": "execute_result",
     "data": {
      "text/html": [
       "<div>\n",
       "<style scoped>\n",
       "    .dataframe tbody tr th:only-of-type {\n",
       "        vertical-align: middle;\n",
       "    }\n",
       "\n",
       "    .dataframe tbody tr th {\n",
       "        vertical-align: top;\n",
       "    }\n",
       "\n",
       "    .dataframe thead th {\n",
       "        text-align: right;\n",
       "    }\n",
       "</style>\n",
       "<table border=\"1\" class=\"dataframe\">\n",
       "  <thead>\n",
       "    <tr style=\"text-align: right;\">\n",
       "      <th></th>\n",
       "      <th>lb_stat</th>\n",
       "      <th>lb_pvalue</th>\n",
       "    </tr>\n",
       "  </thead>\n",
       "  <tbody>\n",
       "    <tr>\n",
       "      <th>1</th>\n",
       "      <td>1.592723</td>\n",
       "      <td>0.206938</td>\n",
       "    </tr>\n",
       "    <tr>\n",
       "      <th>2</th>\n",
       "      <td>1.596636</td>\n",
       "      <td>0.450085</td>\n",
       "    </tr>\n",
       "    <tr>\n",
       "      <th>3</th>\n",
       "      <td>1.676265</td>\n",
       "      <td>0.642223</td>\n",
       "    </tr>\n",
       "    <tr>\n",
       "      <th>4</th>\n",
       "      <td>1.683057</td>\n",
       "      <td>0.793793</td>\n",
       "    </tr>\n",
       "    <tr>\n",
       "      <th>5</th>\n",
       "      <td>1.819848</td>\n",
       "      <td>0.873468</td>\n",
       "    </tr>\n",
       "    <tr>\n",
       "      <th>6</th>\n",
       "      <td>2.812816</td>\n",
       "      <td>0.831947</td>\n",
       "    </tr>\n",
       "    <tr>\n",
       "      <th>7</th>\n",
       "      <td>2.965464</td>\n",
       "      <td>0.888179</td>\n",
       "    </tr>\n",
       "    <tr>\n",
       "      <th>8</th>\n",
       "      <td>3.060626</td>\n",
       "      <td>0.930495</td>\n",
       "    </tr>\n",
       "    <tr>\n",
       "      <th>9</th>\n",
       "      <td>3.846682</td>\n",
       "      <td>0.921210</td>\n",
       "    </tr>\n",
       "    <tr>\n",
       "      <th>10</th>\n",
       "      <td>4.112752</td>\n",
       "      <td>0.942117</td>\n",
       "    </tr>\n",
       "    <tr>\n",
       "      <th>11</th>\n",
       "      <td>5.169952</td>\n",
       "      <td>0.922657</td>\n",
       "    </tr>\n",
       "    <tr>\n",
       "      <th>12</th>\n",
       "      <td>5.208968</td>\n",
       "      <td>0.950632</td>\n",
       "    </tr>\n",
       "  </tbody>\n",
       "</table>\n",
       "</div>"
      ],
      "text/plain": [
       "     lb_stat  lb_pvalue\n",
       "1   1.592723   0.206938\n",
       "2   1.596636   0.450085\n",
       "3   1.676265   0.642223\n",
       "4   1.683057   0.793793\n",
       "5   1.819848   0.873468\n",
       "6   2.812816   0.831947\n",
       "7   2.965464   0.888179\n",
       "8   3.060626   0.930495\n",
       "9   3.846682   0.921210\n",
       "10  4.112752   0.942117\n",
       "11  5.169952   0.922657\n",
       "12  5.208968   0.950632"
      ]
     },
     "metadata": {},
     "execution_count": 79
    }
   ],
   "metadata": {}
  }
 ],
 "metadata": {
  "kernelspec": {
   "name": "python3",
   "display_name": "Python 3.8.8 64-bit ('base': conda)"
  },
  "language_info": {
   "codemirror_mode": {
    "name": "ipython",
    "version": 3
   },
   "file_extension": ".py",
   "mimetype": "text/x-python",
   "name": "python",
   "nbconvert_exporter": "python",
   "pygments_lexer": "ipython3",
   "version": "3.8.8"
  },
  "interpreter": {
   "hash": "0245625c5e7ed62b3060bc358d543e549967049667c34df825c837136884fd16"
  }
 },
 "nbformat": 4,
 "nbformat_minor": 5
}